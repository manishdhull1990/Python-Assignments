{
 "cells": [
  {
   "cell_type": "markdown",
   "metadata": {},
   "source": [
    "Write a function to compute 5/0 and use try/except to catch the exceptions"
   ]
  },
  {
   "cell_type": "code",
   "execution_count": 3,
   "metadata": {},
   "outputs": [
    {
     "name": "stdout",
     "output_type": "stream",
     "text": [
      "Enter 2 number:5,0\n",
      "Number cannot be divided by 0\n"
     ]
    }
   ],
   "source": [
    "class Exceptions:\n",
    "    def __init__(self,num1,num2):\n",
    "        self.num1=num1\n",
    "        self.num2=num2\n",
    "    def func(self):\n",
    "        try:\n",
    "            div=self.num1/self.num2\n",
    "            return div\n",
    "        except:\n",
    "            return \"Number cannot be divided by 0\"\n",
    "num1,num2=map(int,input(\"Enter 2 number:\").split(','))\n",
    "\n",
    "f=Exceptions(num1,num2)\n",
    "print(f.func())"
   ]
  },
  {
   "cell_type": "markdown",
   "metadata": {},
   "source": [
    "Implement a Python program to generate all sentences where subject is in [\"Americans\",\n",
    "\"Indians\"] and verb is in [\"Play\", \"watch\"] and the object is in [\"Baseball\",\"cricket\"].\n",
    "\n",
    "Hint: Subject,Verb and Object should be declared in the program as shown below.\n",
    "\n",
    "subjects=[\"Americans \",\"Indians\"]\n",
    "verbs=[\"play\",\"watch\"]\n",
    "objects=[\"Baseball\",\"Cricket\"]\n",
    "\n",
    "Output should come as below:\n",
    "\n",
    "Americans play Baseball.\n",
    "\n",
    "Americans play Cricket.\n",
    "\n",
    "Americans watch Baseball.\n",
    "\n",
    "Americans watch Cricket.\n",
    "\n",
    "Indians play Baseball.\n",
    "\n",
    "Indians play Cricket.\n",
    "\n",
    "Indians watch Baseball.\n",
    "\n",
    "Indians watch Cricket."
   ]
  },
  {
   "cell_type": "code",
   "execution_count": 11,
   "metadata": {},
   "outputs": [
    {
     "name": "stdout",
     "output_type": "stream",
     "text": [
      "Americans play Baseball\n",
      "Americans play Cricket\n",
      "Americans watch Baseball\n",
      "Americans watch Cricket\n",
      "Indians play Baseball\n",
      "Indians play Cricket\n",
      "Indians watch Baseball\n",
      "Indians watch Cricket\n"
     ]
    }
   ],
   "source": [
    "class sentences:\n",
    "    def __init__(self,subjects,verbs,obj):\n",
    "        self.subjects=subjects\n",
    "        self.verbs=verbs\n",
    "        self.obj=obj\n",
    "    \n",
    "    def sentenceConstruct(self):\n",
    "        return [[s,v,o] for s in self.subjects for v in self.verbs for o in self.obj]\n",
    "                    \n",
    "subjects=[\"Americans\",\"Indians\"]\n",
    "verbs=[\"play\",\"watch\"]\n",
    "obj=[\"Baseball\",\"Cricket\"]\n",
    "\n",
    "s=sentences(subjects,verbs,obj)\n",
    "concatenateSentences=s.sentenceConstruct()\n",
    "for sen in concatenateSentences:\n",
    "    print(\"{} {} {}\".format(sen[0],sen[1],sen[2]))\n"
   ]
  },
  {
   "cell_type": "markdown",
   "metadata": {},
   "source": [
    "Write a function so that the columns of the output matrix are powers of the input vector.\n",
    "\n",
    "The order of the powers is determined by the increasing boolean argument. Specifically, when\n",
    "increasing is False, the i-th output column is the input vector raised element-wise to the power\n",
    "of N - i - 1.\n",
    "\n",
    "HINT: Such a matrix with a geometric progression in each row is named for Alexandre-\n",
    "Theophile Vandermonde."
   ]
  },
  {
   "cell_type": "code",
   "execution_count": 21,
   "metadata": {},
   "outputs": [
    {
     "name": "stdout",
     "output_type": "stream",
     "text": [
      "Enter numbers with comma separated:1,2,3,4\n",
      "Enter number of columns: 3\n",
      "[[ 1  1  1]\n",
      " [ 4  2  1]\n",
      " [ 9  3  1]\n",
      " [16  4  1]]\n"
     ]
    }
   ],
   "source": [
    "import numpy as np\n",
    "\n",
    "class vector:\n",
    "    def __init__(self,l,N):\n",
    "        self.l=l\n",
    "        self.N=N\n",
    "    def matrix(self):\n",
    "        return np.vander(l,N,increasing=False)\n",
    "    \n",
    "l=np.array(list(map(int,input(\"Enter numbers with comma separated:\").split(','))))\n",
    "N=int(input(\"Enter number of columns: \"))\n",
    "\n",
    "m=vector(l,N)\n",
    "print(m.matrix())"
   ]
  },
  {
   "cell_type": "code",
   "execution_count": 23,
   "metadata": {},
   "outputs": [
    {
     "name": "stdout",
     "output_type": "stream",
     "text": [
      "Enter numbers with comma separated:1,2,3,4\n",
      "Enter number of columns: 3\n",
      "[1, 1, 1, 4, 2, 1, 9, 3, 1, 16, 4, 1]\n"
     ]
    }
   ],
   "source": [
    "l=list(map(int,input(\"Enter numbers with comma separated:\").split(',')))\n",
    "N=int(input(\"Enter number of columns: \"))\n",
    "print([j**(N-i-1) for j in l for i in range(N)])"
   ]
  },
  {
   "cell_type": "code",
   "execution_count": null,
   "metadata": {},
   "outputs": [],
   "source": []
  }
 ],
 "metadata": {
  "kernelspec": {
   "display_name": "Python 3",
   "language": "python",
   "name": "python3"
  },
  "language_info": {
   "codemirror_mode": {
    "name": "ipython",
    "version": 3
   },
   "file_extension": ".py",
   "mimetype": "text/x-python",
   "name": "python",
   "nbconvert_exporter": "python",
   "pygments_lexer": "ipython3",
   "version": "3.7.3"
  }
 },
 "nbformat": 4,
 "nbformat_minor": 2
}
