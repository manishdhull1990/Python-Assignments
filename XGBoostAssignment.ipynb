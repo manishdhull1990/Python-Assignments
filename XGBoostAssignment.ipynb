{
 "cells": [
  {
   "cell_type": "code",
   "execution_count": 1,
   "metadata": {},
   "outputs": [],
   "source": [
    "import numpy as np\n",
    "import pandas as pd\n",
    "from xgboost import XGBClassifier\n",
    "from sklearn.model_selection import GridSearchCV,train_test_split\n",
    "from sklearn.metrics import accuracy_score\n",
    "from sklearn.model_selection import StratifiedKFold\n",
    "import matplotlib.pyplot as plt\n",
    "import seaborn as sns"
   ]
  },
  {
   "cell_type": "code",
   "execution_count": 2,
   "metadata": {},
   "outputs": [],
   "source": [
    "columns = ['Age','Workclass','fnlgwt','Education','Education num','Marital Status',\n",
    "           'Occupation','Relationship','Race','Sex','Capital Gain','Capital Loss',\n",
    "           'Hours/Week','Native country','Income']\n",
    "train_set=pd.read_csv('/home/manish/Downloads/Machine Learning ipynb files/assignment/adult.data',header=None,names=columns)"
   ]
  },
  {
   "cell_type": "code",
   "execution_count": 3,
   "metadata": {},
   "outputs": [
    {
     "data": {
      "text/html": [
       "<div>\n",
       "<style scoped>\n",
       "    .dataframe tbody tr th:only-of-type {\n",
       "        vertical-align: middle;\n",
       "    }\n",
       "\n",
       "    .dataframe tbody tr th {\n",
       "        vertical-align: top;\n",
       "    }\n",
       "\n",
       "    .dataframe thead th {\n",
       "        text-align: right;\n",
       "    }\n",
       "</style>\n",
       "<table border=\"1\" class=\"dataframe\">\n",
       "  <thead>\n",
       "    <tr style=\"text-align: right;\">\n",
       "      <th></th>\n",
       "      <th>Age</th>\n",
       "      <th>Workclass</th>\n",
       "      <th>fnlgwt</th>\n",
       "      <th>Education</th>\n",
       "      <th>Education num</th>\n",
       "      <th>Marital Status</th>\n",
       "      <th>Occupation</th>\n",
       "      <th>Relationship</th>\n",
       "      <th>Race</th>\n",
       "      <th>Sex</th>\n",
       "      <th>Capital Gain</th>\n",
       "      <th>Capital Loss</th>\n",
       "      <th>Hours/Week</th>\n",
       "      <th>Native country</th>\n",
       "      <th>Income</th>\n",
       "    </tr>\n",
       "  </thead>\n",
       "  <tbody>\n",
       "    <tr>\n",
       "      <th>0</th>\n",
       "      <td>39</td>\n",
       "      <td>State-gov</td>\n",
       "      <td>77516</td>\n",
       "      <td>Bachelors</td>\n",
       "      <td>13</td>\n",
       "      <td>Never-married</td>\n",
       "      <td>Adm-clerical</td>\n",
       "      <td>Not-in-family</td>\n",
       "      <td>White</td>\n",
       "      <td>Male</td>\n",
       "      <td>2174</td>\n",
       "      <td>0</td>\n",
       "      <td>40</td>\n",
       "      <td>United-States</td>\n",
       "      <td>&lt;=50K</td>\n",
       "    </tr>\n",
       "    <tr>\n",
       "      <th>1</th>\n",
       "      <td>50</td>\n",
       "      <td>Self-emp-not-inc</td>\n",
       "      <td>83311</td>\n",
       "      <td>Bachelors</td>\n",
       "      <td>13</td>\n",
       "      <td>Married-civ-spouse</td>\n",
       "      <td>Exec-managerial</td>\n",
       "      <td>Husband</td>\n",
       "      <td>White</td>\n",
       "      <td>Male</td>\n",
       "      <td>0</td>\n",
       "      <td>0</td>\n",
       "      <td>13</td>\n",
       "      <td>United-States</td>\n",
       "      <td>&lt;=50K</td>\n",
       "    </tr>\n",
       "    <tr>\n",
       "      <th>2</th>\n",
       "      <td>38</td>\n",
       "      <td>Private</td>\n",
       "      <td>215646</td>\n",
       "      <td>HS-grad</td>\n",
       "      <td>9</td>\n",
       "      <td>Divorced</td>\n",
       "      <td>Handlers-cleaners</td>\n",
       "      <td>Not-in-family</td>\n",
       "      <td>White</td>\n",
       "      <td>Male</td>\n",
       "      <td>0</td>\n",
       "      <td>0</td>\n",
       "      <td>40</td>\n",
       "      <td>United-States</td>\n",
       "      <td>&lt;=50K</td>\n",
       "    </tr>\n",
       "    <tr>\n",
       "      <th>3</th>\n",
       "      <td>53</td>\n",
       "      <td>Private</td>\n",
       "      <td>234721</td>\n",
       "      <td>11th</td>\n",
       "      <td>7</td>\n",
       "      <td>Married-civ-spouse</td>\n",
       "      <td>Handlers-cleaners</td>\n",
       "      <td>Husband</td>\n",
       "      <td>Black</td>\n",
       "      <td>Male</td>\n",
       "      <td>0</td>\n",
       "      <td>0</td>\n",
       "      <td>40</td>\n",
       "      <td>United-States</td>\n",
       "      <td>&lt;=50K</td>\n",
       "    </tr>\n",
       "    <tr>\n",
       "      <th>4</th>\n",
       "      <td>28</td>\n",
       "      <td>Private</td>\n",
       "      <td>338409</td>\n",
       "      <td>Bachelors</td>\n",
       "      <td>13</td>\n",
       "      <td>Married-civ-spouse</td>\n",
       "      <td>Prof-specialty</td>\n",
       "      <td>Wife</td>\n",
       "      <td>Black</td>\n",
       "      <td>Female</td>\n",
       "      <td>0</td>\n",
       "      <td>0</td>\n",
       "      <td>40</td>\n",
       "      <td>Cuba</td>\n",
       "      <td>&lt;=50K</td>\n",
       "    </tr>\n",
       "  </tbody>\n",
       "</table>\n",
       "</div>"
      ],
      "text/plain": [
       "   Age          Workclass  fnlgwt   Education  Education num  \\\n",
       "0   39          State-gov   77516   Bachelors             13   \n",
       "1   50   Self-emp-not-inc   83311   Bachelors             13   \n",
       "2   38            Private  215646     HS-grad              9   \n",
       "3   53            Private  234721        11th              7   \n",
       "4   28            Private  338409   Bachelors             13   \n",
       "\n",
       "        Marital Status          Occupation    Relationship    Race      Sex  \\\n",
       "0        Never-married        Adm-clerical   Not-in-family   White     Male   \n",
       "1   Married-civ-spouse     Exec-managerial         Husband   White     Male   \n",
       "2             Divorced   Handlers-cleaners   Not-in-family   White     Male   \n",
       "3   Married-civ-spouse   Handlers-cleaners         Husband   Black     Male   \n",
       "4   Married-civ-spouse      Prof-specialty            Wife   Black   Female   \n",
       "\n",
       "   Capital Gain  Capital Loss  Hours/Week  Native country  Income  \n",
       "0          2174             0          40   United-States   <=50K  \n",
       "1             0             0          13   United-States   <=50K  \n",
       "2             0             0          40   United-States   <=50K  \n",
       "3             0             0          40   United-States   <=50K  \n",
       "4             0             0          40            Cuba   <=50K  "
      ]
     },
     "execution_count": 3,
     "metadata": {},
     "output_type": "execute_result"
    }
   ],
   "source": [
    "train_set.head()"
   ]
  },
  {
   "cell_type": "code",
   "execution_count": 4,
   "metadata": {},
   "outputs": [
    {
     "name": "stdout",
     "output_type": "stream",
     "text": [
      "<class 'pandas.core.frame.DataFrame'>\n",
      "RangeIndex: 32561 entries, 0 to 32560\n",
      "Data columns (total 15 columns):\n",
      " #   Column          Non-Null Count  Dtype \n",
      "---  ------          --------------  ----- \n",
      " 0   Age             32561 non-null  int64 \n",
      " 1   Workclass       32561 non-null  object\n",
      " 2   fnlgwt          32561 non-null  int64 \n",
      " 3   Education       32561 non-null  object\n",
      " 4   Education num   32561 non-null  int64 \n",
      " 5   Marital Status  32561 non-null  object\n",
      " 6   Occupation      32561 non-null  object\n",
      " 7   Relationship    32561 non-null  object\n",
      " 8   Race            32561 non-null  object\n",
      " 9   Sex             32561 non-null  object\n",
      " 10  Capital Gain    32561 non-null  int64 \n",
      " 11  Capital Loss    32561 non-null  int64 \n",
      " 12  Hours/Week      32561 non-null  int64 \n",
      " 13  Native country  32561 non-null  object\n",
      " 14  Income          32561 non-null  object\n",
      "dtypes: int64(6), object(9)\n",
      "memory usage: 3.7+ MB\n"
     ]
    }
   ],
   "source": [
    "train_set.info()"
   ]
  },
  {
   "cell_type": "code",
   "execution_count": 5,
   "metadata": {},
   "outputs": [
    {
     "name": "stdout",
     "output_type": "stream",
     "text": [
      "Workclass unique is [' State-gov' ' Self-emp-not-inc' ' Private' ' Federal-gov' ' Local-gov'\n",
      " ' ?' ' Self-emp-inc' ' Without-pay' ' Never-worked']\n",
      "\n",
      "\n",
      "Education unique is [' Bachelors' ' HS-grad' ' 11th' ' Masters' ' 9th' ' Some-college'\n",
      " ' Assoc-acdm' ' Assoc-voc' ' 7th-8th' ' Doctorate' ' Prof-school'\n",
      " ' 5th-6th' ' 10th' ' 1st-4th' ' Preschool' ' 12th']\n",
      "\n",
      "\n",
      "Education num unique is [13  9  7 14  5 10 12 11  4 16 15  3  6  2  1  8]\n",
      "\n",
      "\n",
      "Marital Status unique is [' Never-married' ' Married-civ-spouse' ' Divorced'\n",
      " ' Married-spouse-absent' ' Separated' ' Married-AF-spouse' ' Widowed']\n",
      "\n",
      "\n",
      "Occupation unique is [' Adm-clerical' ' Exec-managerial' ' Handlers-cleaners' ' Prof-specialty'\n",
      " ' Other-service' ' Sales' ' Craft-repair' ' Transport-moving'\n",
      " ' Farming-fishing' ' Machine-op-inspct' ' Tech-support' ' ?'\n",
      " ' Protective-serv' ' Armed-Forces' ' Priv-house-serv']\n",
      "\n",
      "\n",
      "Relationship unique is [' Not-in-family' ' Husband' ' Wife' ' Own-child' ' Unmarried'\n",
      " ' Other-relative']\n",
      "\n",
      "\n",
      "Race unique is [' White' ' Black' ' Asian-Pac-Islander' ' Amer-Indian-Eskimo' ' Other']\n",
      "\n",
      "\n",
      "Sex unique is [' Male' ' Female']\n",
      "\n",
      "\n",
      "Capital Gain unique is [ 2174     0 14084  5178  5013  2407 14344 15024  7688 34095  4064  4386\n",
      "  7298  1409  3674  1055  3464  2050  2176   594 20051  6849  4101  1111\n",
      "  8614  3411  2597 25236  4650  9386  2463  3103 10605  2964  3325  2580\n",
      "  3471  4865 99999  6514  1471  2329  2105  2885 25124 10520  2202  2961\n",
      " 27828  6767  2228  1506 13550  2635  5556  4787  3781  3137  3818  3942\n",
      "   914   401  2829  2977  4934  2062  2354  5455 15020  1424  3273 22040\n",
      "  4416  3908 10566   991  4931  1086  7430  6497   114  7896  2346  3418\n",
      "  3432  2907  1151  2414  2290 15831 41310  4508  2538  3456  6418  1848\n",
      "  3887  5721  9562  1455  2036  1831 11678  2936  2993  7443  6360  1797\n",
      "  1173  4687  6723  2009  6097  2653  1639 18481  7978  2387  5060]\n",
      "\n",
      "\n",
      "Capital Loss unique is [   0 2042 1408 1902 1573 1887 1719 1762 1564 2179 1816 1980 1977 1876\n",
      " 1340 2206 1741 1485 2339 2415 1380 1721 2051 2377 1669 2352 1672  653\n",
      " 2392 1504 2001 1590 1651 1628 1848 1740 2002 1579 2258 1602  419 2547\n",
      " 2174 2205 1726 2444 1138 2238  625  213 1539  880 1668 1092 1594 3004\n",
      " 2231 1844  810 2824 2559 2057 1974  974 2149 1825 1735 1258 2129 2603\n",
      " 2282  323 4356 2246 1617 1648 2489 3770 1755 3683 2267 2080 2457  155\n",
      " 3900 2201 1944 2467 2163 2754 2472 1411]\n",
      "\n",
      "\n",
      "Hours/Week unique is [40 13 16 45 50 80 30 35 60 20 52 44 15 25 38 43 55 48 58 32 70  2 22 56\n",
      " 41 28 36 24 46 42 12 65  1 10 34 75 98 33 54  8  6 64 19 18 72  5  9 47\n",
      " 37 21 26 14  4 59  7 99 53 39 62 57 78 90 66 11 49 84  3 17 68 27 85 31\n",
      " 51 77 63 23 87 88 73 89 97 94 29 96 67 82 86 91 81 76 92 61 74 95]\n",
      "\n",
      "\n",
      "Native country unique is [' United-States' ' Cuba' ' Jamaica' ' India' ' ?' ' Mexico' ' South'\n",
      " ' Puerto-Rico' ' Honduras' ' England' ' Canada' ' Germany' ' Iran'\n",
      " ' Philippines' ' Italy' ' Poland' ' Columbia' ' Cambodia' ' Thailand'\n",
      " ' Ecuador' ' Laos' ' Taiwan' ' Haiti' ' Portugal' ' Dominican-Republic'\n",
      " ' El-Salvador' ' France' ' Guatemala' ' China' ' Japan' ' Yugoslavia'\n",
      " ' Peru' ' Outlying-US(Guam-USVI-etc)' ' Scotland' ' Trinadad&Tobago'\n",
      " ' Greece' ' Nicaragua' ' Vietnam' ' Hong' ' Ireland' ' Hungary'\n",
      " ' Holand-Netherlands']\n",
      "\n",
      "\n"
     ]
    }
   ],
   "source": [
    "columns = ['Workclass','Education','Education num','Marital Status','Occupation','Relationship',\n",
    "           'Race','Sex','Capital Gain','Capital Loss','Hours/Week','Native country']\n",
    "\n",
    "for column in columns:\n",
    "    print(\"{0} unique is {1}\".format(column,train_set[column].unique()))\n",
    "    print(\"\\n\")"
   ]
  },
  {
   "cell_type": "code",
   "execution_count": 6,
   "metadata": {},
   "outputs": [],
   "source": [
    "###Workclass unique ,Native country,Occupation has null values\n",
    "##Drop columns Education as Education num column describes this in numerical form"
   ]
  },
  {
   "cell_type": "code",
   "execution_count": 7,
   "metadata": {},
   "outputs": [
    {
     "data": {
      "text/plain": [
       " Private             22696\n",
       " Self-emp-not-inc     2541\n",
       " Local-gov            2093\n",
       " ?                    1836\n",
       " State-gov            1298\n",
       " Self-emp-inc         1116\n",
       " Federal-gov           960\n",
       " Without-pay            14\n",
       " Never-worked            7\n",
       "Name: Workclass, dtype: int64"
      ]
     },
     "execution_count": 7,
     "metadata": {},
     "output_type": "execute_result"
    }
   ],
   "source": [
    "train_set['Workclass'].value_counts()"
   ]
  },
  {
   "cell_type": "code",
   "execution_count": 8,
   "metadata": {},
   "outputs": [
    {
     "data": {
      "text/plain": [
       " Prof-specialty       4140\n",
       " Craft-repair         4099\n",
       " Exec-managerial      4066\n",
       " Adm-clerical         3770\n",
       " Sales                3650\n",
       " Other-service        3295\n",
       " Machine-op-inspct    2002\n",
       " ?                    1843\n",
       " Transport-moving     1597\n",
       " Handlers-cleaners    1370\n",
       " Farming-fishing       994\n",
       " Tech-support          928\n",
       " Protective-serv       649\n",
       " Priv-house-serv       149\n",
       " Armed-Forces            9\n",
       "Name: Occupation, dtype: int64"
      ]
     },
     "execution_count": 8,
     "metadata": {},
     "output_type": "execute_result"
    }
   ],
   "source": [
    "train_set['Occupation'].value_counts()"
   ]
  },
  {
   "cell_type": "code",
   "execution_count": 9,
   "metadata": {},
   "outputs": [
    {
     "data": {
      "text/plain": [
       " United-States                 29170\n",
       " Mexico                          643\n",
       " ?                               583\n",
       " Philippines                     198\n",
       " Germany                         137\n",
       " Canada                          121\n",
       " Puerto-Rico                     114\n",
       " El-Salvador                     106\n",
       " India                           100\n",
       " Cuba                             95\n",
       " England                          90\n",
       " Jamaica                          81\n",
       " South                            80\n",
       " China                            75\n",
       " Italy                            73\n",
       " Dominican-Republic               70\n",
       " Vietnam                          67\n",
       " Guatemala                        64\n",
       " Japan                            62\n",
       " Poland                           60\n",
       " Columbia                         59\n",
       " Taiwan                           51\n",
       " Haiti                            44\n",
       " Iran                             43\n",
       " Portugal                         37\n",
       " Nicaragua                        34\n",
       " Peru                             31\n",
       " France                           29\n",
       " Greece                           29\n",
       " Ecuador                          28\n",
       " Ireland                          24\n",
       " Hong                             20\n",
       " Cambodia                         19\n",
       " Trinadad&Tobago                  19\n",
       " Laos                             18\n",
       " Thailand                         18\n",
       " Yugoslavia                       16\n",
       " Outlying-US(Guam-USVI-etc)       14\n",
       " Honduras                         13\n",
       " Hungary                          13\n",
       " Scotland                         12\n",
       " Holand-Netherlands                1\n",
       "Name: Native country, dtype: int64"
      ]
     },
     "execution_count": 9,
     "metadata": {},
     "output_type": "execute_result"
    }
   ],
   "source": [
    "train_set['Native country'].value_counts()"
   ]
  },
  {
   "cell_type": "code",
   "execution_count": 10,
   "metadata": {},
   "outputs": [
    {
     "name": "stdout",
     "output_type": "stream",
     "text": [
      "Workclass\n",
      "Education\n",
      "Marital Status\n",
      "Occupation\n",
      "Relationship\n",
      "Race\n",
      "Sex\n",
      "Native country\n"
     ]
    }
   ],
   "source": [
    "###removing the blank spaces\n",
    "for col in columns:\n",
    "    if train_set[col].dtype=='object':\n",
    "        print(col)\n",
    "        train_set[col]=train_set[col].apply(lambda x:x.replace(\" \",\"\"))"
   ]
  },
  {
   "cell_type": "code",
   "execution_count": 11,
   "metadata": {},
   "outputs": [],
   "source": [
    "#removing ? from Workclass ,Native country,Occupation"
   ]
  },
  {
   "cell_type": "code",
   "execution_count": 12,
   "metadata": {},
   "outputs": [],
   "source": [
    "colm=['Workclass','Native country','Occupation']\n",
    "for col in colm:\n",
    "    train_set[col].replace('?',np.nan,inplace=True)"
   ]
  },
  {
   "cell_type": "code",
   "execution_count": 13,
   "metadata": {},
   "outputs": [],
   "source": [
    "###Visualization"
   ]
  },
  {
   "cell_type": "code",
   "execution_count": 14,
   "metadata": {},
   "outputs": [
    {
     "data": {
      "text/plain": [
       "<matplotlib.axes._subplots.AxesSubplot at 0x7f9b35c61d68>"
      ]
     },
     "execution_count": 14,
     "metadata": {},
     "output_type": "execute_result"
    },
    {
     "data": {
      "image/png": "[encoded data removed]",
      "text/plain": [
       "<Figure size 432x288 with 1 Axes>"
      ]
     },
     "metadata": {
      "needs_background": "light"
     },
     "output_type": "display_data"
    }
   ],
   "source": [
    "train_set['Sex'].hist()"
   ]
  },
  {
   "cell_type": "code",
   "execution_count": 15,
   "metadata": {},
   "outputs": [],
   "source": [
    "###Dropping column Education and converting Income to 0 and 1\n",
    "\n",
    "df=train_set.copy()\n",
    "\n",
    "df=df.drop(columns=['Education'])"
   ]
  },
  {
   "cell_type": "code",
   "execution_count": 16,
   "metadata": {},
   "outputs": [],
   "source": [
    "df['Income']=df['Income'].apply(lambda x: 1 if x==' >50K' else 0)"
   ]
  },
  {
   "cell_type": "code",
   "execution_count": 17,
   "metadata": {},
   "outputs": [
    {
     "data": {
      "text/plain": [
       "([0, 1, 2, 3, 4, 5, 6], <a list of 7 Text major ticklabel objects>)"
      ]
     },
     "execution_count": 17,
     "metadata": {},
     "output_type": "execute_result"
    },
    {
     "data": {
      "image/png": "[encoded data removed]",
      "text/plain": [
       "<Figure size 432x288 with 1 Axes>"
      ]
     },
     "metadata": {
      "needs_background": "light"
     },
     "output_type": "display_data"
    }
   ],
   "source": [
    "plt.hist(df['Marital Status'])\n",
    "plt.xticks(rotation=45)"
   ]
  },
  {
   "cell_type": "code",
   "execution_count": 18,
   "metadata": {},
   "outputs": [
    {
     "data": {
      "text/plain": [
       "<Figure size 1800x1440 with 0 Axes>"
      ]
     },
     "metadata": {},
     "output_type": "display_data"
    },
    {
     "data": {
      "image/png": "[encoded data removed]",
      "text/plain": [
       "<Figure size 404.5x360 with 1 Axes>"
      ]
     },
     "metadata": {
      "needs_background": "light"
     },
     "output_type": "display_data"
    },
    {
     "data": {
      "image/png": "[encoded data removed]",
      "text/plain": [
       "<Figure size 404.5x360 with 1 Axes>"
      ]
     },
     "metadata": {
      "needs_background": "light"
     },
     "output_type": "display_data"
    },
    {
     "data": {
      "image/png": "[encoded data removed]",
      "text/plain": [
       "<Figure size 404.5x360 with 1 Axes>"
      ]
     },
     "metadata": {
      "needs_background": "light"
     },
     "output_type": "display_data"
    },
    {
     "data": {
      "image/png": "[encoded data removed]",
      "text/plain": [
       "<Figure size 404.5x360 with 1 Axes>"
      ]
     },
     "metadata": {
      "needs_background": "light"
     },
     "output_type": "display_data"
    },
    {
     "data": {
      "image/png": "[encoded data removed]",
      "text/plain": [
       "<Figure size 404.5x360 with 1 Axes>"
      ]
     },
     "metadata": {
      "needs_background": "light"
     },
     "output_type": "display_data"
    },
    {
     "data": {
      "image/png": "[encoded data removed]",
      "text/plain": [
       "<Figure size 404.5x360 with 1 Axes>"
      ]
     },
     "metadata": {
      "needs_background": "light"
     },
     "output_type": "display_data"
    },
    {
     "data": {
      "image/png": "[encoded data removed]",
      "text/plain": [
       "<Figure size 404.5x360 with 1 Axes>"
      ]
     },
     "metadata": {
      "needs_background": "light"
     },
     "output_type": "display_data"
    },
    {
     "data": {
      "image/png": "[encoded data removed]",
      "text/plain": [
       "<Figure size 404.5x360 with 1 Axes>"
      ]
     },
     "metadata": {
      "needs_background": "light"
     },
     "output_type": "display_data"
    },
    {
     "data": {
      "image/png": "[encoded data removed]",
      "text/plain": [
       "<Figure size 404.5x360 with 1 Axes>"
      ]
     },
     "metadata": {
      "needs_background": "light"
     },
     "output_type": "display_data"
    }
   ],
   "source": [
    "columns = ['Workclass','Marital Status','Occupation','Relationship','Education num',\n",
    "           'Race','Sex','Hours/Week','Native country']\n",
    "plt.figure(figsize=(25,20),facecolor='white')\n",
    "plotnumber=1\n",
    "for col in columns:\n",
    "    sns.catplot(x=col, hue='Income', kind='count',data=df)\n",
    "    plt.xticks(rotation=90)\n",
    "    plt.xlabel(col)\n",
    "\n",
    "plt.tight_layout()"
   ]
  },
  {
   "cell_type": "code",
   "execution_count": 19,
   "metadata": {},
   "outputs": [],
   "source": [
    "df1=df.groupby('Native country').groups"
   ]
  },
  {
   "cell_type": "code",
   "execution_count": 20,
   "metadata": {},
   "outputs": [
    {
     "data": {
      "text/plain": [
       "{'Cambodia': Int64Index([  255,  1975,  4303,  4785,  5560,  7980,  8014, 11134, 11637,\n",
       "             16068, 17382, 18075, 20494, 21503, 21851, 22669, 27480, 28995,\n",
       "             32129],\n",
       "            dtype='int64'),\n",
       " 'Canada': Int64Index([  112,   266,   593,  1051,  1314,  1379,  1688,  1938,  2284,\n",
       "              2327,\n",
       "             ...\n",
       "             28582, 29020, 29333, 29614, 30032, 30288, 30623, 30969, 32093,\n",
       "             32112],\n",
       "            dtype='int64', length=121),\n",
       " 'China': Int64Index([  873,  1092,  1217,  1515,  1708,  1717,  1932,  2323,  2432,\n",
       "              3627,  3647,  3714,  3987,  4598,  4972,  5435,  5786,  6065,\n",
       "              6387,  7202,  8075,  8112,  8478,  8508,  9067,  9147,  9202,\n",
       "              9525,  9836,  9957, 10480, 11188, 11986, 12070, 14074, 14147,\n",
       "             14194, 14273, 14374, 14531, 14927, 15762, 15978, 17412, 17540,\n",
       "             17568, 20194, 20561, 20775, 21370, 22028, 22076, 22487, 22564,\n",
       "             23019, 23460, 23483, 23741, 24330, 24940, 25002, 25118, 25577,\n",
       "             26150, 26606, 27033, 27246, 29547, 31047, 31061, 31185, 31243,\n",
       "             31511, 32115, 32204],\n",
       "            dtype='int64'),\n",
       " 'Columbia': Int64Index([  228,  2659,  2992,  3386,  3924,  5463,  6878,  7732,  7921,\n",
       "              9828, 10837, 11601, 11676, 11892, 12500, 12701, 12985, 13223,\n",
       "             13432, 14073, 14113, 14419, 14436, 15210, 16016, 16140, 16258,\n",
       "             16292, 16999, 18787, 18928, 19428, 19918, 20097, 21076, 21502,\n",
       "             21836, 22155, 22376, 23807, 24096, 24240, 24575, 24609, 24650,\n",
       "             25075, 26198, 26349, 27481, 27648, 28480, 28590, 29025, 29746,\n",
       "             29969, 30784, 31305, 31817, 32299],\n",
       "            dtype='int64'),\n",
       " 'Cuba': Int64Index([    4,    81,   638,   701,  1237,  1663,  2018,  2229,  2668,\n",
       "              2790,  3289,  3511,  3533,  4913,  5025,  5194,  5241,  5331,\n",
       "              5834,  6916,  6967,  7062,  8019,  8452,  8540,  8843,  9135,\n",
       "              9339,  9347,  9839,  9919, 10042, 11352, 11495, 12026, 12541,\n",
       "             13627, 13696, 13957, 14058, 14352, 15130, 15173, 16364, 16372,\n",
       "             16392, 16490, 16627, 16771, 17182, 17566, 17646, 17718, 17909,\n",
       "             17928, 18196, 18384, 18431, 19054, 19119, 19444, 19720, 19935,\n",
       "             20114, 20328, 21087, 21145, 22181, 22954, 23503, 23631, 23836,\n",
       "             25129, 25145, 26074, 26101, 26381, 26431, 26715, 26782, 27558,\n",
       "             27625, 28301, 28887, 29010, 29030, 29874, 30376, 30476, 30743,\n",
       "             30841, 30892, 30906, 31149, 31907],\n",
       "            dtype='int64'),\n",
       " 'Dominican-Republic': Int64Index([  427,   688,  1198,  1826,  2107,  2469,  2581,  2647,  3201,\n",
       "              3357,  4171,  4722,  4861,  5510,  5870,  7089,  7230,  7489,\n",
       "              8947,  9006,  9388,  9658,  9770, 10310, 11288, 11937, 13458,\n",
       "             13629, 13849, 14877, 15548, 15789, 15884, 16398, 16932, 17628,\n",
       "             17975, 18604, 18608, 18646, 18870, 19186, 19996, 20011, 20533,\n",
       "             20791, 22033, 22425, 22495, 22773, 23526, 23653, 24046, 24553,\n",
       "             25663, 27180, 27817, 28422, 28664, 28683, 29211, 29972, 30161,\n",
       "             30517, 31141, 31774, 31873, 31919, 32359, 32508],\n",
       "            dtype='int64'),\n",
       " 'Ecuador': Int64Index([  289,  3981,  4158,  4310,  7081,  7659,  9336, 10545, 11130,\n",
       "             11786, 12773, 13082, 15580, 16145, 16918, 17726, 17795, 17923,\n",
       "             19118, 26214, 27277, 27818, 28756, 29184, 29374, 30322, 30783,\n",
       "             31368],\n",
       "            dtype='int64'),\n",
       " 'El-Salvador': Int64Index([  497,   624,  1291,  1880,  2124,  2680,  2861,  3303,  3448,\n",
       "              3592,\n",
       "             ...\n",
       "             30065, 30272, 30334, 30498, 30501, 30505, 31466, 31509, 31838,\n",
       "             32378],\n",
       "            dtype='int64', length=106),\n",
       " 'England': Int64Index([   98,   163,   799,  1228,  1514,  1612,  2021,  2353,  2374,\n",
       "              2377,  3025,  3483,  3680,  3923,  3946,  3962,  5492,  5513,\n",
       "              5787,  6135,  6941,  7036,  7617,  9047,  9225,  9265,  9806,\n",
       "              9857,  9973, 10263, 10475, 10533, 11119, 11811, 11889, 12421,\n",
       "             12762, 12788, 13373, 13750, 14192, 14411, 14445, 14502, 14919,\n",
       "             15143, 15387, 15666, 15804, 15836, 15892, 16171, 16442, 16705,\n",
       "             16896, 17082, 17585, 17855, 17983, 18130, 18279, 18542, 19455,\n",
       "             19692, 20276, 20355, 20398, 21627, 21831, 22767, 22853, 24889,\n",
       "             25156, 25391, 25394, 25413, 25578, 25836, 26277, 26438, 27387,\n",
       "             27417, 27492, 27633, 27664, 28845, 29442, 30279, 31338, 31801],\n",
       "            dtype='int64'),\n",
       " 'France': Int64Index([  503,  3666,  4635,  7982,  9743, 12108, 12338, 13496, 13858,\n",
       "             15584, 16361, 16816, 18430, 21424, 21446, 21569, 21680, 22265,\n",
       "             22724, 23249, 24282, 25072, 25860, 27401, 27637, 29325, 29466,\n",
       "             31268, 31776],\n",
       "            dtype='int64'),\n",
       " 'Germany': Int64Index([  122,   280,   767,  1009,  1142,  1346,  1425,  1973,  2233,\n",
       "              2586,\n",
       "             ...\n",
       "             31172, 31181, 31201, 31248, 31446, 32074, 32101, 32141, 32236,\n",
       "             32341],\n",
       "            dtype='int64', length=137),\n",
       " 'Greece': Int64Index([ 1888,  2426,  2752,  2779,  3215,  4029,  5839,  5883,  5911,\n",
       "              6050,  6424,  6635,  6928,  7735,  7865,  8531,  9306, 10659,\n",
       "             14846, 21475, 21587, 22652, 23303, 26160, 27067, 27330, 28649,\n",
       "             29353, 30064],\n",
       "            dtype='int64'),\n",
       " 'Guatemala': Int64Index([  771,   929,  2336,  3317,  3675,  3719,  3798,  4697,  4700,\n",
       "              4979,  5716,  5842,  6583,  7206,  7319,  7366,  7433,  7839,\n",
       "              9206,  9504,  9984, 11389, 11461, 11982, 12367, 12681, 12783,\n",
       "             12846, 13022, 13084, 13288, 13456, 14264, 14393, 14463, 14862,\n",
       "             15828, 15962, 18104, 18502, 19278, 19601, 20404, 20914, 21903,\n",
       "             22270, 22300, 22541, 22617, 23510, 25630, 25645, 25754, 26223,\n",
       "             27152, 27887, 28674, 28775, 28901, 29720, 30285, 30483, 31457,\n",
       "             32214],\n",
       "            dtype='int64'),\n",
       " 'Haiti': Int64Index([  338,   748,  1629,  2288,  2561,  4180,  5812,  6421,  7289,\n",
       "              7755,  8726,  9068,  9595,  9648,  9779, 11304, 11618, 11709,\n",
       "             12270, 12592, 14024, 14530, 14975, 15593, 15995, 18163, 19263,\n",
       "             19711, 20281, 20722, 20859, 21097, 21124, 21904, 22061, 22576,\n",
       "             24102, 24296, 28579, 28965, 30528, 31384, 31486, 31536],\n",
       "            dtype='int64'),\n",
       " 'Holand-Netherlands': Int64Index([19609], dtype='int64'),\n",
       " 'Honduras': Int64Index([   52,   714,  2084,  6958,  7234, 12423, 16957, 17561, 25745,\n",
       "             27115, 27271, 27765, 32456],\n",
       "            dtype='int64'),\n",
       " 'Hong': Int64Index([ 2655, 10188, 11946, 12096, 14214, 14672, 15644, 16843, 19964,\n",
       "             20780, 23917, 25943, 27329, 28049, 28800, 30338, 30732, 30975,\n",
       "             32242, 32327],\n",
       "            dtype='int64'),\n",
       " 'Hungary': Int64Index([ 8562, 12529, 13928, 15259, 17144, 17735, 18839, 21371, 22658,\n",
       "             23023, 27041, 27750, 30346],\n",
       "            dtype='int64'),\n",
       " 'India': Int64Index([   11,   892,   968,  1029,  1095,  1327,  2130,  2558,  2989,\n",
       "              4480,  4512,  4523,  5629,  6219,  6321,  6560,  6964,  7258,\n",
       "              7285,  7844,  7932,  8124,  9128,  9533,  9793,  9939, 10107,\n",
       "             10305, 10590, 10661, 10736, 11260, 11384, 11756, 11835, 12368,\n",
       "             12795, 13422, 13551, 13862, 14041, 14685, 15698, 16017, 16336,\n",
       "             16778, 16923, 17259, 17834, 18556, 18968, 19926, 19959, 20417,\n",
       "             20465, 20709, 21128, 21130, 22431, 22879, 23022, 23474, 23891,\n",
       "             24154, 24175, 24872, 24981, 25376, 25662, 25739, 25897, 26305,\n",
       "             26321, 26356, 27170, 27244, 27289, 27659, 27670, 27889, 27904,\n",
       "             27974, 28264, 28433, 28452, 28557, 28651, 28693, 28774, 28798,\n",
       "             28816, 29207, 29631, 29728, 30111, 30152, 30833, 30871, 31327,\n",
       "             31357],\n",
       "            dtype='int64'),\n",
       " 'Iran': Int64Index([  135,   237,   348,  1054,  1387,  2652,  3389,  3390,  4145,\n",
       "              4369,  4433,  5205,  6182,  6295,  6527,  6604,  6750,  6865,\n",
       "              7402,  7461,  9826,  9945, 10125, 13961, 14144, 14698, 15877,\n",
       "             16091, 17854, 19097, 19322, 20243, 20887, 21441, 23321, 25172,\n",
       "             25646, 25961, 26545, 26570, 31003, 31592, 31985],\n",
       "            dtype='int64'),\n",
       " 'Ireland': Int64Index([ 2966,  3972,  3982,  4765,  5619,  7293, 10205, 10246, 11831,\n",
       "             11931, 12011, 12901, 15086, 15158, 16990, 18479, 20420, 20636,\n",
       "             21729, 25949, 26087, 26736, 28654, 32337],\n",
       "            dtype='int64'),\n",
       " 'Italy': Int64Index([  201,   815,  1363,  1655,  1674,  1882,  2159,  2900,  2933,\n",
       "              3447,  4455,  4813,  5441,  6559,  6590,  6606,  7275,  7546,\n",
       "              8983, 10227, 10274, 10431, 10918, 11974, 12169, 12254, 12490,\n",
       "             13470, 14088, 14412, 14705, 14809, 14910, 15668, 16699, 17591,\n",
       "             17769, 17827, 18083, 18340, 18443, 19348, 19576, 20321, 20581,\n",
       "             21186, 22190, 22610, 22667, 22700, 23082, 23216, 23315, 23722,\n",
       "             24876, 26407, 27311, 27914, 28008, 28232, 28732, 29717, 30195,\n",
       "             30634, 31044, 31207, 31242, 31247, 31376, 31702, 32153, 32278,\n",
       "             32313],\n",
       "            dtype='int64'),\n",
       " 'Jamaica': Int64Index([    6,   706,  1135,  1570,  2006,  2128,  3551,  3608,  3973,\n",
       "              4033,  4286,  4361,  4381,  4485,  4647,  5083,  6044,  6212,\n",
       "              6288,  6578,  6601,  6634,  6655,  6672,  6715,  8274,  8649,\n",
       "              8994,  9314,  9784,  9790, 10154, 11431, 11490, 11547, 12420,\n",
       "             13162, 13647, 14708, 14893, 14974, 15358, 15560, 15587, 15862,\n",
       "             16118, 17818, 18887, 19234, 20346, 20415, 20450, 20934, 21431,\n",
       "             22717, 23910, 24657, 24783, 25185, 25528, 25955, 26364, 26531,\n",
       "             26692, 26909, 27687, 28075, 28323, 28466, 28515, 29420, 29484,\n",
       "             29625, 30069, 30443, 30611, 30863, 31033, 31038, 31954, 32229],\n",
       "            dtype='int64'),\n",
       " 'Japan': Int64Index([ 1020,  1119,  1301,  1368,  1756,  2096,  2834,  2994,  3064,\n",
       "              5012,  5491,  5980,  6038,  7245,  7792,  8152,  8237,  9017,\n",
       "              9262,  9452, 11764, 12323, 12848, 13229, 13244, 13923, 14396,\n",
       "             14543, 15177, 16200, 16391, 16729, 17142, 18414, 18538, 18657,\n",
       "             18686, 18808, 19743, 20137, 20292, 20423, 20936, 22174, 22225,\n",
       "             23931, 24483, 24632, 25696, 25946, 26362, 26415, 26862, 27135,\n",
       "             27163, 29393, 30802, 31757, 31830, 32075, 32376, 32533],\n",
       "            dtype='int64'),\n",
       " 'Laos': Int64Index([  304,  4610,  5971,  6853, 15310, 15443, 21520, 23177, 25227,\n",
       "             25975, 26432, 27315, 27714, 28002, 28295, 30326, 31002, 31332],\n",
       "            dtype='int64'),\n",
       " 'Mexico': Int64Index([   15,    56,    75,   142,   150,   165,   183,   195,   317,\n",
       "               335,\n",
       "             ...\n",
       "             32031, 32035, 32306, 32312, 32320, 32332, 32334, 32425, 32432,\n",
       "             32547],\n",
       "            dtype='int64', length=643),\n",
       " 'Nicaragua': Int64Index([ 1948,  2022,  2646,  2749,  4315,  7960,  8099,  9176,  9252,\n",
       "              9551, 12263, 12412, 13117, 13887, 15736, 16202, 17255, 17465,\n",
       "             18482, 18606, 19641, 20989, 22993, 24000, 24558, 25366, 25594,\n",
       "             26218, 26516, 27020, 28456, 29995, 30881, 32263],\n",
       "            dtype='int64'),\n",
       " 'Outlying-US(Guam-USVI-etc)': Int64Index([ 1565,  4233,  4508,  7025, 14680, 16120, 19129, 21665, 26386,\n",
       "             28494, 28575, 29916, 30088, 31686],\n",
       "            dtype='int64'),\n",
       " 'Peru': Int64Index([ 1430,  3260,  4085,  6794,  6795,  8110,  9665, 10312, 10360,\n",
       "             11374, 13017, 13129, 13227, 13699, 14129, 18154, 19253, 21823,\n",
       "             24531, 24637, 24739, 24827, 24853, 26372, 27344, 28357, 28634,\n",
       "             28895, 30189, 30520, 31948],\n",
       "            dtype='int64'),\n",
       " 'Philippines': Int64Index([  152,   434,   655,   881,  1281,  1609,  1622,  1793,  1839,\n",
       "              2249,\n",
       "             ...\n",
       "             31506, 31596, 31634, 31673, 31770, 31787, 32062, 32199, 32370,\n",
       "             32428],\n",
       "            dtype='int64', length=198),\n",
       " 'Poland': Int64Index([  217,   500,   698,  1372,  2268,  2373,  3115,  3236,  4042,\n",
       "              5092,  5112,  5301,  5471,  5617,  6043,  7896,  8049,  8487,\n",
       "              8651,  9106,  9201,  9384, 10624, 11772, 12067, 12267, 12384,\n",
       "             12785, 13115, 13295, 13303, 13615, 14356, 14603, 15681, 15839,\n",
       "             16323, 16848, 17218, 17679, 17707, 20175, 20339, 21152, 21617,\n",
       "             21921, 22533, 23240, 23939, 25025, 25163, 25672, 25804, 27908,\n",
       "             28600, 28832, 30762, 31153, 31202, 32459],\n",
       "            dtype='int64'),\n",
       " 'Portugal': Int64Index([  359,   480,   681,   762,  2584,  3481,  4905,  5734,  6877,\n",
       "              7358,  7890,  8557, 11261, 11294, 11672, 12032, 14723, 14900,\n",
       "             15246, 15939, 15966, 19047, 21303, 21636, 21951, 22292, 22391,\n",
       "             24126, 26850, 27692, 28056, 28227, 28439, 30856, 31902, 32352,\n",
       "             32403],\n",
       "            dtype='int64'),\n",
       " 'Puerto-Rico': Int64Index([   35,    57,   404,   530,  1789,  1847,  2137,  2144,  2502,\n",
       "              2891,\n",
       "             ...\n",
       "             27584, 28216, 28273, 28395, 28593, 28715, 29015, 29647, 30299,\n",
       "             31057],\n",
       "            dtype='int64', length=114),\n",
       " 'Scotland': Int64Index([1586, 5259, 8165, 15039, 17176, 19059, 20363, 21634, 22409, 27518,\n",
       "             29137, 32371],\n",
       "            dtype='int64'),\n",
       " 'South': Int64Index([   27,   668,   916,  1969,  2208,  3202,  4066,  4367,  4409,\n",
       "              5330,  5424,  5592,  6150,  6493,  6570,  6631,  6921,  7057,\n",
       "              7059,  7507,  7800,  8066,  8896,  9318,  9550,  9735,  9911,\n",
       "             10219, 10233, 10378, 10772, 11686, 12093, 12262, 12451, 12584,\n",
       "             12625, 12779, 13550, 13589, 13933, 14401, 14572, 15037, 15466,\n",
       "             16924, 17110, 17984, 18189, 18244, 18450, 18509, 19035, 19693,\n",
       "             20172, 22029, 22197, 22324, 22446, 22797, 22896, 23021, 23804,\n",
       "             24735, 25231, 25561, 25816, 26152, 26494, 27046, 27338, 27647,\n",
       "             27799, 27867, 29290, 29488, 30347, 30533, 31302, 31751],\n",
       "            dtype='int64'),\n",
       " 'Taiwan': Int64Index([  311,   652,  1077,  2286,  2339,  2898,  3909,  4108,  4403,\n",
       "              4625,  5196,  5219,  6549,  7320,  8809,  8898,  9860,  9952,\n",
       "             10091, 11466, 11597, 12438, 14488, 15005, 15253, 16583, 17172,\n",
       "             17717, 17823, 17835, 18159, 18238, 19200, 19509, 21158, 21348,\n",
       "             21705, 22956, 23351, 23590, 24006, 24156, 25350, 25752, 26457,\n",
       "             26649, 26879, 28511, 30200, 31429, 32553],\n",
       "            dtype='int64'),\n",
       " 'Thailand': Int64Index([  265,  1411,  6952,  7606,  8055,  9341,  9441, 10630, 15967,\n",
       "             20543, 20698, 21452, 22307, 22405, 24202, 25153, 27056, 27874],\n",
       "            dtype='int64'),\n",
       " 'Trinadad&Tobago': Int64Index([ 1794,  2441,  3179,  4576,  7663,  9553, 12321, 13236, 22358,\n",
       "             22783, 23495, 24307, 27306, 28828, 29038, 29195, 30007, 30017,\n",
       "             30168],\n",
       "            dtype='int64'),\n",
       " 'United-States': Int64Index([    0,     1,     2,     3,     5,     7,     8,     9,    10,\n",
       "                12,\n",
       "             ...\n",
       "             32550, 32551, 32552, 32554, 32555, 32556, 32557, 32558, 32559,\n",
       "             32560],\n",
       "            dtype='int64', length=29170),\n",
       " 'Vietnam': Int64Index([ 2259,  2653,  3708,  3832,  3879,  4168,  4262,  4724,  4826,\n",
       "              4919,  5395,  5415,  6175,  7210,  7697,  7909,  8572,  8633,\n",
       "              8953,  9463,  9470,  9626,  9711, 10335, 10374, 11271, 11589,\n",
       "             13122, 13468, 13648, 13821, 14507, 15124, 15403, 17269, 17895,\n",
       "             18031, 18096, 19094, 19511, 19526, 19542, 19750, 20360, 21048,\n",
       "             21218, 22021, 22900, 23564, 23902, 25735, 25994, 26568, 26878,\n",
       "             27002, 27026, 27214, 27642, 28773, 28942, 29311, 29633, 30135,\n",
       "             30301, 31079, 32044, 32203],\n",
       "            dtype='int64'),\n",
       " 'Yugoslavia': Int64Index([ 1025,  4447,  6328,  7287, 12506, 12816, 13125, 18247, 20549,\n",
       "             22200, 23814, 26614, 28487, 29437, 30543, 31519],\n",
       "            dtype='int64')}"
      ]
     },
     "execution_count": 20,
     "metadata": {},
     "output_type": "execute_result"
    }
   ],
   "source": [
    "df1"
   ]
  },
  {
   "cell_type": "code",
   "execution_count": 21,
   "metadata": {},
   "outputs": [],
   "source": [
    "#one hot encoding for columns Marital Status, Relationship,Race,Sex\n",
    "columns = ['Marital Status','Relationship','Race','Sex']\n",
    "df_conversion=df.copy()\n",
    "df_conversion=pd.concat([df_conversion,pd.get_dummies(df_conversion[['Marital Status','Relationship','Race','Sex']])],axis=1)"
   ]
  },
  {
   "cell_type": "code",
   "execution_count": 22,
   "metadata": {},
   "outputs": [],
   "source": [
    "df_conversion=df_conversion.drop(columns=['Marital Status','Relationship','Race','Sex'])"
   ]
  },
  {
   "cell_type": "code",
   "execution_count": 23,
   "metadata": {},
   "outputs": [
    {
     "data": {
      "text/html": [
       "<div>\n",
       "<style scoped>\n",
       "    .dataframe tbody tr th:only-of-type {\n",
       "        vertical-align: middle;\n",
       "    }\n",
       "\n",
       "    .dataframe tbody tr th {\n",
       "        vertical-align: top;\n",
       "    }\n",
       "\n",
       "    .dataframe thead th {\n",
       "        text-align: right;\n",
       "    }\n",
       "</style>\n",
       "<table border=\"1\" class=\"dataframe\">\n",
       "  <thead>\n",
       "    <tr style=\"text-align: right;\">\n",
       "      <th></th>\n",
       "      <th>Age</th>\n",
       "      <th>Workclass</th>\n",
       "      <th>fnlgwt</th>\n",
       "      <th>Education num</th>\n",
       "      <th>Occupation</th>\n",
       "      <th>Capital Gain</th>\n",
       "      <th>Capital Loss</th>\n",
       "      <th>Hours/Week</th>\n",
       "      <th>Native country</th>\n",
       "      <th>Income</th>\n",
       "      <th>...</th>\n",
       "      <th>Relationship_Own-child</th>\n",
       "      <th>Relationship_Unmarried</th>\n",
       "      <th>Relationship_Wife</th>\n",
       "      <th>Race_Amer-Indian-Eskimo</th>\n",
       "      <th>Race_Asian-Pac-Islander</th>\n",
       "      <th>Race_Black</th>\n",
       "      <th>Race_Other</th>\n",
       "      <th>Race_White</th>\n",
       "      <th>Sex_Female</th>\n",
       "      <th>Sex_Male</th>\n",
       "    </tr>\n",
       "  </thead>\n",
       "  <tbody>\n",
       "    <tr>\n",
       "      <th>0</th>\n",
       "      <td>39</td>\n",
       "      <td>State-gov</td>\n",
       "      <td>77516</td>\n",
       "      <td>13</td>\n",
       "      <td>Adm-clerical</td>\n",
       "      <td>2174</td>\n",
       "      <td>0</td>\n",
       "      <td>40</td>\n",
       "      <td>United-States</td>\n",
       "      <td>0</td>\n",
       "      <td>...</td>\n",
       "      <td>0</td>\n",
       "      <td>0</td>\n",
       "      <td>0</td>\n",
       "      <td>0</td>\n",
       "      <td>0</td>\n",
       "      <td>0</td>\n",
       "      <td>0</td>\n",
       "      <td>1</td>\n",
       "      <td>0</td>\n",
       "      <td>1</td>\n",
       "    </tr>\n",
       "    <tr>\n",
       "      <th>1</th>\n",
       "      <td>50</td>\n",
       "      <td>Self-emp-not-inc</td>\n",
       "      <td>83311</td>\n",
       "      <td>13</td>\n",
       "      <td>Exec-managerial</td>\n",
       "      <td>0</td>\n",
       "      <td>0</td>\n",
       "      <td>13</td>\n",
       "      <td>United-States</td>\n",
       "      <td>0</td>\n",
       "      <td>...</td>\n",
       "      <td>0</td>\n",
       "      <td>0</td>\n",
       "      <td>0</td>\n",
       "      <td>0</td>\n",
       "      <td>0</td>\n",
       "      <td>0</td>\n",
       "      <td>0</td>\n",
       "      <td>1</td>\n",
       "      <td>0</td>\n",
       "      <td>1</td>\n",
       "    </tr>\n",
       "    <tr>\n",
       "      <th>2</th>\n",
       "      <td>38</td>\n",
       "      <td>Private</td>\n",
       "      <td>215646</td>\n",
       "      <td>9</td>\n",
       "      <td>Handlers-cleaners</td>\n",
       "      <td>0</td>\n",
       "      <td>0</td>\n",
       "      <td>40</td>\n",
       "      <td>United-States</td>\n",
       "      <td>0</td>\n",
       "      <td>...</td>\n",
       "      <td>0</td>\n",
       "      <td>0</td>\n",
       "      <td>0</td>\n",
       "      <td>0</td>\n",
       "      <td>0</td>\n",
       "      <td>0</td>\n",
       "      <td>0</td>\n",
       "      <td>1</td>\n",
       "      <td>0</td>\n",
       "      <td>1</td>\n",
       "    </tr>\n",
       "    <tr>\n",
       "      <th>3</th>\n",
       "      <td>53</td>\n",
       "      <td>Private</td>\n",
       "      <td>234721</td>\n",
       "      <td>7</td>\n",
       "      <td>Handlers-cleaners</td>\n",
       "      <td>0</td>\n",
       "      <td>0</td>\n",
       "      <td>40</td>\n",
       "      <td>United-States</td>\n",
       "      <td>0</td>\n",
       "      <td>...</td>\n",
       "      <td>0</td>\n",
       "      <td>0</td>\n",
       "      <td>0</td>\n",
       "      <td>0</td>\n",
       "      <td>0</td>\n",
       "      <td>1</td>\n",
       "      <td>0</td>\n",
       "      <td>0</td>\n",
       "      <td>0</td>\n",
       "      <td>1</td>\n",
       "    </tr>\n",
       "    <tr>\n",
       "      <th>4</th>\n",
       "      <td>28</td>\n",
       "      <td>Private</td>\n",
       "      <td>338409</td>\n",
       "      <td>13</td>\n",
       "      <td>Prof-specialty</td>\n",
       "      <td>0</td>\n",
       "      <td>0</td>\n",
       "      <td>40</td>\n",
       "      <td>Cuba</td>\n",
       "      <td>0</td>\n",
       "      <td>...</td>\n",
       "      <td>0</td>\n",
       "      <td>0</td>\n",
       "      <td>1</td>\n",
       "      <td>0</td>\n",
       "      <td>0</td>\n",
       "      <td>1</td>\n",
       "      <td>0</td>\n",
       "      <td>0</td>\n",
       "      <td>1</td>\n",
       "      <td>0</td>\n",
       "    </tr>\n",
       "  </tbody>\n",
       "</table>\n",
       "<p>5 rows × 30 columns</p>\n",
       "</div>"
      ],
      "text/plain": [
       "   Age         Workclass  fnlgwt  Education num         Occupation  \\\n",
       "0   39         State-gov   77516             13       Adm-clerical   \n",
       "1   50  Self-emp-not-inc   83311             13    Exec-managerial   \n",
       "2   38           Private  215646              9  Handlers-cleaners   \n",
       "3   53           Private  234721              7  Handlers-cleaners   \n",
       "4   28           Private  338409             13     Prof-specialty   \n",
       "\n",
       "   Capital Gain  Capital Loss  Hours/Week Native country  Income  ...  \\\n",
       "0          2174             0          40  United-States       0  ...   \n",
       "1             0             0          13  United-States       0  ...   \n",
       "2             0             0          40  United-States       0  ...   \n",
       "3             0             0          40  United-States       0  ...   \n",
       "4             0             0          40           Cuba       0  ...   \n",
       "\n",
       "   Relationship_Own-child  Relationship_Unmarried  Relationship_Wife  \\\n",
       "0                       0                       0                  0   \n",
       "1                       0                       0                  0   \n",
       "2                       0                       0                  0   \n",
       "3                       0                       0                  0   \n",
       "4                       0                       0                  1   \n",
       "\n",
       "   Race_Amer-Indian-Eskimo  Race_Asian-Pac-Islander  Race_Black  Race_Other  \\\n",
       "0                        0                        0           0           0   \n",
       "1                        0                        0           0           0   \n",
       "2                        0                        0           0           0   \n",
       "3                        0                        0           1           0   \n",
       "4                        0                        0           1           0   \n",
       "\n",
       "   Race_White  Sex_Female  Sex_Male  \n",
       "0           1           0         1  \n",
       "1           1           0         1  \n",
       "2           1           0         1  \n",
       "3           0           0         1  \n",
       "4           0           1         0  \n",
       "\n",
       "[5 rows x 30 columns]"
      ]
     },
     "execution_count": 23,
     "metadata": {},
     "output_type": "execute_result"
    }
   ],
   "source": [
    "df_conversion.head()"
   ]
  },
  {
   "cell_type": "code",
   "execution_count": 24,
   "metadata": {},
   "outputs": [
    {
     "data": {
      "text/plain": [
       "(array([ 0,  1,  2,  3,  4,  5,  6,  7,  8,  9, 10, 11, 12, 13]),\n",
       " <a list of 14 Text major ticklabel objects>)"
      ]
     },
     "execution_count": 24,
     "metadata": {},
     "output_type": "execute_result"
    },
    {
     "data": {
      "image/png": "[encoded data removed]",
      "text/plain": [
       "<Figure size 404.5x360 with 1 Axes>"
      ]
     },
     "metadata": {
      "needs_background": "light"
     },
     "output_type": "display_data"
    }
   ],
   "source": [
    "sns.catplot(x='Occupation',y='Education num',hue='Income',kind='bar',data=df_conversion)\n",
    "plt.xticks(rotation=45)"
   ]
  },
  {
   "cell_type": "code",
   "execution_count": 25,
   "metadata": {},
   "outputs": [],
   "source": [
    "##In each occupation if education is high then the income is above 50 k and profession has no relation with the \n",
    "##income directly and there is no need of prefrence given to any profession so we can use one hot encoding here"
   ]
  },
  {
   "cell_type": "code",
   "execution_count": 26,
   "metadata": {},
   "outputs": [],
   "source": [
    "df_conversion=pd.concat([df_conversion,pd.get_dummies(df_conversion[['Occupation','Workclass']])],axis=1)"
   ]
  },
  {
   "cell_type": "code",
   "execution_count": 27,
   "metadata": {},
   "outputs": [],
   "source": [
    "df_conversion=df_conversion.drop(columns=['Occupation','Workclass'])"
   ]
  },
  {
   "cell_type": "code",
   "execution_count": 28,
   "metadata": {},
   "outputs": [
    {
     "data": {
      "text/html": [
       "<div>\n",
       "<style scoped>\n",
       "    .dataframe tbody tr th:only-of-type {\n",
       "        vertical-align: middle;\n",
       "    }\n",
       "\n",
       "    .dataframe tbody tr th {\n",
       "        vertical-align: top;\n",
       "    }\n",
       "\n",
       "    .dataframe thead th {\n",
       "        text-align: right;\n",
       "    }\n",
       "</style>\n",
       "<table border=\"1\" class=\"dataframe\">\n",
       "  <thead>\n",
       "    <tr style=\"text-align: right;\">\n",
       "      <th></th>\n",
       "      <th>Age</th>\n",
       "      <th>fnlgwt</th>\n",
       "      <th>Education num</th>\n",
       "      <th>Capital Gain</th>\n",
       "      <th>Capital Loss</th>\n",
       "      <th>Hours/Week</th>\n",
       "      <th>Native country</th>\n",
       "      <th>Income</th>\n",
       "      <th>Marital Status_Divorced</th>\n",
       "      <th>Marital Status_Married-AF-spouse</th>\n",
       "      <th>...</th>\n",
       "      <th>Occupation_Tech-support</th>\n",
       "      <th>Occupation_Transport-moving</th>\n",
       "      <th>Workclass_Federal-gov</th>\n",
       "      <th>Workclass_Local-gov</th>\n",
       "      <th>Workclass_Never-worked</th>\n",
       "      <th>Workclass_Private</th>\n",
       "      <th>Workclass_Self-emp-inc</th>\n",
       "      <th>Workclass_Self-emp-not-inc</th>\n",
       "      <th>Workclass_State-gov</th>\n",
       "      <th>Workclass_Without-pay</th>\n",
       "    </tr>\n",
       "  </thead>\n",
       "  <tbody>\n",
       "    <tr>\n",
       "      <th>0</th>\n",
       "      <td>39</td>\n",
       "      <td>77516</td>\n",
       "      <td>13</td>\n",
       "      <td>2174</td>\n",
       "      <td>0</td>\n",
       "      <td>40</td>\n",
       "      <td>United-States</td>\n",
       "      <td>0</td>\n",
       "      <td>0</td>\n",
       "      <td>0</td>\n",
       "      <td>...</td>\n",
       "      <td>0</td>\n",
       "      <td>0</td>\n",
       "      <td>0</td>\n",
       "      <td>0</td>\n",
       "      <td>0</td>\n",
       "      <td>0</td>\n",
       "      <td>0</td>\n",
       "      <td>0</td>\n",
       "      <td>1</td>\n",
       "      <td>0</td>\n",
       "    </tr>\n",
       "    <tr>\n",
       "      <th>1</th>\n",
       "      <td>50</td>\n",
       "      <td>83311</td>\n",
       "      <td>13</td>\n",
       "      <td>0</td>\n",
       "      <td>0</td>\n",
       "      <td>13</td>\n",
       "      <td>United-States</td>\n",
       "      <td>0</td>\n",
       "      <td>0</td>\n",
       "      <td>0</td>\n",
       "      <td>...</td>\n",
       "      <td>0</td>\n",
       "      <td>0</td>\n",
       "      <td>0</td>\n",
       "      <td>0</td>\n",
       "      <td>0</td>\n",
       "      <td>0</td>\n",
       "      <td>0</td>\n",
       "      <td>1</td>\n",
       "      <td>0</td>\n",
       "      <td>0</td>\n",
       "    </tr>\n",
       "    <tr>\n",
       "      <th>2</th>\n",
       "      <td>38</td>\n",
       "      <td>215646</td>\n",
       "      <td>9</td>\n",
       "      <td>0</td>\n",
       "      <td>0</td>\n",
       "      <td>40</td>\n",
       "      <td>United-States</td>\n",
       "      <td>0</td>\n",
       "      <td>1</td>\n",
       "      <td>0</td>\n",
       "      <td>...</td>\n",
       "      <td>0</td>\n",
       "      <td>0</td>\n",
       "      <td>0</td>\n",
       "      <td>0</td>\n",
       "      <td>0</td>\n",
       "      <td>1</td>\n",
       "      <td>0</td>\n",
       "      <td>0</td>\n",
       "      <td>0</td>\n",
       "      <td>0</td>\n",
       "    </tr>\n",
       "    <tr>\n",
       "      <th>3</th>\n",
       "      <td>53</td>\n",
       "      <td>234721</td>\n",
       "      <td>7</td>\n",
       "      <td>0</td>\n",
       "      <td>0</td>\n",
       "      <td>40</td>\n",
       "      <td>United-States</td>\n",
       "      <td>0</td>\n",
       "      <td>0</td>\n",
       "      <td>0</td>\n",
       "      <td>...</td>\n",
       "      <td>0</td>\n",
       "      <td>0</td>\n",
       "      <td>0</td>\n",
       "      <td>0</td>\n",
       "      <td>0</td>\n",
       "      <td>1</td>\n",
       "      <td>0</td>\n",
       "      <td>0</td>\n",
       "      <td>0</td>\n",
       "      <td>0</td>\n",
       "    </tr>\n",
       "    <tr>\n",
       "      <th>4</th>\n",
       "      <td>28</td>\n",
       "      <td>338409</td>\n",
       "      <td>13</td>\n",
       "      <td>0</td>\n",
       "      <td>0</td>\n",
       "      <td>40</td>\n",
       "      <td>Cuba</td>\n",
       "      <td>0</td>\n",
       "      <td>0</td>\n",
       "      <td>0</td>\n",
       "      <td>...</td>\n",
       "      <td>0</td>\n",
       "      <td>0</td>\n",
       "      <td>0</td>\n",
       "      <td>0</td>\n",
       "      <td>0</td>\n",
       "      <td>1</td>\n",
       "      <td>0</td>\n",
       "      <td>0</td>\n",
       "      <td>0</td>\n",
       "      <td>0</td>\n",
       "    </tr>\n",
       "  </tbody>\n",
       "</table>\n",
       "<p>5 rows × 50 columns</p>\n",
       "</div>"
      ],
      "text/plain": [
       "   Age  fnlgwt  Education num  Capital Gain  Capital Loss  Hours/Week  \\\n",
       "0   39   77516             13          2174             0          40   \n",
       "1   50   83311             13             0             0          13   \n",
       "2   38  215646              9             0             0          40   \n",
       "3   53  234721              7             0             0          40   \n",
       "4   28  338409             13             0             0          40   \n",
       "\n",
       "  Native country  Income  Marital Status_Divorced  \\\n",
       "0  United-States       0                        0   \n",
       "1  United-States       0                        0   \n",
       "2  United-States       0                        1   \n",
       "3  United-States       0                        0   \n",
       "4           Cuba       0                        0   \n",
       "\n",
       "   Marital Status_Married-AF-spouse  ...  Occupation_Tech-support  \\\n",
       "0                                 0  ...                        0   \n",
       "1                                 0  ...                        0   \n",
       "2                                 0  ...                        0   \n",
       "3                                 0  ...                        0   \n",
       "4                                 0  ...                        0   \n",
       "\n",
       "   Occupation_Transport-moving  Workclass_Federal-gov  Workclass_Local-gov  \\\n",
       "0                            0                      0                    0   \n",
       "1                            0                      0                    0   \n",
       "2                            0                      0                    0   \n",
       "3                            0                      0                    0   \n",
       "4                            0                      0                    0   \n",
       "\n",
       "   Workclass_Never-worked  Workclass_Private  Workclass_Self-emp-inc  \\\n",
       "0                       0                  0                       0   \n",
       "1                       0                  0                       0   \n",
       "2                       0                  1                       0   \n",
       "3                       0                  1                       0   \n",
       "4                       0                  1                       0   \n",
       "\n",
       "   Workclass_Self-emp-not-inc  Workclass_State-gov  Workclass_Without-pay  \n",
       "0                           0                    1                      0  \n",
       "1                           1                    0                      0  \n",
       "2                           0                    0                      0  \n",
       "3                           0                    0                      0  \n",
       "4                           0                    0                      0  \n",
       "\n",
       "[5 rows x 50 columns]"
      ]
     },
     "execution_count": 28,
     "metadata": {},
     "output_type": "execute_result"
    }
   ],
   "source": [
    "df_conversion.head()"
   ]
  },
  {
   "cell_type": "code",
   "execution_count": 29,
   "metadata": {},
   "outputs": [
    {
     "data": {
      "text/plain": [
       "<matplotlib.axes._subplots.AxesSubplot at 0x7f9b322565f8>"
      ]
     },
     "execution_count": 29,
     "metadata": {},
     "output_type": "execute_result"
    },
    {
     "data": {
      "image/png": "[encoded data removed]",
      "text/plain": [
       "<Figure size 432x288 with 1 Axes>"
      ]
     },
     "metadata": {
      "needs_background": "light"
     },
     "output_type": "display_data"
    }
   ],
   "source": [
    "sns.distplot(df_conversion['Age'],kde=False,bins=20)"
   ]
  },
  {
   "cell_type": "code",
   "execution_count": 30,
   "metadata": {},
   "outputs": [],
   "source": [
    "##bin encoding for Age and Hours/Week\n",
    "df_conversion.loc[df_conversion['Age']<=22,'Age']=0\n",
    "df_conversion.loc[(df_conversion['Age']>22)&(df_conversion['Age']<=30),'Age']=1\n",
    "df_conversion.loc[(df_conversion['Age']>30)&(df_conversion['Age']<=40),'Age']=2\n",
    "df_conversion.loc[(df_conversion['Age']>40)&(df_conversion['Age']<=50),'Age']=3\n",
    "df_conversion.loc[(df_conversion['Age']>50)&(df_conversion['Age']<=60),'Age']=4\n",
    "df_conversion.loc[(df_conversion['Age']>60),'Age']=5"
   ]
  },
  {
   "cell_type": "code",
   "execution_count": 31,
   "metadata": {},
   "outputs": [
    {
     "data": {
      "text/plain": [
       "2    8546\n",
       "3    6983\n",
       "1    6677\n",
       "4    4128\n",
       "0    3895\n",
       "5    2332\n",
       "Name: Age, dtype: int64"
      ]
     },
     "execution_count": 31,
     "metadata": {},
     "output_type": "execute_result"
    }
   ],
   "source": [
    "df_conversion['Age'].value_counts()"
   ]
  },
  {
   "cell_type": "code",
   "execution_count": 32,
   "metadata": {},
   "outputs": [
    {
     "data": {
      "text/plain": [
       "<matplotlib.axes._subplots.AxesSubplot at 0x7f9b32246128>"
      ]
     },
     "execution_count": 32,
     "metadata": {},
     "output_type": "execute_result"
    },
    {
     "data": {
      "image/png": "[encoded data removed]",
      "text/plain": [
       "<Figure size 432x288 with 1 Axes>"
      ]
     },
     "metadata": {
      "needs_background": "light"
     },
     "output_type": "display_data"
    }
   ],
   "source": [
    "sns.distplot(df_conversion['Hours/Week'],bins=20,kde=False)"
   ]
  },
  {
   "cell_type": "code",
   "execution_count": 33,
   "metadata": {},
   "outputs": [],
   "source": [
    "df_conversion.loc[df_conversion['Hours/Week']<=20,'Hours']=0\n",
    "df_conversion.loc[(df_conversion['Hours/Week']>20) & (df_conversion['Hours/Week']<=30),'Hours']=1\n",
    "df_conversion.loc[(df_conversion['Hours/Week']>30) & (df_conversion['Hours/Week']<=35),'Hours']=2\n",
    "df_conversion.loc[(df_conversion['Hours/Week']>35) & (df_conversion['Hours/Week']<=37),'Hours']=3\n",
    "df_conversion.loc[(df_conversion['Hours/Week']>37) & (df_conversion['Hours/Week']<=40),'Hours']=4\n",
    "df_conversion.loc[(df_conversion['Hours/Week']>40) & (df_conversion['Hours/Week']<=45),'Hours']=5\n",
    "df_conversion.loc[(df_conversion['Hours/Week']>45) & (df_conversion['Hours/Week']<=50),'Hours']=6\n",
    "df_conversion.loc[(df_conversion['Hours/Week']>50) & (df_conversion['Hours/Week']<=60),'Hours']=7\n",
    "df_conversion.loc[(df_conversion['Hours/Week']>60) & (df_conversion['Hours/Week']<=70),'Hours']=8\n",
    "df_conversion.loc[df_conversion['Hours/Week']>70,'Hours']=9"
   ]
  },
  {
   "cell_type": "code",
   "execution_count": 34,
   "metadata": {},
   "outputs": [],
   "source": [
    "df_conversion=df_conversion.drop(columns=['Hours/Week'])"
   ]
  },
  {
   "cell_type": "code",
   "execution_count": 35,
   "metadata": {},
   "outputs": [
    {
     "data": {
      "text/html": [
       "<div>\n",
       "<style scoped>\n",
       "    .dataframe tbody tr th:only-of-type {\n",
       "        vertical-align: middle;\n",
       "    }\n",
       "\n",
       "    .dataframe tbody tr th {\n",
       "        vertical-align: top;\n",
       "    }\n",
       "\n",
       "    .dataframe thead th {\n",
       "        text-align: right;\n",
       "    }\n",
       "</style>\n",
       "<table border=\"1\" class=\"dataframe\">\n",
       "  <thead>\n",
       "    <tr style=\"text-align: right;\">\n",
       "      <th></th>\n",
       "      <th>Age</th>\n",
       "      <th>fnlgwt</th>\n",
       "      <th>Education num</th>\n",
       "      <th>Capital Gain</th>\n",
       "      <th>Capital Loss</th>\n",
       "      <th>Native country</th>\n",
       "      <th>Income</th>\n",
       "      <th>Marital Status_Divorced</th>\n",
       "      <th>Marital Status_Married-AF-spouse</th>\n",
       "      <th>Marital Status_Married-civ-spouse</th>\n",
       "      <th>...</th>\n",
       "      <th>Occupation_Transport-moving</th>\n",
       "      <th>Workclass_Federal-gov</th>\n",
       "      <th>Workclass_Local-gov</th>\n",
       "      <th>Workclass_Never-worked</th>\n",
       "      <th>Workclass_Private</th>\n",
       "      <th>Workclass_Self-emp-inc</th>\n",
       "      <th>Workclass_Self-emp-not-inc</th>\n",
       "      <th>Workclass_State-gov</th>\n",
       "      <th>Workclass_Without-pay</th>\n",
       "      <th>Hours</th>\n",
       "    </tr>\n",
       "  </thead>\n",
       "  <tbody>\n",
       "    <tr>\n",
       "      <th>0</th>\n",
       "      <td>2</td>\n",
       "      <td>77516</td>\n",
       "      <td>13</td>\n",
       "      <td>2174</td>\n",
       "      <td>0</td>\n",
       "      <td>United-States</td>\n",
       "      <td>0</td>\n",
       "      <td>0</td>\n",
       "      <td>0</td>\n",
       "      <td>0</td>\n",
       "      <td>...</td>\n",
       "      <td>0</td>\n",
       "      <td>0</td>\n",
       "      <td>0</td>\n",
       "      <td>0</td>\n",
       "      <td>0</td>\n",
       "      <td>0</td>\n",
       "      <td>0</td>\n",
       "      <td>1</td>\n",
       "      <td>0</td>\n",
       "      <td>4.0</td>\n",
       "    </tr>\n",
       "    <tr>\n",
       "      <th>1</th>\n",
       "      <td>3</td>\n",
       "      <td>83311</td>\n",
       "      <td>13</td>\n",
       "      <td>0</td>\n",
       "      <td>0</td>\n",
       "      <td>United-States</td>\n",
       "      <td>0</td>\n",
       "      <td>0</td>\n",
       "      <td>0</td>\n",
       "      <td>1</td>\n",
       "      <td>...</td>\n",
       "      <td>0</td>\n",
       "      <td>0</td>\n",
       "      <td>0</td>\n",
       "      <td>0</td>\n",
       "      <td>0</td>\n",
       "      <td>0</td>\n",
       "      <td>1</td>\n",
       "      <td>0</td>\n",
       "      <td>0</td>\n",
       "      <td>0.0</td>\n",
       "    </tr>\n",
       "    <tr>\n",
       "      <th>2</th>\n",
       "      <td>2</td>\n",
       "      <td>215646</td>\n",
       "      <td>9</td>\n",
       "      <td>0</td>\n",
       "      <td>0</td>\n",
       "      <td>United-States</td>\n",
       "      <td>0</td>\n",
       "      <td>1</td>\n",
       "      <td>0</td>\n",
       "      <td>0</td>\n",
       "      <td>...</td>\n",
       "      <td>0</td>\n",
       "      <td>0</td>\n",
       "      <td>0</td>\n",
       "      <td>0</td>\n",
       "      <td>1</td>\n",
       "      <td>0</td>\n",
       "      <td>0</td>\n",
       "      <td>0</td>\n",
       "      <td>0</td>\n",
       "      <td>4.0</td>\n",
       "    </tr>\n",
       "    <tr>\n",
       "      <th>3</th>\n",
       "      <td>4</td>\n",
       "      <td>234721</td>\n",
       "      <td>7</td>\n",
       "      <td>0</td>\n",
       "      <td>0</td>\n",
       "      <td>United-States</td>\n",
       "      <td>0</td>\n",
       "      <td>0</td>\n",
       "      <td>0</td>\n",
       "      <td>1</td>\n",
       "      <td>...</td>\n",
       "      <td>0</td>\n",
       "      <td>0</td>\n",
       "      <td>0</td>\n",
       "      <td>0</td>\n",
       "      <td>1</td>\n",
       "      <td>0</td>\n",
       "      <td>0</td>\n",
       "      <td>0</td>\n",
       "      <td>0</td>\n",
       "      <td>4.0</td>\n",
       "    </tr>\n",
       "    <tr>\n",
       "      <th>4</th>\n",
       "      <td>1</td>\n",
       "      <td>338409</td>\n",
       "      <td>13</td>\n",
       "      <td>0</td>\n",
       "      <td>0</td>\n",
       "      <td>Cuba</td>\n",
       "      <td>0</td>\n",
       "      <td>0</td>\n",
       "      <td>0</td>\n",
       "      <td>1</td>\n",
       "      <td>...</td>\n",
       "      <td>0</td>\n",
       "      <td>0</td>\n",
       "      <td>0</td>\n",
       "      <td>0</td>\n",
       "      <td>1</td>\n",
       "      <td>0</td>\n",
       "      <td>0</td>\n",
       "      <td>0</td>\n",
       "      <td>0</td>\n",
       "      <td>4.0</td>\n",
       "    </tr>\n",
       "  </tbody>\n",
       "</table>\n",
       "<p>5 rows × 50 columns</p>\n",
       "</div>"
      ],
      "text/plain": [
       "   Age  fnlgwt  Education num  Capital Gain  Capital Loss Native country  \\\n",
       "0    2   77516             13          2174             0  United-States   \n",
       "1    3   83311             13             0             0  United-States   \n",
       "2    2  215646              9             0             0  United-States   \n",
       "3    4  234721              7             0             0  United-States   \n",
       "4    1  338409             13             0             0           Cuba   \n",
       "\n",
       "   Income  Marital Status_Divorced  Marital Status_Married-AF-spouse  \\\n",
       "0       0                        0                                 0   \n",
       "1       0                        0                                 0   \n",
       "2       0                        1                                 0   \n",
       "3       0                        0                                 0   \n",
       "4       0                        0                                 0   \n",
       "\n",
       "   Marital Status_Married-civ-spouse  ...  Occupation_Transport-moving  \\\n",
       "0                                  0  ...                            0   \n",
       "1                                  1  ...                            0   \n",
       "2                                  0  ...                            0   \n",
       "3                                  1  ...                            0   \n",
       "4                                  1  ...                            0   \n",
       "\n",
       "   Workclass_Federal-gov  Workclass_Local-gov  Workclass_Never-worked  \\\n",
       "0                      0                    0                       0   \n",
       "1                      0                    0                       0   \n",
       "2                      0                    0                       0   \n",
       "3                      0                    0                       0   \n",
       "4                      0                    0                       0   \n",
       "\n",
       "   Workclass_Private  Workclass_Self-emp-inc  Workclass_Self-emp-not-inc  \\\n",
       "0                  0                       0                           0   \n",
       "1                  0                       0                           1   \n",
       "2                  1                       0                           0   \n",
       "3                  1                       0                           0   \n",
       "4                  1                       0                           0   \n",
       "\n",
       "   Workclass_State-gov  Workclass_Without-pay  Hours  \n",
       "0                    1                      0    4.0  \n",
       "1                    0                      0    0.0  \n",
       "2                    0                      0    4.0  \n",
       "3                    0                      0    4.0  \n",
       "4                    0                      0    4.0  \n",
       "\n",
       "[5 rows x 50 columns]"
      ]
     },
     "execution_count": 35,
     "metadata": {},
     "output_type": "execute_result"
    }
   ],
   "source": [
    "df_conversion.head()"
   ]
  },
  {
   "cell_type": "code",
   "execution_count": 36,
   "metadata": {},
   "outputs": [],
   "source": [
    "##Cluster the native country as United_States=1 and other=0 as the other countries are having neglegible values\n",
    "##as compared to United states\n",
    "\n",
    "df_conversion['Native country']=df_conversion['Native country'].apply(lambda x: 1 if x=='United-States' else 0)"
   ]
  },
  {
   "cell_type": "code",
   "execution_count": 37,
   "metadata": {},
   "outputs": [
    {
     "data": {
      "text/html": [
       "<div>\n",
       "<style scoped>\n",
       "    .dataframe tbody tr th:only-of-type {\n",
       "        vertical-align: middle;\n",
       "    }\n",
       "\n",
       "    .dataframe tbody tr th {\n",
       "        vertical-align: top;\n",
       "    }\n",
       "\n",
       "    .dataframe thead th {\n",
       "        text-align: right;\n",
       "    }\n",
       "</style>\n",
       "<table border=\"1\" class=\"dataframe\">\n",
       "  <thead>\n",
       "    <tr style=\"text-align: right;\">\n",
       "      <th></th>\n",
       "      <th>Age</th>\n",
       "      <th>fnlgwt</th>\n",
       "      <th>Education num</th>\n",
       "      <th>Capital Gain</th>\n",
       "      <th>Capital Loss</th>\n",
       "      <th>Native country</th>\n",
       "      <th>Income</th>\n",
       "      <th>Marital Status_Divorced</th>\n",
       "      <th>Marital Status_Married-AF-spouse</th>\n",
       "      <th>Marital Status_Married-civ-spouse</th>\n",
       "      <th>...</th>\n",
       "      <th>Occupation_Transport-moving</th>\n",
       "      <th>Workclass_Federal-gov</th>\n",
       "      <th>Workclass_Local-gov</th>\n",
       "      <th>Workclass_Never-worked</th>\n",
       "      <th>Workclass_Private</th>\n",
       "      <th>Workclass_Self-emp-inc</th>\n",
       "      <th>Workclass_Self-emp-not-inc</th>\n",
       "      <th>Workclass_State-gov</th>\n",
       "      <th>Workclass_Without-pay</th>\n",
       "      <th>Hours</th>\n",
       "    </tr>\n",
       "  </thead>\n",
       "  <tbody>\n",
       "    <tr>\n",
       "      <th>0</th>\n",
       "      <td>2</td>\n",
       "      <td>77516</td>\n",
       "      <td>13</td>\n",
       "      <td>2174</td>\n",
       "      <td>0</td>\n",
       "      <td>1</td>\n",
       "      <td>0</td>\n",
       "      <td>0</td>\n",
       "      <td>0</td>\n",
       "      <td>0</td>\n",
       "      <td>...</td>\n",
       "      <td>0</td>\n",
       "      <td>0</td>\n",
       "      <td>0</td>\n",
       "      <td>0</td>\n",
       "      <td>0</td>\n",
       "      <td>0</td>\n",
       "      <td>0</td>\n",
       "      <td>1</td>\n",
       "      <td>0</td>\n",
       "      <td>4.0</td>\n",
       "    </tr>\n",
       "    <tr>\n",
       "      <th>1</th>\n",
       "      <td>3</td>\n",
       "      <td>83311</td>\n",
       "      <td>13</td>\n",
       "      <td>0</td>\n",
       "      <td>0</td>\n",
       "      <td>1</td>\n",
       "      <td>0</td>\n",
       "      <td>0</td>\n",
       "      <td>0</td>\n",
       "      <td>1</td>\n",
       "      <td>...</td>\n",
       "      <td>0</td>\n",
       "      <td>0</td>\n",
       "      <td>0</td>\n",
       "      <td>0</td>\n",
       "      <td>0</td>\n",
       "      <td>0</td>\n",
       "      <td>1</td>\n",
       "      <td>0</td>\n",
       "      <td>0</td>\n",
       "      <td>0.0</td>\n",
       "    </tr>\n",
       "    <tr>\n",
       "      <th>2</th>\n",
       "      <td>2</td>\n",
       "      <td>215646</td>\n",
       "      <td>9</td>\n",
       "      <td>0</td>\n",
       "      <td>0</td>\n",
       "      <td>1</td>\n",
       "      <td>0</td>\n",
       "      <td>1</td>\n",
       "      <td>0</td>\n",
       "      <td>0</td>\n",
       "      <td>...</td>\n",
       "      <td>0</td>\n",
       "      <td>0</td>\n",
       "      <td>0</td>\n",
       "      <td>0</td>\n",
       "      <td>1</td>\n",
       "      <td>0</td>\n",
       "      <td>0</td>\n",
       "      <td>0</td>\n",
       "      <td>0</td>\n",
       "      <td>4.0</td>\n",
       "    </tr>\n",
       "    <tr>\n",
       "      <th>3</th>\n",
       "      <td>4</td>\n",
       "      <td>234721</td>\n",
       "      <td>7</td>\n",
       "      <td>0</td>\n",
       "      <td>0</td>\n",
       "      <td>1</td>\n",
       "      <td>0</td>\n",
       "      <td>0</td>\n",
       "      <td>0</td>\n",
       "      <td>1</td>\n",
       "      <td>...</td>\n",
       "      <td>0</td>\n",
       "      <td>0</td>\n",
       "      <td>0</td>\n",
       "      <td>0</td>\n",
       "      <td>1</td>\n",
       "      <td>0</td>\n",
       "      <td>0</td>\n",
       "      <td>0</td>\n",
       "      <td>0</td>\n",
       "      <td>4.0</td>\n",
       "    </tr>\n",
       "    <tr>\n",
       "      <th>4</th>\n",
       "      <td>1</td>\n",
       "      <td>338409</td>\n",
       "      <td>13</td>\n",
       "      <td>0</td>\n",
       "      <td>0</td>\n",
       "      <td>0</td>\n",
       "      <td>0</td>\n",
       "      <td>0</td>\n",
       "      <td>0</td>\n",
       "      <td>1</td>\n",
       "      <td>...</td>\n",
       "      <td>0</td>\n",
       "      <td>0</td>\n",
       "      <td>0</td>\n",
       "      <td>0</td>\n",
       "      <td>1</td>\n",
       "      <td>0</td>\n",
       "      <td>0</td>\n",
       "      <td>0</td>\n",
       "      <td>0</td>\n",
       "      <td>4.0</td>\n",
       "    </tr>\n",
       "  </tbody>\n",
       "</table>\n",
       "<p>5 rows × 50 columns</p>\n",
       "</div>"
      ],
      "text/plain": [
       "   Age  fnlgwt  Education num  Capital Gain  Capital Loss  Native country  \\\n",
       "0    2   77516             13          2174             0               1   \n",
       "1    3   83311             13             0             0               1   \n",
       "2    2  215646              9             0             0               1   \n",
       "3    4  234721              7             0             0               1   \n",
       "4    1  338409             13             0             0               0   \n",
       "\n",
       "   Income  Marital Status_Divorced  Marital Status_Married-AF-spouse  \\\n",
       "0       0                        0                                 0   \n",
       "1       0                        0                                 0   \n",
       "2       0                        1                                 0   \n",
       "3       0                        0                                 0   \n",
       "4       0                        0                                 0   \n",
       "\n",
       "   Marital Status_Married-civ-spouse  ...  Occupation_Transport-moving  \\\n",
       "0                                  0  ...                            0   \n",
       "1                                  1  ...                            0   \n",
       "2                                  0  ...                            0   \n",
       "3                                  1  ...                            0   \n",
       "4                                  1  ...                            0   \n",
       "\n",
       "   Workclass_Federal-gov  Workclass_Local-gov  Workclass_Never-worked  \\\n",
       "0                      0                    0                       0   \n",
       "1                      0                    0                       0   \n",
       "2                      0                    0                       0   \n",
       "3                      0                    0                       0   \n",
       "4                      0                    0                       0   \n",
       "\n",
       "   Workclass_Private  Workclass_Self-emp-inc  Workclass_Self-emp-not-inc  \\\n",
       "0                  0                       0                           0   \n",
       "1                  0                       0                           1   \n",
       "2                  1                       0                           0   \n",
       "3                  1                       0                           0   \n",
       "4                  1                       0                           0   \n",
       "\n",
       "   Workclass_State-gov  Workclass_Without-pay  Hours  \n",
       "0                    1                      0    4.0  \n",
       "1                    0                      0    0.0  \n",
       "2                    0                      0    4.0  \n",
       "3                    0                      0    4.0  \n",
       "4                    0                      0    4.0  \n",
       "\n",
       "[5 rows x 50 columns]"
      ]
     },
     "execution_count": 37,
     "metadata": {},
     "output_type": "execute_result"
    }
   ],
   "source": [
    "df_conversion.head()"
   ]
  },
  {
   "cell_type": "code",
   "execution_count": 38,
   "metadata": {},
   "outputs": [],
   "source": [
    "X=df_conversion.drop(columns=['Income'])\n",
    "y=df_conversion['Income']"
   ]
  },
  {
   "cell_type": "code",
   "execution_count": 39,
   "metadata": {},
   "outputs": [],
   "source": [
    "train_x,test_x,train_y,test_y=train_test_split(X,y,test_size=0.2,random_state=42)"
   ]
  },
  {
   "cell_type": "code",
   "execution_count": 40,
   "metadata": {},
   "outputs": [
    {
     "data": {
      "text/plain": [
       "XGBClassifier(base_score=0.5, booster=None, colsample_bylevel=1,\n",
       "              colsample_bynode=1, colsample_bytree=1, gamma=0, gpu_id=-1,\n",
       "              importance_type='gain', interaction_constraints=None,\n",
       "              learning_rate=0.300000012, max_delta_step=0, max_depth=6,\n",
       "              min_child_weight=1, missing=nan, monotone_constraints=None,\n",
       "              n_estimators=100, n_jobs=0, num_parallel_tree=1,\n",
       "              objective='binary:logistic', random_state=0, reg_alpha=0,\n",
       "              reg_lambda=1, scale_pos_weight=1, subsample=1, tree_method=None,\n",
       "              validate_parameters=False, verbosity=None)"
      ]
     },
     "execution_count": 40,
     "metadata": {},
     "output_type": "execute_result"
    }
   ],
   "source": [
    "model=XGBClassifier(objective='binary:logistic')\n",
    "model.fit(train_x,train_y)"
   ]
  },
  {
   "cell_type": "code",
   "execution_count": 41,
   "metadata": {},
   "outputs": [
    {
     "name": "stdout",
     "output_type": "stream",
     "text": [
      "0.8757868877629357\n",
      "0.8995700245700246\n",
      "0.8757868877629357\n"
     ]
    }
   ],
   "source": [
    "y_pred = model.predict(test_x)\n",
    "predictions = [round(value) for value in y_pred]\n",
    "accuracy = accuracy_score(test_y,predictions)\n",
    "print(accuracy)\n",
    "print(model.score(train_x,train_y))\n",
    "print(model.score(test_x,test_y))"
   ]
  },
  {
   "cell_type": "code",
   "execution_count": 47,
   "metadata": {},
   "outputs": [],
   "source": [
    "param_grid={\n",
    "    'max_depth': [3,5,10,20],\n",
    "    'n_estimators':[10,50,100,200],\n",
    "    'reg_lambda':[0.1,0.2,0.4,1,3,6]\n",
    "    'gamma':[0.01,000.1,0.1,0.2,2,3,10,20],\n",
    "    'learning_rate':[0.0001, 0.001, 0.01, 0.1, 0.2, 0.3],\n",
    "    }"
   ]
  },
  {
   "cell_type": "code",
   "execution_count": 48,
   "metadata": {},
   "outputs": [],
   "source": [
    "grid=GridSearchCV(model,param_grid=param_grid,n_jobs=-1,cv=5,verbose=3)"
   ]
  },
  {
   "cell_type": "code",
   "execution_count": 49,
   "metadata": {},
   "outputs": [
    {
     "name": "stdout",
     "output_type": "stream",
     "text": [
      "Fitting 5 folds for each of 96 candidates, totalling 480 fits\n"
     ]
    },
    {
     "name": "stderr",
     "output_type": "stream",
     "text": [
      "[Parallel(n_jobs=-1)]: Using backend LokyBackend with 4 concurrent workers.\n",
      "[Parallel(n_jobs=-1)]: Done  24 tasks      | elapsed:    7.0s\n",
      "[Parallel(n_jobs=-1)]: Done 120 tasks      | elapsed:  3.9min\n",
      "[Parallel(n_jobs=-1)]: Done 280 tasks      | elapsed: 11.1min\n",
      "[Parallel(n_jobs=-1)]: Done 480 out of 480 | elapsed: 41.0min finished\n"
     ]
    },
    {
     "data": {
      "text/plain": [
       "GridSearchCV(cv=5, error_score=nan,\n",
       "             estimator=XGBClassifier(base_score=0.5, booster=None,\n",
       "                                     colsample_bylevel=1, colsample_bynode=1,\n",
       "                                     colsample_bytree=1, gamma=0, gpu_id=-1,\n",
       "                                     importance_type='gain',\n",
       "                                     interaction_constraints=None,\n",
       "                                     learning_rate=0.300000012,\n",
       "                                     max_delta_step=0, max_depth=6,\n",
       "                                     min_child_weight=1, missing=nan,\n",
       "                                     monotone_constraints=None,\n",
       "                                     n_estimators=100, n_jobs=...\n",
       "                                     objective='binary:logistic',\n",
       "                                     random_state=0, reg_alpha=0, reg_lambda=1,\n",
       "                                     scale_pos_weight=1, subsample=1,\n",
       "                                     tree_method=None,\n",
       "                                     validate_parameters=False,\n",
       "                                     verbosity=None),\n",
       "             iid='deprecated', n_jobs=-1,\n",
       "             param_grid={'max_depth': [3, 5, 10, 20],\n",
       "                         'n_estimators': [10, 50, 100, 200],\n",
       "                         'reg_lambda': [0.1, 0.2, 0.4, 1, 3, 6]},\n",
       "             pre_dispatch='2*n_jobs', refit=True, return_train_score=False,\n",
       "             scoring=None, verbose=3)"
      ]
     },
     "execution_count": 49,
     "metadata": {},
     "output_type": "execute_result"
    }
   ],
   "source": [
    "grid.fit(train_x,train_y)"
   ]
  },
  {
   "cell_type": "code",
   "execution_count": 50,
   "metadata": {},
   "outputs": [
    {
     "data": {
      "text/plain": [
       "{'max_depth': 5, 'n_estimators': 100, 'reg_lambda': 6}"
      ]
     },
     "execution_count": 50,
     "metadata": {},
     "output_type": "execute_result"
    }
   ],
   "source": [
    "grid.best_params_"
   ]
  },
  {
   "cell_type": "code",
   "execution_count": 52,
   "metadata": {},
   "outputs": [
    {
     "ename": "SyntaxError",
     "evalue": "keyword can't be an expression (<ipython-input-52-3d001ebce1bd>, line 1)",
     "output_type": "error",
     "traceback": [
      "\u001b[0;36m  File \u001b[0;32m\"<ipython-input-52-3d001ebce1bd>\"\u001b[0;36m, line \u001b[0;32m1\u001b[0m\n\u001b[0;31m    model_grid=XGBClassifier('max_depth'=5, 'n_estimators'=100, 'reg_lambda'= 6)\u001b[0m\n\u001b[0m                            ^\u001b[0m\n\u001b[0;31mSyntaxError\u001b[0m\u001b[0;31m:\u001b[0m keyword can't be an expression\n"
     ]
    }
   ],
   "source": [
    "model_grid=XGBClassifier('max_depth'=5, 'n_estimators'=100, 'reg_lambda'= 6)"
   ]
  },
  {
   "cell_type": "code",
   "execution_count": null,
   "metadata": {},
   "outputs": [],
   "source": []
  }
 ],
 "metadata": {
  "kernelspec": {
   "display_name": "Python 3",
   "language": "python",
   "name": "python3"
  },
  "language_info": {
   "codemirror_mode": {
    "name": "ipython",
    "version": 3
   },
   "file_extension": ".py",
   "mimetype": "text/x-python",
   "name": "python",
   "nbconvert_exporter": "python",
   "pygments_lexer": "ipython3",
   "version": "3.6.8"
  }
 },
 "nbformat": 4,
 "nbformat_minor": 2
}
