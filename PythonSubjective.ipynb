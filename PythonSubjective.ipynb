{
 "cells": [
  {
   "cell_type": "raw",
   "metadata": {},
   "source": [
    "Q1. Write a Python program to get the string from the given string where all the occurrence of its first char has been changed to '$,' except first char itself?\n",
    "Sample String: 'prospect'\n",
    "Expected Result : 'pros$ect'"
   ]
  },
  {
   "cell_type": "code",
   "execution_count": 18,
   "metadata": {},
   "outputs": [
    {
     "name": "stdout",
     "output_type": "stream",
     "text": [
      "Enter string: prospect\n",
      "pros$ect\n"
     ]
    }
   ],
   "source": [
    "class occurrence:\n",
    "    def __init__(self,string):\n",
    "        self.string=string\n",
    "    def replace(self):\n",
    "        l=[]\n",
    "        [l.append('$') if s in l else l.append(s) for s in self.string]\n",
    "        return ''.join(l)\n",
    "string=input(\"Enter string: \")\n",
    "change=occurrence(string)\n",
    "print(change.replace())"
   ]
  },
  {
   "cell_type": "raw",
   "metadata": {},
   "source": [
    "Q2. Write a Python program to get the single string from the two given strings, and separated by the space and swap the first two characters of each string?\n",
    "Sample String : 'abc', 'xyz'.\n",
    "Expected Result: 'xyc abz'"
   ]
  },
  {
   "cell_type": "code",
   "execution_count": 38,
   "metadata": {},
   "outputs": [
    {
     "name": "stdout",
     "output_type": "stream",
     "text": [
      "Enter 2 strings: abc,xyz\n",
      "xyc abz\n"
     ]
    }
   ],
   "source": [
    "class strings:\n",
    "    def __init__(self,string1,string2):\n",
    "        self.string1=string1\n",
    "        self.string2=string2\n",
    "    def swap(self):\n",
    "        s1=self.string2[:2]+self.string1[2:]\n",
    "        s2=self.string1[:2]+self.string2[2:]\n",
    "        return s1+\" \"+s2\n",
    "    \n",
    "string1,string2=input(\"Enter 2 strings: \").split(\",\")\n",
    "string=strings(string1,string2)\n",
    "print(string.swap())"
   ]
  },
  {
   "cell_type": "raw",
   "metadata": {},
   "source": [
    "Q3. Write the Python program to add 'ing' at the end of the given string (length of the string should be at least 3). If given string already ends with 'ing,' then add 'ly' instead. If string length of the given string is less\n",
    "than 3, leave it unchanged?\n",
    "Sample string: ' abc '\n",
    "Expected result: ' abcing '\n",
    "Sample string: ' string '\n",
    "cExpected result: ' stringly '"
   ]
  },
  {
   "cell_type": "code",
   "execution_count": 1,
   "metadata": {},
   "outputs": [
    {
     "name": "stdout",
     "output_type": "stream",
     "text": [
      "Enter string: abc\n",
      "abcing\n"
     ]
    }
   ],
   "source": [
    "class strings:\n",
    "    def __init__(self,string):\n",
    "        self.string=string\n",
    "    \n",
    "    def add(self):\n",
    "        if len(self.string)<3:\n",
    "            return string\n",
    "        elif string[len(string)-3:]=='ing':\n",
    "            return string+'ly'\n",
    "        else:\n",
    "            return string+'ing'\n",
    "string=input(\"Enter string: \")\n",
    "s=strings(string)\n",
    "print(s.add())"
   ]
  },
  {
   "cell_type": "raw",
   "metadata": {},
   "source": [
    "Q4. Write the Python program to find the first appearance of the substring 'not' and 'poor' from the given string, if 'not' follows the 'poor',replace the whole 'not'...' poor' substring with 'good'.Return the resulting string.\n",
    "Sample string: 'The lyrics are not that poor!'\n",
    "'The lyrics are poor!'\n",
    "Expected Result: 'The lyrics are good!'\n",
    "'The lyrics are poor!'"
   ]
  },
  {
   "cell_type": "code",
   "execution_count": 8,
   "metadata": {},
   "outputs": [
    {
     "name": "stdout",
     "output_type": "stream",
     "text": [
      "Enter sentence: The lyrics are not that poor!\n",
      "The lyrics are good!\n"
     ]
    }
   ],
   "source": [
    "class strings:\n",
    "    def __init__(self,sentence):\n",
    "        self.sentence=sentence\n",
    "    \n",
    "    def replaceString(self):\n",
    "        snot=self.sentence.find('not')\n",
    "        spoor=self.sentence.find('poor')\n",
    "        if spoor>snot and spoor>0 and snot>0:\n",
    "            return self.sentence.replace(sentence[snot:spoor+len('poor')],'good')\n",
    "        else:\n",
    "            return self.sentence\n",
    "sentence=input(\"Enter sentence: \")\n",
    "s=strings(sentence)\n",
    "print(s.replaceString())"
   ]
  },
  {
   "cell_type": "raw",
   "metadata": {},
   "source": [
    "Q5. Write the Python program to remove the characters which have odd index values of a given string."
   ]
  },
  {
   "cell_type": "code",
   "execution_count": 12,
   "metadata": {},
   "outputs": [
    {
     "name": "stdout",
     "output_type": "stream",
     "text": [
      "Enter string: Python course\n",
      "Pto ore\n"
     ]
    }
   ],
   "source": [
    "string=input(\"Enter string: \")\n",
    "print(string[0::2])"
   ]
  },
  {
   "cell_type": "raw",
   "metadata": {},
   "source": [
    "Q6. Write the Python function to get a string made of 4 copies of the last two characters of the specified string (length must be at least 2).\n",
    "Sample function and result :\n",
    "insert-end ('Python') -> abababab\n",
    "insert-end('Exercises') -> jkjkjkjk"
   ]
  },
  {
   "cell_type": "code",
   "execution_count": 4,
   "metadata": {},
   "outputs": [
    {
     "name": "stdout",
     "output_type": "stream",
     "text": [
      "Enter string: Python\n",
      "onononon\n"
     ]
    }
   ],
   "source": [
    "class strings:\n",
    "    def __init__(self,string):\n",
    "        self.string=string\n",
    "    def insertEnd(self):\n",
    "        if len(self.string)>2:\n",
    "            return self.string[-2::]*4\n",
    "\n",
    "string=input('Enter string: ')\n",
    "s=strings(string)\n",
    "print(s.insertEnd())"
   ]
  },
  {
   "cell_type": "raw",
   "metadata": {},
   "source": [
    "Q7. Write the python function to get a string made of its first three characters of a specified string. If the length of the string is less than 3 then return the original string.\n",
    "Sample function and result :\n",
    "first-three('ipy') -> ipy\n",
    "first-three('python') -> pyt"
   ]
  },
  {
   "cell_type": "code",
   "execution_count": 9,
   "metadata": {},
   "outputs": [
    {
     "name": "stdout",
     "output_type": "stream",
     "text": [
      "Enter string: python\n",
      "pyt\n"
     ]
    }
   ],
   "source": [
    "class strings:\n",
    "    def __init__(self,string):\n",
    "        self.string=string\n",
    "    def firstThree(self):\n",
    "        if len(self.string)>2:\n",
    "            return self.string[:3:]\n",
    "        else: \n",
    "            return self.string\n",
    "\n",
    "string=input('Enter string: ')\n",
    "s=strings(string)\n",
    "print(s.firstThree())"
   ]
  },
  {
   "cell_type": "raw",
   "metadata": {},
   "source": [
    "Q8. Write the python program to print the following floating numbers up to 2 decimal places?"
   ]
  },
  {
   "cell_type": "code",
   "execution_count": 10,
   "metadata": {},
   "outputs": [
    {
     "name": "stdout",
     "output_type": "stream",
     "text": [
      "Enter float number: 2.3456\n",
      "2.35\n"
     ]
    }
   ],
   "source": [
    "num=float(input(\"Enter float number: \"))\n",
    "\n",
    "print('{:.2f}'.format(num))"
   ]
  },
  {
   "cell_type": "raw",
   "metadata": {},
   "source": [
    "Q9. Write the Python program to format a number with a percentage?"
   ]
  },
  {
   "cell_type": "code",
   "execution_count": 4,
   "metadata": {},
   "outputs": [
    {
     "name": "stdout",
     "output_type": "stream",
     "text": [
      "Enter number: 2\n",
      "The number is 2\n"
     ]
    }
   ],
   "source": [
    "num=int(input(\"Enter number: \"))\n",
    "print('The number is %d'%num)"
   ]
  },
  {
   "cell_type": "raw",
   "metadata": {},
   "source": [
    "Q10. Write the Python program to count occurrences of a substring in a String?"
   ]
  },
  {
   "cell_type": "code",
   "execution_count": 8,
   "metadata": {},
   "outputs": [
    {
     "name": "stdout",
     "output_type": "stream",
     "text": [
      "Enter string and substring: welcome to the website,we\n",
      "2\n"
     ]
    }
   ],
   "source": [
    "string,substring=input(\"Enter string and substring: \").split(\",\")\n",
    "print(string.count(substring))"
   ]
  },
  {
   "cell_type": "raw",
   "metadata": {},
   "source": [
    "Q11. Write the Python program to count repeated characters in a string.\n",
    "Sample string: ' thequickbrownjumpsoverthelazydog '\n",
    "Expected output:\n",
    "o 3\n",
    "e 3\n",
    "u 2\n",
    "h 2\n",
    "r 2\n",
    "t 2"
   ]
  },
  {
   "cell_type": "code",
   "execution_count": 96,
   "metadata": {},
   "outputs": [
    {
     "name": "stdout",
     "output_type": "stream",
     "text": [
      "Enter the string:thequickbrownjumpsoverthelazydog\n",
      "e 3\n",
      "o 3\n",
      "t 2\n",
      "h 2\n",
      "u 2\n",
      "r 2\n"
     ]
    }
   ],
   "source": [
    "import collections\n",
    "class strings:\n",
    "    def __init__(self,string):\n",
    "        self.string=string\n",
    "    def countCharacters(self):\n",
    "        Characters=collections.defaultdict(int)\n",
    "        for char in self.string:\n",
    "            Characters[char]+=1\n",
    "        for k in sorted(Characters, key=Characters.get, reverse=True):\n",
    "            if Characters[k]>1:\n",
    "                print(k,Characters[k])\n",
    "string=input(\"Enter the string:\")\n",
    "s=strings(string)\n",
    "s.countCharacters()"
   ]
  },
  {
   "cell_type": "raw",
   "metadata": {},
   "source": [
    "Q12. Write the Python program to print the square and cube symbol in the area of a rectangle and volume of a cylinder?\n",
    "Sample output-\n",
    "The area of the rectangle is 1256.66cm 2\n",
    "The volume of the cylinder is 1254.725cm 3"
   ]
  },
  {
   "cell_type": "code",
   "execution_count": 64,
   "metadata": {},
   "outputs": [
    {
     "name": "stdout",
     "output_type": "stream",
     "text": [
      "The area of the rectangle is 1256.66cm²\n",
      "The volume of the cylinder is 1254.725cm³\n"
     ]
    }
   ],
   "source": [
    "area,volume=1256.66,1254.725\n",
    "print(\"The area of the rectangle is {}cm\\u00b2\".format(area))\n",
    "print(\"The volume of the cylinder is {}cm\\u00b3\".format(volume))"
   ]
  },
  {
   "cell_type": "raw",
   "metadata": {},
   "source": [
    "Q13. Write the Python program to check if a string contains all letters of the alphabet?"
   ]
  },
  {
   "cell_type": "code",
   "execution_count": 72,
   "metadata": {},
   "outputs": [
    {
     "name": "stdout",
     "output_type": "stream",
     "text": [
      "Enter the string:this is going to be amazing given the fact the students are enjoying it\n",
      "False\n"
     ]
    }
   ],
   "source": [
    "import string\n",
    "\n",
    "def allAlphabets(sentence,alphabet):\n",
    "    return set(sentence.lower())>=alphabet\n",
    "            \n",
    "alphabet=set(string.ascii_lowercase)\n",
    "sentence=input(\"Enter the string:\")\n",
    "print(allAlphabets(sentence,alphabet))"
   ]
  },
  {
   "cell_type": "raw",
   "metadata": {},
   "source": [
    "Q14. Write the Python program to find the second most repeated wtord in a given string?"
   ]
  },
  {
   "cell_type": "code",
   "execution_count": 106,
   "metadata": {},
   "outputs": [
    {
     "name": "stdout",
     "output_type": "stream",
     "text": [
      "Enter the sentence:Take me down to the river bend Take me down to the fighting end Wash the poison from off my skin Show me how to be whole again  Fly me up on a silver wing Past the black where the sirens sing Warm me up in a nova's glow And drop me down to the dream below\n",
      "('me', 6)\n"
     ]
    }
   ],
   "source": [
    "class strings:\n",
    "    def __init__(self,sentence):\n",
    "        self.sentence=sentence\n",
    "        \n",
    "    def repeationCount(self):\n",
    "        counts=dict()\n",
    "        for word in sentence:\n",
    "            if word in counts:\n",
    "                counts[word]+=1\n",
    "            else:\n",
    "                counts[word]=1\n",
    "        secondHighest= sorted(counts.items(),key=lambda kv:kv[1])\n",
    "        #print(secondHighest)\n",
    "        return secondHighest[-2]\n",
    "sentence=input(\"Enter the sentence:\").split()\n",
    "words=strings(sentence)\n",
    "print(words.repeationCount())\n"
   ]
  },
  {
   "cell_type": "raw",
   "metadata": {},
   "source": [
    "Q15. Write the Python program to find the minimum window in the given string, which will contains all the characters of another given strings?\n",
    "Example 1\n",
    "Input : string1 = \" PRWSOERIUSFK \"\n",
    "string2 = \" OSU \"\n",
    "Output: Minimum window is \"OERIUS\""
   ]
  },
  {
   "cell_type": "code",
   "execution_count": 203,
   "metadata": {
    "scrolled": true
   },
   "outputs": [
    {
     "name": "stdout",
     "output_type": "stream",
     "text": [
      "Minimum window is \"OERIUS\"\n"
     ]
    }
   ],
   "source": [
    "import collections\n",
    "\n",
    "class window:\n",
    "    def __init__(self,str1,str2):\n",
    "        self.str1=str1\n",
    "        self.str2=str2\n",
    "        \n",
    "    def minWindow(self):\n",
    "    \n",
    "    ##calculating the occurence of the characters in 2nd String\n",
    "        characterCount,totalCharacterLength=collections.Counter(self.str2),len(self.str2)\n",
    "    ##Initializing the starting point of the window\n",
    "        leftInitialValue=leftValue=rightValue=0\n",
    "    \n",
    "    ##Traversing window until all the character in the 2nd string are found in 1st string\n",
    "        for rightInitialValue,character in enumerate(self.str1,1):\n",
    "            if characterCount[character]>0:\n",
    "                totalCharacterLength-=characterCount[character]\n",
    "            characterCount[character]-=1\n",
    "    \n",
    "    ##After window is found moving the left of the window towards right side until next window is found\n",
    "            if not totalCharacterLength:\n",
    "                while leftInitialValue<rightValue and characterCount[self.str1[leftInitialValue]]<0:\n",
    "                        characterCount[self.str1[leftInitialValue]]+=1\n",
    "                        leftInitialValue +=1\n",
    "    ##swaping values after lesser window size is found\n",
    "                if not rightValue or rightInitialValue-leftInitialValue <= rightValue - leftValue:\n",
    "                    leftValue,rightValue=leftInitialValue,rightInitialValue\n",
    "        return self.str1[leftValue:rightValue]\n",
    "            \n",
    "str1='PRWSOERIUSFK'\n",
    "str2='OSU'\n",
    "w=window(str1,str2)\n",
    "print('Minimum window is \"{}\"'.format(w.minWindow()))"
   ]
  },
  {
   "cell_type": "raw",
   "metadata": {},
   "source": [
    "Q16. Write the Python program to find smallest window that contains all characters of the given string?\n",
    "Original Strings:\n",
    "asdaewsqgtwwsa\n",
    "Smallest window that contains all characters of the said string:\n",
    "Daewsqgt"
   ]
  },
  {
   "cell_type": "code",
   "execution_count": 1,
   "metadata": {},
   "outputs": [
    {
     "name": "stdout",
     "output_type": "stream",
     "text": [
      "Smallest window that contains all characters of the said string: \"daewsqgt\"\n"
     ]
    }
   ],
   "source": [
    "import collections\n",
    "\n",
    "class window:\n",
    "    def __init__(self,str1):\n",
    "        self.str1=str1\n",
    "        \n",
    "    def minWindow(self):\n",
    "    ##creating 2nd string which comprises of unique characters   \n",
    "        stringList=[]\n",
    "        [stringList.append(i) for i in self.str1 if i not in stringList]\n",
    "        str2=\"\".join(stringList)\n",
    "        \n",
    "    ##calculating the occurence of the characters in 2nd String\n",
    "        characterCount,totalCharacterLength=collections.Counter(str2),len(str2)\n",
    "    ##Initializing the starting point of the window\n",
    "        leftInitialValue=leftValue=rightValue=0\n",
    "    \n",
    "    ##Traversing window until all the character in the 2nd string are found in 1st string\n",
    "        for rightInitialValue,character in enumerate(self.str1):\n",
    "            if characterCount[character]>0:\n",
    "                totalCharacterLength-=characterCount[character]\n",
    "            characterCount[character]-=1\n",
    "    \n",
    "    ##After window is found moving the left of the window towards right side until next window is found\n",
    "            if not totalCharacterLength:\n",
    "                while leftInitialValue<rightValue and characterCount[self.str1[leftInitialValue]]<0:\n",
    "                        characterCount[self.str1[leftInitialValue]]+=1\n",
    "                        leftInitialValue +=1\n",
    "    ##swaping values after lesser window size is found\n",
    "                if not rightValue or rightInitialValue-leftInitialValue <= rightValue - leftValue:\n",
    "                    leftValue,rightValue=leftInitialValue,rightInitialValue\n",
    "        return self.str1[leftValue:rightValue]\n",
    "            \n",
    "str1='asdaewsqgtwwsa'\n",
    "w=window(str1)\n",
    "print('Smallest window that contains all characters of the said string: \"{}\"'.format(w.minWindow()))"
   ]
  },
  {
   "cell_type": "raw",
   "metadata": {},
   "source": [
    "Q17. Write the Python program to count number of substrings from a given string of lowercase alphabets with exactly k distinct (given) characters?\n",
    "Input a string (lowercase alphabets): wolf\n",
    "Input k: 4\n",
    "Number of substrings with exactly 4 distinct characters: 1"
   ]
  },
  {
   "cell_type": "code",
   "execution_count": 42,
   "metadata": {},
   "outputs": [
    {
     "name": "stdout",
     "output_type": "stream",
     "text": [
      "Number of substrings with exactly 1 distinct characters:4\n"
     ]
    }
   ],
   "source": [
    "class distinctCharacters:\n",
    "    def __init__(self,str1,k):\n",
    "        self.str1=str1\n",
    "        self.k=k\n",
    "    def countCharacters(self):\n",
    "        stringCount=0\n",
    "        for i in range(len(str1)):\n",
    "            distCount=0\n",
    "            alphabetCount=[0]*27\n",
    "            for j in range(i,len(str1)):\n",
    "                if alphabetCount[ord(str1[j])-97]==0:\n",
    "                    distCount+=1\n",
    "                alphabetCount[ord(str1[j])-97]+=1\n",
    "                if distCount==k:\n",
    "                    stringCount+=1\n",
    "                if distCount>k:\n",
    "                    break\n",
    "        return stringCount\n",
    "str1 = \"wolf\"\n",
    "k = 1\n",
    "c=distinctCharacters(str1,k)\n",
    "print(\"Number of substrings with exactly {} distinct characters:{}\".format(k,c.countCharacters()))\n"
   ]
  },
  {
   "cell_type": "raw",
   "metadata": {},
   "source": [
    "Q18. Write the Python program to count number of non-empty substrings of the given string?\n",
    "Input a string: w3resource\n",
    "Number of substrings:\n",
    "55"
   ]
  },
  {
   "cell_type": "code",
   "execution_count": 45,
   "metadata": {},
   "outputs": [
    {
     "name": "stdout",
     "output_type": "stream",
     "text": [
      "Number of substrings: 55\n"
     ]
    }
   ],
   "source": [
    "def countSubStrings(str1):\n",
    "    n =len(str1)\n",
    "    return (n*(n+1)/2)\n",
    "    print(l)\n",
    "str1=\"w3resource\"\n",
    "print(\"Number of substrings:\",int(countSubStrings(str1)))"
   ]
  },
  {
   "cell_type": "raw",
   "metadata": {},
   "source": [
    "Q19. Write the Python program to count number of substrings with same first and last characters of the given string?\n",
    "Input a string: abcd\n",
    "4"
   ]
  },
  {
   "cell_type": "code",
   "execution_count": 46,
   "metadata": {},
   "outputs": [
    {
     "name": "stdout",
     "output_type": "stream",
     "text": [
      "Input a string: abcd\n",
      "4\n"
     ]
    }
   ],
   "source": [
    "def countSubStrings(str1):\n",
    "    n=len(str1)\n",
    "    c=0\n",
    "    for i in range(n):\n",
    "        for j in range(i,n):\n",
    "            if (str1[i]==str1[j]):\n",
    "                c+=1\n",
    "    print(c)\n",
    "str1=input(\"Input a string: \")\n",
    "countSubStrings(str1)"
   ]
  },
  {
   "cell_type": "raw",
   "metadata": {},
   "source": [
    "Q20. Write the Python program to count the number of strings where the string length is 2 or more, and first and last character are same\n",
    "from a given list of strings.\n",
    "Sample List : ['abc', 'xyz', 'wxw', '1331']\n",
    "Expected Result: 2"
   ]
  },
  {
   "cell_type": "code",
   "execution_count": 51,
   "metadata": {},
   "outputs": [
    {
     "data": {
      "text/plain": [
       "2"
      ]
     },
     "execution_count": 51,
     "metadata": {},
     "output_type": "execute_result"
    }
   ],
   "source": [
    "def listPalindrome(l):\n",
    "    lst1=[]\n",
    "    for i in l:\n",
    "        if len(i)>2:\n",
    "            for j in range(len(i)):\n",
    "                if i[0]==i[-1]:\n",
    "                    lst1.append(i)\n",
    "                    break\n",
    "    return len(lst1)\n",
    "        \n",
    "l=['abc', 'xyz', 'wxw', '1331']\n",
    "listPalindrome(l)"
   ]
  },
  {
   "cell_type": "raw",
   "metadata": {},
   "source": [
    "Q21. Write the Python program to get a list, sorted in increasing order by the last element in each tuple from the given list of non-empty\n",
    "tuples?\n",
    "Sample List - [ (2, 5), (1, 2), (4, 4), (2, 3), (2, 1) ]\n",
    "Expected Result - [ (2, 1), (1, 2), (2, 3), (4, 4), (2, 5) ]"
   ]
  },
  {
   "cell_type": "code",
   "execution_count": 63,
   "metadata": {},
   "outputs": [
    {
     "name": "stdout",
     "output_type": "stream",
     "text": [
      "[(2, 1), (1, 2), (2, 3), (4, 4), (2, 5)]\n"
     ]
    }
   ],
   "source": [
    "l=[ (2, 5), (1, 2), (4, 4), (2, 3), (2, 1) ]\n",
    "print(sorted(l,key=lambda l:l[1])) "
   ]
  },
  {
   "cell_type": "raw",
   "metadata": {},
   "source": [
    "Q22. Write the Python program to remove duplicates from a list?"
   ]
  },
  {
   "cell_type": "code",
   "execution_count": 72,
   "metadata": {},
   "outputs": [
    {
     "name": "stdout",
     "output_type": "stream",
     "text": [
      "Enter values1 2 3 4 5 1 2 3 4\n",
      "['1', '2', '3', '4', '5']\n"
     ]
    }
   ],
   "source": [
    "l=list(input(\"Enter values\").split())\n",
    "l1=[]\n",
    "[l1.append(i) for i in l if i not in l1]\n",
    "print(l1)"
   ]
  },
  {
   "cell_type": "raw",
   "metadata": {},
   "source": [
    "Q23. Write the Python program to find the list of words that are longer than n from a given list of words?"
   ]
  },
  {
   "cell_type": "code",
   "execution_count": 76,
   "metadata": {},
   "outputs": [
    {
     "name": "stdout",
     "output_type": "stream",
     "text": [
      "Enter words: check for the words which are greater than the number\n",
      "Enter the length: 4\n",
      "['check', 'words', 'which', 'greater', 'number']\n"
     ]
    }
   ],
   "source": [
    "l=list(input(\"Enter words: \").split())\n",
    "n=int(input(\"Enter the length: \"))\n",
    "\n",
    "print([i for i in l if len(i)>n])"
   ]
  },
  {
   "cell_type": "raw",
   "metadata": {},
   "source": [
    "Q24. Write the Python program to print a specified list after removing the 0th, 4th, and 5th elements?\n",
    "Sample List - ['Red', 'Green', 'White', 'Black', 'Pink', 'Yellow']\n",
    "Expected Output - ['Green', 'White', 'Black']"
   ]
  },
  {
   "cell_type": "code",
   "execution_count": 106,
   "metadata": {},
   "outputs": [
    {
     "name": "stdout",
     "output_type": "stream",
     "text": [
      "['Green', 'White', 'Black']\n"
     ]
    }
   ],
   "source": [
    "l=['Red', 'Green', 'White', 'Black', 'Pink', 'Yellow']\n",
    "l1=[]\n",
    "[l1.append(l[i]) for i in range(len(l)) if i not in (0,4,5)]\n",
    "print(l1)"
   ]
  },
  {
   "cell_type": "raw",
   "metadata": {},
   "source": [
    "Q25. Write the Python program to generate all permutations of a list in Python?"
   ]
  },
  {
   "cell_type": "code",
   "execution_count": 108,
   "metadata": {},
   "outputs": [
    {
     "name": "stdout",
     "output_type": "stream",
     "text": [
      "[(1, 2, 3), (1, 3, 2), (2, 1, 3), (2, 3, 1), (3, 1, 2), (3, 2, 1)]\n"
     ]
    }
   ],
   "source": [
    "import itertools\n",
    "l=[1,2,3]\n",
    "print(list(itertools.permutations(l)))"
   ]
  },
  {
   "cell_type": "raw",
   "metadata": {},
   "source": [
    "Q26. Write the Python program to convert a pair of values into a sorted unique array?\n",
    "Original List- [ (1, 2), (3, 4), (1, 2), (5, 6), (7, 8), (1, 2), (3, 4), (3, 4), (7, 8), (9, 10) ]\n",
    "Sorted Unique Data- [ 1, 2, 3, 4, 5, 6, 7, 8, 9, 10 ]"
   ]
  },
  {
   "cell_type": "code",
   "execution_count": 109,
   "metadata": {},
   "outputs": [
    {
     "data": {
      "text/plain": [
       "[1, 2, 3, 4, 5, 6, 7, 8, 9, 10]"
      ]
     },
     "execution_count": 109,
     "metadata": {},
     "output_type": "execute_result"
    }
   ],
   "source": [
    "l=[ (1, 2), (3, 4), (1, 2), (5, 6), (7, 8), (1, 2), (3, 4), (3, 4), (7, 8), (9, 10) ]\n",
    "list(set().union(*l))"
   ]
  },
  {
   "cell_type": "raw",
   "metadata": {},
   "source": [
    "Q27. Write the Python class to convert an integer to a roman numeral?"
   ]
  },
  {
   "cell_type": "code",
   "execution_count": 111,
   "metadata": {},
   "outputs": [
    {
     "name": "stdout",
     "output_type": "stream",
     "text": [
      "Enter num: 456\n",
      "CDLVI"
     ]
    }
   ],
   "source": [
    "def numericalConversion(num):\n",
    "    n = [1, 4, 5, 9, 10, 40, 50, 90,100, 400, 500, 900, 1000] \n",
    "    s = [\"I\", \"IV\", \"V\", \"IX\", \"X\", \"XL\",\"L\", \"XC\", \"C\", \"CD\", \"D\", \"CM\", \"M\"]\n",
    "    i=12\n",
    "    while num:\n",
    "        div=num//n[i]\n",
    "        num%=n[i]\n",
    "        while div:\n",
    "            print(s[i],end=\"\")\n",
    "            div-=1\n",
    "        i-=1\n",
    "num=int(input(\"Enter num: \"))\n",
    "numericalConversion(num)"
   ]
  },
  {
   "cell_type": "raw",
   "metadata": {},
   "source": [
    "Q29. Write the Python class to find the validity of the string of the parentheses, '(', ')', '{', '}', '[' and '] and the brackets must be closed in the correct order, example - \"()\" and \"()[]{}\" are valid but \"[)\",\"({[)]\" and \"{{{\" are invalid."
   ]
  },
  {
   "cell_type": "code",
   "execution_count": 152,
   "metadata": {},
   "outputs": [
    {
     "name": "stdout",
     "output_type": "stream",
     "text": [
      "Enter the brackets: {[()]}\n",
      "Enter the brackets: ({[)]\n",
      "True\n",
      "False\n"
     ]
    }
   ],
   "source": [
    "class checkValidity:\n",
    "    def __init__(self,brackets):\n",
    "        self.brackets=brackets\n",
    "    def Validity(self):\n",
    "        d={'{':'}','(':')','[':']'}\n",
    "        lst=[]\n",
    "        for parentheses in self.brackets:\n",
    "            if parentheses in d.keys():\n",
    "                lst.append(parentheses)\n",
    "            elif len(lst)==0 or d[lst.pop()] != parentheses:\n",
    "                return False\n",
    "        return len(lst)==0\n",
    "brackets1=input(\"Enter the brackets: \")\n",
    "brackets2=input(\"Enter the brackets: \")\n",
    "valid1=checkValidity(brackets1)\n",
    "valid2=checkValidity(brackets2)\n",
    "print(valid1.Validity())\n",
    "print(valid2.Validity())"
   ]
  },
  {
   "cell_type": "raw",
   "metadata": {},
   "source": [
    "Q30. Write the Python class to get all possible unique subsets from a set of distinct integers?\n",
    "Input - [4, 5, 6]\n",
    "Output - [[], [6], [5], [5, 6], [4], [4, 6], [4, 5], [4, 5, 6]]"
   ]
  },
  {
   "cell_type": "code",
   "execution_count": 48,
   "metadata": {},
   "outputs": [
    {
     "name": "stdout",
     "output_type": "stream",
     "text": [
      "[[]],[[4]],[[4, 5]],[[4, 5, 6]],[[4, 6]],[[5]],[[5, 6]],[[6]],"
     ]
    }
   ],
   "source": [
    "class uniqueSubsets:\n",
    "    def subsets(self,l,index,lst1):\n",
    "        print(lst1,end=',')\n",
    "        for i in range(index,len(l)):\n",
    "            lst1.append(l[i])\n",
    "            self.subsets(l,i+1,lst1)\n",
    "            lst1.pop(-1)\n",
    "l=[4,5,6]\n",
    "index,lst1=0,[]\n",
    "subset=uniqueSubsets()\n",
    "subset.subsets(sorted(l),index,lst1)"
   ]
  },
  {
   "cell_type": "code",
   "execution_count": 49,
   "metadata": {},
   "outputs": [
    {
     "name": "stdout",
     "output_type": "stream",
     "text": [
      "[[], [6], [5], [5, 6], [4], [4, 6], [4, 5], [4, 5, 6]]\n"
     ]
    }
   ],
   "source": [
    "class py_solution:\n",
    "    def sub_sets(self, sset):\n",
    "        return self.subsetsRecur([], sorted(sset))\n",
    "    \n",
    "    def subsetsRecur(self, current, sset):\n",
    "        if sset:\n",
    "            return self.subsetsRecur(current, sset[1:]) + self.subsetsRecur(current + [sset[0]], sset[1:])\n",
    "        return [current]\n",
    "\n",
    "print(py_solution().sub_sets([4,5,6]))"
   ]
  },
  {
   "cell_type": "raw",
   "metadata": {},
   "source": [
    "Q31. Write the Python class to find a pair of elements (indices of the two numbers) from a given array whose sum equals the specific target number?\n",
    "Input: numbers- [10,20,10,40,50,60,70], target=50\n",
    "Output- 3, 4"
   ]
  },
  {
   "cell_type": "code",
   "execution_count": 53,
   "metadata": {},
   "outputs": [
    {
     "name": "stdout",
     "output_type": "stream",
     "text": [
      "0 3\n",
      "2 3\n"
     ]
    }
   ],
   "source": [
    "class arraySum:\n",
    "    def __init__(self,lst,num):\n",
    "        self.lst=lst\n",
    "        self.num=num\n",
    "    def elements(self):\n",
    "        for i in range(len(self.lst)):\n",
    "            for j in range(i+1,len(self.lst)):\n",
    "                if self.lst[i]+self.lst[j]==self.num:\n",
    "                    print(i,j)\n",
    "lst=[10,20,10,40,50,60,70]\n",
    "num=50\n",
    "indices=arraySum(lst,num)\n",
    "indices.elements()"
   ]
  },
  {
   "cell_type": "raw",
   "metadata": {},
   "source": [
    "Q32. Write the Python class to find the three elements that sum to zero from the set of n real numbers?\n",
    "Input array- [-25, -10, -7, -3, 2, 4, 8, 10]\n",
    "Output - [[-10, 2, 8], [-7, -3, 10]]"
   ]
  },
  {
   "cell_type": "code",
   "execution_count": 59,
   "metadata": {},
   "outputs": [
    {
     "name": "stdout",
     "output_type": "stream",
     "text": [
      "[[-10, 2, 8], [-7, -3, 10]]\n"
     ]
    }
   ],
   "source": [
    "class arraySum:\n",
    "    def __init__(self,lst,num):\n",
    "        self.lst=lst\n",
    "        self.num=num\n",
    "    def elements(self):\n",
    "        l=[]\n",
    "        for i in range(len(self.lst)):\n",
    "            for j in range(i+1,len(self.lst)):\n",
    "                for k in range(j+1,len(self.lst)):\n",
    "                    if self.lst[i]+self.lst[j]+self.lst[k]==self.num:\n",
    "                        l.append([self.lst[i],self.lst[j],self.lst[k]])\n",
    "        return l\n",
    "lst=[-25, -10, -7, -3, 2, 4, 8, 10]\n",
    "num=0\n",
    "indices=arraySum(lst,num)\n",
    "print(indices.elements())"
   ]
  },
  {
   "cell_type": "raw",
   "metadata": {},
   "source": [
    "Q33. Write the Python class to implement pow(x, n)?"
   ]
  },
  {
   "cell_type": "code",
   "execution_count": 60,
   "metadata": {},
   "outputs": [
    {
     "name": "stdout",
     "output_type": "stream",
     "text": [
      "81\n"
     ]
    }
   ],
   "source": [
    "class power:\n",
    "    def __init__(self,x,n):\n",
    "        self.x=x\n",
    "        self.n=n\n",
    "    def powerCalculation(self):\n",
    "        return self.x**self.n\n",
    "x,n=3,4\n",
    "p=power(x,n)\n",
    "print(p.powerCalculation())"
   ]
  },
  {
   "cell_type": "raw",
   "metadata": {},
   "source": [
    "Q34. Write the Python class which has two methods get_String and print_String. get_String accept the string from the user and print_String print the string in upper case."
   ]
  },
  {
   "cell_type": "code",
   "execution_count": 61,
   "metadata": {},
   "outputs": [
    {
     "name": "stdout",
     "output_type": "stream",
     "text": [
      "Please enter stringmanish\n",
      "MANISH\n"
     ]
    }
   ],
   "source": [
    "class strings:\n",
    "    def get_String(self):\n",
    "        string=input(\"Please enter string\")\n",
    "        self.print_String(string)\n",
    "    def print_String(self,string):\n",
    "        print(string.upper())\n",
    "\n",
    "s=strings()\n",
    "s.get_String()"
   ]
  },
  {
   "cell_type": "raw",
   "metadata": {},
   "source": [
    "Q35. Write the Python class named Rectangle constructed by a length and width and the method which will compute the area of the rectangle?"
   ]
  },
  {
   "cell_type": "code",
   "execution_count": 65,
   "metadata": {},
   "outputs": [
    {
     "name": "stdout",
     "output_type": "stream",
     "text": [
      "Enter length and breadth: 12 14\n",
      "168\n"
     ]
    }
   ],
   "source": [
    "class rectangle:\n",
    "    def __init__(self,length,breadth):\n",
    "        self.length=length\n",
    "        self.breadth=breadth\n",
    "    def area(self):\n",
    "        print(self.length*self.breadth)\n",
    "\n",
    "length,breadth=map(int,input(\"Enter length and breadth: \").split())\n",
    "a=rectangle(length,breadth)\n",
    "a.area()"
   ]
  },
  {
   "cell_type": "raw",
   "metadata": {},
   "source": [
    "Q36. Write the Python class named Circle constructed by the radius and two methods which will compute the area and perimeter of the circle?"
   ]
  },
  {
   "cell_type": "code",
   "execution_count": 4,
   "metadata": {},
   "outputs": [
    {
     "name": "stdout",
     "output_type": "stream",
     "text": [
      "Enter radius of circle: 4\n",
      "The area of circle is 50.29 and perimeter is 25.14\n"
     ]
    }
   ],
   "source": [
    "class circle:\n",
    "    def __init__(self,radius):\n",
    "        self.radius=radius\n",
    "    def area(self):\n",
    "        return round(22/7*(self.radius**2),2)\n",
    "    def perimeter(self):\n",
    "        return round(2 * 22/7 * self.radius,2)\n",
    "radius=int(input(\"Enter radius of circle: \"))\n",
    "c=circle(radius)\n",
    "print(\"The area of circle is {} and perimeter is {}\".format(c.area(),c.perimeter()))"
   ]
  },
  {
   "cell_type": "raw",
   "metadata": {},
   "source": [
    "Q37. Write the Python program to get the class name of an instance in Python?"
   ]
  },
  {
   "cell_type": "code",
   "execution_count": 13,
   "metadata": {},
   "outputs": [
    {
     "name": "stdout",
     "output_type": "stream",
     "text": [
      "Enter radius of circle: 4\n",
      "circle\n"
     ]
    }
   ],
   "source": [
    "class circle:\n",
    "    def __init__(self,radius):\n",
    "        self.radius=radius\n",
    "    def area(self):\n",
    "        print(type(self).__name__)\n",
    "        #return round(22/7*(self.radius**2),2)\n",
    "    def perimeter(self):\n",
    "        return round(2 * 22/7 * self.radius,2)\n",
    "radius=int(input(\"Enter radius of circle: \"))\n",
    "c=circle(radius)\n",
    "c.area()"
   ]
  },
  {
   "cell_type": "raw",
   "metadata": {},
   "source": [
    "Q38. Write the Python program to count the number of students of individual class?\n",
    "Sample data-\n",
    "classes = (('V', 1),('VI', 1),('V', 2),('VI', 2),('VI', 3),('VII', 1),)\n",
    "Expected Output-\n",
    "Counter({'VI': 3, 'V': 2, 'VII': 1})"
   ]
  },
  {
   "cell_type": "code",
   "execution_count": 22,
   "metadata": {},
   "outputs": [
    {
     "name": "stdout",
     "output_type": "stream",
     "text": [
      "{'V': 3, 'VI': 6, 'VII': 1}\n"
     ]
    }
   ],
   "source": [
    "def countStudents(classes):\n",
    "    l,lst=[],[]\n",
    "    for i in classes:\n",
    "        count=0\n",
    "        for j in classes:\n",
    "            if i[0]==j[0]:\n",
    "                count+=j[1]\n",
    "        l.append((i[0],count))\n",
    "    [lst.append(i) for i in l if i not in lst]\n",
    "    return {i[0]:i[1] for i in lst}\n",
    "classes = (('V', 1),('VI', 1),('V', 2),('VI', 2),('VI', 3),('VII', 1),)\n",
    "print(countStudents(classes))"
   ]
  },
  {
   "cell_type": "code",
   "execution_count": 23,
   "metadata": {},
   "outputs": [
    {
     "name": "stdout",
     "output_type": "stream",
     "text": [
      "Counter({'VI': 3, 'V': 2, 'VII': 1})\n"
     ]
    }
   ],
   "source": [
    "from collections import Counter\n",
    "students = Counter(class_name for class_name, no_students in classes)\n",
    "print(students)"
   ]
  },
  {
   "cell_type": "raw",
   "metadata": {},
   "source": [
    "Q39. Write the Python program to create an instance of an OrderedDict using the given dictionary and sort dictionary during the creation and print members of the dictionary in reverse order?\n",
    "Expected Output-\n",
    "Angola 244.\n",
    "Andorra 376.\n",
    "Algeria 213.\n",
    "Afghanistan 93.\n",
    "Albania 355.\n",
    "\n",
    "In reverse order-\n",
    "Albania 355.\n",
    "Afghanistan 93.\n",
    "Algeria 213.\n",
    "Andorra 376.\n",
    "Angola 244."
   ]
  },
  {
   "cell_type": "code",
   "execution_count": 8,
   "metadata": {},
   "outputs": [
    {
     "name": "stdout",
     "output_type": "stream",
     "text": [
      "Afghanistan 93\n",
      "Albania 355\n",
      "Algeria 213\n",
      "Andorra 376\n",
      "Angola 244\n",
      "In reverse order\n",
      "Angola 244\n",
      "Andorra 376\n",
      "Algeria 213\n",
      "Albania 355\n",
      "Afghanistan 93\n"
     ]
    }
   ],
   "source": [
    "from collections import OrderedDict\n",
    "givenDict = {'Afghanistan': 93, 'Albania': 355, 'Algeria': 213, 'Andorra': 376, 'Angola': 244}\n",
    "\n",
    "d=OrderedDict(givenDict)\n",
    "\n",
    "for key,value in d.items():\n",
    "    print(key,value)\n",
    "print(\"In reverse order\")\n",
    "for key,value in sorted(d.items(),reverse=True):\n",
    "    print(key,value)"
   ]
  },
  {
   "cell_type": "raw",
   "metadata": {},
   "source": [
    "Q40. Write the Python program to compare two unordered lists (not sets)?\n",
    "Expected Output: False"
   ]
  },
  {
   "cell_type": "code",
   "execution_count": 10,
   "metadata": {},
   "outputs": [
    {
     "name": "stdout",
     "output_type": "stream",
     "text": [
      "False\n"
     ]
    }
   ],
   "source": [
    "from collections import Counter\n",
    "\n",
    "lst1=[20,10,40,25,50]\n",
    "lst2=['ram','shyam','manish','ashish','ramesh']\n",
    "\n",
    "if Counter(lst1)==Counter(lst2):\n",
    "    print(\"True\")\n",
    "else:\n",
    "    print(\"False\")"
   ]
  },
  {
   "cell_type": "raw",
   "metadata": {},
   "source": [
    "Q41. Write the Python program to get an array buffer information?\n",
    "Expected Output-\n",
    "Array buffer start address in memory and number of elements.\n",
    "(25855056, 2)"
   ]
  },
  {
   "cell_type": "code",
   "execution_count": 14,
   "metadata": {},
   "outputs": [
    {
     "name": "stdout",
     "output_type": "stream",
     "text": [
      "Array buffer start address in memory and number of elements.\n",
      " (139731461496912, 4)\n"
     ]
    }
   ],
   "source": [
    "import array\n",
    "\n",
    "a=array.array('i',[1,2,3,4])\n",
    "print(\"Array buffer start address in memory and number of elements.\\n\",a.buffer_info())"
   ]
  },
  {
   "cell_type": "raw",
   "metadata": {},
   "source": [
    "Q42. Write the Python program to convert an array to an array of machine values and return the bytes representation?\n",
    "Expected Output-\n",
    "Original array-\n",
    "A1: array('i', [1, 2, 3, 4, 5, 6])\n",
    "Array of bytes:\n",
    "b'010000000200000003000000040000000500000006000000'"
   ]
  },
  {
   "cell_type": "code",
   "execution_count": 24,
   "metadata": {},
   "outputs": [
    {
     "name": "stdout",
     "output_type": "stream",
     "text": [
      "b'010000000200000003000000040000000500000006000000'\n"
     ]
    }
   ],
   "source": [
    "from array import array\n",
    "import binascii\n",
    "a=array('i',[1,2,3,4,5,6])\n",
    "print(binascii.hexlify(a.tobytes()))"
   ]
  },
  {
   "cell_type": "raw",
   "metadata": {},
   "source": [
    "Q43. Write the Python program to read a string and interpreting the string as an array of machine values?\n",
    "Expected Output-\n",
    "array1- array('i', [7, 8, 9, 10])\n",
    "Bytes- b'0700000008000000090000000a000000'\n",
    "array2- array('i', [7, 8, 9, 10])"
   ]
  },
  {
   "cell_type": "code",
   "execution_count": 36,
   "metadata": {},
   "outputs": [
    {
     "name": "stdout",
     "output_type": "stream",
     "text": [
      "array1- array('u', 'manish')\n",
      "Bytes- b'6d000000610000006e000000690000007300000068000000'\n",
      "array2- array('u', 'manish')\n"
     ]
    }
   ],
   "source": [
    "from array import array\n",
    "import binascii\n",
    "\n",
    "a=array('u',\"manish\")\n",
    "print(\"array1-\",a)\n",
    "arrayBytes=a.tobytes()\n",
    "print(\"Bytes-\",binascii.hexlify(arrayBytes))\n",
    "array2=array('u')\n",
    "array2.frombytes(arrayBytes)\n",
    "print(\"array2-\",array2)"
   ]
  },
  {
   "cell_type": "raw",
   "metadata": {},
   "source": [
    "Q44. Write the Python program to push three items into the heap and return the smallest item from the heap. Also, return and pop the smallest item from the heap?\n",
    "Expected Output-\n",
    "Items in the heap-\n",
    "('VI', 1).\n",
    "('VII', 3).\n",
    "('VIII', 2).\n",
    "----------------------\n",
    "The smallest item in the heap:\n",
    "('VI', 1).\n",
    "----------------------\n",
    "Pop the smallest item in the heap:\n",
    "('VII', 2).\n",
    "('VIII', 3)."
   ]
  },
  {
   "cell_type": "code",
   "execution_count": 46,
   "metadata": {},
   "outputs": [
    {
     "name": "stdout",
     "output_type": "stream",
     "text": [
      "Items in the heap-\n",
      "('VI', 1)\n",
      "('VII', 3)\n",
      "('VIII', 2)\n",
      "The samllest item in the heap:\n",
      "('VI', 1)\n",
      "After popping the smallest item\n",
      "('VII', 3)\n",
      "('VIII', 2)\n"
     ]
    }
   ],
   "source": [
    "import heapq\n",
    "lst1=[('VI', 1),('VII', 3),('VIII', 2)]\n",
    "lst2=[]\n",
    "for item in lst1:\n",
    "    heapq.heappush(lst2,item)\n",
    "print(\"Items in the heap-\")\n",
    "for i  in lst2:\n",
    "    print(i)\n",
    "    \n",
    "print(\"The samllest item in the heap:\")\n",
    "print(lst2[0])\n",
    "print(\"After popping the smallest item\")\n",
    "heapq.heappop(lst2)\n",
    "for item in lst2:\n",
    "    print(item)"
   ]
  },
  {
   "cell_type": "raw",
   "metadata": {},
   "source": [
    "Q45. Write the Python program to locate the left insertion point for a specified value in sorted order?\n",
    "Expected Output:\n",
    "4\n",
    "2"
   ]
  },
  {
   "cell_type": "code",
   "execution_count": 52,
   "metadata": {},
   "outputs": [
    {
     "name": "stdout",
     "output_type": "stream",
     "text": [
      "4\n",
      "2\n"
     ]
    }
   ],
   "source": [
    "def indexPosition(l,n):\n",
    "    for i in range(len(l)):\n",
    "        if n>l[-1]:\n",
    "            l+=[n]\n",
    "        if l[i]>n:\n",
    "            index=i\n",
    "            l=l[:i]+[n]+l[i:] \n",
    "            break\n",
    "    print(l.index(n))\n",
    "l = [1,2,4,5]\n",
    "indexPosition(l,6)\n",
    "indexPosition(l,3)"
   ]
  },
  {
   "cell_type": "raw",
   "metadata": {},
   "source": [
    "Q46. Write the Python program to create the FIFO queue?\n",
    "Expected Output:\n",
    "0 1 2 3"
   ]
  },
  {
   "cell_type": "code",
   "execution_count": 64,
   "metadata": {},
   "outputs": [
    {
     "name": "stdout",
     "output_type": "stream",
     "text": [
      "Enter the task:append\n",
      "Enter the element:1\n",
      "Enter the task:append\n",
      "Enter the element:2\n",
      "Enter the task:append\n",
      "Enter the element:3\n",
      "Enter the task:append\n",
      "Enter the element:4\n",
      "Enter the task:append\n",
      "Enter the element:8\n",
      "Enter the task:remove\n",
      "Enter the task:remove\n",
      "Enter the task:quit\n",
      "['3', '4', '8']\n"
     ]
    }
   ],
   "source": [
    "class queue:\n",
    "    def __init__(self):\n",
    "        self.l=[]\n",
    "    def enterElement(self,n):\n",
    "        self.l.append(n)\n",
    "    def removeElement(self):\n",
    "        try:\n",
    "            return self.l.pop(0)\n",
    "        except:\n",
    "            return False\n",
    "q=queue()\n",
    "while True:\n",
    "    task=input(\"Enter the task:\")\n",
    "    if task ==\"append\":\n",
    "        n=input(\"Enter the element:\")\n",
    "        q.enterElement(n)\n",
    "    elif task ==\"remove\":\n",
    "        if not q.removeElement():\n",
    "            print(\"Queue is empty\")\n",
    "    elif task ==\"quit\":\n",
    "        print(q.l)\n",
    "        break"
   ]
  },
  {
   "cell_type": "raw",
   "metadata": {},
   "source": [
    "Q47. Write the Python program to calculate the harmonic sum of n-1. Note: The harmonic sum is the sum of reciprocals of the positive\n",
    "Integers?\n",
    "Example -1 + 1/2 + 1/3 + 1/4 + 1/5 ......"
   ]
  },
  {
   "cell_type": "code",
   "execution_count": 68,
   "metadata": {},
   "outputs": [
    {
     "name": "stdout",
     "output_type": "stream",
     "text": [
      "2.08\n"
     ]
    }
   ],
   "source": [
    "def harmonicSum(n):\n",
    "    s=0\n",
    "    for i in range(1,n+1):\n",
    "        s+=1/i;\n",
    "    return round(s,2)\n",
    "\n",
    "print(harmonicSum(4))    "
   ]
  },
  {
   "cell_type": "code",
   "execution_count": 71,
   "metadata": {},
   "outputs": [
    {
     "name": "stdout",
     "output_type": "stream",
     "text": [
      "2.08\n"
     ]
    }
   ],
   "source": [
    "def harmonicSum(n):\n",
    "    if n<2:\n",
    "        return n\n",
    "    else:\n",
    "        return 1/n+harmonicSum(n-1)\n",
    "\n",
    "print(round(harmonicSum(4),2))  "
   ]
  },
  {
   "cell_type": "raw",
   "metadata": {},
   "source": [
    "Q48. Write the NumPy program to create a 2d array with 6 on the border and 0 inside?\n",
    "Expected Output-\n",
    "Original array-\n",
    "[ [6 6 6 6 6]\n",
    "[ 6 6 6 6 6]\n",
    "[ 6 6 6 6 6 ]\n",
    "[ 6 6 6 6 6 ]\n",
    "[ 6 6 6 6 ] ].\n",
    "6 on the border and 0 inside in the array-\n",
    "[[ 6 6 6 6 6]\n",
    "[ 6 0 0 0 6]\n",
    "[ 6 0 0 0 6]\n",
    "[ 6 0 0 0 6]\n",
    "[ 6 6 6 6 6]]."
   ]
  },
  {
   "cell_type": "code",
   "execution_count": 10,
   "metadata": {},
   "outputs": [
    {
     "name": "stdout",
     "output_type": "stream",
     "text": [
      "original array-\n",
      " [[6 6 6 6 6]\n",
      " [6 6 6 6 6]\n",
      " [6 6 6 6 6]\n",
      " [6 6 6 6 6]\n",
      " [6 6 6 6 6]]\n",
      "6 on the border and 0 inside in the array-\n",
      " [[6 6 6 6 6]\n",
      " [6 0 0 0 6]\n",
      " [6 0 0 0 6]\n",
      " [6 0 0 0 6]\n",
      " [6 6 6 6 6]]\n"
     ]
    }
   ],
   "source": [
    "import numpy as np\n",
    "\n",
    "a=np.array([[6,6,6,6,6],[6,6,6,6,6],[6,6,6,6,6],[6,6,6,6,6],[6,6,6,6,6]])\n",
    "print(\"original array-\\n\",a)\n",
    "a[1:-1,1:-1].fill(0)\n",
    "print(\"6 on the border and 0 inside in the array-\\n\",a)"
   ]
  },
  {
   "cell_type": "raw",
   "metadata": {},
   "source": [
    "Q49. Write the NumPy program to create a 8x8 matrix and fill it with the checkerboard pattern?\n",
    "Checkerboard pattern-\n",
    "[[3 9 3 9 3 9 3 9]\n",
    "[9 3 9 3 9 3 9 3]\n",
    "[3 9 3 9 3 9 3 9]\n",
    "[9 3 9 3 9 3 9 3]\n",
    "[3 9 3 9 3 9 3 9]\n",
    "[9 3 9 3 9 3 9 3]\n",
    "[3 9 3 9 3 9 3 9]\n",
    "[9 3 9 3 9 3 9 3]]."
   ]
  },
  {
   "cell_type": "code",
   "execution_count": 19,
   "metadata": {},
   "outputs": [
    {
     "name": "stdout",
     "output_type": "stream",
     "text": [
      "8\n",
      "[[3. 9. 3. 9. 3. 9. 3. 9.]\n",
      " [9. 3. 9. 3. 9. 3. 9. 3.]\n",
      " [3. 9. 3. 9. 3. 9. 3. 9.]\n",
      " [9. 3. 9. 3. 9. 3. 9. 3.]\n",
      " [3. 9. 3. 9. 3. 9. 3. 9.]\n",
      " [9. 3. 9. 3. 9. 3. 9. 3.]\n",
      " [3. 9. 3. 9. 3. 9. 3. 9.]\n",
      " [9. 3. 9. 3. 9. 3. 9. 3.]]\n"
     ]
    }
   ],
   "source": [
    "import numpy as np\n",
    "\n",
    "def checkerboard(n):\n",
    "    a=np.zeros((n,n))\n",
    "\n",
    "    for i in range(n):\n",
    "        for j in range(n):\n",
    "            if (i+j)%2==0:\n",
    "                a[i][j]=3\n",
    "            else:\n",
    "                a[i][j]=9\n",
    "    return a\n",
    "print(checkerboard(int(input())))"
   ]
  },
  {
   "cell_type": "raw",
   "metadata": {},
   "source": [
    "Q50. Write the NumPy program to create an empty and a full array.\n",
    "Expected Output-\n",
    "[[4.45057637e-308 1.78021527e-306 8.45549797e-307 1.37962049e-306]\n",
    "[1.11260619e-306 1.78010255e-306 9.79054228e-307 4.45057637e-308]\n",
    "[8.45596650e-307 9.34602321e-307 4.94065646e-322 0.00000000e+000]]\n",
    "[[6 6 6]\n",
    "[6 6 6]\n",
    "[6 6 6]]"
   ]
  },
  {
   "cell_type": "code",
   "execution_count": 24,
   "metadata": {},
   "outputs": [
    {
     "name": "stdout",
     "output_type": "stream",
     "text": [
      "[[2.77286146e+180 3.22116687e-057 1.05931704e+165 4.08778878e-037]\n",
      " [1.47763641e+248 1.16096346e-028 7.69165785e+218 1.35617292e+248]\n",
      " [8.66343214e-071 4.95878353e-062 1.39295281e+165 5.19295939e+170]\n",
      " [4.26124704e-096 6.32299154e+233 6.48224638e+170 5.22411352e+257]]\n",
      "[[6 6 6]\n",
      " [6 6 6]\n",
      " [6 6 6]]\n"
     ]
    }
   ],
   "source": [
    "import numpy as np\n",
    "\n",
    "a=np.empty((4,4))\n",
    "print(a)\n",
    "\n",
    "a=np.full((3,3),6)\n",
    "print(a)"
   ]
  },
  {
   "cell_type": "raw",
   "metadata": {},
   "source": [
    "Q51. Write the NumPy program to convert the values of Centigrade degrees into the Fahrenheit degrees and the centigrade values are stored in the NumPy array.\n",
    "Sample Array -[0, 12, 45.21 ,34, 99.91]\n",
    "Expected Output-\n",
    "Values in Fahrenheit degrees-\n",
    "[ 0. 12. 45.21 34. 99.91]\n",
    "Values in Centigrade degrees-\n",
    "[-17.77777778 -11.11111111 7.33888889 1.11111111 37.72777778]"
   ]
  },
  {
   "cell_type": "code",
   "execution_count": 28,
   "metadata": {},
   "outputs": [
    {
     "name": "stdout",
     "output_type": "stream",
     "text": [
      "Values in Fahrenheit degrees-\n",
      " [ 0.   12.   45.   21.   34.   99.91]\n",
      "Values in Centigrade degrees-\n",
      " [-17.77777778 -11.11111111   7.22222222  -6.11111111   1.11111111\n",
      "  37.72777778]\n"
     ]
    }
   ],
   "source": [
    "import numpy as np\n",
    "\n",
    "def convert(a):\n",
    "    print(\"Values in Fahrenheit degrees-\\n\",a)\n",
    "    print(\"Values in Centigrade degrees-\\n\",(a-32)*5/9)\n",
    "a=np.array([0,12,45,21,34,99.91])\n",
    "convert(a)"
   ]
  },
  {
   "cell_type": "raw",
   "metadata": {},
   "source": [
    "Q52. Write the NumPy program to find the real and imaginary parts of an array of complex numbers?\n",
    "Expected Output-\n",
    "Original array [ 1.00000000+0.j 0.70710678+0.70710678j]\n",
    "Real part of the array-\n",
    "[ 1. 0.70710678]\n",
    "Imaginary part of the array-\n",
    "[ 0. 0.70710678]"
   ]
  },
  {
   "cell_type": "code",
   "execution_count": 5,
   "metadata": {},
   "outputs": [
    {
     "name": "stdout",
     "output_type": "stream",
     "text": [
      "Real part of the array- [1.         0.70710678]\n",
      "Imaginary part of the array- [0.         0.70710678]\n"
     ]
    }
   ],
   "source": [
    "import numpy as np\n",
    "\n",
    "a=np.array([ 1.00000000+0.j,0.70710678+0.70710678j])\n",
    "\n",
    "print(\"Real part of the array-\",a.real)\n",
    "print(\"Imaginary part of the array-\",a.imag)"
   ]
  },
  {
   "cell_type": "raw",
   "metadata": {},
   "source": [
    "Q53. Write the NumPy program to test whether each element of a 1-D array is also present in the second array?\n",
    "Expected Output-\n",
    "Array1: [ 0 10 20 40 60]\n",
    "Array2: [0, 40]\n",
    "Compare each element of array1 and array2\n",
    "[ True False False True False]"
   ]
  },
  {
   "cell_type": "code",
   "execution_count": 10,
   "metadata": {},
   "outputs": [
    {
     "name": "stdout",
     "output_type": "stream",
     "text": [
      "[True, False, False, True, False]\n"
     ]
    }
   ],
   "source": [
    "import numpy as np\n",
    "\n",
    "array1=np.array([0,10,20,40,60])\n",
    "array2=np.array([0,40])\n",
    "print([item in array2 for item in array1])"
   ]
  },
  {
   "cell_type": "code",
   "execution_count": 13,
   "metadata": {},
   "outputs": [
    {
     "name": "stdout",
     "output_type": "stream",
     "text": [
      "[ True False False  True False]\n",
      "[ True False False  True False]\n"
     ]
    }
   ],
   "source": [
    "import numpy as np\n",
    "\n",
    "array1=np.array([0,10,20,40,60])\n",
    "array2=np.array([0,40])\n",
    "print(np.isin(array1,array2))\n",
    "##use isin instead of in1d as mentioned in the in1d for the new data\n",
    "print(np.in1d(array1,array2))"
   ]
  },
  {
   "cell_type": "raw",
   "metadata": {},
   "source": [
    "Q54. Write the NumPy program to find common values between two arrays?\n",
    "Expected Output-\n",
    "Array1: [ 0 10 20 40 60]\n",
    "Array2: [10, 30, 40]\n",
    "Common values between two arrays-\n",
    "[10 40]"
   ]
  },
  {
   "cell_type": "code",
   "execution_count": 18,
   "metadata": {},
   "outputs": [
    {
     "name": "stdout",
     "output_type": "stream",
     "text": [
      "[10, 40]\n",
      "[10 40]\n"
     ]
    }
   ],
   "source": [
    "import numpy as np\n",
    "\n",
    "array1=np.array([0,10,20,40,60])\n",
    "array2=np.array([10,30,40])\n",
    "print([item for item in array1 if item in array2])\n",
    "##using isin for getting common elements\n",
    "a=np.isin(array1,array2)\n",
    "print(array1[a])"
   ]
  },
  {
   "cell_type": "raw",
   "metadata": {},
   "source": [
    "Q55. Write the NumPy program to get the unique elements of an array?\n",
    "Expected Output-\n",
    "Original array-\n",
    "[10 10 20 20 30 30]\n",
    "Unique elements of the above array-\n",
    "[10 20 30]\n",
    "Original array-\n",
    "[[1 1]\n",
    "[2 3]]\n",
    "Unique elements of the above array-\n",
    "[1 2 3]"
   ]
  },
  {
   "cell_type": "code",
   "execution_count": 32,
   "metadata": {},
   "outputs": [
    {
     "name": "stdout",
     "output_type": "stream",
     "text": [
      "[10, 20, 30]\n",
      "[1, 2, 3]\n",
      "[10 20 30]\n",
      "[1 2 3]\n"
     ]
    }
   ],
   "source": [
    "import numpy as np\n",
    "\n",
    "array1=np.array([10,10,20,20,30,30])\n",
    "array2,array4=[],[]\n",
    "array3=np.array([[1,1],[2,3]])\n",
    "[array2.append(item) for item in array1 if item not in array2]\n",
    "print(array2)\n",
    "[array4.append(element) for item in array3 for element in item if element not in array4 ]\n",
    "print(array4)\n",
    "###unique function for calculating unique values\n",
    "print(np.unique(array1))\n",
    "print(np.unique(array3))"
   ]
  },
  {
   "cell_type": "raw",
   "metadata": {},
   "source": [
    "Q56. Write the NumPy program to find the set exclusive-or of two arrays.Set exclusive-or will return the sorted, unique values that are in only one (not both) of the input arrays?\n",
    "Array1- [ 0 10 20 40 60 80]\n",
    "Array2- [10, 30, 40, 50, 70]\n",
    "Unique values that are in only one (not both) of the input arrays-\n",
    "[ 0 20 30 50 60 70 80]"
   ]
  },
  {
   "cell_type": "code",
   "execution_count": 50,
   "metadata": {},
   "outputs": [
    {
     "name": "stdout",
     "output_type": "stream",
     "text": [
      "[0, 20, 30, 50, 60, 70, 80]\n",
      "[ 0 20 30 50 60 70 80]\n"
     ]
    }
   ],
   "source": [
    "import numpy as np\n",
    "\n",
    "array1=np.array([0,10,20,40,60,80])\n",
    "array2=np.array([10,30,40,50,70])\n",
    "\n",
    "array3=np.setdiff1d(array1,array2)\n",
    "array4=np.setdiff1d(array2,array1)\n",
    "array5=np.concatenate((array3,array4))\n",
    "print(sorted(array5))\n",
    "#using setxor1d\n",
    "print(np.setxor1d(array1,array2))"
   ]
  },
  {
   "cell_type": "raw",
   "metadata": {},
   "source": [
    "Q57. Write the NumPy program to test if all elements in an array evaluate to True ?\n",
    "Note: 0 evaluates to False in NumPy."
   ]
  },
  {
   "cell_type": "code",
   "execution_count": 53,
   "metadata": {},
   "outputs": [
    {
     "name": "stdout",
     "output_type": "stream",
     "text": [
      "False\n",
      "True\n"
     ]
    }
   ],
   "source": [
    "import numpy as np\n",
    "\n",
    "array1=np.array([10,20,40,50,0])\n",
    "\n",
    "print(np.all(array1))#all elements should be greater than zero\n",
    "print(np.any(array1))#any element should be greater than zero"
   ]
  },
  {
   "cell_type": "raw",
   "metadata": {},
   "source": [
    "Q58 Write the NumPy program to test whether any array element along the given axis evaluates to True?\n",
    "Note: 0 evaluates to False in NumPy."
   ]
  },
  {
   "cell_type": "code",
   "execution_count": 54,
   "metadata": {},
   "outputs": [
    {
     "name": "stdout",
     "output_type": "stream",
     "text": [
      "False\n",
      "True\n"
     ]
    }
   ],
   "source": [
    "import numpy as np\n",
    "\n",
    "array1=np.array([10,20,40,50,0])\n",
    "\n",
    "print(np.all(array1))#all elements should be greater than zero\n",
    "print(np.any(array1))#any element should be greater than zero"
   ]
  },
  {
   "cell_type": "raw",
   "metadata": {},
   "source": [
    "Q59. Write the NumPy program to construct an array by repeating?\n",
    "Sample array- [1, 2, 3, 4]\n",
    "Expected Output-\n",
    "Original array\n",
    "[1, 2, 3, 4]\n",
    "Repeating 2 times\n",
    "[1 2 3 4 1 2 3 4]\n",
    "Repeating 3 times\n",
    "[1 2 3 4 1 2 3 4 1 2 3 4]"
   ]
  },
  {
   "cell_type": "code",
   "execution_count": 57,
   "metadata": {},
   "outputs": [
    {
     "name": "stdout",
     "output_type": "stream",
     "text": [
      "[1 1 2 2 3 3 4 4]\n",
      "[1 1 1 2 2 2 3 3 3 4 4 4]\n",
      "[1 2 3 4 1 2 3 4]\n",
      "[1 2 3 4 1 2 3 4 1 2 3 4]\n"
     ]
    }
   ],
   "source": [
    "import numpy as np\n",
    "array1=np.array([1,2,3,4])\n",
    "print(np.repeat(array1,2))\n",
    "print(np.repeat(array1,3))\n",
    "\n",
    "print(np.tile(array1,2))\n",
    "print(np.tile(array1,3))"
   ]
  },
  {
   "cell_type": "raw",
   "metadata": {},
   "source": [
    "Q60. Write the NumPy program to find the indices of the maximum and minimum values with the given axis of an array?\n",
    "Original array- [1 2 3 4 5 6]\n",
    "Maximum Values- 5\n",
    "Minimum Values- 0"
   ]
  },
  {
   "cell_type": "code",
   "execution_count": 68,
   "metadata": {},
   "outputs": [
    {
     "name": "stdout",
     "output_type": "stream",
     "text": [
      "[5] [0]\n",
      "5 0\n"
     ]
    }
   ],
   "source": [
    "import numpy as np\n",
    "\n",
    "array1=np.array([1,2,3,4,5,6])\n",
    "maximum=np.where(array1==np.max(array1))\n",
    "minimum=np.where(array1==np.min(array1))\n",
    "print(maximum[0],minimum[0])\n",
    "print(np.argmax(array1),np.argmin(array1))"
   ]
  },
  {
   "cell_type": "raw",
   "metadata": {},
   "source": [
    "Q61. Write the NumPy program compare two arrays using numpy?\n",
    "Array a- [1 2]\n",
    "Array b- [4 5]\n",
    "a > b\n",
    "[False False]\n",
    "a >= b\n",
    "[False False]\n",
    "a < b\n",
    "[ True True]\n",
    "a <= b\n",
    "[ True True]"
   ]
  },
  {
   "cell_type": "code",
   "execution_count": 74,
   "metadata": {},
   "outputs": [
    {
     "name": "stdout",
     "output_type": "stream",
     "text": [
      "[False False]\n",
      "[False False]\n",
      "[ True  True]\n",
      "[ True  True]\n"
     ]
    }
   ],
   "source": [
    "import numpy as np\n",
    "\n",
    "array1=np.array([1,2])\n",
    "array2=np.array([4,5])\n",
    "\n",
    "print(np.greater(array1,array2))\n",
    "print(np.greater_equal(array1,array2))\n",
    "print(np.less(array1,array2))\n",
    "print(np.less_equal(array1,array2))"
   ]
  },
  {
   "cell_type": "raw",
   "metadata": {},
   "source": [
    "Q62. Write the NumPy program to sort an along the first, last axis of an array?\n",
    "Sample array- [[2,5],[4,4]]\n",
    "Expected Output-\n",
    "Original array:\n",
    "[[4 6]\n",
    "[2 1]]\n",
    "Sort along the first axis:\n",
    "[[2 1]\n",
    "[4 6]]\n",
    "Sort along the last axis-\n",
    "[[1 2]\n",
    "[4 6]]"
   ]
  },
  {
   "cell_type": "code",
   "execution_count": 86,
   "metadata": {},
   "outputs": [
    {
     "name": "stdout",
     "output_type": "stream",
     "text": [
      "[[2 1]\n",
      " [4 6]]\n",
      "[[1 2]\n",
      " [4 6]]\n"
     ]
    }
   ],
   "source": [
    "import numpy as np\n",
    "\n",
    "array=np.array([[4,6],[2,1]])\n",
    "a=np.sort(array,axis=0)\n",
    "print(a)\n",
    "print(np.sort(a,axis=-1))"
   ]
  },
  {
   "cell_type": "raw",
   "metadata": {},
   "source": [
    "Q63. Write the NumPy program to sort pairs of first name and last name return their indices (first by last name, then by first name).\n",
    "first_names - ( Betsey, Shelley, Lanell, Genesis, Margery )\n",
    "last_names - ( Battle, Brien, Plotner, Stahl, Woolum )\n",
    "Expected Output-\n",
    "[1 3 2 4 0]"
   ]
  },
  {
   "cell_type": "code",
   "execution_count": 101,
   "metadata": {},
   "outputs": [
    {
     "name": "stdout",
     "output_type": "stream",
     "text": [
      "[1 3 2 4 0]\n"
     ]
    },
    {
     "data": {
      "text/plain": [
       "[('Betsey', 'Battle'),\n",
       " ('Lanell', 'Brien'),\n",
       " ('Shelley', 'Plotner'),\n",
       " ('Genesis', 'Stahl'),\n",
       " ('Margery', 'Woolum')]"
      ]
     },
     "execution_count": 101,
     "metadata": {},
     "output_type": "execute_result"
    }
   ],
   "source": [
    "import numpy as np\n",
    "\n",
    "first_names =    ('Margery', 'Betsey', 'Shelley', 'Lanell', 'Genesis')\n",
    "last_names = ('Woolum', 'Battle', 'Plotner', 'Brien', 'Stahl')\n",
    "\n",
    "a=np.lexsort((first_names,last_names))\n",
    "print(a)\n",
    "[(first_names[i],last_names[i]) for i in a]"
   ]
  },
  {
   "cell_type": "raw",
   "metadata": {},
   "source": [
    "Q64. Write the NumPy program to get the values and indices of the elements that are bigger than 10 in the given array?\n",
    "Original array-\n",
    "[[ 0 10 20]\n",
    "[20 30 40]]\n",
    "Values bigger than 10 = [20 20 30 40]\n",
    "Their indices are (array([0, 1, 1, 1]), array([2, 0, 1, 2]))"
   ]
  },
  {
   "cell_type": "code",
   "execution_count": 107,
   "metadata": {},
   "outputs": [
    {
     "name": "stdout",
     "output_type": "stream",
     "text": [
      "Values bigger than 10 = [20 20 30 40]\n",
      "Their indices are (array([0, 1, 1, 1]), array([2, 0, 1, 2]))\n"
     ]
    }
   ],
   "source": [
    "import numpy as np\n",
    "\n",
    "array=np.array([[0,10,20],[20,30,40]])\n",
    "print(\"Values bigger than 10 =\",array[array>10])\n",
    "print(\"Their indices are\",np.where(array>10))"
   ]
  },
  {
   "cell_type": "raw",
   "metadata": {},
   "source": [
    "Q65. Write the NumPy program to find the memory size of a NumPy array?\n",
    "Expected Output-\n",
    "128 bytes"
   ]
  },
  {
   "cell_type": "code",
   "execution_count": 110,
   "metadata": {},
   "outputs": [
    {
     "name": "stdout",
     "output_type": "stream",
     "text": [
      "48\n",
      "48\n"
     ]
    }
   ],
   "source": [
    "import numpy as np\n",
    "\n",
    "array=np.array([[0,10,20],[20,30,40]])\n",
    "print(array.nbytes)\n",
    "print(array.size*array.itemsize)"
   ]
  },
  {
   "cell_type": "raw",
   "metadata": {},
   "source": [
    "Q66. Write the NumPy program to create an array of ones and an array of zeros?\n",
    "Expected Output-\n",
    "Create an array of zeros\n",
    "Default type is float\n",
    "[[ 0. 0.]]\n",
    "Type changes to int\n",
    "[[0 0]]\n",
    "Create an array of ones\n",
    "Default type is float\n",
    "[[ 1. 1.]]\n",
    "Type changes to int\n",
    "[[1 1]]"
   ]
  },
  {
   "cell_type": "code",
   "execution_count": 114,
   "metadata": {},
   "outputs": [
    {
     "name": "stdout",
     "output_type": "stream",
     "text": [
      "[0. 0.]\n",
      "[0 0]\n",
      "[1. 1.]\n",
      "[1 1]\n"
     ]
    }
   ],
   "source": [
    "import numpy as np\n",
    "\n",
    "print(np.zeros(2))\n",
    "print(np.zeros(2,dtype=int))\n",
    "print(np.ones(2))\n",
    "print(np.ones(2,dtype=int))"
   ]
  },
  {
   "cell_type": "raw",
   "metadata": {},
   "source": [
    "Q67. Write the NumPy program to change the dimension of an array?\n",
    "Expected Output-\n",
    "6 rows and 0 columns\n",
    "(6,)\n",
    "(3, 3) -> 3 rows and 3 columns\n",
    "[[1 2 3]\n",
    "[4 5 6]\n",
    "[7 8 9]]\n",
    "Change array shape to (3, 3) -> 3 rows and 3 columns\n",
    "[[1 2 3]\n",
    "[4 5 6]\n",
    "[7 8 9]]"
   ]
  },
  {
   "cell_type": "code",
   "execution_count": 121,
   "metadata": {},
   "outputs": [
    {
     "name": "stdout",
     "output_type": "stream",
     "text": [
      "(6,)\n",
      "[[1 2 3]\n",
      " [4 5 6]\n",
      " [7 8 9]]\n"
     ]
    }
   ],
   "source": [
    "import numpy as np\n",
    "\n",
    "array=np.array([1,2,3,4,5,6])\n",
    "print(array.shape)\n",
    "array1=np.array([1,2,3,4,5,6,7,8,9])\n",
    "print(array1.reshape((3,3)))"
   ]
  },
  {
   "cell_type": "raw",
   "metadata": {},
   "source": [
    "Q68. Write the NumPy program to create a new shape to an array without changing its data ?\n",
    "Reshape 3x2-\n",
    "[[1 2]\n",
    "[3 4]\n",
    "[5 6]]\n",
    "Reshape 2x3-\n",
    "[[1 2 3]\n",
    "[4 5 6]]"
   ]
  },
  {
   "cell_type": "code",
   "execution_count": 123,
   "metadata": {},
   "outputs": [
    {
     "name": "stdout",
     "output_type": "stream",
     "text": [
      "[[1 2]\n",
      " [3 4]\n",
      " [5 6]]\n",
      "[[1 2 3]\n",
      " [4 5 6]]\n"
     ]
    }
   ],
   "source": [
    "import numpy as np\n",
    "\n",
    "array1=np.array([1,2,3,4,5,6])\n",
    "print(array1.reshape(3,2))\n",
    "print(array1.reshape(2,3))"
   ]
  },
  {
   "cell_type": "raw",
   "metadata": {},
   "source": [
    "Q69. Write the NumPy program to create a new array of 3*5, filled with 2?\n",
    "Expected Output-\n",
    "[[2 2 2 2 2]\n",
    "[2 2 2 2 2]\n",
    "[2 2 2 2 2]]\n",
    "[[2 2 2 2 2]\n",
    "[2 2 2 2 2]\n",
    "[2 2 2 2 2]]"
   ]
  },
  {
   "cell_type": "code",
   "execution_count": 128,
   "metadata": {},
   "outputs": [
    {
     "name": "stdout",
     "output_type": "stream",
     "text": [
      "[[2 2 2 2 2]\n",
      " [2 2 2 2 2]\n",
      " [2 2 2 2 2]]\n",
      "[[2 2 2 2 2]\n",
      " [2 2 2 2 2]\n",
      " [2 2 2 2 2]]\n"
     ]
    }
   ],
   "source": [
    "import numpy as np\n",
    "\n",
    "print(np.full((3,5),2))\n",
    "print(np.ones((3,5),dtype=int)*2)"
   ]
  },
  {
   "cell_type": "raw",
   "metadata": {},
   "source": [
    "Q70. Write the NumPy program to create a 3-D array with ones on a diagonal and zeros elsewhere?\n",
    "Expected Output-\n",
    "[[ 1. 0. 0.]\n",
    "[ 0. 1. 0.]\n",
    "[ 0. 0. 1.]]"
   ]
  },
  {
   "cell_type": "code",
   "execution_count": 137,
   "metadata": {},
   "outputs": [
    {
     "name": "stdout",
     "output_type": "stream",
     "text": [
      "[[1. 0. 0.]\n",
      " [0. 1. 0.]\n",
      " [0. 0. 1.]]\n"
     ]
    }
   ],
   "source": [
    "import numpy as np\n",
    "array1=np.zeros((3,3))\n",
    "np.fill_diagonal(array1,1)\n",
    "print(array1)"
   ]
  },
  {
   "cell_type": "raw",
   "metadata": {},
   "source": [
    "Q71. Write the NumPy program to split an array of 14 elements into the 3 arrays and each of which has 2, 4, and 8 elements in original order?\n",
    "Expected Output-\n",
    "Original array- [ 1 2 3 4 5 6 7 8 9 10 11 12 13 14]\n",
    "After splitting-\n",
    "[array([1, 2]), array([3, 4, 5, 6]), array([ 7, 8, 9, 10, 11, 12, 13, 14])]"
   ]
  },
  {
   "cell_type": "code",
   "execution_count": 140,
   "metadata": {},
   "outputs": [
    {
     "name": "stdout",
     "output_type": "stream",
     "text": [
      "[array([1, 2]), array([3, 4, 5, 6]), array([ 7,  8,  9, 10, 11, 12, 13, 14]), array([], dtype=int64)]\n",
      "[array([1, 2]), array([3, 4, 5, 6]), array([ 7,  8,  9, 10, 11, 12, 13, 14])]\n"
     ]
    }
   ],
   "source": [
    "import numpy as np\n",
    "\n",
    "array1=np.array([1,2,3,4,5,6,7,8,9,10,11,12,13,14])\n",
    "print(np.split(array1,[2,6,14]))\n",
    "print(np.split(array1,[2,6]))"
   ]
  },
  {
   "cell_type": "raw",
   "metadata": {},
   "source": [
    "Q72. Write the NumPy program to split of an array of shape 4x4 it into two arrays along the second axis ?\n",
    "Sample array -\n",
    "[[ 0 1 2 3]\n",
    "[ 4 5 6 7]\n",
    "[ 8 9 10 11]\n",
    "[12 13 14 15]]\n",
    "Expected Output-\n",
    "[array([[ 0, 1],\n",
    "[ 4, 5],\n",
    "[ 8, 9],\n",
    "[12, 13]]), array([[ 2, 3],\n",
    "[ 6, 7],\n",
    "[10, 11],\n",
    "[14, 15]]), array([], shape=(4, 0), dtype=int64)]"
   ]
  },
  {
   "cell_type": "code",
   "execution_count": 1,
   "metadata": {},
   "outputs": [
    {
     "name": "stdout",
     "output_type": "stream",
     "text": [
      "[array([[ 0,  1],\n",
      "       [ 4,  5],\n",
      "       [ 8,  9],\n",
      "       [12, 13]]), array([[ 2,  3],\n",
      "       [ 6,  7],\n",
      "       [10, 11],\n",
      "       [14, 15]])]\n"
     ]
    },
    {
     "data": {
      "text/plain": [
       "[array([[ 0,  1],\n",
       "        [ 4,  5],\n",
       "        [ 8,  9],\n",
       "        [12, 13]]), array([[ 2,  3],\n",
       "        [ 6,  7],\n",
       "        [10, 11],\n",
       "        [14, 15]]), array([], shape=(4, 0), dtype=int64)]"
      ]
     },
     "execution_count": 1,
     "metadata": {},
     "output_type": "execute_result"
    }
   ],
   "source": [
    "import numpy as np\n",
    "\n",
    "array1=np.array([[0,1,2,3],[4,5,6,7],[8,9,10,11],[12,13,14,15]])\n",
    "print(np.split(array1,2,axis=1))\n",
    "np.hsplit(array1,[2,6])"
   ]
  },
  {
   "cell_type": "raw",
   "metadata": {},
   "source": [
    "Q73. Write the NumPy program to create a 5x5 matrix with row values ranging from 0 to 4?\n",
    "Original array-\n",
    "[[ 0. 0. 0. 0. 0.]\n",
    "[ 0. 0. 0. 0. 0.]\n",
    "[ 0. 0. 0. 0. 0.]\n",
    "[ 0. 0. 0. 0. 0.]\n",
    "[ 0. 0. 0. 0. 0.]]\n",
    "Row values ranging from 0 to 4.\n",
    "[[ 0. 1. 2. 3. 4.]\n",
    "[ 0. 1. 2. 3. 4.]\n",
    "[ 0. 1. 2. 3. 4.]\n",
    "[ 0. 1. 2. 3. 4.]\n",
    "[ 0. 1. 2. 3. 4.]]"
   ]
  },
  {
   "cell_type": "code",
   "execution_count": 14,
   "metadata": {},
   "outputs": [
    {
     "name": "stdout",
     "output_type": "stream",
     "text": [
      "[[0. 1. 2. 3. 4.]\n",
      " [0. 1. 2. 3. 4.]\n",
      " [0. 1. 2. 3. 4.]\n",
      " [0. 1. 2. 3. 4.]\n",
      " [0. 1. 2. 3. 4.]]\n"
     ]
    }
   ],
   "source": [
    "import numpy as np\n",
    "\n",
    "array1=np.zeros((5,5))\n",
    "\n",
    "for i in range(5):\n",
    "    count=0\n",
    "    for j in range(5):\n",
    "        array1[i][j]=count\n",
    "        count+=1\n",
    "print(array1)"
   ]
  },
  {
   "cell_type": "raw",
   "metadata": {},
   "source": [
    "Q74. Write the NumPy program to create an array of zeros and three column types (integer, float, character)?\n",
    "Expected Output-\n",
    "[(1, 2., b'Albert Einstein') (2, 2., b'Edmond Halley')\n",
    "(3, 3., b'Gertrude B. Elion')]"
   ]
  },
  {
   "cell_type": "code",
   "execution_count": 34,
   "metadata": {},
   "outputs": [
    {
     "data": {
      "text/plain": [
       "[(1, 2.0, b'Albert Einstein'),\n",
       " (2, 2.0, b'Edmond Halley'),\n",
       " (3, 3.0, b'Gertrude B. Elion')]"
      ]
     },
     "execution_count": 34,
     "metadata": {},
     "output_type": "execute_result"
    }
   ],
   "source": [
    "import numpy as np\n",
    "\n",
    "array1=np.zeros((3,),dtype=[('x','i4'),('y','f8'),('z','i4')])\n",
    "array1=[(1, 2., b'Albert Einstein'),(2, 2., b'Edmond Halley'),(3, 3., b'Gertrude B. Elion')]\n",
    "array1"
   ]
  },
  {
   "cell_type": "raw",
   "metadata": {},
   "source": [
    "Q75. Write the NumPy program to remove the negative values in the numpy array with 0?\n",
    "Expected Output-\n",
    "Original array:\n",
    "[-1 -4 0 2 3 4 5 -6]\n",
    "Replace the negative values of the said array with 0-\n",
    "[0 0 0 2 3 4 5 0]"
   ]
  },
  {
   "cell_type": "code",
   "execution_count": 39,
   "metadata": {},
   "outputs": [
    {
     "data": {
      "text/plain": [
       "array([0, 0, 0, 2, 3, 4, 5, 0])"
      ]
     },
     "execution_count": 39,
     "metadata": {},
     "output_type": "execute_result"
    }
   ],
   "source": [
    "import numpy as np\n",
    "\n",
    "array1=np.array([-1,-4,0,2,3,4,5,-6])\n",
    "array1[array1<0]=0\n",
    "array1"
   ]
  },
  {
   "cell_type": "raw",
   "metadata": {},
   "source": [
    "Q76. Write the NumPy program to compute the histogram of a set of data?"
   ]
  },
  {
   "cell_type": "code",
   "execution_count": 169,
   "metadata": {},
   "outputs": [
    {
     "name": "stdout",
     "output_type": "stream",
     "text": [
      "(array([0., 0., 0., 2., 2., 2., 1., 0.]), array([0, 1, 2, 3, 4, 5, 6, 7, 8]), <a list of 8 Patch objects>)\n"
     ]
    },
    {
     "data": {
      "image/png": "[encoded data removed]",
      "text/plain": [
       "<Figure size 432x288 with 1 Axes>"
      ]
     },
     "metadata": {
      "needs_background": "light"
     },
     "output_type": "display_data"
    }
   ],
   "source": [
    "import numpy as np\n",
    "import matplotlib.pyplot as plt\n",
    "\n",
    "array1=np.array([3,4,5,6,3,4,5])\n",
    "print(plt.hist(array1,bins=[0,1,2,3,4,5,6,7,8]))\n",
    "#print(plt.hist(array1,bins=10))"
   ]
  },
  {
   "cell_type": "raw",
   "metadata": {},
   "source": [
    "Q78. Write the NumPy program to extracts all the elements from second row from given (4x4) array?\n",
    "Sample Output-\n",
    "Original array-\n",
    "[[ 0 1 2 3]\n",
    "[ 4 5 6 7]\n",
    "[ 8 9 10 11]\n",
    "[12 13 14 15]]\n",
    "Extracted data- Second row\n",
    "[4 5 6 7]"
   ]
  },
  {
   "cell_type": "raw",
   "metadata": {},
   "source": [
    "Q77. Write the NumPy program to compute the line graph of a set of data?"
   ]
  },
  {
   "cell_type": "code",
   "execution_count": 166,
   "metadata": {},
   "outputs": [
    {
     "name": "stdout",
     "output_type": "stream",
     "text": [
      "(array([2, 0, 0, 0, 0, 3, 2, 0, 2, 1]), array([0. , 0.6, 1.2, 1.8, 2.4, 3. , 3.6, 4.2, 4.8, 5.4, 6. ]))\n"
     ]
    },
    {
     "data": {
      "text/plain": [
       "[<matplotlib.lines.Line2D at 0x7f744085bd30>]"
      ]
     },
     "execution_count": 166,
     "metadata": {},
     "output_type": "execute_result"
    },
    {
     "data": {
      "image/png": "[encoded data removed]",
      "text/plain": [
       "<Figure size 432x288 with 1 Axes>"
      ]
     },
     "metadata": {
      "needs_background": "light"
     },
     "output_type": "display_data"
    }
   ],
   "source": [
    "import numpy as np\n",
    "import matplotlib.pyplot as plt\n",
    "\n",
    "array1=np.array([0,0,3,3,4,5,6,3,4,5])\n",
    "print(np.histogram(array1))\n",
    "plt.plot(array1)"
   ]
  },
  {
   "cell_type": "code",
   "execution_count": 49,
   "metadata": {},
   "outputs": [
    {
     "name": "stdout",
     "output_type": "stream",
     "text": [
      "Extracted data- Second row [4 5 6 7]\n"
     ]
    },
    {
     "data": {
      "text/plain": [
       "array([ 1,  5,  9, 13])"
      ]
     },
     "execution_count": 49,
     "metadata": {},
     "output_type": "execute_result"
    }
   ],
   "source": [
    "import numpy as np\n",
    "\n",
    "array1=np.array([[0,1,2,3],[4,5,6,7],[8,9,10,11],[12,13,14,15]])\n",
    "print(\"Extracted data- Second row\",array1[1])\n",
    "array1[:,1]"
   ]
  },
  {
   "cell_type": "raw",
   "metadata": {},
   "source": [
    "Q79. Write the NumPy program to extract first element of the second row and fourth element of fourth row from a given (4x4) array?\n",
    "Sample Output-\n",
    "Original array-\n",
    "[[ 0 1 2 3]\n",
    "[ 4 5 6 7]\n",
    "[ 8 9 10 11]\n",
    "[12 13 14 15]]\n",
    "Extracted data- First element of the second row and fourth element of fourth row\n",
    "[ 4 15]"
   ]
  },
  {
   "cell_type": "code",
   "execution_count": 78,
   "metadata": {},
   "outputs": [
    {
     "data": {
      "text/plain": [
       "array([ 4, 15])"
      ]
     },
     "execution_count": 78,
     "metadata": {},
     "output_type": "execute_result"
    }
   ],
   "source": [
    "import numpy as np\n",
    "\n",
    "array1=np.arange(16).reshape(4,4)\n",
    "array1[1,0],array1[3,3]\n",
    "\n",
    "array1[[1,3],[0,3]]"
   ]
  },
  {
   "cell_type": "raw",
   "metadata": {},
   "source": [
    "Q80. Write the NumPy program to add two arrays A and B of sizes (3,3) and (,3)?\n",
    "Sample Output-\n",
    "Original array-\n",
    "Array-1\n",
    "[[1 1 1]\n",
    "[1 1 1]\n",
    "[1 1 1]]\n",
    "Array-2\n",
    "[0 1 2]\n",
    "A + B:\n",
    "[[1 2 3]\n",
    "[1 2 3]\n",
    "[1 2 3]]"
   ]
  },
  {
   "cell_type": "code",
   "execution_count": 81,
   "metadata": {},
   "outputs": [
    {
     "name": "stdout",
     "output_type": "stream",
     "text": [
      "[[1. 2. 3.]\n",
      " [1. 2. 3.]\n",
      " [1. 2. 3.]]\n"
     ]
    }
   ],
   "source": [
    "import numpy as np\n",
    "\n",
    "array1=np.ones((3,3))\n",
    "array2=np.arange(3)\n",
    "print(array1+array2)"
   ]
  },
  {
   "cell_type": "raw",
   "metadata": {},
   "source": [
    "Q81. Write the NumPy program to copy data from a given array to another array?\n",
    "Sample Output-\n",
    "Original array-\n",
    "[24 27 30 29 18 14]\n",
    "Copy of the said array-\n",
    "[24 27 30 29 18 14]"
   ]
  },
  {
   "cell_type": "code",
   "execution_count": 84,
   "metadata": {},
   "outputs": [
    {
     "name": "stdout",
     "output_type": "stream",
     "text": [
      "Original array- [24 27 30 29 18 14]\n",
      "Copied array- [24 27 30 29 18 14]\n"
     ]
    }
   ],
   "source": [
    "import numpy as np\n",
    "\n",
    "array1=np.array([24,27,30,29,18,14])\n",
    "array2=array1.copy()\n",
    "print(\"Original array-\",array1)\n",
    "print(\"Copied array-\",array2)"
   ]
  },
  {
   "cell_type": "raw",
   "metadata": {},
   "source": [
    "Q82. Write the NumPy program to calculate the sum of all columns of the 2D numpy array?\n",
    "Sample Output-\n",
    "Original array-\n",
    "[[ 0 1 2 3 4 5 6 7 8]\n",
    "[ 9 10 11 12 13 14 15 16 17]\n",
    "[18 19 20 21 22 23 24 25 26]\n",
    "[27 28 29 30 31 32 33 34 35]]\n",
    "Sum of all columns-\n",
    "[54 58 62 66 70 74 78 82 86]"
   ]
  },
  {
   "cell_type": "code",
   "execution_count": 99,
   "metadata": {},
   "outputs": [
    {
     "name": "stdout",
     "output_type": "stream",
     "text": [
      "[[ 0  1  2  3  4  5  6  7  8]\n",
      " [ 9 10 11 12 13 14 15 16 17]\n",
      " [18 19 20 21 22 23 24 25 26]\n",
      " [27 28 29 30 31 32 33 34 35]]\n",
      "Sum of all columns- [54 58 62 66 70 74 78 82 86]\n",
      "[54 58 62 66 70 74 78 82 86]\n"
     ]
    }
   ],
   "source": [
    "import numpy as np\n",
    "\n",
    "array1=np.arange(36).reshape(4,9)\n",
    "print(array1)\n",
    "print(\"Sum of all columns-\",array1.sum(axis=0))\n",
    "print(np.sum(array1,axis=0))"
   ]
  },
  {
   "cell_type": "raw",
   "metadata": {},
   "source": [
    "Q83. Write the NumPy program to calculate averages without NaNs along the given array?\n",
    "Sample Output-\n",
    "Original array-\n",
    "[[10. 20. 30.]\n",
    "[40. 50. nan]\n",
    "[nan 6. nan]\n",
    "[nan nan nan]]\n",
    "Averages without NaNs along the said array-\n",
    "[20. 45. 6. nan]"
   ]
  },
  {
   "cell_type": "code",
   "execution_count": 15,
   "metadata": {},
   "outputs": [
    {
     "name": "stdout",
     "output_type": "stream",
     "text": [
      "[20. 45.  6. nan]\n",
      "[20. 45.  6. nan]\n"
     ]
    },
    {
     "name": "stderr",
     "output_type": "stream",
     "text": [
      "/home/manish/anaconda3/lib/python3.7/site-packages/ipykernel_launcher.py:5: RuntimeWarning: Mean of empty slice\n",
      "  \"\"\"\n"
     ]
    }
   ],
   "source": [
    "import numpy as np\n",
    "import numpy.ma as ma\n",
    "\n",
    "array1=np.array([[10,20,30],[40,50,np.nan],[np.nan,6,np.nan],[np.nan,np.nan,np.nan]])\n",
    "print(np.nanmean(array1,axis=1))\n",
    "\n",
    "r=ma.masked_array(array1,mask=np.isnan(array1))\n",
    "array2=np.mean(r,axis=1)\n",
    "print(array2.filled(np.nan))"
   ]
  },
  {
   "cell_type": "raw",
   "metadata": {},
   "source": [
    "Q84. Create two arrays of six elements. Write the NumPy program to count the number of instances of a value occurring in one array on the condition of another array.\n",
    "Sample Output-\n",
    "Original arrays-\n",
    "[ 10 -10 10 -10 -10 10]\n",
    "[0.85 0.45 0.9 0.8 0.12 0.6 ]\n",
    "Number of instances of a value occurring in one array on the condition of another\n",
    "array: 3"
   ]
  },
  {
   "cell_type": "code",
   "execution_count": null,
   "metadata": {},
   "outputs": [],
   "source": [
    "import numpy as np\n",
    "\n",
    "array1=np.array([10,-10,10,-10,-10,10])\n",
    "array2=np.array([0.85,0.45,0.9,0.8,0.12,0.6])"
   ]
  },
  {
   "cell_type": "raw",
   "metadata": {},
   "source": [
    "Q85. Write the NumPy program to convert a Python dictionary to a Numpy ndarray ?\n",
    "Original dictionary-\n",
    "{'column0': {'a': 1, 'b': 0.0, 'c': 0.0, 'd': 2.0},\n",
    "'column1': {'a': 3.0, 'b': 1, 'c': 0.0, 'd': -1.0},\n",
    "'column2': {'a': 4, 'b': 1, 'c': 5.0, 'd': -1.0},\n",
    "'column3': {'a': 3.0, 'b': -1.0, 'c': -1.0, 'd': -1.0}}\n",
    "Type: <class 'dict'>\n",
    "ndarray-\n",
    "[[ 1. 0. 0. 2.]\n",
    "[ 3. 1. 0. -1.]\n",
    "[ 4. 1. 5. -1.]\n",
    "[ 3. -1. -1. -1.]]\n",
    "Type: <class 'numpy.ndarray'>"
   ]
  },
  {
   "cell_type": "code",
   "execution_count": 39,
   "metadata": {},
   "outputs": [
    {
     "name": "stdout",
     "output_type": "stream",
     "text": [
      "[[ 1.  0.  0.  2.]\n",
      " [ 3.  1.  0. -1.]\n",
      " [ 4.  1.  5. -1.]\n",
      " [ 3. -1. -1. -1.]]\n"
     ]
    }
   ],
   "source": [
    "import numpy as np\n",
    "\n",
    "d={'column0': {'a': 1, 'b': 0.0, 'c': 0.0, 'd': 2.0},'column1': {'a': 3.0, 'b': 1, 'c': 0.0, 'd': -1.0},\n",
    "'column2': {'a': 4, 'b': 1, 'c': 5.0, 'd': -1.0},'column3': {'a': 3.0, 'b': -1.0, 'c': -1.0, 'd': -1.0}}\n",
    "l=[]\n",
    "###getting columns from nested dictionary###\n",
    "[l.append(i) for i in v.keys() for v in d.values() if i not in l]\n",
    "array1=np.array([[v[j] for j in l] for k,v in d.items()])\n",
    "print(array1)"
   ]
  },
  {
   "cell_type": "raw",
   "metadata": {},
   "source": [
    "Q86. Write the Numpy program to find and store the non-zero unique rows in an array after comparing each row with other row in the given matrix?\n",
    "Original array-\n",
    "[[ 1 1 0]\n",
    "[ 0 0 0]\n",
    "[ 0 2 3]\n",
    "[ 0 0 0]\n",
    "[ 0 -1 1]\n",
    "[ 0 0 0]]\n",
    "Non-zero unique rows-\n",
    "[[ 1 1 0]\n",
    "[ 0 2 3]\n",
    "[ 0 -1 1]]"
   ]
  },
  {
   "cell_type": "code",
   "execution_count": 85,
   "metadata": {},
   "outputs": [
    {
     "name": "stdout",
     "output_type": "stream",
     "text": [
      "[[1 2 3]\n",
      " [2 3 4]\n",
      " [6 7 8]]\n"
     ]
    }
   ],
   "source": [
    "import numpy as np\n",
    "\n",
    "array1=np.array([[1,2,3],[2,3,4],[0,0,0],[1,2,3],[6,7,8]])\n",
    "#array1=np.array([[1,1,0],[0,0,0],[0,2,3],[0,0,0],[0,-1,1],[0,0,0]])\n",
    "temp=[(0,0,0)]\n",
    "l=[]\n",
    "for ind,row in enumerate(map(tuple,array1)):\n",
    "    #[l.append(x) for x in row if x not in temp]\n",
    "    if row not in temp:\n",
    "        l.append(row)\n",
    "        temp.append(row)\n",
    "array2=np.array(l)\n",
    "print(array2)"
   ]
  },
  {
   "cell_type": "raw",
   "metadata": {},
   "source": [
    "Q87. Write the NumPy program to multiply the matrix by another matrix of complex numbers and create a new matrix of complex numbers?\n",
    "Sample output-\n",
    "First array-\n",
    "[ 1.+2.j 3.+4.j]\n",
    "Second array-\n",
    "[ 5.+6.j 7.+8.j]\n",
    "Product of above two arrays-\n",
    "(70-8j)"
   ]
  },
  {
   "cell_type": "code",
   "execution_count": null,
   "metadata": {},
   "outputs": [],
   "source": [
    "import numpy as np\n",
    "\n",
    "array1=np.array([1+2j,3+4j])\n",
    "array2=np.array([5+6j,7+8j])\n",
    "print(np.vdot(array1,array2))\n",
    "'''\n",
    "dot and matmul behaves in matrix product of an array whereas vdot first conjugate the first array and then do the\n",
    "multiplication e.g. [1+2j,3+4j]*[5+6j,7+8j]\n",
    "5(1-2j)+6j(1-2j)=5-10j+6j+12=17-4j\n",
    "7(3-4j)+8j(3-4j)=21-28j+24j+32=53-4j\n",
    "====================================\n",
    "now adding 17-4j+53-4j=70-8j\n",
    "'''\n",
    "print(np.dot(array1,array2))\n",
    "print(np.matmul(array1,array2))"
   ]
  },
  {
   "cell_type": "raw",
   "metadata": {},
   "source": [
    "Q88. Write a NumPy program to generate the matrix product of two Arrays?\n",
    "Sample Output-\n",
    "Matrices and vectors.\n",
    "x-\n",
    "[[1, 0], [1, 1]]\n",
    "y-\n",
    "[[3, 1], [2, 2]]\n",
    "Matrix product of above two arrays-\n",
    "[[3 1]\n",
    "[5 3]]"
   ]
  },
  {
   "cell_type": "code",
   "execution_count": 93,
   "metadata": {},
   "outputs": [
    {
     "name": "stdout",
     "output_type": "stream",
     "text": [
      "[[3 1]\n",
      " [5 3]]\n"
     ]
    }
   ],
   "source": [
    "import numpy as np\n",
    "\n",
    "x=np.array([[1,0],[1,1]])\n",
    "y=np.array([[3,1],[2,2]])\n",
    "\n",
    "print(np.matmul(x,y))"
   ]
  },
  {
   "cell_type": "raw",
   "metadata": {},
   "source": [
    "Q89. Write the NumPy program to find roots of the following Polynomials?\n",
    "a) (x 2 - 4x + 7)\n",
    "b) x 4 - 11x 3 + 9x 2 + 11x - 10\n",
    "Sample output-\n",
    "Roots of the first polynomial-\n",
    "[ 1. 1.]\n",
    "Roots of the second polynomial-\n",
    "[ 11.04461946+0.j -0.87114210+0.j 0.91326132+0.4531004j\n",
    "0.91326132-0.4531004j ]"
   ]
  },
  {
   "cell_type": "code",
   "execution_count": 104,
   "metadata": {},
   "outputs": [
    {
     "name": "stdout",
     "output_type": "stream",
     "text": [
      "   2\n",
      "1 x - 4 x + 7\n",
      "   4      3     2\n",
      "1 x + 11 x + 9 x + 11 x - 10\n"
     ]
    }
   ],
   "source": [
    "import numpy as np\n",
    "print(\"Roots of the first polynomial-\",np.roots([1,-4,7]))\n",
    "print(\"Roots of the second polynomial-\",np.roots([1,11,9,11,-10]))\n",
    "\n",
    "#print(np.poly1d([1,-4,7]))\n",
    "#print(np.poly1d([1,11,9,11,-10]))"
   ]
  },
  {
   "cell_type": "raw",
   "metadata": {},
   "source": [
    "Q90. Write the NumPy program to calculate inverse of sine, cosine,and inverse tangent for all elements in a given array?\n",
    "Sample output-\n",
    "Inverse sine- [-1.57079633 0. 1.57079633]\n",
    "Inverse cosine- [3.14159265 1.57079633 0. ]\n",
    "Inverse tangent- [-0.78539816 0. 0.78539816]"
   ]
  },
  {
   "cell_type": "code",
   "execution_count": 107,
   "metadata": {},
   "outputs": [
    {
     "name": "stdout",
     "output_type": "stream",
     "text": [
      "Inverse sine- [-1.57079633  0.          1.57079633]\n",
      "Inverse cosine- [3.14159265 1.57079633 0.        ]\n",
      "Inverse tangent- [-0.78539816  0.          0.78539816]\n"
     ]
    }
   ],
   "source": [
    "import numpy as np\n",
    "x=np.array([-1., 0, 1.])\n",
    "print(\"Inverse sine-\",np.arcsin(x))\n",
    "print(\"Inverse cosine-\",np.arccos(x))\n",
    "print(\"Inverse tangent-\",np.arctan(x))"
   ]
  },
  {
   "cell_type": "raw",
   "metadata": {},
   "source": [
    "Q91. Write the NumPy program to calculate the difference between in neighbouring elements, element-wise of a given array?\n",
    "Sample output-\n",
    "Original array-\n",
    "[1 3 5 7 0]\n",
    "Difference between neighbouring elements, element-wise of the said array-\n",
    "[ 2 2 2 -7]"
   ]
  },
  {
   "cell_type": "code",
   "execution_count": 117,
   "metadata": {},
   "outputs": [
    {
     "name": "stdout",
     "output_type": "stream",
     "text": [
      "[2, 2, 2, -7]\n",
      "[ 2  2  2 -7]\n"
     ]
    }
   ],
   "source": [
    "import numpy as np\n",
    "\n",
    "array1=np.array([1,3,5,7,0])\n",
    "l=[]\n",
    "for i in range(len(array1)):\n",
    "    if i ==len(array1)-1:\n",
    "        break\n",
    "    else:\n",
    "        l.append(np.subtract(array1[i+1],array1[i]))\n",
    "print(l)\n",
    "print(np.ediff1d(array1))"
   ]
  },
  {
   "cell_type": "raw",
   "metadata": {},
   "source": [
    "Q92. Write the Python program to find the maximum and the minimum value of a given flattened array?\n",
    "Expected Output-\n",
    "Original flattened array-\n",
    "[[0 1]\n",
    "[2 3]]\n",
    "Maximum value of the above flattened array-\n",
    "3\n",
    "Minimum value of the above flattened array-\n",
    "0"
   ]
  },
  {
   "cell_type": "code",
   "execution_count": 122,
   "metadata": {},
   "outputs": [
    {
     "name": "stdout",
     "output_type": "stream",
     "text": [
      "Maximum value of the above flattened array- 3 Minimum value of the above flattened array- 0\n"
     ]
    }
   ],
   "source": [
    "import numpy as np\n",
    "\n",
    "array1=np.array([[0,1],[2,3]])\n",
    "array2=array1.flatten()\n",
    "print(\"Maximum value of the above flattened array-\",array2.max(),\"Minimum value of the above flattened array-\",array2.min())"
   ]
  },
  {
   "cell_type": "raw",
   "metadata": {},
   "source": [
    "Q93. Write the NumPy program to calculate the difference between in the maximum and the minimum values of a given array along the second axis ?\n",
    "Expected Output-\n",
    "Original array-\n",
    "[[ 0 1 2 3 4 5]\n",
    "[ 6 7 8 9 10 11]]\n",
    "Difference between the maximum and the minimum values of the said array-\n",
    "[5 5]"
   ]
  },
  {
   "cell_type": "code",
   "execution_count": 132,
   "metadata": {},
   "outputs": [
    {
     "name": "stdout",
     "output_type": "stream",
     "text": [
      "[5 5]\n"
     ]
    }
   ],
   "source": [
    "import numpy as np\n",
    "\n",
    "array1=np.array([[0,1,2,3,4,5],[6,7,8,9,10,11]])\n",
    "maximumValue=array1.max(axis=1)\n",
    "minimumValue=array1.min(axis=1)\n",
    "array2=maximumValue-minimumValue\n",
    "print(array2)"
   ]
  },
  {
   "cell_type": "raw",
   "metadata": {},
   "source": [
    "Q94. Write the NumPy program to compute the weighted of the given array ?\n",
    "Sample Output-\n",
    "Original array-\n",
    "[0 1 2 3 4]\n",
    "Weighted average of the said array-\n",
    "2.6666666666666665"
   ]
  },
  {
   "cell_type": "code",
   "execution_count": 136,
   "metadata": {},
   "outputs": [
    {
     "name": "stdout",
     "output_type": "stream",
     "text": [
      "2.6666666666666665\n"
     ]
    }
   ],
   "source": [
    "import numpy as np\n",
    "\n",
    "array1=np.array([0,1,2,3,4])\n",
    "array2=np.arange(1,6)\n",
    "print(np.average(array1,weights=array2))"
   ]
  },
  {
   "cell_type": "raw",
   "metadata": {},
   "source": [
    "Q95. Write the NumPy program to compute the mean, standard deviation, and the variance of a given array along the second axis?\n",
    "Sample output-\n",
    "Original array-\n",
    "[0 1 2 3 4 5]\n",
    "Mean- 2.5\n",
    "std- 1\n",
    "variance- 2.9166666666666665"
   ]
  },
  {
   "cell_type": "code",
   "execution_count": 141,
   "metadata": {},
   "outputs": [
    {
     "name": "stdout",
     "output_type": "stream",
     "text": [
      "Mean 2.5\n",
      "std 1.707825127659933 variance 2.9166666666666665\n"
     ]
    }
   ],
   "source": [
    "import numpy as np\n",
    "\n",
    "array1=np.array([0,1,2,3,4,5])\n",
    "print(\"Mean\",np.mean(array1))\n",
    "print(\"std\",np.std(array1),\"variance\",np.var(array1))"
   ]
  },
  {
   "cell_type": "raw",
   "metadata": {},
   "source": [
    "Q96. Write the Numpy program to compute the covariance matrix of the two given arrays?\n",
    "Sample Output-\n",
    "Original array1-\n",
    "[0 1 2]\n",
    "Original array1-\n",
    "[2 1 0]\n",
    "Covariance matrix of the said arrays-\n",
    "[[ 1. -1.]\n",
    "[-1. 1.]]"
   ]
  },
  {
   "cell_type": "code",
   "execution_count": 142,
   "metadata": {},
   "outputs": [
    {
     "name": "stdout",
     "output_type": "stream",
     "text": [
      "[[ 1. -1.]\n",
      " [-1.  1.]]\n"
     ]
    }
   ],
   "source": [
    "import numpy as np\n",
    "\n",
    "array1=np.array([0,1,2])\n",
    "array2=np.array([2,1,0])\n",
    "print(np.cov(array1,array2))"
   ]
  },
  {
   "cell_type": "raw",
   "metadata": {},
   "source": [
    "Q97. Write a NumPy program to compute the cross-correlation of two given arrays ?\n",
    "Sample Output-\n",
    "Original array1-\n",
    "[0 1 3]\n",
    "Original array1-\n",
    "[2 4 5]\n",
    "Cross-correlation of the said arrays-\n",
    "[ [ 2.33333333 2.16666667 ]\n",
    "[ 2.16666667 2.33333333 ] ]"
   ]
  },
  {
   "cell_type": "code",
   "execution_count": 144,
   "metadata": {},
   "outputs": [
    {
     "data": {
      "text/plain": [
       "array([[2.33333333, 2.16666667],\n",
       "       [2.16666667, 2.33333333]])"
      ]
     },
     "execution_count": 144,
     "metadata": {},
     "output_type": "execute_result"
    }
   ],
   "source": [
    "import numpy as np\n",
    "\n",
    "array1=np.array([0,1,3])\n",
    "array2=np.array([2,4,5])\n",
    "\n",
    "np.cov(array1,array2)"
   ]
  },
  {
   "cell_type": "raw",
   "metadata": {},
   "source": [
    "Q98. Write the NumPy program to compute Pearson product-moment correlation coefficients of two given arrays?\n",
    "Sample Output-\n",
    "Original array1-\n",
    "[0 1 3]\n",
    "Original array1-\n",
    "[2 4 5]\n",
    "Pearson product-moment correlation coefficients of the said arrays-\n",
    "[[1. 0.92857143]\n",
    "[0.92857143 1. ]]"
   ]
  },
  {
   "cell_type": "code",
   "execution_count": 146,
   "metadata": {},
   "outputs": [
    {
     "name": "stdout",
     "output_type": "stream",
     "text": [
      "[[1.         0.92857143]\n",
      " [0.92857143 1.        ]]\n"
     ]
    }
   ],
   "source": [
    "import numpy as np\n",
    "\n",
    "array1=np.array([0,1,3])\n",
    "array2=np.array([2,4,5])\n",
    "\n",
    "print(np.corrcoef(array1,array2))"
   ]
  },
  {
   "cell_type": "raw",
   "metadata": {},
   "source": [
    "Q99. Write the python program to count the number of occurrences of each value in a given array of non-negative integers?\n",
    "Note: bincount() Function- It count the occurrence of each value in an array of the non- negative integers in the range of the array between the minimum and maximum values including the values that did not occur.\n",
    "Sample Output-\n",
    "Original array-\n",
    "[0, 1, 6, 1, 4, 1, 2, 2, 7]\n",
    "Number of occurrences of each value in array-\n",
    "[1 3 2 0 1 0 1 1]"
   ]
  },
  {
   "cell_type": "code",
   "execution_count": 148,
   "metadata": {},
   "outputs": [
    {
     "name": "stdout",
     "output_type": "stream",
     "text": [
      "[1 3 2 0 1 0 1 1]\n"
     ]
    }
   ],
   "source": [
    "import numpy as np\n",
    "\n",
    "array1=np.array([0,1,6,1,4,1,2,2,7])\n",
    "print(np.bincount(array1))"
   ]
  },
  {
   "cell_type": "raw",
   "metadata": {},
   "source": [
    "Q100. Write a Numpy program to compute the histogram of nums against the bins?\n",
    "Sample Output-\n",
    "nums- [0.5 0.7 1. 1.2 1.3 2.1]\n",
    "bins- [0 1 2 3]\n",
    "Result- (array([2, 3, 1], dtype=int64), array([0, 1, 2, 3]))"
   ]
  },
  {
   "cell_type": "code",
   "execution_count": 153,
   "metadata": {},
   "outputs": [
    {
     "name": "stdout",
     "output_type": "stream",
     "text": [
      "(array([2, 3, 1]), array([0, 1, 2, 3]))\n",
      "(array([2., 3., 1.]), array([0, 1, 2, 3]), <a list of 3 Patch objects>)\n"
     ]
    },
    {
     "data": {
      "image/png": "[encoded data removed]",
      "text/plain": [
       "<Figure size 432x288 with 1 Axes>"
      ]
     },
     "metadata": {
      "needs_background": "light"
     },
     "output_type": "display_data"
    }
   ],
   "source": [
    "import numpy as np\n",
    "import matplotlib.pyplot as plt\n",
    "\n",
    "nums=np.array([0.5,0.7,1,1.2,1.3,2.1])\n",
    "bins=np.array([0,1,2,3])\n",
    "print(np.histogram(nums,bins))\n",
    "print(plt.hist(nums,bins=bins))\n",
    "plt.show()"
   ]
  },
  {
   "cell_type": "raw",
   "metadata": {},
   "source": [
    "\n",
    "Q101. Write the Python program to add, subtract, multiply and divide two pandas series ?\n",
    "Sample Series- [2, 4, 6, 8, 10], [1, 3, 5, 7, 9]"
   ]
  },
  {
   "cell_type": "code",
   "execution_count": 8,
   "metadata": {},
   "outputs": [
    {
     "name": "stdout",
     "output_type": "stream",
     "text": [
      "add:\n",
      " 0     3\n",
      "1     7\n",
      "2    11\n",
      "3    15\n",
      "4    19\n",
      "dtype: int64\n",
      "sub\n",
      " 0    1\n",
      "1    1\n",
      "2    1\n",
      "3    1\n",
      "4    1\n",
      "dtype: int64\n",
      "multiply\n",
      " 0     2\n",
      "1    12\n",
      "2    30\n",
      "3    56\n",
      "4    90\n",
      "dtype: int64\n",
      "divide\n",
      " 0    2.000000\n",
      "1    1.333333\n",
      "2    1.200000\n",
      "3    1.142857\n",
      "4    1.111111\n",
      "dtype: float64\n"
     ]
    }
   ],
   "source": [
    "import pandas as pd\n",
    "def add(s1,s2):\n",
    "    print(\"add:\\n\",s1+s2)\n",
    "    \n",
    "def subtract(s1,s2):\n",
    "    print(\"sub\\n\",s1-s2)\n",
    "    \n",
    "def multiply(s1,s2):\n",
    "    print(\"multiply\\n\",s1*s2)\n",
    "    \n",
    "def divide(s1,s2):\n",
    "    print(\"divide\\n\",s1/s2)\n",
    "    \n",
    "lst1,lst2=[2,4,6,8,10],[1,3,5,7,9]\n",
    "s1=pd.Series(lst1)\n",
    "s2=pd.Series(lst2)\n",
    "add(s1,s2)\n",
    "subtract(s1,s2)\n",
    "multiply(s1,s2)\n",
    "divide(s1,s2)"
   ]
  },
  {
   "cell_type": "raw",
   "metadata": {},
   "source": [
    "Q102. Write a Python program to convert a dictionary to the Pandas Series?\n",
    "Sample Series-\n",
    "Original dictionary-\n",
    "{'a': 100, 'b': 200, 'c': 300, 'd': 400, 'e': 800}\n",
    "Converted series -\n",
    "a 100\n",
    "b 200\n",
    "c 300\n",
    "d 400\n",
    "e 800\n",
    "dtype- int64"
   ]
  },
  {
   "cell_type": "code",
   "execution_count": 11,
   "metadata": {},
   "outputs": [
    {
     "name": "stdout",
     "output_type": "stream",
     "text": [
      "a    100\n",
      "b    200\n",
      "c    300\n",
      "d    400\n",
      "e    800\n",
      "dtype: int64\n"
     ]
    }
   ],
   "source": [
    "import pandas as pd\n",
    "d={'a': 100, 'b': 200, 'c': 300, 'd': 400, 'e': 800}\n",
    "s=pd.Series(d.values(),index=d.keys())\n",
    "print(s)"
   ]
  },
  {
   "cell_type": "raw",
   "metadata": {},
   "source": [
    "Q103. Write a python program to change the data type of given a column or a Series?\n",
    "Sample Series-\n",
    "Original Data Series-\n",
    "0 100\n",
    "1 200\n",
    "2 python\n",
    "3 300.12\n",
    "4 400\n",
    "dtype- object\n",
    "Change the said data type to numeric-\n",
    "0 100.00\n",
    "1 200.00\n",
    "2 NaN\n",
    "3 300.12\n",
    "4 400.00\n",
    "dtype- float64"
   ]
  },
  {
   "cell_type": "code",
   "execution_count": 18,
   "metadata": {},
   "outputs": [
    {
     "name": "stdout",
     "output_type": "stream",
     "text": [
      "0       100\n",
      "1       200\n",
      "2    python\n",
      "3    300.12\n",
      "4       400\n",
      "dtype: object\n"
     ]
    },
    {
     "data": {
      "text/plain": [
       "0    100.00\n",
       "1    200.00\n",
       "2       NaN\n",
       "3    300.12\n",
       "4    400.00\n",
       "dtype: float64"
      ]
     },
     "execution_count": 18,
     "metadata": {},
     "output_type": "execute_result"
    }
   ],
   "source": [
    "import pandas as pd\n",
    "lst=[100,200,'python',300.12,400]\n",
    "d=pd.Series(lst)\n",
    "print(d)\n",
    "pd.to_numeric(d,errors='coerce')"
   ]
  },
  {
   "cell_type": "raw",
   "metadata": {},
   "source": [
    "Q104. Write the python pandas program to convert the first column of a DataFrame as a Series?\n",
    "Sample Output-\n",
    "Original DataFrame-\n",
    "col1 col2 col3\n",
    "0 1 4 7\n",
    "1 2 5 5\n",
    "2 3 6 8\n",
    "3 4 9 12\n",
    "4 7 5 1\n",
    "5 11 0 11\n",
    "1st column as a Series-\n",
    "0 1\n",
    "1 2\n",
    "2 3\n",
    "3 4\n",
    "4 7\n",
    "5 11\n",
    "Name- col1, dtype- int64\n",
    "<class 'pandas.core.series.Series'>"
   ]
  },
  {
   "cell_type": "code",
   "execution_count": 38,
   "metadata": {},
   "outputs": [
    {
     "name": "stdout",
     "output_type": "stream",
     "text": [
      "1st column as a Series-\n",
      "0     1\n",
      "1     2\n",
      "2     3\n",
      "3     4\n",
      "4     7\n",
      "5    11\n",
      "Name: col1, dtype: int64\n",
      "<class 'pandas.core.series.Series'>\n"
     ]
    }
   ],
   "source": [
    "import pandas as pd\n",
    "lst=[[1,4,7],[2,5,5],[3,6,8],[4,9,12],[7,5,1],[11,0,11]]\n",
    "d=pd.DataFrame(lst,columns=['col1','col2','col3'])\n",
    "s=d['col1']\n",
    "print(\"1st column as a Series-\\n{}\\n{}\".format(s,type(s)))"
   ]
  },
  {
   "cell_type": "raw",
   "metadata": {},
   "source": [
    "Q105. Write a pandas program to create the mean and standard deviation of the data of a given Series?\n",
    "Sample Output-\n",
    "Original Data Series-\n",
    "0 1\n",
    "1 2\n",
    "2 3\n",
    "3 4\n",
    "4 5\n",
    "5 6\n",
    "6 7\n",
    "7 8\n",
    "8 9\n",
    "9 5\n",
    "10 3\n",
    "dtype- int64\n",
    "Mean of the said Data Series-\n",
    "4.81818181818\n",
    "Standard deviation of the said Data Series-\n",
    "2.52262489555"
   ]
  },
  {
   "cell_type": "code",
   "execution_count": 42,
   "metadata": {},
   "outputs": [
    {
     "name": "stdout",
     "output_type": "stream",
     "text": [
      "Original Data Series-\n",
      " 0     1\n",
      "1     2\n",
      "2     3\n",
      "3     4\n",
      "4     5\n",
      "5     6\n",
      "6     7\n",
      "7     8\n",
      "8     9\n",
      "9     5\n",
      "10    3\n",
      "dtype: int64\n",
      "Mean of the said Data Series-\n",
      " 4.818181818181818\n",
      "Standard deviation of the said Data Series-\n",
      " 2.522624895547565\n"
     ]
    }
   ],
   "source": [
    "import pandas as pd\n",
    "lst=[1,2,3,4,5,6,7,8,9,5,3]\n",
    "s=pd.Series(lst)\n",
    "print(\"Original Data Series-\\n\",s)\n",
    "print(\"Mean of the said Data Series-\\n\",s.mean())\n",
    "print(\"Standard deviation of the said Data Series-\\n\",s.std())"
   ]
  },
  {
   "cell_type": "raw",
   "metadata": {},
   "source": [
    "Q106. Write a pandas program to get powers of an array values element-wise?\n",
    "Note First array elements raised the powers from the second array.\n",
    "Sample data: {'X ':[78,85,96,80,86], ' Y ':[84,94,89,83,86],'Z':[86,97,96,72,83]}\n",
    "Expected Output:\n",
    "  X  Y  Z\n",
    "0 78 84 86\n",
    "1 85 94 97\n",
    "2 96 89 96\n",
    "3 80 83 72\n",
    "4 86 86 83"
   ]
  },
  {
   "cell_type": "code",
   "execution_count": 1,
   "metadata": {},
   "outputs": [
    {
     "name": "stdout",
     "output_type": "stream",
     "text": [
      "   X    Y    Z\n",
      "0  78   84  86\n",
      "1  85   94  97\n",
      "2  96   89  96\n",
      "3  80   83  72\n",
      "4  86   86  83\n"
     ]
    }
   ],
   "source": [
    "import pandas as pd\n",
    "\n",
    "di={'X ':[78,85,96,80,86], ' Y ':[84,94,89,83,86],'Z':[86,97,96,72,83]}\n",
    "\n",
    "d=pd.DataFrame(di)\n",
    "print(d)"
   ]
  },
  {
   "cell_type": "raw",
   "metadata": {},
   "source": [
    "Q107. Write the pandas program to get the first 3 rows of a given DataFrame?\n",
    "Sample Python dictionary data and list labels-\n",
    "exam_data = {'name': ['Anastasia','Dima','Katherine','James','Emily','Michael','Matthew','Laura','Kevin','Jonas'],\n",
    "             'score': [12.5, 9, 16.5, np.nan, 9, 20, 14.5, np.nan, 8, 19],\n",
    "             'attempts'- [1, 3, 2, 3, 2, 3, 1, 1, 2, 1],\n",
    "             'qualify'- [ 'yes', 'no', 'yes' , 'no', ' no ', ' yes ', 'yes', 'no', 'no', 'yes' ] }\n",
    "labels = ['a', 'b', 'c', 'd', 'e', 'f', 'g', 'h', 'i', 'j' ]\n",
    "Expected Output-\n",
    "First three rows of the data frame-\n",
    "attempts name qualify score\n",
    "a 1 Anastasia yes 12.5\n",
    "b 3 Dima no 9.0\n",
    "c 2 Katherine yes 16.5"
   ]
  },
  {
   "cell_type": "code",
   "execution_count": 8,
   "metadata": {},
   "outputs": [
    {
     "name": "stdout",
     "output_type": "stream",
     "text": [
      "        name  score  attempts qualify\n",
      "a  Anastasia   12.5         1     yes\n",
      "b       Dima    9.0         3      no\n",
      "c  Katherine   16.5         2     yes\n",
      "        name  score  attempts qualify\n",
      "a  Anastasia   12.5         1     yes\n",
      "b       Dima    9.0         3      no\n",
      "c  Katherine   16.5         2     yes\n"
     ]
    }
   ],
   "source": [
    "import pandas as pd\n",
    "import numpy as np\n",
    "\n",
    "exam_data={'name': ['Anastasia','Dima','Katherine','James','Emily','Michael','Matthew','Laura','Kevin','Jonas'],\n",
    "'score': [12.5, 9, 16.5, np.nan, 9, 20, 14.5, np.nan, 8, 19],'attempts': [1, 3, 2, 3, 2, 3, 1, 1, 2, 1],\n",
    "'qualify': [ 'yes', 'no', 'yes' , 'no', ' no ', ' yes ', 'yes', 'no', 'no', 'yes' ] }\n",
    "\n",
    "labels = ['a', 'b', 'c', 'd', 'e', 'f', 'g', 'h', 'i', 'j' ]\n",
    "\n",
    "d=pd.DataFrame(exam_data,index=labels)\n",
    "print(d.head(3))\n",
    "print(d.iloc[:3])"
   ]
  },
  {
   "cell_type": "raw",
   "metadata": {},
   "source": [
    "Q108: Write the pandas program to select the specified columns and the rows from a given data frame?\n",
    "\n",
    "Sample Python dictionary data and list labels-\n",
    "Select 'name' and 'score' columns in rows 1, 3, 5, 6 from the following data frame.\n",
    "\n",
    "exam_data = {'name ': ['Anastasia','Dima','Katherine','James','Emily','Michael',Matthew','Laura','Kevin','Jonas'],\n",
    "             'score': [12.5, 9, 16.5, np.nan, 9, 20, 14.5, np.nan, 8, 19],\n",
    "             'attempts': [1, 3, 2, 3, 2, 3, 1, 1, 2, 1],\n",
    "             'qualify': ['yes', 'no', 'yes', 'no', 'no', 'yes', 'yes', 'no', 'no', 'yes'] }\n",
    "labels = ['a ', ' b ', ' c ', ' d ', ' e ', ' f ', ' g ', 'h', 'i', 'j']\n",
    "Expected Output-\n",
    "Select specific columns and rows-\n",
    "name score\n",
    "b Dima 9.0\n",
    "d James NaN\n",
    "f Michael 20.0\n",
    "g Matthew 14.5"
   ]
  },
  {
   "cell_type": "code",
   "execution_count": 34,
   "metadata": {},
   "outputs": [
    {
     "name": "stdout",
     "output_type": "stream",
     "text": [
      "        name  score\n",
      " b      Dima    9.0\n",
      " d     James    NaN\n",
      " f   Michael   20.0\n",
      " g   Matthew   14.5\n"
     ]
    }
   ],
   "source": [
    "import pandas as pd\n",
    "import numpy as np\n",
    "\n",
    "exam_data = {'name': ['Anastasia','Dima','Katherine','James','Emily','Michael','Matthew','Laura','Kevin','Jonas'],\n",
    "             'score': [12.5, 9, 16.5, np.nan, 9, 20, 14.5, np.nan, 8, 19],\n",
    "             'attempts': [1, 3, 2, 3, 2, 3, 1, 1, 2, 1],\n",
    "             'qualify': ['yes', 'no', 'yes', 'no', 'no', 'yes', 'yes', 'no', 'no', 'yes'] }\n",
    "labels = ['a ', ' b ', ' c ', ' d ', ' e ', ' f ', ' g ', 'h', 'i', 'j']\n",
    "                       \n",
    "df1=pd.DataFrame(exam_data,index=labels)\n",
    "print(df1.iloc[[1,3,5,6]][['name','score']])"
   ]
  },
  {
   "cell_type": "raw",
   "metadata": {},
   "source": [
    "Q109. Write the pandas program to calculate mean score for each different student in DataFrame?\n",
    "Sample Python dictionary data and list labels-\n",
    "exam_data = {'name': ['Anastasia','Dima','Katherine','James','Emily','Michael','Matthew','Laura','Kevin','Jonas'],\n",
    "'score': [12.5, 9, 16.5, np.nan, 9, 20, 14.5, np.nan, 8, 19],\n",
    "'attempts':[1, 3, 2, 3, 2, 3, 1, 1, 2, 1],\n",
    "'qualify':['yes', 'no', ' yes ', ' no ', ' no ', ' yes ', ' yes ', ' no ', ' no ', ' yes '] }\n",
    "labels = ['a', 'b', 'c', 'd', 'e', 'f', 'g', 'h', 'i', 'j']\n",
    "Expected Output-\n",
    "Mean score for each different student in data frame:\n",
    "13.5625"
   ]
  },
  {
   "cell_type": "code",
   "execution_count": 39,
   "metadata": {},
   "outputs": [
    {
     "name": "stdout",
     "output_type": "stream",
     "text": [
      "13.5625\n"
     ]
    }
   ],
   "source": [
    "import pandas as pd\n",
    "import numpy as np\n",
    "\n",
    "exam_data = {'name': ['Anastasia','Dima','Katherine','James','Emily','Michael','Matthew','Laura','Kevin','Jonas'],\n",
    "             'score': [12.5, 9, 16.5, np.nan, 9, 20, 14.5, np.nan, 8, 19],\n",
    "             'attempts':[1, 3, 2, 3, 2, 3, 1, 1, 2, 1],\n",
    "             'qualify':['yes', 'no', ' yes ', ' no ', ' no ', ' yes ', ' yes ', ' no ', ' no ', ' yes '] }\n",
    "labels = ['a', 'b', 'c', 'd', 'e', 'f', 'g', 'h', 'i', 'j']\n",
    "\n",
    "df1=pd.DataFrame(exam_data)\n",
    "print(df1['score'].mean())"
   ]
  },
  {
   "cell_type": "raw",
   "metadata": {},
   "source": [
    "Q110. Write the Pandas program to rename columns of a given DataFrame ?\n",
    "Sample data-\n",
    "Original data frame\n",
    "col1 col2 col3\n",
    "0 1 4 7\n",
    "1 2 5 8\n",
    "2 3 6 9\n",
    "New data frame after renaming columns:\n",
    "Column1 Column2 Column3\n",
    "0 1 4 7\n",
    "1 2 5 8\n",
    "2 3 6 9"
   ]
  },
  {
   "cell_type": "code",
   "execution_count": 45,
   "metadata": {},
   "outputs": [
    {
     "name": "stdout",
     "output_type": "stream",
     "text": [
      "   Column1  Column2  Column3\n",
      "0        1        4        7\n",
      "1        2        5        8\n",
      "2        3        6        9\n"
     ]
    }
   ],
   "source": [
    "import pandas as pd\n",
    "\n",
    "df1=pd.DataFrame([[1,4,7],[2,5,8],[3,6,9]],columns=['col1','col2','col3'])\n",
    "print(df1.rename(columns={'col1':'Column1','col2':'Column2','col3':'Column3'}))"
   ]
  },
  {
   "cell_type": "raw",
   "metadata": {},
   "source": [
    "Q111. Write a pandas program to count city-wise number of people from a given of data set (city, name of the person)?\n",
    "Sample data-\n",
    "  city        Number of people\n",
    "0 California  4\n",
    "1 Georgia     2\n",
    "2 Los Angeles 4"
   ]
  },
  {
   "cell_type": "code",
   "execution_count": 59,
   "metadata": {},
   "outputs": [
    {
     "name": "stdout",
     "output_type": "stream",
     "text": [
      "          city  Number of people\n",
      "0   Californai                 4\n",
      "1      Georgia                 3\n",
      "2  Los Angeles                 3\n"
     ]
    }
   ],
   "source": [
    "import pandas as pd\n",
    "\n",
    "exam_data = {'name': ['Anastasia','Dima','Katherine','James','Emily','Michael','Matthew','Laura','Kevin','Jonas'],\n",
    "             'city':['Californai','Georgia','Los Angeles','Californai','Georgia','Los Angeles','Californai','Georgia','Los Angeles','Californai']}\n",
    "\n",
    "df1=pd.DataFrame(exam_data)\n",
    "df2=df1.groupby(['city']).count().reset_index().rename(columns={'city':'city','name':'Number of people'})\n",
    "print(df2)"
   ]
  },
  {
   "cell_type": "raw",
   "metadata": {},
   "source": [
    "Q112. Write a pandas program to widen output display to see more columns?\n",
    "Sample data-\n",
    "Original data frame\n",
    "col1 col2 col3\n",
    "0 1 4 7\n",
    "1 4 5 8\n",
    "2 3 6 9\n",
    "3 4 7 0\n",
    "4 5 8 1"
   ]
  },
  {
   "cell_type": "code",
   "execution_count": 81,
   "metadata": {},
   "outputs": [
    {
     "name": "stdout",
     "output_type": "stream",
     "text": [
      "   col1  col2  col3  col4  col5  col6  ...  col15  col16  col17  col18  col19  col20\n",
      "0     1     4     7     1     6     1  ...      6      1      4      7      1      6\n",
      "1     4     5     8     2     7     4  ...      7      4      5      8      2      7\n",
      "2     3     6     9     3     8     3  ...      8      3      6      9      3      8\n",
      "3     4     7     0     4     9     4  ...      9      4      7      0      4      9\n",
      "4     5     8     1     5     0     5  ...      0      5      8      1      5      0\n",
      "\n",
      "[5 rows x 20 columns]\n",
      "   col1  col2  col3  col4  col5  col6  col7  col8  col9  col10  col11  col12  col13  col14  col15  col16  col17  col18  col19  col20\n",
      "0     1     4     7     1     6     1     4     7     1      6      1      4      7      1      6      1      4      7      1      6\n",
      "1     4     5     8     2     7     4     5     8     2      7      4      5      8      2      7      4      5      8      2      7\n",
      "2     3     6     9     3     8     3     6     9     3      8      3      6      9      3      8      3      6      9      3      8\n",
      "3     4     7     0     4     9     4     7     0     4      9      4      7      0      4      9      4      7      0      4      9\n",
      "4     5     8     1     5     0     5     8     1     5      0      5      8      1      5      0      5      8      1      5      0\n"
     ]
    }
   ],
   "source": [
    "import pandas as pd\n",
    "\n",
    "d={'col1':[1,4,3,4,5],'col2':[4,5,6,7,8],'col3':[7,8,9,0,1],'col4':[1,2,3,4,5],'col5':[6,7,8,9,0],\n",
    "   'col6':[1,4,3,4,5],'col7':[4,5,6,7,8],'col8':[7,8,9,0,1],'col9':[1,2,3,4,5],'col10':[6,7,8,9,0],\n",
    "   'col11':[1,4,3,4,5],'col12':[4,5,6,7,8],'col13':[7,8,9,0,1],'col14':[1,2,3,4,5],'col15':[6,7,8,9,0],\n",
    "   'col16':[1,4,3,4,5],'col17':[4,5,6,7,8],'col18':[7,8,9,0,1],'col19':[1,2,3,4,5],'col20':[6,7,8,9,0]}\n",
    "df=pd.DataFrame(d)\n",
    "print(df)\n",
    "pd.set_option('display.max_rows', 200)\n",
    "pd.set_option('display.max_columns', 200)\n",
    "pd.set_option('display.width', 1000)\n",
    "print(df)"
   ]
  },
  {
   "cell_type": "raw",
   "metadata": {},
   "source": [
    "Q113. Write a pandas program to convert the data frame column type from string to DateTime?\n",
    "Sample data-\n",
    "String Date-\n",
    "0 3/11/2000\n",
    "1 3/12/2000\n",
    "2 3/13/2000\n",
    "dtype- object\n",
    "Original DataFrame (string to datetime)-\n",
    "0\n",
    "0 2000-03-11\n",
    "1 2000-03-12\n",
    "2 2000-03-13"
   ]
  },
  {
   "cell_type": "code",
   "execution_count": 93,
   "metadata": {},
   "outputs": [
    {
     "name": "stdout",
     "output_type": "stream",
     "text": [
      "        Date\n",
      "0  3/11/2000\n",
      "1  3/12/2000\n",
      "2  3/13/2000\n",
      "String To datetime -\n",
      " 0   2000-03-11\n",
      "1   2000-03-12\n",
      "2   2000-03-13\n",
      "Name: Date, dtype: datetime64[ns]\n"
     ]
    }
   ],
   "source": [
    "import pandas as pd\n",
    "\n",
    "df1=pd.DataFrame(['3/11/2000','3/12/2000','3/13/2000'],columns=['Date'])\n",
    "print(df1)\n",
    "print(\"String To datetime -\\n\",pd.to_datetime(df1['Date']))"
   ]
  },
  {
   "cell_type": "raw",
   "metadata": {},
   "source": [
    "Q114. Write a pandas program to append the data to an empty DataFrame?\n",
    "Sample data-\n",
    "Original DataFrame- After appending some data: col1 col2 0 0 0 1 1 1 2 2 2"
   ]
  },
  {
   "cell_type": "code",
   "execution_count": 102,
   "metadata": {},
   "outputs": [
    {
     "name": "stdout",
     "output_type": "stream",
     "text": [
      "Empty DataFrame\n",
      "Columns: []\n",
      "Index: [] \n",
      "    col1  col2\n",
      "0     0     0\n",
      "1     1     1\n",
      "2     2     2\n",
      "After appending data: \n",
      "    col1  col2\n",
      "0     0     0\n",
      "1     1     1\n",
      "2     2     2\n"
     ]
    }
   ],
   "source": [
    "import pandas as pd\n",
    "\n",
    "df1=pd.DataFrame()\n",
    "df2=pd.DataFrame({\"col1\":range(3),\"col2\":range(3)})\n",
    "print(df1,\"\\n\",df2)\n",
    "df1=df1.append(df2)\n",
    "print(\"After appending data: \\n\",df1)"
   ]
  },
  {
   "cell_type": "raw",
   "metadata": {},
   "source": [
    "Q115. Write a pandas program to count the number of columns of a DataFrame?\n",
    "Sample Output-\n",
    "Original DataFrame\n",
    "col1 col2 col3\n",
    "0 1 4 7\n",
    "1 2 5 8\n",
    "2 3 6 12\n",
    "3 4 9 1\n",
    "4 7 5 11\n",
    "Number of columns- 3"
   ]
  },
  {
   "cell_type": "code",
   "execution_count": 106,
   "metadata": {},
   "outputs": [
    {
     "name": "stdout",
     "output_type": "stream",
     "text": [
      "Number of columns- 3\n"
     ]
    }
   ],
   "source": [
    "import pandas as pd\n",
    "\n",
    "df1=pd.DataFrame({'col1':[1,2,3,4,7],'col2':[4,5,6,9,5],'col3':[7,8,12,1,11]})\n",
    "print(\"Number of columns-\",len(df1.columns))"
   ]
  },
  {
   "cell_type": "raw",
   "metadata": {},
   "source": [
    "Q116. Write a Pandas program to remove the last n rows of a given DataFrame ?\n",
    "Sample Output:\n",
    "Original DataFrame\n",
    "col1 col2 col3\n",
    "0 1 4 7\n",
    "1 2 5 5\n",
    "2 3 6 8\n",
    "3 4 9 12\n",
    "4 7 5 1\n",
    "5 11 0 11\n",
    "After removing last 3 rows of the said DataFrame-\n",
    "col1 col2 col3\n",
    "0 1 4 7\n",
    "1 2 5 5\n",
    "2 3 6 8"
   ]
  },
  {
   "cell_type": "code",
   "execution_count": 111,
   "metadata": {},
   "outputs": [
    {
     "name": "stdout",
     "output_type": "stream",
     "text": [
      "3\n",
      "Original DataFrame \n",
      "    col1  col2  col3\n",
      "0     1     4     7\n",
      "1     2     5     5\n",
      "2     3     6     8\n",
      "3     4     9    12\n",
      "4     7     5     1\n",
      "5    11     0    11\n",
      "After removing last 3 rows of the said DataFrame-\n",
      "    col1  col2  col3\n",
      "0     1     4     7\n",
      "1     2     5     5\n",
      "2     3     6     8\n"
     ]
    }
   ],
   "source": [
    "import pandas as pd\n",
    "n=int(input())\n",
    "\n",
    "df1=pd.DataFrame({'col1':[1,2,3,4,7,11],'col2':[4,5,6,9,5,0],'col3':[7,5,8,12,1,11]})\n",
    "print(\"Original DataFrame \\n\",df1)\n",
    "print(\"After removing last 3 rows of the said DataFrame-\\n\",df1[:-3])"
   ]
  },
  {
   "cell_type": "raw",
   "metadata": {},
   "source": [
    "Q117. Write a Pandas program to import excel data (coalpublic2013.xlsx) into a Pandas data frame."
   ]
  },
  {
   "cell_type": "code",
   "execution_count": 115,
   "metadata": {},
   "outputs": [
    {
     "name": "stdout",
     "output_type": "stream",
     "text": [
      "    Year  MSHA ID                       Mine_Name  Production  Labor_Hours\n",
      "0   2013   103381            Tacoa Highwall Miner       56004        22392\n",
      "1   2013   103404                Reid School Mine       28807        28447\n",
      "2   2013   100759  North River #1 Underground Min     1440115       474784\n",
      "3   2013   103246                      Bear Creek       87587        29193\n",
      "4   2013   103451                     Knight Mine      147499        46393\n",
      "5   2013   103433              Crane Central Mine       69339        47195\n",
      "6   2013   100329                    Concord Mine           0       144002\n",
      "7   2013   100851                  Oak Grove Mine     2269014      1001809\n",
      "8   2013   102901                Shoal Creek Mine           0        12396\n",
      "9   2013   102901                Shoal Creek Mine     1453024      1237415\n",
      "10  2013   103180             Sloan Mountain Mine      327780       196963\n",
      "11  2013   103182                        Fishtrap      175058        87314\n",
      "12  2013   103285                     Narley Mine      154861        90584\n",
      "13  2013   103332                   Powhatan Mine      140521        61394\n",
      "14  2013   103375                    Johnson Mine         580         1900\n",
      "15  2013   103419               Maxine-Pratt Mine      125824       107469\n",
      "16  2013   103432                   Skelton Creek        8252          220\n",
      "17  2013   103437         Black Warrior Mine No 1      145924        70926\n",
      "18  2013   102976   Piney Woods Preparation Plant           0        14828\n",
      "19  2013   102976   Piney Woods Preparation Plant           0        23193\n",
      "20  2013   103380                          Calera           0        12621\n",
      "21  2013   103380                          Calera           0         1402\n",
      "22  2013   103422                 Clark No 1 Mine      122727       140250\n",
      "23  2013   103467             Helena Surface Mine       59664        30539\n",
      "24  2013   101247                       No 4 Mine     2622528      1551141\n",
      "25  2013   101401                       No 7 Mine     5405412      2464719\n",
      "26  2013   103172  Searles Mine No. 2, 3, 4, 5, 6      258078       119542\n",
      "27  2013   103179             Fleetwood Mine No 1       75937        63745\n",
      "28  2013   103303                    Shannon Mine      317491       164388\n",
      "29  2013   103323                   Deerlick Mine      133452        46381\n",
      "30  2013   103364           Brc Alabama No. 7 Llc           0        14324\n",
      "31  2013   103436                Swann's Crossing      137511        77190\n",
      "32  2013   100347                    Choctaw Mine      537429       215295\n",
      "33  2013   101362                 Manchester Mine      219457       116914\n",
      "34  2013   102996                  Jap Creek Mine      375715       164093\n",
      "35  2013   103155              Corinth Prep Plant           0        27996\n",
      "36  2013   103155              Corinth Prep Plant           0        51994\n",
      "37  2013   103195     Mccollum/Sparks Branch Mine       71910        17411\n",
      "38  2013   103342             Reese's Branch Mine      263888       115123\n",
      "39  2013   103370             Cresent Valley Mine        2860          621\n",
      "40  2013   103372                 Cane Creek Mine       66258        32401\n",
      "41  2013   103376                      Town Creek      299167       176499\n",
      "42  2013   103389                Carbon Hill Mine       76241        84966\n",
      "43  2013   103410                Coal Valley Mine      407841       158591\n",
      "44  2013   103423                Dutton Hill Mine       37275         9162\n",
      "45  2013  1519322                         Ghm #25       25054         3108\n",
      "46  2013   103321                  Poplar Springs      189370        76366\n",
      "47  2013   103358                       Old Union      284563       161805\n",
      "48  2013  5000030                        Usibelli     1631584       286079\n",
      "49  2013   201195                    Kayenta Mine     7602722      1015333\n"
     ]
    }
   ],
   "source": [
    "import pandas as pd\n",
    "\n",
    "df1=pd.read_excel('/home/manish/Downloads/coalpublic2013.xlsx')\n",
    "print(df1)"
   ]
  },
  {
   "cell_type": "raw",
   "metadata": {},
   "source": [
    "Q118. Write a Pandas program to import excel data (coalpublic2013.xlsx) into a data frame and find details where \"Mine Name\" starts with \"P."
   ]
  },
  {
   "cell_type": "code",
   "execution_count": 134,
   "metadata": {},
   "outputs": [
    {
     "name": "stdout",
     "output_type": "stream",
     "text": [
      "    Year  MSHA ID                      Mine_Name  Production  Labor_Hours\n",
      "13  2013   103332                  Powhatan Mine      140521        61394\n",
      "18  2013   102976  Piney Woods Preparation Plant           0        14828\n",
      "19  2013   102976  Piney Woods Preparation Plant           0        23193\n",
      "46  2013   103321                 Poplar Springs      189370        76366\n"
     ]
    }
   ],
   "source": [
    "import pandas as pd\n",
    "import numpy as np\n",
    "\n",
    "def matchCharacter(s):\n",
    "    if s[0]=='P':\n",
    "        return s\n",
    "df1=pd.read_excel('/home/manish/Downloads/coalpublic2013.xlsx')\n",
    "df1['Mine_Name']=df1['Mine_Name'].apply(matchCharacter)\n",
    "print(df1.dropna())"
   ]
  },
  {
   "cell_type": "raw",
   "metadata": {},
   "source": [
    "Q119. Write a Pandas program to import excel data (employee.xlsx ) into a Pandas dataframe and find the list of employees where hire_date> 01-01-07."
   ]
  },
  {
   "cell_type": "code",
   "execution_count": 159,
   "metadata": {},
   "outputs": [
    {
     "name": "stdout",
     "output_type": "stream",
     "text": [
      "   emp_id first_name   last_name  hire_date\n",
      "0   104.0      Bruce       Ernst 2007-05-21\n",
      "1   107.0      Diana     Lorentz 2007-02-07\n",
      "2   113.0       Luis        Popp 2007-12-07\n",
      "3   119.0      Karen  Colmenares 2007-08-10\n"
     ]
    }
   ],
   "source": [
    "import pandas as pd\n",
    "import numpy as np\n",
    "\n",
    "df1=pd.read_excel('/home/manish/Downloads/employee.xlsx')\n",
    "f=df1['hire_date']>'2007-01-01'\n",
    "df1.where(f,inplace=True)\n",
    "print(df1.dropna().reset_index(drop=True))"
   ]
  },
  {
   "cell_type": "raw",
   "metadata": {},
   "source": [
    "Q120. Write a Pandas program to import excel data (employee.xlsx )into a Pandas dataframe and find a list of the employees of a specified year."
   ]
  },
  {
   "cell_type": "code",
   "execution_count": 186,
   "metadata": {},
   "outputs": [
    {
     "name": "stdout",
     "output_type": "stream",
     "text": [
      "Enter year2005\n",
      "    emp_id first_name last_name  hire_date  hire_date_year\n",
      "1      101      Neena   Kochhar 2005-09-21            2005\n",
      "5      105      David    Austin 2005-06-25            2005\n",
      "10     110       John      Chen 2005-09-28            2005\n",
      "11     111     Ismael   Sciarra 2005-09-30            2005\n",
      "16     116     Shelli     Baida 2005-12-24            2005\n",
      "17     117      Sigal    Tobias 2005-07-24            2005\n"
     ]
    }
   ],
   "source": [
    "import pandas as pd\n",
    "year=int(input(\"Enter year\"))\n",
    "df1=pd.read_excel('/home/manish/Downloads/employee.xlsx')\n",
    "df1['hire_date_year']=df1['hire_date'].dt.year\n",
    "df2=df1.groupby('hire_date_year')\n",
    "'''\n",
    "for year,employee in df2:\n",
    "    print(year)\n",
    "    print(employee)\n",
    "'''\n",
    "print(df2.get_group(year))"
   ]
  },
  {
   "cell_type": "raw",
   "metadata": {},
   "source": [
    "Q121. Write a pandas program to import three datasheets from a given excel data (coalpublic2013.xlsx ) in to a single dataframe."
   ]
  },
  {
   "cell_type": "code",
   "execution_count": 6,
   "metadata": {},
   "outputs": [
    {
     "data": {
      "text/html": [
       "<div>\n",
       "<style scoped>\n",
       "    .dataframe tbody tr th:only-of-type {\n",
       "        vertical-align: middle;\n",
       "    }\n",
       "\n",
       "    .dataframe tbody tr th {\n",
       "        vertical-align: top;\n",
       "    }\n",
       "\n",
       "    .dataframe thead th {\n",
       "        text-align: right;\n",
       "    }\n",
       "</style>\n",
       "<table border=\"1\" class=\"dataframe\">\n",
       "  <thead>\n",
       "    <tr style=\"text-align: right;\">\n",
       "      <th></th>\n",
       "      <th>Year</th>\n",
       "      <th>MSHA ID</th>\n",
       "      <th>Mine_Name</th>\n",
       "      <th>Production</th>\n",
       "      <th>Labor_Hours</th>\n",
       "    </tr>\n",
       "  </thead>\n",
       "  <tbody>\n",
       "    <tr>\n",
       "      <th>0</th>\n",
       "      <td>2013</td>\n",
       "      <td>103381</td>\n",
       "      <td>Tacoa Highwall Miner</td>\n",
       "      <td>56004</td>\n",
       "      <td>22392</td>\n",
       "    </tr>\n",
       "    <tr>\n",
       "      <th>1</th>\n",
       "      <td>2013</td>\n",
       "      <td>103404</td>\n",
       "      <td>Reid School Mine</td>\n",
       "      <td>28807</td>\n",
       "      <td>28447</td>\n",
       "    </tr>\n",
       "    <tr>\n",
       "      <th>2</th>\n",
       "      <td>2013</td>\n",
       "      <td>100759</td>\n",
       "      <td>North River #1 Underground Min</td>\n",
       "      <td>1440115</td>\n",
       "      <td>474784</td>\n",
       "    </tr>\n",
       "    <tr>\n",
       "      <th>3</th>\n",
       "      <td>2013</td>\n",
       "      <td>103246</td>\n",
       "      <td>Bear Creek</td>\n",
       "      <td>87587</td>\n",
       "      <td>29193</td>\n",
       "    </tr>\n",
       "    <tr>\n",
       "      <th>4</th>\n",
       "      <td>2013</td>\n",
       "      <td>103451</td>\n",
       "      <td>Knight Mine</td>\n",
       "      <td>147499</td>\n",
       "      <td>46393</td>\n",
       "    </tr>\n",
       "    <tr>\n",
       "      <th>5</th>\n",
       "      <td>2013</td>\n",
       "      <td>103433</td>\n",
       "      <td>Crane Central Mine</td>\n",
       "      <td>69339</td>\n",
       "      <td>47195</td>\n",
       "    </tr>\n",
       "    <tr>\n",
       "      <th>6</th>\n",
       "      <td>2013</td>\n",
       "      <td>100329</td>\n",
       "      <td>Concord Mine</td>\n",
       "      <td>0</td>\n",
       "      <td>144002</td>\n",
       "    </tr>\n",
       "    <tr>\n",
       "      <th>7</th>\n",
       "      <td>2013</td>\n",
       "      <td>100851</td>\n",
       "      <td>Oak Grove Mine</td>\n",
       "      <td>2269014</td>\n",
       "      <td>1001809</td>\n",
       "    </tr>\n",
       "    <tr>\n",
       "      <th>8</th>\n",
       "      <td>2013</td>\n",
       "      <td>102901</td>\n",
       "      <td>Shoal Creek Mine</td>\n",
       "      <td>0</td>\n",
       "      <td>12396</td>\n",
       "    </tr>\n",
       "    <tr>\n",
       "      <th>9</th>\n",
       "      <td>2013</td>\n",
       "      <td>102901</td>\n",
       "      <td>Shoal Creek Mine</td>\n",
       "      <td>1453024</td>\n",
       "      <td>1237415</td>\n",
       "    </tr>\n",
       "    <tr>\n",
       "      <th>10</th>\n",
       "      <td>2013</td>\n",
       "      <td>103180</td>\n",
       "      <td>Sloan Mountain Mine</td>\n",
       "      <td>327780</td>\n",
       "      <td>196963</td>\n",
       "    </tr>\n",
       "    <tr>\n",
       "      <th>11</th>\n",
       "      <td>2013</td>\n",
       "      <td>103182</td>\n",
       "      <td>Fishtrap</td>\n",
       "      <td>175058</td>\n",
       "      <td>87314</td>\n",
       "    </tr>\n",
       "    <tr>\n",
       "      <th>12</th>\n",
       "      <td>2013</td>\n",
       "      <td>103285</td>\n",
       "      <td>Narley Mine</td>\n",
       "      <td>154861</td>\n",
       "      <td>90584</td>\n",
       "    </tr>\n",
       "    <tr>\n",
       "      <th>13</th>\n",
       "      <td>2013</td>\n",
       "      <td>103332</td>\n",
       "      <td>Powhatan Mine</td>\n",
       "      <td>140521</td>\n",
       "      <td>61394</td>\n",
       "    </tr>\n",
       "    <tr>\n",
       "      <th>14</th>\n",
       "      <td>2013</td>\n",
       "      <td>103375</td>\n",
       "      <td>Johnson Mine</td>\n",
       "      <td>580</td>\n",
       "      <td>1900</td>\n",
       "    </tr>\n",
       "    <tr>\n",
       "      <th>15</th>\n",
       "      <td>2013</td>\n",
       "      <td>103419</td>\n",
       "      <td>Maxine-Pratt Mine</td>\n",
       "      <td>125824</td>\n",
       "      <td>107469</td>\n",
       "    </tr>\n",
       "    <tr>\n",
       "      <th>16</th>\n",
       "      <td>2013</td>\n",
       "      <td>103432</td>\n",
       "      <td>Skelton Creek</td>\n",
       "      <td>8252</td>\n",
       "      <td>220</td>\n",
       "    </tr>\n",
       "    <tr>\n",
       "      <th>17</th>\n",
       "      <td>2013</td>\n",
       "      <td>103437</td>\n",
       "      <td>Black Warrior Mine No 1</td>\n",
       "      <td>145924</td>\n",
       "      <td>70926</td>\n",
       "    </tr>\n",
       "    <tr>\n",
       "      <th>18</th>\n",
       "      <td>2013</td>\n",
       "      <td>102976</td>\n",
       "      <td>Piney Woods Preparation Plant</td>\n",
       "      <td>0</td>\n",
       "      <td>14828</td>\n",
       "    </tr>\n",
       "    <tr>\n",
       "      <th>19</th>\n",
       "      <td>2013</td>\n",
       "      <td>102976</td>\n",
       "      <td>Piney Woods Preparation Plant</td>\n",
       "      <td>0</td>\n",
       "      <td>23193</td>\n",
       "    </tr>\n",
       "    <tr>\n",
       "      <th>20</th>\n",
       "      <td>2013</td>\n",
       "      <td>103380</td>\n",
       "      <td>Calera</td>\n",
       "      <td>0</td>\n",
       "      <td>12621</td>\n",
       "    </tr>\n",
       "    <tr>\n",
       "      <th>21</th>\n",
       "      <td>2013</td>\n",
       "      <td>103380</td>\n",
       "      <td>Calera</td>\n",
       "      <td>0</td>\n",
       "      <td>1402</td>\n",
       "    </tr>\n",
       "    <tr>\n",
       "      <th>22</th>\n",
       "      <td>2013</td>\n",
       "      <td>103422</td>\n",
       "      <td>Clark No 1 Mine</td>\n",
       "      <td>122727</td>\n",
       "      <td>140250</td>\n",
       "    </tr>\n",
       "    <tr>\n",
       "      <th>23</th>\n",
       "      <td>2013</td>\n",
       "      <td>103467</td>\n",
       "      <td>Helena Surface Mine</td>\n",
       "      <td>59664</td>\n",
       "      <td>30539</td>\n",
       "    </tr>\n",
       "    <tr>\n",
       "      <th>24</th>\n",
       "      <td>2013</td>\n",
       "      <td>101247</td>\n",
       "      <td>No 4 Mine</td>\n",
       "      <td>2622528</td>\n",
       "      <td>1551141</td>\n",
       "    </tr>\n",
       "    <tr>\n",
       "      <th>25</th>\n",
       "      <td>2013</td>\n",
       "      <td>101401</td>\n",
       "      <td>No 7 Mine</td>\n",
       "      <td>5405412</td>\n",
       "      <td>2464719</td>\n",
       "    </tr>\n",
       "    <tr>\n",
       "      <th>26</th>\n",
       "      <td>2013</td>\n",
       "      <td>103172</td>\n",
       "      <td>Searles Mine No. 2, 3, 4, 5, 6</td>\n",
       "      <td>258078</td>\n",
       "      <td>119542</td>\n",
       "    </tr>\n",
       "    <tr>\n",
       "      <th>27</th>\n",
       "      <td>2013</td>\n",
       "      <td>103179</td>\n",
       "      <td>Fleetwood Mine No 1</td>\n",
       "      <td>75937</td>\n",
       "      <td>63745</td>\n",
       "    </tr>\n",
       "    <tr>\n",
       "      <th>28</th>\n",
       "      <td>2013</td>\n",
       "      <td>103303</td>\n",
       "      <td>Shannon Mine</td>\n",
       "      <td>317491</td>\n",
       "      <td>164388</td>\n",
       "    </tr>\n",
       "    <tr>\n",
       "      <th>29</th>\n",
       "      <td>2013</td>\n",
       "      <td>103323</td>\n",
       "      <td>Deerlick Mine</td>\n",
       "      <td>133452</td>\n",
       "      <td>46381</td>\n",
       "    </tr>\n",
       "    <tr>\n",
       "      <th>30</th>\n",
       "      <td>2013</td>\n",
       "      <td>103364</td>\n",
       "      <td>Brc Alabama No. 7 Llc</td>\n",
       "      <td>0</td>\n",
       "      <td>14324</td>\n",
       "    </tr>\n",
       "    <tr>\n",
       "      <th>31</th>\n",
       "      <td>2013</td>\n",
       "      <td>103436</td>\n",
       "      <td>Swann's Crossing</td>\n",
       "      <td>137511</td>\n",
       "      <td>77190</td>\n",
       "    </tr>\n",
       "    <tr>\n",
       "      <th>32</th>\n",
       "      <td>2013</td>\n",
       "      <td>100347</td>\n",
       "      <td>Choctaw Mine</td>\n",
       "      <td>537429</td>\n",
       "      <td>215295</td>\n",
       "    </tr>\n",
       "    <tr>\n",
       "      <th>33</th>\n",
       "      <td>2013</td>\n",
       "      <td>101362</td>\n",
       "      <td>Manchester Mine</td>\n",
       "      <td>219457</td>\n",
       "      <td>116914</td>\n",
       "    </tr>\n",
       "    <tr>\n",
       "      <th>34</th>\n",
       "      <td>2013</td>\n",
       "      <td>102996</td>\n",
       "      <td>Jap Creek Mine</td>\n",
       "      <td>375715</td>\n",
       "      <td>164093</td>\n",
       "    </tr>\n",
       "    <tr>\n",
       "      <th>35</th>\n",
       "      <td>2013</td>\n",
       "      <td>103155</td>\n",
       "      <td>Corinth Prep Plant</td>\n",
       "      <td>0</td>\n",
       "      <td>27996</td>\n",
       "    </tr>\n",
       "    <tr>\n",
       "      <th>36</th>\n",
       "      <td>2013</td>\n",
       "      <td>103155</td>\n",
       "      <td>Corinth Prep Plant</td>\n",
       "      <td>0</td>\n",
       "      <td>51994</td>\n",
       "    </tr>\n",
       "    <tr>\n",
       "      <th>37</th>\n",
       "      <td>2013</td>\n",
       "      <td>103195</td>\n",
       "      <td>Mccollum/Sparks Branch Mine</td>\n",
       "      <td>71910</td>\n",
       "      <td>17411</td>\n",
       "    </tr>\n",
       "    <tr>\n",
       "      <th>38</th>\n",
       "      <td>2013</td>\n",
       "      <td>103342</td>\n",
       "      <td>Reese's Branch Mine</td>\n",
       "      <td>263888</td>\n",
       "      <td>115123</td>\n",
       "    </tr>\n",
       "    <tr>\n",
       "      <th>39</th>\n",
       "      <td>2013</td>\n",
       "      <td>103370</td>\n",
       "      <td>Cresent Valley Mine</td>\n",
       "      <td>2860</td>\n",
       "      <td>621</td>\n",
       "    </tr>\n",
       "    <tr>\n",
       "      <th>40</th>\n",
       "      <td>2013</td>\n",
       "      <td>103372</td>\n",
       "      <td>Cane Creek Mine</td>\n",
       "      <td>66258</td>\n",
       "      <td>32401</td>\n",
       "    </tr>\n",
       "    <tr>\n",
       "      <th>41</th>\n",
       "      <td>2013</td>\n",
       "      <td>103376</td>\n",
       "      <td>Town Creek</td>\n",
       "      <td>299167</td>\n",
       "      <td>176499</td>\n",
       "    </tr>\n",
       "    <tr>\n",
       "      <th>42</th>\n",
       "      <td>2013</td>\n",
       "      <td>103389</td>\n",
       "      <td>Carbon Hill Mine</td>\n",
       "      <td>76241</td>\n",
       "      <td>84966</td>\n",
       "    </tr>\n",
       "    <tr>\n",
       "      <th>43</th>\n",
       "      <td>2013</td>\n",
       "      <td>103410</td>\n",
       "      <td>Coal Valley Mine</td>\n",
       "      <td>407841</td>\n",
       "      <td>158591</td>\n",
       "    </tr>\n",
       "    <tr>\n",
       "      <th>44</th>\n",
       "      <td>2013</td>\n",
       "      <td>103423</td>\n",
       "      <td>Dutton Hill Mine</td>\n",
       "      <td>37275</td>\n",
       "      <td>9162</td>\n",
       "    </tr>\n",
       "    <tr>\n",
       "      <th>45</th>\n",
       "      <td>2013</td>\n",
       "      <td>1519322</td>\n",
       "      <td>Ghm #25</td>\n",
       "      <td>25054</td>\n",
       "      <td>3108</td>\n",
       "    </tr>\n",
       "    <tr>\n",
       "      <th>46</th>\n",
       "      <td>2013</td>\n",
       "      <td>103321</td>\n",
       "      <td>Poplar Springs</td>\n",
       "      <td>189370</td>\n",
       "      <td>76366</td>\n",
       "    </tr>\n",
       "    <tr>\n",
       "      <th>47</th>\n",
       "      <td>2013</td>\n",
       "      <td>103358</td>\n",
       "      <td>Old Union</td>\n",
       "      <td>284563</td>\n",
       "      <td>161805</td>\n",
       "    </tr>\n",
       "    <tr>\n",
       "      <th>48</th>\n",
       "      <td>2013</td>\n",
       "      <td>5000030</td>\n",
       "      <td>Usibelli</td>\n",
       "      <td>1631584</td>\n",
       "      <td>286079</td>\n",
       "    </tr>\n",
       "    <tr>\n",
       "      <th>49</th>\n",
       "      <td>2013</td>\n",
       "      <td>201195</td>\n",
       "      <td>Kayenta Mine</td>\n",
       "      <td>7602722</td>\n",
       "      <td>1015333</td>\n",
       "    </tr>\n",
       "    <tr>\n",
       "      <th>0</th>\n",
       "      <td>2013</td>\n",
       "      <td>1033</td>\n",
       "      <td>Tacoa Highwall Miner</td>\n",
       "      <td>56004</td>\n",
       "      <td>22392</td>\n",
       "    </tr>\n",
       "    <tr>\n",
       "      <th>1</th>\n",
       "      <td>2013</td>\n",
       "      <td>1034</td>\n",
       "      <td>Reid School Mine</td>\n",
       "      <td>28807</td>\n",
       "      <td>28447</td>\n",
       "    </tr>\n",
       "    <tr>\n",
       "      <th>2</th>\n",
       "      <td>2013</td>\n",
       "      <td>1035</td>\n",
       "      <td>North River #1 Underground Min</td>\n",
       "      <td>1440115</td>\n",
       "      <td>474784</td>\n",
       "    </tr>\n",
       "    <tr>\n",
       "      <th>3</th>\n",
       "      <td>2013</td>\n",
       "      <td>1036</td>\n",
       "      <td>Bear Creek</td>\n",
       "      <td>87587</td>\n",
       "      <td>29193</td>\n",
       "    </tr>\n",
       "    <tr>\n",
       "      <th>4</th>\n",
       "      <td>2013</td>\n",
       "      <td>1037</td>\n",
       "      <td>Knight Mine</td>\n",
       "      <td>147499</td>\n",
       "      <td>46393</td>\n",
       "    </tr>\n",
       "    <tr>\n",
       "      <th>5</th>\n",
       "      <td>2013</td>\n",
       "      <td>1038</td>\n",
       "      <td>Crane Central Mine</td>\n",
       "      <td>69339</td>\n",
       "      <td>47195</td>\n",
       "    </tr>\n",
       "    <tr>\n",
       "      <th>6</th>\n",
       "      <td>2013</td>\n",
       "      <td>1039</td>\n",
       "      <td>Concord Mine</td>\n",
       "      <td>0</td>\n",
       "      <td>144002</td>\n",
       "    </tr>\n",
       "    <tr>\n",
       "      <th>7</th>\n",
       "      <td>2013</td>\n",
       "      <td>1040</td>\n",
       "      <td>Oak Grove Mine</td>\n",
       "      <td>2269014</td>\n",
       "      <td>1001809</td>\n",
       "    </tr>\n",
       "    <tr>\n",
       "      <th>8</th>\n",
       "      <td>2013</td>\n",
       "      <td>1041</td>\n",
       "      <td>Shoal Creek Mine</td>\n",
       "      <td>0</td>\n",
       "      <td>12396</td>\n",
       "    </tr>\n",
       "    <tr>\n",
       "      <th>9</th>\n",
       "      <td>2013</td>\n",
       "      <td>1042</td>\n",
       "      <td>Shoal Creek Mine</td>\n",
       "      <td>1453024</td>\n",
       "      <td>1237415</td>\n",
       "    </tr>\n",
       "  </tbody>\n",
       "</table>\n",
       "</div>"
      ],
      "text/plain": [
       "    Year  MSHA ID                       Mine_Name  Production  Labor_Hours\n",
       "0   2013   103381            Tacoa Highwall Miner       56004        22392\n",
       "1   2013   103404                Reid School Mine       28807        28447\n",
       "2   2013   100759  North River #1 Underground Min     1440115       474784\n",
       "3   2013   103246                      Bear Creek       87587        29193\n",
       "4   2013   103451                     Knight Mine      147499        46393\n",
       "5   2013   103433              Crane Central Mine       69339        47195\n",
       "6   2013   100329                    Concord Mine           0       144002\n",
       "7   2013   100851                  Oak Grove Mine     2269014      1001809\n",
       "8   2013   102901                Shoal Creek Mine           0        12396\n",
       "9   2013   102901                Shoal Creek Mine     1453024      1237415\n",
       "10  2013   103180             Sloan Mountain Mine      327780       196963\n",
       "11  2013   103182                        Fishtrap      175058        87314\n",
       "12  2013   103285                     Narley Mine      154861        90584\n",
       "13  2013   103332                   Powhatan Mine      140521        61394\n",
       "14  2013   103375                    Johnson Mine         580         1900\n",
       "15  2013   103419               Maxine-Pratt Mine      125824       107469\n",
       "16  2013   103432                   Skelton Creek        8252          220\n",
       "17  2013   103437         Black Warrior Mine No 1      145924        70926\n",
       "18  2013   102976   Piney Woods Preparation Plant           0        14828\n",
       "19  2013   102976   Piney Woods Preparation Plant           0        23193\n",
       "20  2013   103380                          Calera           0        12621\n",
       "21  2013   103380                          Calera           0         1402\n",
       "22  2013   103422                 Clark No 1 Mine      122727       140250\n",
       "23  2013   103467             Helena Surface Mine       59664        30539\n",
       "24  2013   101247                       No 4 Mine     2622528      1551141\n",
       "25  2013   101401                       No 7 Mine     5405412      2464719\n",
       "26  2013   103172  Searles Mine No. 2, 3, 4, 5, 6      258078       119542\n",
       "27  2013   103179             Fleetwood Mine No 1       75937        63745\n",
       "28  2013   103303                    Shannon Mine      317491       164388\n",
       "29  2013   103323                   Deerlick Mine      133452        46381\n",
       "30  2013   103364           Brc Alabama No. 7 Llc           0        14324\n",
       "31  2013   103436                Swann's Crossing      137511        77190\n",
       "32  2013   100347                    Choctaw Mine      537429       215295\n",
       "33  2013   101362                 Manchester Mine      219457       116914\n",
       "34  2013   102996                  Jap Creek Mine      375715       164093\n",
       "35  2013   103155              Corinth Prep Plant           0        27996\n",
       "36  2013   103155              Corinth Prep Plant           0        51994\n",
       "37  2013   103195     Mccollum/Sparks Branch Mine       71910        17411\n",
       "38  2013   103342             Reese's Branch Mine      263888       115123\n",
       "39  2013   103370             Cresent Valley Mine        2860          621\n",
       "40  2013   103372                 Cane Creek Mine       66258        32401\n",
       "41  2013   103376                      Town Creek      299167       176499\n",
       "42  2013   103389                Carbon Hill Mine       76241        84966\n",
       "43  2013   103410                Coal Valley Mine      407841       158591\n",
       "44  2013   103423                Dutton Hill Mine       37275         9162\n",
       "45  2013  1519322                         Ghm #25       25054         3108\n",
       "46  2013   103321                  Poplar Springs      189370        76366\n",
       "47  2013   103358                       Old Union      284563       161805\n",
       "48  2013  5000030                        Usibelli     1631584       286079\n",
       "49  2013   201195                    Kayenta Mine     7602722      1015333\n",
       "0   2013     1033            Tacoa Highwall Miner       56004        22392\n",
       "1   2013     1034                Reid School Mine       28807        28447\n",
       "2   2013     1035  North River #1 Underground Min     1440115       474784\n",
       "3   2013     1036                      Bear Creek       87587        29193\n",
       "4   2013     1037                     Knight Mine      147499        46393\n",
       "5   2013     1038              Crane Central Mine       69339        47195\n",
       "6   2013     1039                    Concord Mine           0       144002\n",
       "7   2013     1040                  Oak Grove Mine     2269014      1001809\n",
       "8   2013     1041                Shoal Creek Mine           0        12396\n",
       "9   2013     1042                Shoal Creek Mine     1453024      1237415"
      ]
     },
     "execution_count": 6,
     "metadata": {},
     "output_type": "execute_result"
    }
   ],
   "source": [
    "import pandas as pd\n",
    "\n",
    "df1=pd.read_excel('/home/manish/Downloads/coalpublic2013.xlsx',sheet_name=0)\n",
    "df2=pd.read_excel('/home/manish/Downloads/coalpublic2013.xlsx',sheet_name=1)\n",
    "df=pd.concat([df1,df2])\n",
    "df"
   ]
  },
  {
   "cell_type": "raw",
   "metadata": {},
   "source": [
    "Q 122. Write a pandas program to import three datasheets from a given excel data (employee.xlsx ) into a single data frame and export the result into new Excel file."
   ]
  },
  {
   "cell_type": "code",
   "execution_count": 7,
   "metadata": {},
   "outputs": [],
   "source": [
    "import pandas as pd\n",
    "\n",
    "df1=pd.read_excel('/home/manish/Downloads/coalpublic2013.xlsx',sheet_name=0)\n",
    "df2=pd.read_excel('/home/manish/Downloads/coalpublic2013.xlsx',sheet_name=1)\n",
    "df=pd.concat([df1,df2])\n",
    "df.to_excel('/home/manish/Downloads/coalpublic2013copy.xlsx')"
   ]
  },
  {
   "cell_type": "raw",
   "metadata": {},
   "source": [
    "Q123. Write a pandas program to create the Pivot table with multiple indexes from the data set of the titanic.csv."
   ]
  },
  {
   "cell_type": "code",
   "execution_count": 11,
   "metadata": {},
   "outputs": [
    {
     "data": {
      "text/html": [
       "<div>\n",
       "<style scoped>\n",
       "    .dataframe tbody tr th:only-of-type {\n",
       "        vertical-align: middle;\n",
       "    }\n",
       "\n",
       "    .dataframe tbody tr th {\n",
       "        vertical-align: top;\n",
       "    }\n",
       "\n",
       "    .dataframe thead th {\n",
       "        text-align: right;\n",
       "    }\n",
       "</style>\n",
       "<table border=\"1\" class=\"dataframe\">\n",
       "  <thead>\n",
       "    <tr style=\"text-align: right;\">\n",
       "      <th></th>\n",
       "      <th></th>\n",
       "      <th>adult_male</th>\n",
       "      <th>alone</th>\n",
       "      <th>fare</th>\n",
       "      <th>parch</th>\n",
       "      <th>pclass</th>\n",
       "      <th>sibsp</th>\n",
       "      <th>survived</th>\n",
       "    </tr>\n",
       "    <tr>\n",
       "      <th>sex</th>\n",
       "      <th>age</th>\n",
       "      <th></th>\n",
       "      <th></th>\n",
       "      <th></th>\n",
       "      <th></th>\n",
       "      <th></th>\n",
       "      <th></th>\n",
       "      <th></th>\n",
       "    </tr>\n",
       "  </thead>\n",
       "  <tbody>\n",
       "    <tr>\n",
       "      <th rowspan=\"30\" valign=\"top\">female</th>\n",
       "      <th>0.75</th>\n",
       "      <td>0.0</td>\n",
       "      <td>0.000000</td>\n",
       "      <td>19.258300</td>\n",
       "      <td>1.000000</td>\n",
       "      <td>3.000000</td>\n",
       "      <td>2.000000</td>\n",
       "      <td>1.000000</td>\n",
       "    </tr>\n",
       "    <tr>\n",
       "      <th>1.00</th>\n",
       "      <td>0.0</td>\n",
       "      <td>0.000000</td>\n",
       "      <td>13.437500</td>\n",
       "      <td>1.500000</td>\n",
       "      <td>3.000000</td>\n",
       "      <td>0.500000</td>\n",
       "      <td>1.000000</td>\n",
       "    </tr>\n",
       "    <tr>\n",
       "      <th>2.00</th>\n",
       "      <td>0.0</td>\n",
       "      <td>0.000000</td>\n",
       "      <td>43.245833</td>\n",
       "      <td>1.500000</td>\n",
       "      <td>2.500000</td>\n",
       "      <td>1.500000</td>\n",
       "      <td>0.333333</td>\n",
       "    </tr>\n",
       "    <tr>\n",
       "      <th>3.00</th>\n",
       "      <td>0.0</td>\n",
       "      <td>0.000000</td>\n",
       "      <td>31.327100</td>\n",
       "      <td>1.500000</td>\n",
       "      <td>2.500000</td>\n",
       "      <td>2.000000</td>\n",
       "      <td>0.500000</td>\n",
       "    </tr>\n",
       "    <tr>\n",
       "      <th>4.00</th>\n",
       "      <td>0.0</td>\n",
       "      <td>0.000000</td>\n",
       "      <td>22.828340</td>\n",
       "      <td>1.200000</td>\n",
       "      <td>2.600000</td>\n",
       "      <td>0.800000</td>\n",
       "      <td>1.000000</td>\n",
       "    </tr>\n",
       "    <tr>\n",
       "      <th>5.00</th>\n",
       "      <td>0.0</td>\n",
       "      <td>0.250000</td>\n",
       "      <td>22.717700</td>\n",
       "      <td>1.250000</td>\n",
       "      <td>2.750000</td>\n",
       "      <td>1.750000</td>\n",
       "      <td>1.000000</td>\n",
       "    </tr>\n",
       "    <tr>\n",
       "      <th>6.00</th>\n",
       "      <td>0.0</td>\n",
       "      <td>0.000000</td>\n",
       "      <td>32.137500</td>\n",
       "      <td>1.500000</td>\n",
       "      <td>2.500000</td>\n",
       "      <td>2.000000</td>\n",
       "      <td>0.500000</td>\n",
       "    </tr>\n",
       "    <tr>\n",
       "      <th>7.00</th>\n",
       "      <td>0.0</td>\n",
       "      <td>0.000000</td>\n",
       "      <td>26.250000</td>\n",
       "      <td>2.000000</td>\n",
       "      <td>2.000000</td>\n",
       "      <td>0.000000</td>\n",
       "      <td>1.000000</td>\n",
       "    </tr>\n",
       "    <tr>\n",
       "      <th>8.00</th>\n",
       "      <td>0.0</td>\n",
       "      <td>0.000000</td>\n",
       "      <td>23.662500</td>\n",
       "      <td>1.500000</td>\n",
       "      <td>2.500000</td>\n",
       "      <td>1.500000</td>\n",
       "      <td>0.500000</td>\n",
       "    </tr>\n",
       "    <tr>\n",
       "      <th>9.00</th>\n",
       "      <td>0.0</td>\n",
       "      <td>0.000000</td>\n",
       "      <td>27.198950</td>\n",
       "      <td>1.750000</td>\n",
       "      <td>3.000000</td>\n",
       "      <td>2.500000</td>\n",
       "      <td>0.000000</td>\n",
       "    </tr>\n",
       "    <tr>\n",
       "      <th>10.00</th>\n",
       "      <td>0.0</td>\n",
       "      <td>0.000000</td>\n",
       "      <td>24.150000</td>\n",
       "      <td>2.000000</td>\n",
       "      <td>3.000000</td>\n",
       "      <td>0.000000</td>\n",
       "      <td>0.000000</td>\n",
       "    </tr>\n",
       "    <tr>\n",
       "      <th>11.00</th>\n",
       "      <td>0.0</td>\n",
       "      <td>0.000000</td>\n",
       "      <td>31.275000</td>\n",
       "      <td>2.000000</td>\n",
       "      <td>3.000000</td>\n",
       "      <td>4.000000</td>\n",
       "      <td>0.000000</td>\n",
       "    </tr>\n",
       "    <tr>\n",
       "      <th>13.00</th>\n",
       "      <td>0.0</td>\n",
       "      <td>0.500000</td>\n",
       "      <td>13.364600</td>\n",
       "      <td>0.500000</td>\n",
       "      <td>2.500000</td>\n",
       "      <td>0.000000</td>\n",
       "      <td>1.000000</td>\n",
       "    </tr>\n",
       "    <tr>\n",
       "      <th>14.00</th>\n",
       "      <td>0.0</td>\n",
       "      <td>0.250000</td>\n",
       "      <td>42.291675</td>\n",
       "      <td>0.500000</td>\n",
       "      <td>2.250000</td>\n",
       "      <td>0.750000</td>\n",
       "      <td>0.750000</td>\n",
       "    </tr>\n",
       "    <tr>\n",
       "      <th>14.50</th>\n",
       "      <td>0.0</td>\n",
       "      <td>0.000000</td>\n",
       "      <td>14.454200</td>\n",
       "      <td>0.000000</td>\n",
       "      <td>3.000000</td>\n",
       "      <td>1.000000</td>\n",
       "      <td>0.000000</td>\n",
       "    </tr>\n",
       "    <tr>\n",
       "      <th>15.00</th>\n",
       "      <td>0.0</td>\n",
       "      <td>0.500000</td>\n",
       "      <td>60.261475</td>\n",
       "      <td>0.250000</td>\n",
       "      <td>2.500000</td>\n",
       "      <td>0.250000</td>\n",
       "      <td>1.000000</td>\n",
       "    </tr>\n",
       "    <tr>\n",
       "      <th>16.00</th>\n",
       "      <td>0.0</td>\n",
       "      <td>0.500000</td>\n",
       "      <td>41.043750</td>\n",
       "      <td>0.666667</td>\n",
       "      <td>2.000000</td>\n",
       "      <td>0.833333</td>\n",
       "      <td>0.833333</td>\n",
       "    </tr>\n",
       "    <tr>\n",
       "      <th>17.00</th>\n",
       "      <td>0.0</td>\n",
       "      <td>0.500000</td>\n",
       "      <td>35.130550</td>\n",
       "      <td>0.333333</td>\n",
       "      <td>2.000000</td>\n",
       "      <td>1.000000</td>\n",
       "      <td>0.833333</td>\n",
       "    </tr>\n",
       "    <tr>\n",
       "      <th>18.00</th>\n",
       "      <td>0.0</td>\n",
       "      <td>0.307692</td>\n",
       "      <td>53.616669</td>\n",
       "      <td>0.692308</td>\n",
       "      <td>2.384615</td>\n",
       "      <td>0.461538</td>\n",
       "      <td>0.615385</td>\n",
       "    </tr>\n",
       "    <tr>\n",
       "      <th>19.00</th>\n",
       "      <td>0.0</td>\n",
       "      <td>0.428571</td>\n",
       "      <td>30.727986</td>\n",
       "      <td>0.285714</td>\n",
       "      <td>1.857143</td>\n",
       "      <td>0.428571</td>\n",
       "      <td>1.000000</td>\n",
       "    </tr>\n",
       "    <tr>\n",
       "      <th>20.00</th>\n",
       "      <td>0.0</td>\n",
       "      <td>0.500000</td>\n",
       "      <td>9.243750</td>\n",
       "      <td>0.000000</td>\n",
       "      <td>3.000000</td>\n",
       "      <td>0.500000</td>\n",
       "      <td>0.000000</td>\n",
       "    </tr>\n",
       "    <tr>\n",
       "      <th>21.00</th>\n",
       "      <td>0.0</td>\n",
       "      <td>0.571429</td>\n",
       "      <td>58.633329</td>\n",
       "      <td>0.571429</td>\n",
       "      <td>2.285714</td>\n",
       "      <td>0.714286</td>\n",
       "      <td>0.571429</td>\n",
       "    </tr>\n",
       "    <tr>\n",
       "      <th>22.00</th>\n",
       "      <td>0.0</td>\n",
       "      <td>0.583333</td>\n",
       "      <td>37.009033</td>\n",
       "      <td>0.500000</td>\n",
       "      <td>2.166667</td>\n",
       "      <td>0.250000</td>\n",
       "      <td>0.833333</td>\n",
       "    </tr>\n",
       "    <tr>\n",
       "      <th>23.00</th>\n",
       "      <td>0.0</td>\n",
       "      <td>0.600000</td>\n",
       "      <td>81.108340</td>\n",
       "      <td>0.400000</td>\n",
       "      <td>2.000000</td>\n",
       "      <td>0.800000</td>\n",
       "      <td>0.800000</td>\n",
       "    </tr>\n",
       "    <tr>\n",
       "      <th>24.00</th>\n",
       "      <td>0.0</td>\n",
       "      <td>0.437500</td>\n",
       "      <td>48.260675</td>\n",
       "      <td>0.937500</td>\n",
       "      <td>1.937500</td>\n",
       "      <td>0.625000</td>\n",
       "      <td>0.875000</td>\n",
       "    </tr>\n",
       "    <tr>\n",
       "      <th>25.00</th>\n",
       "      <td>0.0</td>\n",
       "      <td>0.200000</td>\n",
       "      <td>44.650000</td>\n",
       "      <td>0.800000</td>\n",
       "      <td>2.200000</td>\n",
       "      <td>0.600000</td>\n",
       "      <td>0.400000</td>\n",
       "    </tr>\n",
       "    <tr>\n",
       "      <th>26.00</th>\n",
       "      <td>0.0</td>\n",
       "      <td>0.600000</td>\n",
       "      <td>27.345840</td>\n",
       "      <td>0.200000</td>\n",
       "      <td>2.400000</td>\n",
       "      <td>0.400000</td>\n",
       "      <td>0.600000</td>\n",
       "    </tr>\n",
       "    <tr>\n",
       "      <th>27.00</th>\n",
       "      <td>0.0</td>\n",
       "      <td>0.333333</td>\n",
       "      <td>12.815267</td>\n",
       "      <td>0.500000</td>\n",
       "      <td>2.500000</td>\n",
       "      <td>0.333333</td>\n",
       "      <td>0.833333</td>\n",
       "    </tr>\n",
       "    <tr>\n",
       "      <th>28.00</th>\n",
       "      <td>0.0</td>\n",
       "      <td>0.571429</td>\n",
       "      <td>15.849400</td>\n",
       "      <td>0.142857</td>\n",
       "      <td>2.285714</td>\n",
       "      <td>0.428571</td>\n",
       "      <td>0.714286</td>\n",
       "    </tr>\n",
       "    <tr>\n",
       "      <th>29.00</th>\n",
       "      <td>0.0</td>\n",
       "      <td>0.285714</td>\n",
       "      <td>45.802971</td>\n",
       "      <td>1.000000</td>\n",
       "      <td>2.285714</td>\n",
       "      <td>0.428571</td>\n",
       "      <td>0.714286</td>\n",
       "    </tr>\n",
       "    <tr>\n",
       "      <th>...</th>\n",
       "      <th>...</th>\n",
       "      <td>...</td>\n",
       "      <td>...</td>\n",
       "      <td>...</td>\n",
       "      <td>...</td>\n",
       "      <td>...</td>\n",
       "      <td>...</td>\n",
       "      <td>...</td>\n",
       "    </tr>\n",
       "    <tr>\n",
       "      <th rowspan=\"30\" valign=\"top\">male</th>\n",
       "      <th>42.00</th>\n",
       "      <td>1.0</td>\n",
       "      <td>0.600000</td>\n",
       "      <td>21.610840</td>\n",
       "      <td>0.100000</td>\n",
       "      <td>2.100000</td>\n",
       "      <td>0.300000</td>\n",
       "      <td>0.300000</td>\n",
       "    </tr>\n",
       "    <tr>\n",
       "      <th>43.00</th>\n",
       "      <td>1.0</td>\n",
       "      <td>0.666667</td>\n",
       "      <td>13.583333</td>\n",
       "      <td>0.333333</td>\n",
       "      <td>2.666667</td>\n",
       "      <td>0.333333</td>\n",
       "      <td>0.000000</td>\n",
       "    </tr>\n",
       "    <tr>\n",
       "      <th>44.00</th>\n",
       "      <td>1.0</td>\n",
       "      <td>0.500000</td>\n",
       "      <td>26.020833</td>\n",
       "      <td>0.166667</td>\n",
       "      <td>2.500000</td>\n",
       "      <td>0.500000</td>\n",
       "      <td>0.166667</td>\n",
       "    </tr>\n",
       "    <tr>\n",
       "      <th>45.00</th>\n",
       "      <td>1.0</td>\n",
       "      <td>0.833333</td>\n",
       "      <td>31.183333</td>\n",
       "      <td>0.000000</td>\n",
       "      <td>1.666667</td>\n",
       "      <td>0.166667</td>\n",
       "      <td>0.333333</td>\n",
       "    </tr>\n",
       "    <tr>\n",
       "      <th>45.50</th>\n",
       "      <td>1.0</td>\n",
       "      <td>1.000000</td>\n",
       "      <td>17.862500</td>\n",
       "      <td>0.000000</td>\n",
       "      <td>2.000000</td>\n",
       "      <td>0.000000</td>\n",
       "      <td>0.000000</td>\n",
       "    </tr>\n",
       "    <tr>\n",
       "      <th>46.00</th>\n",
       "      <td>1.0</td>\n",
       "      <td>0.666667</td>\n",
       "      <td>55.458333</td>\n",
       "      <td>0.000000</td>\n",
       "      <td>1.333333</td>\n",
       "      <td>0.333333</td>\n",
       "      <td>0.000000</td>\n",
       "    </tr>\n",
       "    <tr>\n",
       "      <th>47.00</th>\n",
       "      <td>1.0</td>\n",
       "      <td>1.000000</td>\n",
       "      <td>25.908329</td>\n",
       "      <td>0.000000</td>\n",
       "      <td>1.714286</td>\n",
       "      <td>0.000000</td>\n",
       "      <td>0.000000</td>\n",
       "    </tr>\n",
       "    <tr>\n",
       "      <th>48.00</th>\n",
       "      <td>1.0</td>\n",
       "      <td>0.600000</td>\n",
       "      <td>35.226680</td>\n",
       "      <td>0.000000</td>\n",
       "      <td>1.600000</td>\n",
       "      <td>0.400000</td>\n",
       "      <td>0.600000</td>\n",
       "    </tr>\n",
       "    <tr>\n",
       "      <th>49.00</th>\n",
       "      <td>1.0</td>\n",
       "      <td>0.250000</td>\n",
       "      <td>64.229175</td>\n",
       "      <td>0.250000</td>\n",
       "      <td>1.500000</td>\n",
       "      <td>0.750000</td>\n",
       "      <td>0.500000</td>\n",
       "    </tr>\n",
       "    <tr>\n",
       "      <th>50.00</th>\n",
       "      <td>1.0</td>\n",
       "      <td>0.400000</td>\n",
       "      <td>63.405000</td>\n",
       "      <td>0.000000</td>\n",
       "      <td>1.600000</td>\n",
       "      <td>0.800000</td>\n",
       "      <td>0.200000</td>\n",
       "    </tr>\n",
       "    <tr>\n",
       "      <th>51.00</th>\n",
       "      <td>1.0</td>\n",
       "      <td>0.833333</td>\n",
       "      <td>20.551400</td>\n",
       "      <td>0.166667</td>\n",
       "      <td>2.166667</td>\n",
       "      <td>0.000000</td>\n",
       "      <td>0.166667</td>\n",
       "    </tr>\n",
       "    <tr>\n",
       "      <th>52.00</th>\n",
       "      <td>1.0</td>\n",
       "      <td>0.750000</td>\n",
       "      <td>34.162500</td>\n",
       "      <td>0.250000</td>\n",
       "      <td>1.500000</td>\n",
       "      <td>0.250000</td>\n",
       "      <td>0.250000</td>\n",
       "    </tr>\n",
       "    <tr>\n",
       "      <th>54.00</th>\n",
       "      <td>1.0</td>\n",
       "      <td>0.600000</td>\n",
       "      <td>39.030000</td>\n",
       "      <td>0.200000</td>\n",
       "      <td>1.600000</td>\n",
       "      <td>0.200000</td>\n",
       "      <td>0.000000</td>\n",
       "    </tr>\n",
       "    <tr>\n",
       "      <th>55.00</th>\n",
       "      <td>1.0</td>\n",
       "      <td>1.000000</td>\n",
       "      <td>30.500000</td>\n",
       "      <td>0.000000</td>\n",
       "      <td>1.000000</td>\n",
       "      <td>0.000000</td>\n",
       "      <td>0.000000</td>\n",
       "    </tr>\n",
       "    <tr>\n",
       "      <th>55.50</th>\n",
       "      <td>1.0</td>\n",
       "      <td>1.000000</td>\n",
       "      <td>8.050000</td>\n",
       "      <td>0.000000</td>\n",
       "      <td>3.000000</td>\n",
       "      <td>0.000000</td>\n",
       "      <td>0.000000</td>\n",
       "    </tr>\n",
       "    <tr>\n",
       "      <th>56.00</th>\n",
       "      <td>1.0</td>\n",
       "      <td>1.000000</td>\n",
       "      <td>30.915267</td>\n",
       "      <td>0.000000</td>\n",
       "      <td>1.000000</td>\n",
       "      <td>0.000000</td>\n",
       "      <td>0.333333</td>\n",
       "    </tr>\n",
       "    <tr>\n",
       "      <th>57.00</th>\n",
       "      <td>1.0</td>\n",
       "      <td>1.000000</td>\n",
       "      <td>12.350000</td>\n",
       "      <td>0.000000</td>\n",
       "      <td>2.000000</td>\n",
       "      <td>0.000000</td>\n",
       "      <td>0.000000</td>\n",
       "    </tr>\n",
       "    <tr>\n",
       "      <th>58.00</th>\n",
       "      <td>1.0</td>\n",
       "      <td>0.500000</td>\n",
       "      <td>71.487500</td>\n",
       "      <td>1.000000</td>\n",
       "      <td>1.000000</td>\n",
       "      <td>0.000000</td>\n",
       "      <td>0.000000</td>\n",
       "    </tr>\n",
       "    <tr>\n",
       "      <th>59.00</th>\n",
       "      <td>1.0</td>\n",
       "      <td>1.000000</td>\n",
       "      <td>10.375000</td>\n",
       "      <td>0.000000</td>\n",
       "      <td>2.500000</td>\n",
       "      <td>0.000000</td>\n",
       "      <td>0.000000</td>\n",
       "    </tr>\n",
       "    <tr>\n",
       "      <th>60.00</th>\n",
       "      <td>1.0</td>\n",
       "      <td>0.333333</td>\n",
       "      <td>48.250000</td>\n",
       "      <td>0.666667</td>\n",
       "      <td>1.333333</td>\n",
       "      <td>0.666667</td>\n",
       "      <td>0.333333</td>\n",
       "    </tr>\n",
       "    <tr>\n",
       "      <th>61.00</th>\n",
       "      <td>1.0</td>\n",
       "      <td>1.000000</td>\n",
       "      <td>24.019433</td>\n",
       "      <td>0.000000</td>\n",
       "      <td>1.666667</td>\n",
       "      <td>0.000000</td>\n",
       "      <td>0.000000</td>\n",
       "    </tr>\n",
       "    <tr>\n",
       "      <th>62.00</th>\n",
       "      <td>1.0</td>\n",
       "      <td>1.000000</td>\n",
       "      <td>21.200000</td>\n",
       "      <td>0.000000</td>\n",
       "      <td>1.333333</td>\n",
       "      <td>0.000000</td>\n",
       "      <td>0.333333</td>\n",
       "    </tr>\n",
       "    <tr>\n",
       "      <th>64.00</th>\n",
       "      <td>1.0</td>\n",
       "      <td>0.500000</td>\n",
       "      <td>144.500000</td>\n",
       "      <td>2.000000</td>\n",
       "      <td>1.000000</td>\n",
       "      <td>0.500000</td>\n",
       "      <td>0.000000</td>\n",
       "    </tr>\n",
       "    <tr>\n",
       "      <th>65.00</th>\n",
       "      <td>1.0</td>\n",
       "      <td>0.666667</td>\n",
       "      <td>32.093067</td>\n",
       "      <td>0.333333</td>\n",
       "      <td>1.666667</td>\n",
       "      <td>0.000000</td>\n",
       "      <td>0.000000</td>\n",
       "    </tr>\n",
       "    <tr>\n",
       "      <th>66.00</th>\n",
       "      <td>1.0</td>\n",
       "      <td>1.000000</td>\n",
       "      <td>10.500000</td>\n",
       "      <td>0.000000</td>\n",
       "      <td>2.000000</td>\n",
       "      <td>0.000000</td>\n",
       "      <td>0.000000</td>\n",
       "    </tr>\n",
       "    <tr>\n",
       "      <th>70.00</th>\n",
       "      <td>1.0</td>\n",
       "      <td>0.500000</td>\n",
       "      <td>40.750000</td>\n",
       "      <td>0.500000</td>\n",
       "      <td>1.500000</td>\n",
       "      <td>0.500000</td>\n",
       "      <td>0.000000</td>\n",
       "    </tr>\n",
       "    <tr>\n",
       "      <th>70.50</th>\n",
       "      <td>1.0</td>\n",
       "      <td>1.000000</td>\n",
       "      <td>7.750000</td>\n",
       "      <td>0.000000</td>\n",
       "      <td>3.000000</td>\n",
       "      <td>0.000000</td>\n",
       "      <td>0.000000</td>\n",
       "    </tr>\n",
       "    <tr>\n",
       "      <th>71.00</th>\n",
       "      <td>1.0</td>\n",
       "      <td>1.000000</td>\n",
       "      <td>42.079200</td>\n",
       "      <td>0.000000</td>\n",
       "      <td>1.000000</td>\n",
       "      <td>0.000000</td>\n",
       "      <td>0.000000</td>\n",
       "    </tr>\n",
       "    <tr>\n",
       "      <th>74.00</th>\n",
       "      <td>1.0</td>\n",
       "      <td>1.000000</td>\n",
       "      <td>7.775000</td>\n",
       "      <td>0.000000</td>\n",
       "      <td>3.000000</td>\n",
       "      <td>0.000000</td>\n",
       "      <td>0.000000</td>\n",
       "    </tr>\n",
       "    <tr>\n",
       "      <th>80.00</th>\n",
       "      <td>1.0</td>\n",
       "      <td>1.000000</td>\n",
       "      <td>30.000000</td>\n",
       "      <td>0.000000</td>\n",
       "      <td>1.000000</td>\n",
       "      <td>0.000000</td>\n",
       "      <td>1.000000</td>\n",
       "    </tr>\n",
       "  </tbody>\n",
       "</table>\n",
       "<p>145 rows × 7 columns</p>\n",
       "</div>"
      ],
      "text/plain": [
       "              adult_male     alone        fare     parch    pclass     sibsp  \\\n",
       "sex    age                                                                     \n",
       "female 0.75          0.0  0.000000   19.258300  1.000000  3.000000  2.000000   \n",
       "       1.00          0.0  0.000000   13.437500  1.500000  3.000000  0.500000   \n",
       "       2.00          0.0  0.000000   43.245833  1.500000  2.500000  1.500000   \n",
       "       3.00          0.0  0.000000   31.327100  1.500000  2.500000  2.000000   \n",
       "       4.00          0.0  0.000000   22.828340  1.200000  2.600000  0.800000   \n",
       "       5.00          0.0  0.250000   22.717700  1.250000  2.750000  1.750000   \n",
       "       6.00          0.0  0.000000   32.137500  1.500000  2.500000  2.000000   \n",
       "       7.00          0.0  0.000000   26.250000  2.000000  2.000000  0.000000   \n",
       "       8.00          0.0  0.000000   23.662500  1.500000  2.500000  1.500000   \n",
       "       9.00          0.0  0.000000   27.198950  1.750000  3.000000  2.500000   \n",
       "       10.00         0.0  0.000000   24.150000  2.000000  3.000000  0.000000   \n",
       "       11.00         0.0  0.000000   31.275000  2.000000  3.000000  4.000000   \n",
       "       13.00         0.0  0.500000   13.364600  0.500000  2.500000  0.000000   \n",
       "       14.00         0.0  0.250000   42.291675  0.500000  2.250000  0.750000   \n",
       "       14.50         0.0  0.000000   14.454200  0.000000  3.000000  1.000000   \n",
       "       15.00         0.0  0.500000   60.261475  0.250000  2.500000  0.250000   \n",
       "       16.00         0.0  0.500000   41.043750  0.666667  2.000000  0.833333   \n",
       "       17.00         0.0  0.500000   35.130550  0.333333  2.000000  1.000000   \n",
       "       18.00         0.0  0.307692   53.616669  0.692308  2.384615  0.461538   \n",
       "       19.00         0.0  0.428571   30.727986  0.285714  1.857143  0.428571   \n",
       "       20.00         0.0  0.500000    9.243750  0.000000  3.000000  0.500000   \n",
       "       21.00         0.0  0.571429   58.633329  0.571429  2.285714  0.714286   \n",
       "       22.00         0.0  0.583333   37.009033  0.500000  2.166667  0.250000   \n",
       "       23.00         0.0  0.600000   81.108340  0.400000  2.000000  0.800000   \n",
       "       24.00         0.0  0.437500   48.260675  0.937500  1.937500  0.625000   \n",
       "       25.00         0.0  0.200000   44.650000  0.800000  2.200000  0.600000   \n",
       "       26.00         0.0  0.600000   27.345840  0.200000  2.400000  0.400000   \n",
       "       27.00         0.0  0.333333   12.815267  0.500000  2.500000  0.333333   \n",
       "       28.00         0.0  0.571429   15.849400  0.142857  2.285714  0.428571   \n",
       "       29.00         0.0  0.285714   45.802971  1.000000  2.285714  0.428571   \n",
       "...                  ...       ...         ...       ...       ...       ...   \n",
       "male   42.00         1.0  0.600000   21.610840  0.100000  2.100000  0.300000   \n",
       "       43.00         1.0  0.666667   13.583333  0.333333  2.666667  0.333333   \n",
       "       44.00         1.0  0.500000   26.020833  0.166667  2.500000  0.500000   \n",
       "       45.00         1.0  0.833333   31.183333  0.000000  1.666667  0.166667   \n",
       "       45.50         1.0  1.000000   17.862500  0.000000  2.000000  0.000000   \n",
       "       46.00         1.0  0.666667   55.458333  0.000000  1.333333  0.333333   \n",
       "       47.00         1.0  1.000000   25.908329  0.000000  1.714286  0.000000   \n",
       "       48.00         1.0  0.600000   35.226680  0.000000  1.600000  0.400000   \n",
       "       49.00         1.0  0.250000   64.229175  0.250000  1.500000  0.750000   \n",
       "       50.00         1.0  0.400000   63.405000  0.000000  1.600000  0.800000   \n",
       "       51.00         1.0  0.833333   20.551400  0.166667  2.166667  0.000000   \n",
       "       52.00         1.0  0.750000   34.162500  0.250000  1.500000  0.250000   \n",
       "       54.00         1.0  0.600000   39.030000  0.200000  1.600000  0.200000   \n",
       "       55.00         1.0  1.000000   30.500000  0.000000  1.000000  0.000000   \n",
       "       55.50         1.0  1.000000    8.050000  0.000000  3.000000  0.000000   \n",
       "       56.00         1.0  1.000000   30.915267  0.000000  1.000000  0.000000   \n",
       "       57.00         1.0  1.000000   12.350000  0.000000  2.000000  0.000000   \n",
       "       58.00         1.0  0.500000   71.487500  1.000000  1.000000  0.000000   \n",
       "       59.00         1.0  1.000000   10.375000  0.000000  2.500000  0.000000   \n",
       "       60.00         1.0  0.333333   48.250000  0.666667  1.333333  0.666667   \n",
       "       61.00         1.0  1.000000   24.019433  0.000000  1.666667  0.000000   \n",
       "       62.00         1.0  1.000000   21.200000  0.000000  1.333333  0.000000   \n",
       "       64.00         1.0  0.500000  144.500000  2.000000  1.000000  0.500000   \n",
       "       65.00         1.0  0.666667   32.093067  0.333333  1.666667  0.000000   \n",
       "       66.00         1.0  1.000000   10.500000  0.000000  2.000000  0.000000   \n",
       "       70.00         1.0  0.500000   40.750000  0.500000  1.500000  0.500000   \n",
       "       70.50         1.0  1.000000    7.750000  0.000000  3.000000  0.000000   \n",
       "       71.00         1.0  1.000000   42.079200  0.000000  1.000000  0.000000   \n",
       "       74.00         1.0  1.000000    7.775000  0.000000  3.000000  0.000000   \n",
       "       80.00         1.0  1.000000   30.000000  0.000000  1.000000  0.000000   \n",
       "\n",
       "              survived  \n",
       "sex    age              \n",
       "female 0.75   1.000000  \n",
       "       1.00   1.000000  \n",
       "       2.00   0.333333  \n",
       "       3.00   0.500000  \n",
       "       4.00   1.000000  \n",
       "       5.00   1.000000  \n",
       "       6.00   0.500000  \n",
       "       7.00   1.000000  \n",
       "       8.00   0.500000  \n",
       "       9.00   0.000000  \n",
       "       10.00  0.000000  \n",
       "       11.00  0.000000  \n",
       "       13.00  1.000000  \n",
       "       14.00  0.750000  \n",
       "       14.50  0.000000  \n",
       "       15.00  1.000000  \n",
       "       16.00  0.833333  \n",
       "       17.00  0.833333  \n",
       "       18.00  0.615385  \n",
       "       19.00  1.000000  \n",
       "       20.00  0.000000  \n",
       "       21.00  0.571429  \n",
       "       22.00  0.833333  \n",
       "       23.00  0.800000  \n",
       "       24.00  0.875000  \n",
       "       25.00  0.400000  \n",
       "       26.00  0.600000  \n",
       "       27.00  0.833333  \n",
       "       28.00  0.714286  \n",
       "       29.00  0.714286  \n",
       "...                ...  \n",
       "male   42.00  0.300000  \n",
       "       43.00  0.000000  \n",
       "       44.00  0.166667  \n",
       "       45.00  0.333333  \n",
       "       45.50  0.000000  \n",
       "       46.00  0.000000  \n",
       "       47.00  0.000000  \n",
       "       48.00  0.600000  \n",
       "       49.00  0.500000  \n",
       "       50.00  0.200000  \n",
       "       51.00  0.166667  \n",
       "       52.00  0.250000  \n",
       "       54.00  0.000000  \n",
       "       55.00  0.000000  \n",
       "       55.50  0.000000  \n",
       "       56.00  0.333333  \n",
       "       57.00  0.000000  \n",
       "       58.00  0.000000  \n",
       "       59.00  0.000000  \n",
       "       60.00  0.333333  \n",
       "       61.00  0.000000  \n",
       "       62.00  0.333333  \n",
       "       64.00  0.000000  \n",
       "       65.00  0.000000  \n",
       "       66.00  0.000000  \n",
       "       70.00  0.000000  \n",
       "       70.50  0.000000  \n",
       "       71.00  0.000000  \n",
       "       74.00  0.000000  \n",
       "       80.00  1.000000  \n",
       "\n",
       "[145 rows x 7 columns]"
      ]
     },
     "execution_count": 11,
     "metadata": {},
     "output_type": "execute_result"
    }
   ],
   "source": [
    "import pandas as pd\n",
    "\n",
    "df1=pd.read_csv('/home/manish/Downloads/titanic.csv')\n",
    "pd.pivot_table(df1,index=['sex','age'])"
   ]
  },
  {
   "cell_type": "code",
   "execution_count": null,
   "metadata": {},
   "outputs": [],
   "source": [
    "Q124. Write a Pandas program to create the Pivot table and find survival rate by gender?"
   ]
  },
  {
   "cell_type": "code",
   "execution_count": 17,
   "metadata": {},
   "outputs": [
    {
     "data": {
      "text/html": [
       "<div>\n",
       "<style scoped>\n",
       "    .dataframe tbody tr th:only-of-type {\n",
       "        vertical-align: middle;\n",
       "    }\n",
       "\n",
       "    .dataframe tbody tr th {\n",
       "        vertical-align: top;\n",
       "    }\n",
       "\n",
       "    .dataframe thead th {\n",
       "        text-align: right;\n",
       "    }\n",
       "</style>\n",
       "<table border=\"1\" class=\"dataframe\">\n",
       "  <thead>\n",
       "    <tr style=\"text-align: right;\">\n",
       "      <th></th>\n",
       "      <th>survived</th>\n",
       "    </tr>\n",
       "    <tr>\n",
       "      <th>sex</th>\n",
       "      <th></th>\n",
       "    </tr>\n",
       "  </thead>\n",
       "  <tbody>\n",
       "    <tr>\n",
       "      <th>female</th>\n",
       "      <td>0.742038</td>\n",
       "    </tr>\n",
       "    <tr>\n",
       "      <th>male</th>\n",
       "      <td>0.188908</td>\n",
       "    </tr>\n",
       "  </tbody>\n",
       "</table>\n",
       "</div>"
      ],
      "text/plain": [
       "        survived\n",
       "sex             \n",
       "female  0.742038\n",
       "male    0.188908"
      ]
     },
     "execution_count": 17,
     "metadata": {},
     "output_type": "execute_result"
    }
   ],
   "source": [
    "import pandas as pd\n",
    "\n",
    "df1=pd.read_csv('/home/manish/Downloads/titanic.csv')\n",
    "df2=pd.pivot_table(df1,index=['sex'])\n",
    "df2[['survived']]"
   ]
  },
  {
   "cell_type": "code",
   "execution_count": 20,
   "metadata": {},
   "outputs": [
    {
     "data": {
      "text/html": [
       "<div>\n",
       "<style scoped>\n",
       "    .dataframe tbody tr th:only-of-type {\n",
       "        vertical-align: middle;\n",
       "    }\n",
       "\n",
       "    .dataframe tbody tr th {\n",
       "        vertical-align: top;\n",
       "    }\n",
       "\n",
       "    .dataframe thead th {\n",
       "        text-align: right;\n",
       "    }\n",
       "</style>\n",
       "<table border=\"1\" class=\"dataframe\">\n",
       "  <thead>\n",
       "    <tr style=\"text-align: right;\">\n",
       "      <th></th>\n",
       "      <th>survived</th>\n",
       "    </tr>\n",
       "    <tr>\n",
       "      <th>sex</th>\n",
       "      <th></th>\n",
       "    </tr>\n",
       "  </thead>\n",
       "  <tbody>\n",
       "    <tr>\n",
       "      <th>female</th>\n",
       "      <td>0.742038</td>\n",
       "    </tr>\n",
       "    <tr>\n",
       "      <th>male</th>\n",
       "      <td>0.188908</td>\n",
       "    </tr>\n",
       "  </tbody>\n",
       "</table>\n",
       "</div>"
      ],
      "text/plain": [
       "        survived\n",
       "sex             \n",
       "female  0.742038\n",
       "male    0.188908"
      ]
     },
     "execution_count": 20,
     "metadata": {},
     "output_type": "execute_result"
    }
   ],
   "source": [
    "import pandas as pd\n",
    "\n",
    "df1=pd.read_csv('/home/manish/Downloads/titanic.csv')\n",
    "df1.groupby('sex')[['survived']].mean()"
   ]
  },
  {
   "cell_type": "raw",
   "metadata": {},
   "source": [
    "Q125. Write a pandas program to make partition each of the passengers into 4 categories based on their age.\n",
    "Note: Age categories- (0, 10), (10, 30), (30, 60), (60, 80)"
   ]
  },
  {
   "cell_type": "code",
   "execution_count": 24,
   "metadata": {},
   "outputs": [
    {
     "data": {
      "text/plain": [
       "0      (10.0, 30.0]\n",
       "1      (30.0, 60.0]\n",
       "2      (10.0, 30.0]\n",
       "3      (30.0, 60.0]\n",
       "4      (30.0, 60.0]\n",
       "5               NaN\n",
       "6      (30.0, 60.0]\n",
       "7       (0.0, 10.0]\n",
       "8      (10.0, 30.0]\n",
       "9      (10.0, 30.0]\n",
       "10      (0.0, 10.0]\n",
       "11     (30.0, 60.0]\n",
       "12     (10.0, 30.0]\n",
       "13     (30.0, 60.0]\n",
       "14     (10.0, 30.0]\n",
       "15     (30.0, 60.0]\n",
       "16      (0.0, 10.0]\n",
       "17              NaN\n",
       "18     (30.0, 60.0]\n",
       "19              NaN\n",
       "20     (30.0, 60.0]\n",
       "21     (30.0, 60.0]\n",
       "22     (10.0, 30.0]\n",
       "23     (10.0, 30.0]\n",
       "24      (0.0, 10.0]\n",
       "25     (30.0, 60.0]\n",
       "26              NaN\n",
       "27     (10.0, 30.0]\n",
       "28              NaN\n",
       "29              NaN\n",
       "           ...     \n",
       "861    (10.0, 30.0]\n",
       "862    (30.0, 60.0]\n",
       "863             NaN\n",
       "864    (10.0, 30.0]\n",
       "865    (30.0, 60.0]\n",
       "866    (10.0, 30.0]\n",
       "867    (30.0, 60.0]\n",
       "868             NaN\n",
       "869     (0.0, 10.0]\n",
       "870    (10.0, 30.0]\n",
       "871    (30.0, 60.0]\n",
       "872    (30.0, 60.0]\n",
       "873    (30.0, 60.0]\n",
       "874    (10.0, 30.0]\n",
       "875    (10.0, 30.0]\n",
       "876    (10.0, 30.0]\n",
       "877    (10.0, 30.0]\n",
       "878             NaN\n",
       "879    (30.0, 60.0]\n",
       "880    (10.0, 30.0]\n",
       "881    (30.0, 60.0]\n",
       "882    (10.0, 30.0]\n",
       "883    (10.0, 30.0]\n",
       "884    (10.0, 30.0]\n",
       "885    (30.0, 60.0]\n",
       "886    (10.0, 30.0]\n",
       "887    (10.0, 30.0]\n",
       "888             NaN\n",
       "889    (10.0, 30.0]\n",
       "890    (30.0, 60.0]\n",
       "Name: age, Length: 891, dtype: category\n",
       "Categories (4, interval[int64]): [(0, 10] < (10, 30] < (30, 60] < (60, 80]]"
      ]
     },
     "execution_count": 24,
     "metadata": {},
     "output_type": "execute_result"
    }
   ],
   "source": [
    "import pandas as pd\n",
    "\n",
    "df1=pd.read_csv('/home/manish/Downloads/titanic.csv')\n",
    "pd.cut(df1['age'],[0,10,30,60,80])"
   ]
  },
  {
   "cell_type": "raw",
   "metadata": {},
   "source": [
    "Q126. Write a pandas program to create the Pivot table and find survival rate by the gender, age of the different categories of various classes."
   ]
  },
  {
   "cell_type": "code",
   "execution_count": 31,
   "metadata": {},
   "outputs": [
    {
     "data": {
      "text/html": [
       "<div>\n",
       "<style scoped>\n",
       "    .dataframe tbody tr th:only-of-type {\n",
       "        vertical-align: middle;\n",
       "    }\n",
       "\n",
       "    .dataframe tbody tr th {\n",
       "        vertical-align: top;\n",
       "    }\n",
       "\n",
       "    .dataframe thead th {\n",
       "        text-align: right;\n",
       "    }\n",
       "</style>\n",
       "<table border=\"1\" class=\"dataframe\">\n",
       "  <thead>\n",
       "    <tr style=\"text-align: right;\">\n",
       "      <th></th>\n",
       "      <th></th>\n",
       "      <th>survived</th>\n",
       "    </tr>\n",
       "    <tr>\n",
       "      <th>sex</th>\n",
       "      <th>group</th>\n",
       "      <th></th>\n",
       "    </tr>\n",
       "  </thead>\n",
       "  <tbody>\n",
       "    <tr>\n",
       "      <th rowspan=\"4\" valign=\"top\">female</th>\n",
       "      <th>(0, 10]</th>\n",
       "      <td>0.612903</td>\n",
       "    </tr>\n",
       "    <tr>\n",
       "      <th>(10, 30]</th>\n",
       "      <td>0.748031</td>\n",
       "    </tr>\n",
       "    <tr>\n",
       "      <th>(30, 60]</th>\n",
       "      <td>0.800000</td>\n",
       "    </tr>\n",
       "    <tr>\n",
       "      <th>(60, 80]</th>\n",
       "      <td>1.000000</td>\n",
       "    </tr>\n",
       "    <tr>\n",
       "      <th rowspan=\"4\" valign=\"top\">male</th>\n",
       "      <th>(0, 10]</th>\n",
       "      <td>0.575758</td>\n",
       "    </tr>\n",
       "    <tr>\n",
       "      <th>(10, 30]</th>\n",
       "      <td>0.151376</td>\n",
       "    </tr>\n",
       "    <tr>\n",
       "      <th>(30, 60]</th>\n",
       "      <td>0.213115</td>\n",
       "    </tr>\n",
       "    <tr>\n",
       "      <th>(60, 80]</th>\n",
       "      <td>0.105263</td>\n",
       "    </tr>\n",
       "  </tbody>\n",
       "</table>\n",
       "</div>"
      ],
      "text/plain": [
       "                 survived\n",
       "sex    group             \n",
       "female (0, 10]   0.612903\n",
       "       (10, 30]  0.748031\n",
       "       (30, 60]  0.800000\n",
       "       (60, 80]  1.000000\n",
       "male   (0, 10]   0.575758\n",
       "       (10, 30]  0.151376\n",
       "       (30, 60]  0.213115\n",
       "       (60, 80]  0.105263"
      ]
     },
     "execution_count": 31,
     "metadata": {},
     "output_type": "execute_result"
    }
   ],
   "source": [
    "import pandas as pd\n",
    "\n",
    "df1=pd.read_csv('/home/manish/Downloads/titanic.csv')\n",
    "df1['group']=pd.cut(df1['age'],[0,10,30,60,80])\n",
    "df2=pd.pivot_table(df1,index=['sex','group'])\n",
    "df2[['survived']]"
   ]
  },
  {
   "cell_type": "code",
   "execution_count": 36,
   "metadata": {},
   "outputs": [
    {
     "data": {
      "text/html": [
       "<div>\n",
       "<style scoped>\n",
       "    .dataframe tbody tr th:only-of-type {\n",
       "        vertical-align: middle;\n",
       "    }\n",
       "\n",
       "    .dataframe tbody tr th {\n",
       "        vertical-align: top;\n",
       "    }\n",
       "\n",
       "    .dataframe thead th {\n",
       "        text-align: right;\n",
       "    }\n",
       "</style>\n",
       "<table border=\"1\" class=\"dataframe\">\n",
       "  <thead>\n",
       "    <tr style=\"text-align: right;\">\n",
       "      <th></th>\n",
       "      <th></th>\n",
       "      <th>survived</th>\n",
       "    </tr>\n",
       "    <tr>\n",
       "      <th>sex</th>\n",
       "      <th>group</th>\n",
       "      <th></th>\n",
       "    </tr>\n",
       "  </thead>\n",
       "  <tbody>\n",
       "    <tr>\n",
       "      <th rowspan=\"4\" valign=\"top\">female</th>\n",
       "      <th>(0, 10]</th>\n",
       "      <td>0.612903</td>\n",
       "    </tr>\n",
       "    <tr>\n",
       "      <th>(10, 30]</th>\n",
       "      <td>0.748031</td>\n",
       "    </tr>\n",
       "    <tr>\n",
       "      <th>(30, 60]</th>\n",
       "      <td>0.800000</td>\n",
       "    </tr>\n",
       "    <tr>\n",
       "      <th>(60, 80]</th>\n",
       "      <td>1.000000</td>\n",
       "    </tr>\n",
       "    <tr>\n",
       "      <th rowspan=\"4\" valign=\"top\">male</th>\n",
       "      <th>(0, 10]</th>\n",
       "      <td>0.575758</td>\n",
       "    </tr>\n",
       "    <tr>\n",
       "      <th>(10, 30]</th>\n",
       "      <td>0.151376</td>\n",
       "    </tr>\n",
       "    <tr>\n",
       "      <th>(30, 60]</th>\n",
       "      <td>0.213115</td>\n",
       "    </tr>\n",
       "    <tr>\n",
       "      <th>(60, 80]</th>\n",
       "      <td>0.105263</td>\n",
       "    </tr>\n",
       "  </tbody>\n",
       "</table>\n",
       "</div>"
      ],
      "text/plain": [
       "                 survived\n",
       "sex    group             \n",
       "female (0, 10]   0.612903\n",
       "       (10, 30]  0.748031\n",
       "       (30, 60]  0.800000\n",
       "       (60, 80]  1.000000\n",
       "male   (0, 10]   0.575758\n",
       "       (10, 30]  0.151376\n",
       "       (30, 60]  0.213115\n",
       "       (60, 80]  0.105263"
      ]
     },
     "execution_count": 36,
     "metadata": {},
     "output_type": "execute_result"
    }
   ],
   "source": [
    "import pandas as pd\n",
    "\n",
    "df1=pd.read_csv('/home/manish/Downloads/titanic.csv')\n",
    "df1['group']=pd.cut(df1['age'],[0,10,30,60,80])\n",
    "df1.groupby(['sex','group'])[['survived']].mean()"
   ]
  },
  {
   "cell_type": "raw",
   "metadata": {},
   "source": [
    "Q127. Write a pandas program to create the Pivot table and calculate number of women and men were in a particular cabin class."
   ]
  },
  {
   "cell_type": "code",
   "execution_count": 43,
   "metadata": {},
   "outputs": [
    {
     "data": {
      "text/html": [
       "<div>\n",
       "<style scoped>\n",
       "    .dataframe tbody tr th:only-of-type {\n",
       "        vertical-align: middle;\n",
       "    }\n",
       "\n",
       "    .dataframe tbody tr th {\n",
       "        vertical-align: top;\n",
       "    }\n",
       "\n",
       "    .dataframe thead th {\n",
       "        text-align: right;\n",
       "    }\n",
       "</style>\n",
       "<table border=\"1\" class=\"dataframe\">\n",
       "  <thead>\n",
       "    <tr style=\"text-align: right;\">\n",
       "      <th></th>\n",
       "      <th></th>\n",
       "      <th>who</th>\n",
       "    </tr>\n",
       "    <tr>\n",
       "      <th>sex</th>\n",
       "      <th>pclass</th>\n",
       "      <th></th>\n",
       "    </tr>\n",
       "  </thead>\n",
       "  <tbody>\n",
       "    <tr>\n",
       "      <th rowspan=\"3\" valign=\"top\">female</th>\n",
       "      <th>1</th>\n",
       "      <td>94</td>\n",
       "    </tr>\n",
       "    <tr>\n",
       "      <th>2</th>\n",
       "      <td>76</td>\n",
       "    </tr>\n",
       "    <tr>\n",
       "      <th>3</th>\n",
       "      <td>144</td>\n",
       "    </tr>\n",
       "    <tr>\n",
       "      <th rowspan=\"3\" valign=\"top\">male</th>\n",
       "      <th>1</th>\n",
       "      <td>122</td>\n",
       "    </tr>\n",
       "    <tr>\n",
       "      <th>2</th>\n",
       "      <td>108</td>\n",
       "    </tr>\n",
       "    <tr>\n",
       "      <th>3</th>\n",
       "      <td>347</td>\n",
       "    </tr>\n",
       "  </tbody>\n",
       "</table>\n",
       "</div>"
      ],
      "text/plain": [
       "               who\n",
       "sex    pclass     \n",
       "female 1        94\n",
       "       2        76\n",
       "       3       144\n",
       "male   1       122\n",
       "       2       108\n",
       "       3       347"
      ]
     },
     "execution_count": 43,
     "metadata": {},
     "output_type": "execute_result"
    }
   ],
   "source": [
    "import pandas as pd\n",
    "\n",
    "df1=pd.read_csv('/home/manish/Downloads/titanic.csv')\n",
    "df2=df1.groupby(['sex','pclass']).count()\n",
    "df2[['who']]"
   ]
  },
  {
   "cell_type": "code",
   "execution_count": 55,
   "metadata": {},
   "outputs": [
    {
     "data": {
      "text/html": [
       "<div>\n",
       "<style scoped>\n",
       "    .dataframe tbody tr th:only-of-type {\n",
       "        vertical-align: middle;\n",
       "    }\n",
       "\n",
       "    .dataframe tbody tr th {\n",
       "        vertical-align: top;\n",
       "    }\n",
       "\n",
       "    .dataframe thead tr th {\n",
       "        text-align: left;\n",
       "    }\n",
       "\n",
       "    .dataframe thead tr:last-of-type th {\n",
       "        text-align: right;\n",
       "    }\n",
       "</style>\n",
       "<table border=\"1\" class=\"dataframe\">\n",
       "  <thead>\n",
       "    <tr>\n",
       "      <th></th>\n",
       "      <th colspan=\"3\" halign=\"left\">who</th>\n",
       "    </tr>\n",
       "    <tr>\n",
       "      <th>pclass</th>\n",
       "      <th>1</th>\n",
       "      <th>2</th>\n",
       "      <th>3</th>\n",
       "    </tr>\n",
       "    <tr>\n",
       "      <th>sex</th>\n",
       "      <th></th>\n",
       "      <th></th>\n",
       "      <th></th>\n",
       "    </tr>\n",
       "  </thead>\n",
       "  <tbody>\n",
       "    <tr>\n",
       "      <th>female</th>\n",
       "      <td>94</td>\n",
       "      <td>76</td>\n",
       "      <td>144</td>\n",
       "    </tr>\n",
       "    <tr>\n",
       "      <th>male</th>\n",
       "      <td>122</td>\n",
       "      <td>108</td>\n",
       "      <td>347</td>\n",
       "    </tr>\n",
       "  </tbody>\n",
       "</table>\n",
       "</div>"
      ],
      "text/plain": [
       "        who          \n",
       "pclass    1    2    3\n",
       "sex                  \n",
       "female   94   76  144\n",
       "male    122  108  347"
      ]
     },
     "execution_count": 55,
     "metadata": {},
     "output_type": "execute_result"
    }
   ],
   "source": [
    "import pandas as pd\n",
    "import numpy as np\n",
    "\n",
    "df1=pd.read_csv('/home/manish/Downloads/titanic.csv')\n",
    "df2=pd.pivot_table(df1,index='sex',columns=['pclass'],aggfunc=np.count_nonzero)\n",
    "df2[['who']]"
   ]
  },
  {
   "cell_type": "raw",
   "metadata": {},
   "source": [
    "Q128. Write a pandas program to create the Pivot table and separate the gender according to whether they travelled alone or not to get the probability of survival"
   ]
  },
  {
   "cell_type": "code",
   "execution_count": 64,
   "metadata": {},
   "outputs": [
    {
     "data": {
      "text/html": [
       "<div>\n",
       "<style scoped>\n",
       "    .dataframe tbody tr th:only-of-type {\n",
       "        vertical-align: middle;\n",
       "    }\n",
       "\n",
       "    .dataframe tbody tr th {\n",
       "        vertical-align: top;\n",
       "    }\n",
       "\n",
       "    .dataframe thead th {\n",
       "        text-align: right;\n",
       "    }\n",
       "</style>\n",
       "<table border=\"1\" class=\"dataframe\">\n",
       "  <thead>\n",
       "    <tr style=\"text-align: right;\">\n",
       "      <th></th>\n",
       "      <th></th>\n",
       "      <th>survived</th>\n",
       "    </tr>\n",
       "    <tr>\n",
       "      <th>sex</th>\n",
       "      <th>alone</th>\n",
       "      <th></th>\n",
       "    </tr>\n",
       "  </thead>\n",
       "  <tbody>\n",
       "    <tr>\n",
       "      <th rowspan=\"2\" valign=\"top\">female</th>\n",
       "      <th>False</th>\n",
       "      <td>0.712766</td>\n",
       "    </tr>\n",
       "    <tr>\n",
       "      <th>True</th>\n",
       "      <td>0.785714</td>\n",
       "    </tr>\n",
       "    <tr>\n",
       "      <th rowspan=\"2\" valign=\"top\">male</th>\n",
       "      <th>False</th>\n",
       "      <td>0.271084</td>\n",
       "    </tr>\n",
       "    <tr>\n",
       "      <th>True</th>\n",
       "      <td>0.155718</td>\n",
       "    </tr>\n",
       "  </tbody>\n",
       "</table>\n",
       "</div>"
      ],
      "text/plain": [
       "              survived\n",
       "sex    alone          \n",
       "female False  0.712766\n",
       "       True   0.785714\n",
       "male   False  0.271084\n",
       "       True   0.155718"
      ]
     },
     "execution_count": 64,
     "metadata": {},
     "output_type": "execute_result"
    }
   ],
   "source": [
    "import pandas as pd\n",
    "\n",
    "df1=pd.read_csv('/home/manish/Downloads/titanic.csv')\n",
    "df2=df1.groupby(['sex','alone']).mean()\n",
    "df2[['survived']]"
   ]
  },
  {
   "cell_type": "code",
   "execution_count": 74,
   "metadata": {},
   "outputs": [
    {
     "data": {
      "text/html": [
       "<div>\n",
       "<style scoped>\n",
       "    .dataframe tbody tr th:only-of-type {\n",
       "        vertical-align: middle;\n",
       "    }\n",
       "\n",
       "    .dataframe tbody tr th {\n",
       "        vertical-align: top;\n",
       "    }\n",
       "\n",
       "    .dataframe thead tr th {\n",
       "        text-align: left;\n",
       "    }\n",
       "\n",
       "    .dataframe thead tr:last-of-type th {\n",
       "        text-align: right;\n",
       "    }\n",
       "</style>\n",
       "<table border=\"1\" class=\"dataframe\">\n",
       "  <thead>\n",
       "    <tr>\n",
       "      <th></th>\n",
       "      <th colspan=\"2\" halign=\"left\">survived</th>\n",
       "    </tr>\n",
       "    <tr>\n",
       "      <th>alone</th>\n",
       "      <th>False</th>\n",
       "      <th>True</th>\n",
       "    </tr>\n",
       "    <tr>\n",
       "      <th>sex</th>\n",
       "      <th></th>\n",
       "      <th></th>\n",
       "    </tr>\n",
       "  </thead>\n",
       "  <tbody>\n",
       "    <tr>\n",
       "      <th>female</th>\n",
       "      <td>0.712766</td>\n",
       "      <td>0.785714</td>\n",
       "    </tr>\n",
       "    <tr>\n",
       "      <th>male</th>\n",
       "      <td>0.271084</td>\n",
       "      <td>0.155718</td>\n",
       "    </tr>\n",
       "  </tbody>\n",
       "</table>\n",
       "</div>"
      ],
      "text/plain": [
       "        survived          \n",
       "alone      False     True \n",
       "sex                       \n",
       "female  0.712766  0.785714\n",
       "male    0.271084  0.155718"
      ]
     },
     "execution_count": 74,
     "metadata": {},
     "output_type": "execute_result"
    }
   ],
   "source": [
    "import pandas as pd\n",
    "\n",
    "df1=pd.read_csv('/home/manish/Downloads/titanic.csv')\n",
    "pd.pivot_table(df1,index='sex',columns=['alone'])[['survived']]"
   ]
  },
  {
   "cell_type": "raw",
   "metadata": {},
   "source": [
    "Q129. Write a pandas program to create the Pivot table and find the probability of survival by class, gender, solo boarding, and the port of embarkation."
   ]
  },
  {
   "cell_type": "code",
   "execution_count": 88,
   "metadata": {},
   "outputs": [
    {
     "data": {
      "text/html": [
       "<div>\n",
       "<style scoped>\n",
       "    .dataframe tbody tr th:only-of-type {\n",
       "        vertical-align: middle;\n",
       "    }\n",
       "\n",
       "    .dataframe tbody tr th {\n",
       "        vertical-align: top;\n",
       "    }\n",
       "\n",
       "    .dataframe thead th {\n",
       "        text-align: right;\n",
       "    }\n",
       "</style>\n",
       "<table border=\"1\" class=\"dataframe\">\n",
       "  <thead>\n",
       "    <tr style=\"text-align: right;\">\n",
       "      <th></th>\n",
       "      <th></th>\n",
       "      <th></th>\n",
       "      <th></th>\n",
       "      <th>survived</th>\n",
       "    </tr>\n",
       "    <tr>\n",
       "      <th>sex</th>\n",
       "      <th>alone</th>\n",
       "      <th>embarked</th>\n",
       "      <th>pclass</th>\n",
       "      <th></th>\n",
       "    </tr>\n",
       "  </thead>\n",
       "  <tbody>\n",
       "    <tr>\n",
       "      <th rowspan=\"16\" valign=\"top\">female</th>\n",
       "      <th rowspan=\"8\" valign=\"top\">False</th>\n",
       "      <th rowspan=\"3\" valign=\"top\">C</th>\n",
       "      <th>1</th>\n",
       "      <td>1.000000</td>\n",
       "    </tr>\n",
       "    <tr>\n",
       "      <th>2</th>\n",
       "      <td>1.000000</td>\n",
       "    </tr>\n",
       "    <tr>\n",
       "      <th>3</th>\n",
       "      <td>0.611111</td>\n",
       "    </tr>\n",
       "    <tr>\n",
       "      <th rowspan=\"2\" valign=\"top\">Q</th>\n",
       "      <th>1</th>\n",
       "      <td>1.000000</td>\n",
       "    </tr>\n",
       "    <tr>\n",
       "      <th>3</th>\n",
       "      <td>0.625000</td>\n",
       "    </tr>\n",
       "    <tr>\n",
       "      <th rowspan=\"3\" valign=\"top\">S</th>\n",
       "      <th>1</th>\n",
       "      <td>0.941176</td>\n",
       "    </tr>\n",
       "    <tr>\n",
       "      <th>2</th>\n",
       "      <td>0.923077</td>\n",
       "    </tr>\n",
       "    <tr>\n",
       "      <th>3</th>\n",
       "      <td>0.327586</td>\n",
       "    </tr>\n",
       "    <tr>\n",
       "      <th rowspan=\"8\" valign=\"top\">True</th>\n",
       "      <th rowspan=\"3\" valign=\"top\">C</th>\n",
       "      <th>1</th>\n",
       "      <td>0.944444</td>\n",
       "    </tr>\n",
       "    <tr>\n",
       "      <th>2</th>\n",
       "      <td>1.000000</td>\n",
       "    </tr>\n",
       "    <tr>\n",
       "      <th>3</th>\n",
       "      <td>0.800000</td>\n",
       "    </tr>\n",
       "    <tr>\n",
       "      <th rowspan=\"2\" valign=\"top\">Q</th>\n",
       "      <th>2</th>\n",
       "      <td>1.000000</td>\n",
       "    </tr>\n",
       "    <tr>\n",
       "      <th>3</th>\n",
       "      <td>0.760000</td>\n",
       "    </tr>\n",
       "    <tr>\n",
       "      <th rowspan=\"3\" valign=\"top\">S</th>\n",
       "      <th>1</th>\n",
       "      <td>1.000000</td>\n",
       "    </tr>\n",
       "    <tr>\n",
       "      <th>2</th>\n",
       "      <td>0.892857</td>\n",
       "    </tr>\n",
       "    <tr>\n",
       "      <th>3</th>\n",
       "      <td>0.466667</td>\n",
       "    </tr>\n",
       "    <tr>\n",
       "      <th rowspan=\"16\" valign=\"top\">male</th>\n",
       "      <th rowspan=\"8\" valign=\"top\">False</th>\n",
       "      <th rowspan=\"3\" valign=\"top\">C</th>\n",
       "      <th>1</th>\n",
       "      <td>0.473684</td>\n",
       "    </tr>\n",
       "    <tr>\n",
       "      <th>2</th>\n",
       "      <td>0.166667</td>\n",
       "    </tr>\n",
       "    <tr>\n",
       "      <th>3</th>\n",
       "      <td>0.500000</td>\n",
       "    </tr>\n",
       "    <tr>\n",
       "      <th rowspan=\"2\" valign=\"top\">Q</th>\n",
       "      <th>1</th>\n",
       "      <td>0.000000</td>\n",
       "    </tr>\n",
       "    <tr>\n",
       "      <th>3</th>\n",
       "      <td>0.100000</td>\n",
       "    </tr>\n",
       "    <tr>\n",
       "      <th rowspan=\"3\" valign=\"top\">S</th>\n",
       "      <th>1</th>\n",
       "      <td>0.407407</td>\n",
       "    </tr>\n",
       "    <tr>\n",
       "      <th>2</th>\n",
       "      <td>0.300000</td>\n",
       "    </tr>\n",
       "    <tr>\n",
       "      <th>3</th>\n",
       "      <td>0.142857</td>\n",
       "    </tr>\n",
       "    <tr>\n",
       "      <th rowspan=\"8\" valign=\"top\">True</th>\n",
       "      <th rowspan=\"3\" valign=\"top\">C</th>\n",
       "      <th>1</th>\n",
       "      <td>0.347826</td>\n",
       "    </tr>\n",
       "    <tr>\n",
       "      <th>2</th>\n",
       "      <td>0.250000</td>\n",
       "    </tr>\n",
       "    <tr>\n",
       "      <th>3</th>\n",
       "      <td>0.151515</td>\n",
       "    </tr>\n",
       "    <tr>\n",
       "      <th rowspan=\"2\" valign=\"top\">Q</th>\n",
       "      <th>2</th>\n",
       "      <td>0.000000</td>\n",
       "    </tr>\n",
       "    <tr>\n",
       "      <th>3</th>\n",
       "      <td>0.068966</td>\n",
       "    </tr>\n",
       "    <tr>\n",
       "      <th rowspan=\"3\" valign=\"top\">S</th>\n",
       "      <th>1</th>\n",
       "      <td>0.326923</td>\n",
       "    </tr>\n",
       "    <tr>\n",
       "      <th>2</th>\n",
       "      <td>0.089552</td>\n",
       "    </tr>\n",
       "    <tr>\n",
       "      <th>3</th>\n",
       "      <td>0.123762</td>\n",
       "    </tr>\n",
       "  </tbody>\n",
       "</table>\n",
       "</div>"
      ],
      "text/plain": [
       "                              survived\n",
       "sex    alone embarked pclass          \n",
       "female False C        1       1.000000\n",
       "                      2       1.000000\n",
       "                      3       0.611111\n",
       "             Q        1       1.000000\n",
       "                      3       0.625000\n",
       "             S        1       0.941176\n",
       "                      2       0.923077\n",
       "                      3       0.327586\n",
       "       True  C        1       0.944444\n",
       "                      2       1.000000\n",
       "                      3       0.800000\n",
       "             Q        2       1.000000\n",
       "                      3       0.760000\n",
       "             S        1       1.000000\n",
       "                      2       0.892857\n",
       "                      3       0.466667\n",
       "male   False C        1       0.473684\n",
       "                      2       0.166667\n",
       "                      3       0.500000\n",
       "             Q        1       0.000000\n",
       "                      3       0.100000\n",
       "             S        1       0.407407\n",
       "                      2       0.300000\n",
       "                      3       0.142857\n",
       "       True  C        1       0.347826\n",
       "                      2       0.250000\n",
       "                      3       0.151515\n",
       "             Q        2       0.000000\n",
       "                      3       0.068966\n",
       "             S        1       0.326923\n",
       "                      2       0.089552\n",
       "                      3       0.123762"
      ]
     },
     "execution_count": 88,
     "metadata": {},
     "output_type": "execute_result"
    }
   ],
   "source": [
    "import pandas as pd\n",
    "\n",
    "df1=pd.read_csv('/home/manish/Downloads/titanic.csv')\n",
    "df2=df1.groupby(['sex','alone','embarked','pclass']).mean()\n",
    "df2[['survived']]"
   ]
  },
  {
   "cell_type": "code",
   "execution_count": 90,
   "metadata": {},
   "outputs": [
    {
     "data": {
      "text/html": [
       "<div>\n",
       "<style scoped>\n",
       "    .dataframe tbody tr th:only-of-type {\n",
       "        vertical-align: middle;\n",
       "    }\n",
       "\n",
       "    .dataframe tbody tr th {\n",
       "        vertical-align: top;\n",
       "    }\n",
       "\n",
       "    .dataframe thead th {\n",
       "        text-align: right;\n",
       "    }\n",
       "</style>\n",
       "<table border=\"1\" class=\"dataframe\">\n",
       "  <thead>\n",
       "    <tr style=\"text-align: right;\">\n",
       "      <th></th>\n",
       "      <th></th>\n",
       "      <th></th>\n",
       "      <th></th>\n",
       "      <th>survived</th>\n",
       "    </tr>\n",
       "    <tr>\n",
       "      <th>sex</th>\n",
       "      <th>alone</th>\n",
       "      <th>embarked</th>\n",
       "      <th>pclass</th>\n",
       "      <th></th>\n",
       "    </tr>\n",
       "  </thead>\n",
       "  <tbody>\n",
       "    <tr>\n",
       "      <th rowspan=\"16\" valign=\"top\">female</th>\n",
       "      <th rowspan=\"8\" valign=\"top\">False</th>\n",
       "      <th rowspan=\"3\" valign=\"top\">C</th>\n",
       "      <th>1</th>\n",
       "      <td>1.000000</td>\n",
       "    </tr>\n",
       "    <tr>\n",
       "      <th>2</th>\n",
       "      <td>1.000000</td>\n",
       "    </tr>\n",
       "    <tr>\n",
       "      <th>3</th>\n",
       "      <td>0.611111</td>\n",
       "    </tr>\n",
       "    <tr>\n",
       "      <th rowspan=\"2\" valign=\"top\">Q</th>\n",
       "      <th>1</th>\n",
       "      <td>1.000000</td>\n",
       "    </tr>\n",
       "    <tr>\n",
       "      <th>3</th>\n",
       "      <td>0.625000</td>\n",
       "    </tr>\n",
       "    <tr>\n",
       "      <th rowspan=\"3\" valign=\"top\">S</th>\n",
       "      <th>1</th>\n",
       "      <td>0.941176</td>\n",
       "    </tr>\n",
       "    <tr>\n",
       "      <th>2</th>\n",
       "      <td>0.923077</td>\n",
       "    </tr>\n",
       "    <tr>\n",
       "      <th>3</th>\n",
       "      <td>0.327586</td>\n",
       "    </tr>\n",
       "    <tr>\n",
       "      <th rowspan=\"8\" valign=\"top\">True</th>\n",
       "      <th rowspan=\"3\" valign=\"top\">C</th>\n",
       "      <th>1</th>\n",
       "      <td>0.944444</td>\n",
       "    </tr>\n",
       "    <tr>\n",
       "      <th>2</th>\n",
       "      <td>1.000000</td>\n",
       "    </tr>\n",
       "    <tr>\n",
       "      <th>3</th>\n",
       "      <td>0.800000</td>\n",
       "    </tr>\n",
       "    <tr>\n",
       "      <th rowspan=\"2\" valign=\"top\">Q</th>\n",
       "      <th>2</th>\n",
       "      <td>1.000000</td>\n",
       "    </tr>\n",
       "    <tr>\n",
       "      <th>3</th>\n",
       "      <td>0.760000</td>\n",
       "    </tr>\n",
       "    <tr>\n",
       "      <th rowspan=\"3\" valign=\"top\">S</th>\n",
       "      <th>1</th>\n",
       "      <td>1.000000</td>\n",
       "    </tr>\n",
       "    <tr>\n",
       "      <th>2</th>\n",
       "      <td>0.892857</td>\n",
       "    </tr>\n",
       "    <tr>\n",
       "      <th>3</th>\n",
       "      <td>0.466667</td>\n",
       "    </tr>\n",
       "    <tr>\n",
       "      <th rowspan=\"16\" valign=\"top\">male</th>\n",
       "      <th rowspan=\"8\" valign=\"top\">False</th>\n",
       "      <th rowspan=\"3\" valign=\"top\">C</th>\n",
       "      <th>1</th>\n",
       "      <td>0.473684</td>\n",
       "    </tr>\n",
       "    <tr>\n",
       "      <th>2</th>\n",
       "      <td>0.166667</td>\n",
       "    </tr>\n",
       "    <tr>\n",
       "      <th>3</th>\n",
       "      <td>0.500000</td>\n",
       "    </tr>\n",
       "    <tr>\n",
       "      <th rowspan=\"2\" valign=\"top\">Q</th>\n",
       "      <th>1</th>\n",
       "      <td>0.000000</td>\n",
       "    </tr>\n",
       "    <tr>\n",
       "      <th>3</th>\n",
       "      <td>0.100000</td>\n",
       "    </tr>\n",
       "    <tr>\n",
       "      <th rowspan=\"3\" valign=\"top\">S</th>\n",
       "      <th>1</th>\n",
       "      <td>0.407407</td>\n",
       "    </tr>\n",
       "    <tr>\n",
       "      <th>2</th>\n",
       "      <td>0.300000</td>\n",
       "    </tr>\n",
       "    <tr>\n",
       "      <th>3</th>\n",
       "      <td>0.142857</td>\n",
       "    </tr>\n",
       "    <tr>\n",
       "      <th rowspan=\"8\" valign=\"top\">True</th>\n",
       "      <th rowspan=\"3\" valign=\"top\">C</th>\n",
       "      <th>1</th>\n",
       "      <td>0.347826</td>\n",
       "    </tr>\n",
       "    <tr>\n",
       "      <th>2</th>\n",
       "      <td>0.250000</td>\n",
       "    </tr>\n",
       "    <tr>\n",
       "      <th>3</th>\n",
       "      <td>0.151515</td>\n",
       "    </tr>\n",
       "    <tr>\n",
       "      <th rowspan=\"2\" valign=\"top\">Q</th>\n",
       "      <th>2</th>\n",
       "      <td>0.000000</td>\n",
       "    </tr>\n",
       "    <tr>\n",
       "      <th>3</th>\n",
       "      <td>0.068966</td>\n",
       "    </tr>\n",
       "    <tr>\n",
       "      <th rowspan=\"3\" valign=\"top\">S</th>\n",
       "      <th>1</th>\n",
       "      <td>0.326923</td>\n",
       "    </tr>\n",
       "    <tr>\n",
       "      <th>2</th>\n",
       "      <td>0.089552</td>\n",
       "    </tr>\n",
       "    <tr>\n",
       "      <th>3</th>\n",
       "      <td>0.123762</td>\n",
       "    </tr>\n",
       "  </tbody>\n",
       "</table>\n",
       "</div>"
      ],
      "text/plain": [
       "                              survived\n",
       "sex    alone embarked pclass          \n",
       "female False C        1       1.000000\n",
       "                      2       1.000000\n",
       "                      3       0.611111\n",
       "             Q        1       1.000000\n",
       "                      3       0.625000\n",
       "             S        1       0.941176\n",
       "                      2       0.923077\n",
       "                      3       0.327586\n",
       "       True  C        1       0.944444\n",
       "                      2       1.000000\n",
       "                      3       0.800000\n",
       "             Q        2       1.000000\n",
       "                      3       0.760000\n",
       "             S        1       1.000000\n",
       "                      2       0.892857\n",
       "                      3       0.466667\n",
       "male   False C        1       0.473684\n",
       "                      2       0.166667\n",
       "                      3       0.500000\n",
       "             Q        1       0.000000\n",
       "                      3       0.100000\n",
       "             S        1       0.407407\n",
       "                      2       0.300000\n",
       "                      3       0.142857\n",
       "       True  C        1       0.347826\n",
       "                      2       0.250000\n",
       "                      3       0.151515\n",
       "             Q        2       0.000000\n",
       "                      3       0.068966\n",
       "             S        1       0.326923\n",
       "                      2       0.089552\n",
       "                      3       0.123762"
      ]
     },
     "execution_count": 90,
     "metadata": {},
     "output_type": "execute_result"
    }
   ],
   "source": [
    "import pandas as pd\n",
    "\n",
    "df1=pd.read_csv('/home/manish/Downloads/titanic.csv')\n",
    "df1.pivot_table('survived',['sex','alone','embarked','pclass'])"
   ]
  },
  {
   "cell_type": "raw",
   "metadata": {},
   "source": [
    "Q130. Write a pandas program to get current date, oldest date and number of days between Current date and the oldest date of Ufo dataset."
   ]
  },
  {
   "cell_type": "code",
   "execution_count": 106,
   "metadata": {},
   "outputs": [
    {
     "name": "stdout",
     "output_type": "stream",
     "text": [
      "Current date- 2004-12-08 05:30:00 \n",
      "Oldest date- 1910-06-01 15:00:00\n",
      "Number of days between current data nd oldest date- 34523 days 14:30:00\n"
     ]
    }
   ],
   "source": [
    "import pandas as pd\n",
    "\n",
    "df1=pd.read_csv('/home/manish/Downloads/ufo.csv')\n",
    "df2=pd.to_datetime(df1['Date_time'])\n",
    "print(\"Current date-\",df2.max(),\"\\nOldest date-\",df2.min())\n",
    "print(\"Number of days between current data nd oldest date-\",df2.max()-df2.min())"
   ]
  },
  {
   "cell_type": "raw",
   "metadata": {},
   "source": [
    "Q131. Write a pandas program to get all sighting days of the unidentified flying object (ufo) between 1950-10-10 and 1960-10-10."
   ]
  },
  {
   "cell_type": "code",
   "execution_count": 115,
   "metadata": {},
   "outputs": [
    {
     "data": {
      "text/html": [
       "<div>\n",
       "<style scoped>\n",
       "    .dataframe tbody tr th:only-of-type {\n",
       "        vertical-align: middle;\n",
       "    }\n",
       "\n",
       "    .dataframe tbody tr th {\n",
       "        vertical-align: top;\n",
       "    }\n",
       "\n",
       "    .dataframe thead th {\n",
       "        text-align: right;\n",
       "    }\n",
       "</style>\n",
       "<table border=\"1\" class=\"dataframe\">\n",
       "  <thead>\n",
       "    <tr style=\"text-align: right;\">\n",
       "      <th></th>\n",
       "      <th>Date_time</th>\n",
       "      <th>city</th>\n",
       "      <th>state/province</th>\n",
       "      <th>country</th>\n",
       "      <th>UFO_shape</th>\n",
       "      <th>length_of_encounter_seconds</th>\n",
       "      <th>described_duration_of_encounter</th>\n",
       "      <th>description</th>\n",
       "      <th>date_documented</th>\n",
       "      <th>latitude</th>\n",
       "      <th>longitude</th>\n",
       "    </tr>\n",
       "  </thead>\n",
       "  <tbody>\n",
       "    <tr>\n",
       "      <th>33</th>\n",
       "      <td>1951-06-01 07:00:00</td>\n",
       "      <td>brandon (canada)</td>\n",
       "      <td>mb</td>\n",
       "      <td>ca</td>\n",
       "      <td>disk</td>\n",
       "      <td>1800</td>\n",
       "      <td>30 minutes</td>\n",
       "      <td>Circular Craft and Man in Black Sighted in Sum...</td>\n",
       "      <td>02/18/2001</td>\n",
       "      <td>49.833333</td>\n",
       "      <td>-99.950000</td>\n",
       "    </tr>\n",
       "    <tr>\n",
       "      <th>34</th>\n",
       "      <td>1951-07-01 03:00:00</td>\n",
       "      <td>otis orchards</td>\n",
       "      <td>wa</td>\n",
       "      <td>us</td>\n",
       "      <td>disk</td>\n",
       "      <td>120</td>\n",
       "      <td>~2 minutes</td>\n",
       "      <td>Cigar shaped Disc darting back and forth (East...</td>\n",
       "      <td>12/23/2013</td>\n",
       "      <td>47.700556</td>\n",
       "      <td>-117.105278</td>\n",
       "    </tr>\n",
       "    <tr>\n",
       "      <th>35</th>\n",
       "      <td>1951-02-03 22:00:00</td>\n",
       "      <td>thompsonville</td>\n",
       "      <td>ct</td>\n",
       "      <td>us</td>\n",
       "      <td>disk</td>\n",
       "      <td>30</td>\n",
       "      <td>30 seconds</td>\n",
       "      <td>A golden-orange glowing bowl&amp;#44 flat on top&amp;#...</td>\n",
       "      <td>07/25/2004</td>\n",
       "      <td>41.996944</td>\n",
       "      <td>-72.599444</td>\n",
       "    </tr>\n",
       "    <tr>\n",
       "      <th>36</th>\n",
       "      <td>1951-06-03 13:00:00</td>\n",
       "      <td>jasper</td>\n",
       "      <td>nc</td>\n",
       "      <td>us</td>\n",
       "      <td>oval</td>\n",
       "      <td>300</td>\n",
       "      <td>5 minutes</td>\n",
       "      <td>MIDDAY OVAL SHAPE&amp;#44 ANITQUE COLOR OBJECT SIT...</td>\n",
       "      <td>06/20/2005</td>\n",
       "      <td>35.201389</td>\n",
       "      <td>-77.206944</td>\n",
       "    </tr>\n",
       "    <tr>\n",
       "      <th>37</th>\n",
       "      <td>1952-07-01 15:00:00</td>\n",
       "      <td>sebeka</td>\n",
       "      <td>mn</td>\n",
       "      <td>us</td>\n",
       "      <td>other</td>\n",
       "      <td>1800</td>\n",
       "      <td>30 min</td>\n",
       "      <td>Silver donut shape object sighted over rural M...</td>\n",
       "      <td>12/12/11</td>\n",
       "      <td>46.630000</td>\n",
       "      <td>-95.088611</td>\n",
       "    </tr>\n",
       "    <tr>\n",
       "      <th>38</th>\n",
       "      <td>1952-07-01 22:00:00</td>\n",
       "      <td>detroit</td>\n",
       "      <td>mi</td>\n",
       "      <td>us</td>\n",
       "      <td>sphere</td>\n",
       "      <td>300</td>\n",
       "      <td>5 minutes</td>\n",
       "      <td>object sits stationary for 5 minutes and then ...</td>\n",
       "      <td>10/31/2003</td>\n",
       "      <td>42.331389</td>\n",
       "      <td>-83.045833</td>\n",
       "    </tr>\n",
       "    <tr>\n",
       "      <th>39</th>\n",
       "      <td>1952-08-01 21:30:00</td>\n",
       "      <td>tampa</td>\n",
       "      <td>fl</td>\n",
       "      <td>us</td>\n",
       "      <td>oval</td>\n",
       "      <td>9000</td>\n",
       "      <td>2 hrs. 30 min.</td>\n",
       "      <td>Triangulation radar fix (USAF&amp;#44 civil&amp;#44 Na...</td>\n",
       "      <td>12/02/00</td>\n",
       "      <td>27.947222</td>\n",
       "      <td>-82.458611</td>\n",
       "    </tr>\n",
       "    <tr>\n",
       "      <th>40</th>\n",
       "      <td>1952-10-01 12:00:00</td>\n",
       "      <td>kansas city</td>\n",
       "      <td>mo</td>\n",
       "      <td>us</td>\n",
       "      <td>disk</td>\n",
       "      <td>90</td>\n",
       "      <td>90 sec.</td>\n",
       "      <td>1952 daylight sighting of multiple discs in fo...</td>\n",
       "      <td>10/31/2008</td>\n",
       "      <td>39.099722</td>\n",
       "      <td>-94.578333</td>\n",
       "    </tr>\n",
       "    <tr>\n",
       "      <th>41</th>\n",
       "      <td>1953-04-01 15:00:00</td>\n",
       "      <td>haverhill</td>\n",
       "      <td>ma</td>\n",
       "      <td>us</td>\n",
       "      <td>chevron</td>\n",
       "      <td>2</td>\n",
       "      <td>seconds</td>\n",
       "      <td>Historical account&amp;#44 Haverhill MA</td>\n",
       "      <td>09/02/05</td>\n",
       "      <td>42.776111</td>\n",
       "      <td>-71.077778</td>\n",
       "    </tr>\n",
       "    <tr>\n",
       "      <th>42</th>\n",
       "      <td>1953-04-01 18:00:00</td>\n",
       "      <td>cambridge</td>\n",
       "      <td>ma</td>\n",
       "      <td>us</td>\n",
       "      <td>sphere</td>\n",
       "      <td>180</td>\n",
       "      <td>3 minutes</td>\n",
       "      <td>Two red-orange lights skirted Boston rooftops ...</td>\n",
       "      <td>07/14/2013</td>\n",
       "      <td>42.375000</td>\n",
       "      <td>-71.106111</td>\n",
       "    </tr>\n",
       "    <tr>\n",
       "      <th>43</th>\n",
       "      <td>1953-07-01 05:30:00</td>\n",
       "      <td>colorado springs (mtsn nw of)</td>\n",
       "      <td>co</td>\n",
       "      <td>us</td>\n",
       "      <td>disk</td>\n",
       "      <td>10</td>\n",
       "      <td>10 seconds</td>\n",
       "      <td>Absolutely huge UFO hovered 40 feet above hous...</td>\n",
       "      <td>07/25/2004</td>\n",
       "      <td>38.833889</td>\n",
       "      <td>-104.820833</td>\n",
       "    </tr>\n",
       "    <tr>\n",
       "      <th>44</th>\n",
       "      <td>1953-08-01 12:00:00</td>\n",
       "      <td>berkeley</td>\n",
       "      <td>mo</td>\n",
       "      <td>us</td>\n",
       "      <td>fireball</td>\n",
       "      <td>300</td>\n",
       "      <td>5 minutes</td>\n",
       "      <td>Early 50&amp;#39s sighting in Berkeley&amp;#44 Missouri</td>\n",
       "      <td>01/22/2004</td>\n",
       "      <td>38.754444</td>\n",
       "      <td>-90.331111</td>\n",
       "    </tr>\n",
       "    <tr>\n",
       "      <th>45</th>\n",
       "      <td>1954-02-01 02:00:00</td>\n",
       "      <td>fairbanks</td>\n",
       "      <td>ak</td>\n",
       "      <td>us</td>\n",
       "      <td>unknown</td>\n",
       "      <td>1140</td>\n",
       "      <td>19 min.</td>\n",
       "      <td>RADAR INTERCEPT OF UFO BY USAF PILOT IN ALASKA...</td>\n",
       "      <td>01/10/09</td>\n",
       "      <td>64.837778</td>\n",
       "      <td>-147.716389</td>\n",
       "    </tr>\n",
       "    <tr>\n",
       "      <th>46</th>\n",
       "      <td>1954-06-01 00:00:00</td>\n",
       "      <td>houston</td>\n",
       "      <td>tx</td>\n",
       "      <td>us</td>\n",
       "      <td>disk</td>\n",
       "      <td>180</td>\n",
       "      <td>2-3 minutes</td>\n",
       "      <td>I fulfilled my duty by passing on an unusual a...</td>\n",
       "      <td>06/12/08</td>\n",
       "      <td>29.763056</td>\n",
       "      <td>-95.363056</td>\n",
       "    </tr>\n",
       "    <tr>\n",
       "      <th>47</th>\n",
       "      <td>1954-06-01 06:00:00</td>\n",
       "      <td>ovid</td>\n",
       "      <td>ny</td>\n",
       "      <td>us</td>\n",
       "      <td>disk</td>\n",
       "      <td>600</td>\n",
       "      <td>10 min.</td>\n",
       "      <td>I saw two silver/gray objects of different sha...</td>\n",
       "      <td>12/05/01</td>\n",
       "      <td>42.676389</td>\n",
       "      <td>-76.823333</td>\n",
       "    </tr>\n",
       "    <tr>\n",
       "      <th>48</th>\n",
       "      <td>1954-06-01 08:00:00</td>\n",
       "      <td>springfield (rural area near)</td>\n",
       "      <td>il</td>\n",
       "      <td>us</td>\n",
       "      <td>cylinder</td>\n",
       "      <td>600</td>\n",
       "      <td>5-10 mins.</td>\n",
       "      <td>This happened many years ago when I was a chil...</td>\n",
       "      <td>12/02/00</td>\n",
       "      <td>39.801667</td>\n",
       "      <td>-89.643611</td>\n",
       "    </tr>\n",
       "    <tr>\n",
       "      <th>49</th>\n",
       "      <td>1955-05-01 15:00:00</td>\n",
       "      <td>holbrook</td>\n",
       "      <td>ma</td>\n",
       "      <td>us</td>\n",
       "      <td>egg</td>\n",
       "      <td>60</td>\n",
       "      <td>1 minute</td>\n",
       "      <td>I turned around and over the trees was a large...</td>\n",
       "      <td>04/16/2005</td>\n",
       "      <td>42.155000</td>\n",
       "      <td>-71.009167</td>\n",
       "    </tr>\n",
       "    <tr>\n",
       "      <th>50</th>\n",
       "      <td>1955-06-01 02:00:00</td>\n",
       "      <td>bagley</td>\n",
       "      <td>mn</td>\n",
       "      <td>us</td>\n",
       "      <td>circle</td>\n",
       "      <td>7200</td>\n",
       "      <td>2 hours</td>\n",
       "      <td>I was 5 years old at the time&amp;#44 family of 4 ...</td>\n",
       "      <td>05/24/1999</td>\n",
       "      <td>47.521667</td>\n",
       "      <td>-95.398056</td>\n",
       "    </tr>\n",
       "    <tr>\n",
       "      <th>51</th>\n",
       "      <td>1955-06-01 15:29:00</td>\n",
       "      <td>cincinnati</td>\n",
       "      <td>oh</td>\n",
       "      <td>us</td>\n",
       "      <td>disk</td>\n",
       "      <td>120</td>\n",
       "      <td>approx. 1-1/2 min</td>\n",
       "      <td>June 1955.  Bronze saucer/cylindrical craft; a...</td>\n",
       "      <td>06/18/2003</td>\n",
       "      <td>39.161944</td>\n",
       "      <td>-84.456944</td>\n",
       "    </tr>\n",
       "    <tr>\n",
       "      <th>52</th>\n",
       "      <td>1955-06-01 17:00:00</td>\n",
       "      <td>martinez (outskirts)</td>\n",
       "      <td>ca</td>\n",
       "      <td>us</td>\n",
       "      <td>circle</td>\n",
       "      <td>1800</td>\n",
       "      <td>30 minutes</td>\n",
       "      <td>We observed a large object aprox.size &amp;quot;fo...</td>\n",
       "      <td>02/16/2000</td>\n",
       "      <td>38.019444</td>\n",
       "      <td>-122.133056</td>\n",
       "    </tr>\n",
       "    <tr>\n",
       "      <th>53</th>\n",
       "      <td>1956-01-01 05:30:00</td>\n",
       "      <td>weirton</td>\n",
       "      <td>wv</td>\n",
       "      <td>us</td>\n",
       "      <td>disk</td>\n",
       "      <td>10</td>\n",
       "      <td>10 seconds</td>\n",
       "      <td>My Uncle Sam was driving to work very early on...</td>\n",
       "      <td>01/07/00</td>\n",
       "      <td>40.418889</td>\n",
       "      <td>-80.589722</td>\n",
       "    </tr>\n",
       "    <tr>\n",
       "      <th>54</th>\n",
       "      <td>1956-03-01 13:00:00</td>\n",
       "      <td>petaluma</td>\n",
       "      <td>ca</td>\n",
       "      <td>us</td>\n",
       "      <td>oval</td>\n",
       "      <td>1800</td>\n",
       "      <td>30 minutes</td>\n",
       "      <td>Objects were several thousand feet in altitude...</td>\n",
       "      <td>01/28/1999</td>\n",
       "      <td>38.232500</td>\n",
       "      <td>-122.635556</td>\n",
       "    </tr>\n",
       "    <tr>\n",
       "      <th>55</th>\n",
       "      <td>1956-05-01 12:00:00</td>\n",
       "      <td>canton</td>\n",
       "      <td>oh</td>\n",
       "      <td>us</td>\n",
       "      <td>cigar</td>\n",
       "      <td>120</td>\n",
       "      <td>2 minutes</td>\n",
       "      <td>At first the silver disc was stationary. As it...</td>\n",
       "      <td>09/15/2005</td>\n",
       "      <td>40.798889</td>\n",
       "      <td>-81.378611</td>\n",
       "    </tr>\n",
       "    <tr>\n",
       "      <th>56</th>\n",
       "      <td>1956-06-01 19:00:00</td>\n",
       "      <td>belton</td>\n",
       "      <td>mo</td>\n",
       "      <td>us</td>\n",
       "      <td>other</td>\n",
       "      <td>600</td>\n",
       "      <td>10min.</td>\n",
       "      <td>THE EVENT WAS A PERSONAL CONTACT WITH AN ALIEN...</td>\n",
       "      <td>01/28/1999</td>\n",
       "      <td>38.811944</td>\n",
       "      <td>-94.531667</td>\n",
       "    </tr>\n",
       "    <tr>\n",
       "      <th>57</th>\n",
       "      <td>1957-01-01 21:00:00</td>\n",
       "      <td>dallas</td>\n",
       "      <td>tx</td>\n",
       "      <td>us</td>\n",
       "      <td>unknown</td>\n",
       "      <td>20</td>\n",
       "      <td>20 seconds</td>\n",
       "      <td>I was flying the first of 4 USAF aircraft on a...</td>\n",
       "      <td>08/24/2004</td>\n",
       "      <td>32.783333</td>\n",
       "      <td>-96.800000</td>\n",
       "    </tr>\n",
       "    <tr>\n",
       "      <th>58</th>\n",
       "      <td>1957-05-01 12:00:00</td>\n",
       "      <td>canton</td>\n",
       "      <td>oh</td>\n",
       "      <td>us</td>\n",
       "      <td>cigar</td>\n",
       "      <td>180</td>\n",
       "      <td>3 minutes</td>\n",
       "      <td>Cigar shaped object is motionless for more tha...</td>\n",
       "      <td>04/27/2004</td>\n",
       "      <td>40.798889</td>\n",
       "      <td>-81.378611</td>\n",
       "    </tr>\n",
       "    <tr>\n",
       "      <th>59</th>\n",
       "      <td>1957-06-01 10:00:00</td>\n",
       "      <td>el paso</td>\n",
       "      <td>tx</td>\n",
       "      <td>us</td>\n",
       "      <td>disk</td>\n",
       "      <td>7</td>\n",
       "      <td>5 to 7 seconds</td>\n",
       "      <td>The UFO did not make any sounds.  The craft&amp;#3...</td>\n",
       "      <td>07/26/2002</td>\n",
       "      <td>31.758611</td>\n",
       "      <td>-106.486389</td>\n",
       "    </tr>\n",
       "    <tr>\n",
       "      <th>60</th>\n",
       "      <td>1957-06-01 20:00:00</td>\n",
       "      <td>glens falls</td>\n",
       "      <td>ny</td>\n",
       "      <td>us</td>\n",
       "      <td>disk</td>\n",
       "      <td>240</td>\n",
       "      <td>3or4min</td>\n",
       "      <td>there was no mistakeing what i was looking at ...</td>\n",
       "      <td>12/02/00</td>\n",
       "      <td>43.309444</td>\n",
       "      <td>-73.644444</td>\n",
       "    </tr>\n",
       "    <tr>\n",
       "      <th>61</th>\n",
       "      <td>1958-01-01 22:00:00</td>\n",
       "      <td>pep</td>\n",
       "      <td>tx</td>\n",
       "      <td>us</td>\n",
       "      <td>fireball</td>\n",
       "      <td>2</td>\n",
       "      <td>2sec</td>\n",
       "      <td>Green fire balls&amp;#44 Texas Panhandle&amp;#44 late ...</td>\n",
       "      <td>12/12/09</td>\n",
       "      <td>33.816111</td>\n",
       "      <td>-102.557778</td>\n",
       "    </tr>\n",
       "    <tr>\n",
       "      <th>62</th>\n",
       "      <td>1958-06-01 02:00:00</td>\n",
       "      <td>middlesex</td>\n",
       "      <td>nc</td>\n",
       "      <td>us</td>\n",
       "      <td>circle</td>\n",
       "      <td>3600</td>\n",
       "      <td>1 hour</td>\n",
       "      <td>white glowing lights</td>\n",
       "      <td>03/11/06</td>\n",
       "      <td>35.790000</td>\n",
       "      <td>-78.204167</td>\n",
       "    </tr>\n",
       "    <tr>\n",
       "      <th>63</th>\n",
       "      <td>1958-06-01 19:00:00</td>\n",
       "      <td>san francisco</td>\n",
       "      <td>ca</td>\n",
       "      <td>us</td>\n",
       "      <td>oval</td>\n",
       "      <td>120</td>\n",
       "      <td>2 minutes</td>\n",
       "      <td>A low flying huge silver flying saucer positio...</td>\n",
       "      <td>10/31/2003</td>\n",
       "      <td>37.775000</td>\n",
       "      <td>-122.418333</td>\n",
       "    </tr>\n",
       "    <tr>\n",
       "      <th>64</th>\n",
       "      <td>1958-06-01 21:00:00</td>\n",
       "      <td>new york city (bronx)</td>\n",
       "      <td>ny</td>\n",
       "      <td>us</td>\n",
       "      <td>oval</td>\n",
       "      <td>10</td>\n",
       "      <td>10 seconds</td>\n",
       "      <td>7 brightly illuminated elliptical discs racing...</td>\n",
       "      <td>04/16/2005</td>\n",
       "      <td>40.714167</td>\n",
       "      <td>-74.006389</td>\n",
       "    </tr>\n",
       "    <tr>\n",
       "      <th>65</th>\n",
       "      <td>1959-04-01 01:00:00</td>\n",
       "      <td>miami</td>\n",
       "      <td>fl</td>\n",
       "      <td>us</td>\n",
       "      <td>sphere</td>\n",
       "      <td>2700</td>\n",
       "      <td>30-45 minutes</td>\n",
       "      <td>1959 childhood encounter with a spherical&amp;#44 ...</td>\n",
       "      <td>02/14/2008</td>\n",
       "      <td>25.773889</td>\n",
       "      <td>-80.193889</td>\n",
       "    </tr>\n",
       "    <tr>\n",
       "      <th>66</th>\n",
       "      <td>1959-05-01 18:30:00</td>\n",
       "      <td>columbus</td>\n",
       "      <td>oh</td>\n",
       "      <td>us</td>\n",
       "      <td>light</td>\n",
       "      <td>180</td>\n",
       "      <td>2-3 min</td>\n",
       "      <td>Red-orange lights over seen motionless over Lo...</td>\n",
       "      <td>02/22/2002</td>\n",
       "      <td>39.961111</td>\n",
       "      <td>-82.998889</td>\n",
       "    </tr>\n",
       "    <tr>\n",
       "      <th>67</th>\n",
       "      <td>1959-06-01 12:00:00</td>\n",
       "      <td>orange</td>\n",
       "      <td>ct</td>\n",
       "      <td>us</td>\n",
       "      <td>cylinder</td>\n",
       "      <td>3600</td>\n",
       "      <td>1 hour?</td>\n",
       "      <td>Sighted craft and transport of object to the g...</td>\n",
       "      <td>03/19/2009</td>\n",
       "      <td>41.278333</td>\n",
       "      <td>-73.026111</td>\n",
       "    </tr>\n",
       "    <tr>\n",
       "      <th>68</th>\n",
       "      <td>1959-06-01 18:30:00</td>\n",
       "      <td>sidney</td>\n",
       "      <td>oh</td>\n",
       "      <td>us</td>\n",
       "      <td>light</td>\n",
       "      <td>300</td>\n",
       "      <td>5 minutes</td>\n",
       "      <td>Saw a bright light shining down.  Pulled over ...</td>\n",
       "      <td>04/27/2007</td>\n",
       "      <td>40.284167</td>\n",
       "      <td>-84.155556</td>\n",
       "    </tr>\n",
       "    <tr>\n",
       "      <th>69</th>\n",
       "      <td>1960-02-01 22:15:00</td>\n",
       "      <td>st. paul</td>\n",
       "      <td>mn</td>\n",
       "      <td>us</td>\n",
       "      <td>cigar</td>\n",
       "      <td>3</td>\n",
       "      <td>3 seconds</td>\n",
       "      <td>A cigar-shaped UFO glided down towards the ear...</td>\n",
       "      <td>03/16/2000</td>\n",
       "      <td>44.944444</td>\n",
       "      <td>-93.093056</td>\n",
       "    </tr>\n",
       "    <tr>\n",
       "      <th>70</th>\n",
       "      <td>1960-02-01 23:00:00</td>\n",
       "      <td>hartwell</td>\n",
       "      <td>ga</td>\n",
       "      <td>us</td>\n",
       "      <td>cigar</td>\n",
       "      <td>45</td>\n",
       "      <td>approx 30 to 45 seconds</td>\n",
       "      <td>My father explained an event of a large cigar-...</td>\n",
       "      <td>04/16/2005</td>\n",
       "      <td>34.352778</td>\n",
       "      <td>-82.932222</td>\n",
       "    </tr>\n",
       "    <tr>\n",
       "      <th>71</th>\n",
       "      <td>1960-04-01 21:00:00</td>\n",
       "      <td>houston</td>\n",
       "      <td>tx</td>\n",
       "      <td>us</td>\n",
       "      <td>other</td>\n",
       "      <td>300</td>\n",
       "      <td>&lt;5 minutes</td>\n",
       "      <td>Sharp right angle turn in flight direction aft...</td>\n",
       "      <td>12/19/2003</td>\n",
       "      <td>29.763056</td>\n",
       "      <td>-95.363056</td>\n",
       "    </tr>\n",
       "    <tr>\n",
       "      <th>72</th>\n",
       "      <td>1960-05-01 20:00:00</td>\n",
       "      <td>tucson</td>\n",
       "      <td>az</td>\n",
       "      <td>us</td>\n",
       "      <td>light</td>\n",
       "      <td>300</td>\n",
       "      <td>4-5 minutes</td>\n",
       "      <td>Lights only&amp;#44 no sound&amp;#44 moving across the...</td>\n",
       "      <td>09/02/05</td>\n",
       "      <td>32.221667</td>\n",
       "      <td>-110.925833</td>\n",
       "    </tr>\n",
       "  </tbody>\n",
       "</table>\n",
       "</div>"
      ],
      "text/plain": [
       "             Date_time                           city state/province country  \\\n",
       "33 1951-06-01 07:00:00               brandon (canada)             mb      ca   \n",
       "34 1951-07-01 03:00:00                  otis orchards             wa      us   \n",
       "35 1951-02-03 22:00:00                  thompsonville             ct      us   \n",
       "36 1951-06-03 13:00:00                         jasper             nc      us   \n",
       "37 1952-07-01 15:00:00                         sebeka             mn      us   \n",
       "38 1952-07-01 22:00:00                        detroit             mi      us   \n",
       "39 1952-08-01 21:30:00                          tampa             fl      us   \n",
       "40 1952-10-01 12:00:00                    kansas city             mo      us   \n",
       "41 1953-04-01 15:00:00                      haverhill             ma      us   \n",
       "42 1953-04-01 18:00:00                      cambridge             ma      us   \n",
       "43 1953-07-01 05:30:00  colorado springs (mtsn nw of)             co      us   \n",
       "44 1953-08-01 12:00:00                       berkeley             mo      us   \n",
       "45 1954-02-01 02:00:00                      fairbanks             ak      us   \n",
       "46 1954-06-01 00:00:00                        houston             tx      us   \n",
       "47 1954-06-01 06:00:00                           ovid             ny      us   \n",
       "48 1954-06-01 08:00:00  springfield (rural area near)             il      us   \n",
       "49 1955-05-01 15:00:00                       holbrook             ma      us   \n",
       "50 1955-06-01 02:00:00                         bagley             mn      us   \n",
       "51 1955-06-01 15:29:00                     cincinnati             oh      us   \n",
       "52 1955-06-01 17:00:00           martinez (outskirts)             ca      us   \n",
       "53 1956-01-01 05:30:00                        weirton             wv      us   \n",
       "54 1956-03-01 13:00:00                       petaluma             ca      us   \n",
       "55 1956-05-01 12:00:00                         canton             oh      us   \n",
       "56 1956-06-01 19:00:00                         belton             mo      us   \n",
       "57 1957-01-01 21:00:00                         dallas             tx      us   \n",
       "58 1957-05-01 12:00:00                         canton             oh      us   \n",
       "59 1957-06-01 10:00:00                        el paso             tx      us   \n",
       "60 1957-06-01 20:00:00                    glens falls             ny      us   \n",
       "61 1958-01-01 22:00:00                            pep             tx      us   \n",
       "62 1958-06-01 02:00:00                      middlesex             nc      us   \n",
       "63 1958-06-01 19:00:00                  san francisco             ca      us   \n",
       "64 1958-06-01 21:00:00          new york city (bronx)             ny      us   \n",
       "65 1959-04-01 01:00:00                          miami             fl      us   \n",
       "66 1959-05-01 18:30:00                       columbus             oh      us   \n",
       "67 1959-06-01 12:00:00                         orange             ct      us   \n",
       "68 1959-06-01 18:30:00                         sidney             oh      us   \n",
       "69 1960-02-01 22:15:00                       st. paul             mn      us   \n",
       "70 1960-02-01 23:00:00                       hartwell             ga      us   \n",
       "71 1960-04-01 21:00:00                        houston             tx      us   \n",
       "72 1960-05-01 20:00:00                         tucson             az      us   \n",
       "\n",
       "   UFO_shape  length_of_encounter_seconds described_duration_of_encounter  \\\n",
       "33      disk                         1800                      30 minutes   \n",
       "34      disk                          120                      ~2 minutes   \n",
       "35      disk                           30                      30 seconds   \n",
       "36      oval                          300                       5 minutes   \n",
       "37     other                         1800                          30 min   \n",
       "38    sphere                          300                       5 minutes   \n",
       "39      oval                         9000                  2 hrs. 30 min.   \n",
       "40      disk                           90                         90 sec.   \n",
       "41   chevron                            2                         seconds   \n",
       "42    sphere                          180                       3 minutes   \n",
       "43      disk                           10                      10 seconds   \n",
       "44  fireball                          300                       5 minutes   \n",
       "45   unknown                         1140                         19 min.   \n",
       "46      disk                          180                     2-3 minutes   \n",
       "47      disk                          600                         10 min.   \n",
       "48  cylinder                          600                      5-10 mins.   \n",
       "49       egg                           60                        1 minute   \n",
       "50    circle                         7200                         2 hours   \n",
       "51      disk                          120               approx. 1-1/2 min   \n",
       "52    circle                         1800                      30 minutes   \n",
       "53      disk                           10                      10 seconds   \n",
       "54      oval                         1800                      30 minutes   \n",
       "55     cigar                          120                       2 minutes   \n",
       "56     other                          600                          10min.   \n",
       "57   unknown                           20                      20 seconds   \n",
       "58     cigar                          180                       3 minutes   \n",
       "59      disk                            7                  5 to 7 seconds   \n",
       "60      disk                          240                         3or4min   \n",
       "61  fireball                            2                            2sec   \n",
       "62    circle                         3600                          1 hour   \n",
       "63      oval                          120                       2 minutes   \n",
       "64      oval                           10                      10 seconds   \n",
       "65    sphere                         2700                   30-45 minutes   \n",
       "66     light                          180                         2-3 min   \n",
       "67  cylinder                         3600                         1 hour?   \n",
       "68     light                          300                       5 minutes   \n",
       "69     cigar                            3                       3 seconds   \n",
       "70     cigar                           45         approx 30 to 45 seconds   \n",
       "71     other                          300                      <5 minutes   \n",
       "72     light                          300                     4-5 minutes   \n",
       "\n",
       "                                          description date_documented  \\\n",
       "33  Circular Craft and Man in Black Sighted in Sum...      02/18/2001   \n",
       "34  Cigar shaped Disc darting back and forth (East...      12/23/2013   \n",
       "35  A golden-orange glowing bowl&#44 flat on top&#...      07/25/2004   \n",
       "36  MIDDAY OVAL SHAPE&#44 ANITQUE COLOR OBJECT SIT...      06/20/2005   \n",
       "37  Silver donut shape object sighted over rural M...        12/12/11   \n",
       "38  object sits stationary for 5 minutes and then ...      10/31/2003   \n",
       "39  Triangulation radar fix (USAF&#44 civil&#44 Na...        12/02/00   \n",
       "40  1952 daylight sighting of multiple discs in fo...      10/31/2008   \n",
       "41                Historical account&#44 Haverhill MA        09/02/05   \n",
       "42  Two red-orange lights skirted Boston rooftops ...      07/14/2013   \n",
       "43  Absolutely huge UFO hovered 40 feet above hous...      07/25/2004   \n",
       "44    Early 50&#39s sighting in Berkeley&#44 Missouri      01/22/2004   \n",
       "45  RADAR INTERCEPT OF UFO BY USAF PILOT IN ALASKA...        01/10/09   \n",
       "46  I fulfilled my duty by passing on an unusual a...        06/12/08   \n",
       "47  I saw two silver/gray objects of different sha...        12/05/01   \n",
       "48  This happened many years ago when I was a chil...        12/02/00   \n",
       "49  I turned around and over the trees was a large...      04/16/2005   \n",
       "50  I was 5 years old at the time&#44 family of 4 ...      05/24/1999   \n",
       "51  June 1955.  Bronze saucer/cylindrical craft; a...      06/18/2003   \n",
       "52  We observed a large object aprox.size &quot;fo...      02/16/2000   \n",
       "53  My Uncle Sam was driving to work very early on...        01/07/00   \n",
       "54  Objects were several thousand feet in altitude...      01/28/1999   \n",
       "55  At first the silver disc was stationary. As it...      09/15/2005   \n",
       "56  THE EVENT WAS A PERSONAL CONTACT WITH AN ALIEN...      01/28/1999   \n",
       "57  I was flying the first of 4 USAF aircraft on a...      08/24/2004   \n",
       "58  Cigar shaped object is motionless for more tha...      04/27/2004   \n",
       "59  The UFO did not make any sounds.  The craft&#3...      07/26/2002   \n",
       "60  there was no mistakeing what i was looking at ...        12/02/00   \n",
       "61  Green fire balls&#44 Texas Panhandle&#44 late ...        12/12/09   \n",
       "62                               white glowing lights        03/11/06   \n",
       "63  A low flying huge silver flying saucer positio...      10/31/2003   \n",
       "64  7 brightly illuminated elliptical discs racing...      04/16/2005   \n",
       "65  1959 childhood encounter with a spherical&#44 ...      02/14/2008   \n",
       "66  Red-orange lights over seen motionless over Lo...      02/22/2002   \n",
       "67  Sighted craft and transport of object to the g...      03/19/2009   \n",
       "68  Saw a bright light shining down.  Pulled over ...      04/27/2007   \n",
       "69  A cigar-shaped UFO glided down towards the ear...      03/16/2000   \n",
       "70  My father explained an event of a large cigar-...      04/16/2005   \n",
       "71  Sharp right angle turn in flight direction aft...      12/19/2003   \n",
       "72  Lights only&#44 no sound&#44 moving across the...        09/02/05   \n",
       "\n",
       "     latitude   longitude  \n",
       "33  49.833333  -99.950000  \n",
       "34  47.700556 -117.105278  \n",
       "35  41.996944  -72.599444  \n",
       "36  35.201389  -77.206944  \n",
       "37  46.630000  -95.088611  \n",
       "38  42.331389  -83.045833  \n",
       "39  27.947222  -82.458611  \n",
       "40  39.099722  -94.578333  \n",
       "41  42.776111  -71.077778  \n",
       "42  42.375000  -71.106111  \n",
       "43  38.833889 -104.820833  \n",
       "44  38.754444  -90.331111  \n",
       "45  64.837778 -147.716389  \n",
       "46  29.763056  -95.363056  \n",
       "47  42.676389  -76.823333  \n",
       "48  39.801667  -89.643611  \n",
       "49  42.155000  -71.009167  \n",
       "50  47.521667  -95.398056  \n",
       "51  39.161944  -84.456944  \n",
       "52  38.019444 -122.133056  \n",
       "53  40.418889  -80.589722  \n",
       "54  38.232500 -122.635556  \n",
       "55  40.798889  -81.378611  \n",
       "56  38.811944  -94.531667  \n",
       "57  32.783333  -96.800000  \n",
       "58  40.798889  -81.378611  \n",
       "59  31.758611 -106.486389  \n",
       "60  43.309444  -73.644444  \n",
       "61  33.816111 -102.557778  \n",
       "62  35.790000  -78.204167  \n",
       "63  37.775000 -122.418333  \n",
       "64  40.714167  -74.006389  \n",
       "65  25.773889  -80.193889  \n",
       "66  39.961111  -82.998889  \n",
       "67  41.278333  -73.026111  \n",
       "68  40.284167  -84.155556  \n",
       "69  44.944444  -93.093056  \n",
       "70  34.352778  -82.932222  \n",
       "71  29.763056  -95.363056  \n",
       "72  32.221667 -110.925833  "
      ]
     },
     "execution_count": 115,
     "metadata": {},
     "output_type": "execute_result"
    }
   ],
   "source": [
    "import pandas as pd\n",
    "\n",
    "df1=pd.read_csv('/home/manish/Downloads/ufo.csv')\n",
    "df1['Date_time']=pd.to_datetime(df1['Date_time'])\n",
    "df2=df1[(df1['Date_time']>='1950-10-10 00:00:00') & (df1['Date_time']<='1960-10-10 00:00:00')]\n",
    "df2"
   ]
  },
  {
   "cell_type": "raw",
   "metadata": {},
   "source": [
    "Q132. Write a Pandas program to extract the year, month, day, hour,minute, second, and weekday from unidentified flying object (UFO) reporting date."
   ]
  },
  {
   "cell_type": "code",
   "execution_count": 124,
   "metadata": {},
   "outputs": [
    {
     "name": "stdout",
     "output_type": "stream",
     "text": [
      "Year:\n",
      " 0    1910\n",
      "1    1920\n",
      "2    1929\n",
      "3    1931\n",
      "4    1939\n",
      "Name: Date_time, dtype: int64\n",
      "Month:\n",
      " 0    6\n",
      "1    6\n",
      "2    7\n",
      "3    6\n",
      "4    6\n",
      "Name: Date_time, dtype: int64\n",
      "Day:\n",
      " 0     1\n",
      "1    11\n",
      "2     5\n",
      "3     1\n",
      "4     1\n",
      "Name: Date_time, dtype: int64\n",
      "Hour:\n",
      " 0    15\n",
      "1    21\n",
      "2    14\n",
      "3    13\n",
      "4    20\n",
      "Name: Date_time, dtype: int64\n",
      "Minute:\n",
      " 0    0\n",
      "1    0\n",
      "2    0\n",
      "3    0\n",
      "4    0\n",
      "Name: Date_time, dtype: int64\n",
      "Second:\n",
      " 0    0\n",
      "1    0\n",
      "2    0\n",
      "3    0\n",
      "4    0\n",
      "Name: Date_time, dtype: int64\n",
      "Weekday:\n",
      " 0    Wednesday\n",
      "1       Friday\n",
      "2       Friday\n",
      "3       Monday\n",
      "4     Thursday\n",
      "Name: Date_time, dtype: object\n"
     ]
    }
   ],
   "source": [
    "import pandas as pd\n",
    "\n",
    "df1=pd.read_csv('/home/manish/Downloads/ufo.csv')\n",
    "df1['Date_time']=pd.to_datetime(df1['Date_time'])\n",
    "print(\"Year:\\n\",df1['Date_time'].dt.year.head())\n",
    "print(\"Month:\\n\",df1['Date_time'].dt.month.head())\n",
    "print(\"Day:\\n\",df1['Date_time'].dt.day.head())\n",
    "print(\"Hour:\\n\",df1['Date_time'].dt.hour.head())\n",
    "print(\"Minute:\\n\",df1['Date_time'].dt.minute.head())\n",
    "print(\"Second:\\n\",df1['Date_time'].dt.second.head())\n",
    "print(\"Weekday:\\n\",df1['Date_time'].dt.weekday_name.head())"
   ]
  },
  {
   "cell_type": "raw",
   "metadata": {},
   "source": [
    "Q133. Write a pandas program to count year-country wise frequency of reporting dates of the unidentified flying object(UFO)."
   ]
  },
  {
   "cell_type": "code",
   "execution_count": 131,
   "metadata": {},
   "outputs": [
    {
     "data": {
      "text/html": [
       "<div>\n",
       "<style scoped>\n",
       "    .dataframe tbody tr th:only-of-type {\n",
       "        vertical-align: middle;\n",
       "    }\n",
       "\n",
       "    .dataframe tbody tr th {\n",
       "        vertical-align: top;\n",
       "    }\n",
       "\n",
       "    .dataframe thead th {\n",
       "        text-align: right;\n",
       "    }\n",
       "</style>\n",
       "<table border=\"1\" class=\"dataframe\">\n",
       "  <thead>\n",
       "    <tr style=\"text-align: right;\">\n",
       "      <th></th>\n",
       "      <th>Date_time</th>\n",
       "    </tr>\n",
       "    <tr>\n",
       "      <th>year</th>\n",
       "      <th></th>\n",
       "    </tr>\n",
       "  </thead>\n",
       "  <tbody>\n",
       "    <tr>\n",
       "      <th>1910</th>\n",
       "      <td>1</td>\n",
       "    </tr>\n",
       "    <tr>\n",
       "      <th>1920</th>\n",
       "      <td>1</td>\n",
       "    </tr>\n",
       "    <tr>\n",
       "      <th>1929</th>\n",
       "      <td>1</td>\n",
       "    </tr>\n",
       "    <tr>\n",
       "      <th>1931</th>\n",
       "      <td>1</td>\n",
       "    </tr>\n",
       "    <tr>\n",
       "      <th>1939</th>\n",
       "      <td>2</td>\n",
       "    </tr>\n",
       "    <tr>\n",
       "      <th>1941</th>\n",
       "      <td>1</td>\n",
       "    </tr>\n",
       "    <tr>\n",
       "      <th>1942</th>\n",
       "      <td>1</td>\n",
       "    </tr>\n",
       "    <tr>\n",
       "      <th>1944</th>\n",
       "      <td>3</td>\n",
       "    </tr>\n",
       "    <tr>\n",
       "      <th>1945</th>\n",
       "      <td>4</td>\n",
       "    </tr>\n",
       "    <tr>\n",
       "      <th>1946</th>\n",
       "      <td>3</td>\n",
       "    </tr>\n",
       "    <tr>\n",
       "      <th>1947</th>\n",
       "      <td>4</td>\n",
       "    </tr>\n",
       "    <tr>\n",
       "      <th>1948</th>\n",
       "      <td>3</td>\n",
       "    </tr>\n",
       "    <tr>\n",
       "      <th>1949</th>\n",
       "      <td>4</td>\n",
       "    </tr>\n",
       "    <tr>\n",
       "      <th>1950</th>\n",
       "      <td>4</td>\n",
       "    </tr>\n",
       "    <tr>\n",
       "      <th>1951</th>\n",
       "      <td>4</td>\n",
       "    </tr>\n",
       "    <tr>\n",
       "      <th>1952</th>\n",
       "      <td>4</td>\n",
       "    </tr>\n",
       "    <tr>\n",
       "      <th>1953</th>\n",
       "      <td>4</td>\n",
       "    </tr>\n",
       "    <tr>\n",
       "      <th>1954</th>\n",
       "      <td>4</td>\n",
       "    </tr>\n",
       "    <tr>\n",
       "      <th>1955</th>\n",
       "      <td>4</td>\n",
       "    </tr>\n",
       "    <tr>\n",
       "      <th>1956</th>\n",
       "      <td>4</td>\n",
       "    </tr>\n",
       "    <tr>\n",
       "      <th>1957</th>\n",
       "      <td>4</td>\n",
       "    </tr>\n",
       "    <tr>\n",
       "      <th>1958</th>\n",
       "      <td>4</td>\n",
       "    </tr>\n",
       "    <tr>\n",
       "      <th>1959</th>\n",
       "      <td>4</td>\n",
       "    </tr>\n",
       "    <tr>\n",
       "      <th>1960</th>\n",
       "      <td>4</td>\n",
       "    </tr>\n",
       "    <tr>\n",
       "      <th>1961</th>\n",
       "      <td>4</td>\n",
       "    </tr>\n",
       "    <tr>\n",
       "      <th>1962</th>\n",
       "      <td>4</td>\n",
       "    </tr>\n",
       "    <tr>\n",
       "      <th>1963</th>\n",
       "      <td>4</td>\n",
       "    </tr>\n",
       "    <tr>\n",
       "      <th>1964</th>\n",
       "      <td>4</td>\n",
       "    </tr>\n",
       "    <tr>\n",
       "      <th>1965</th>\n",
       "      <td>4</td>\n",
       "    </tr>\n",
       "    <tr>\n",
       "      <th>1966</th>\n",
       "      <td>4</td>\n",
       "    </tr>\n",
       "    <tr>\n",
       "      <th>...</th>\n",
       "      <td>...</td>\n",
       "    </tr>\n",
       "    <tr>\n",
       "      <th>1975</th>\n",
       "      <td>4</td>\n",
       "    </tr>\n",
       "    <tr>\n",
       "      <th>1976</th>\n",
       "      <td>4</td>\n",
       "    </tr>\n",
       "    <tr>\n",
       "      <th>1977</th>\n",
       "      <td>4</td>\n",
       "    </tr>\n",
       "    <tr>\n",
       "      <th>1978</th>\n",
       "      <td>4</td>\n",
       "    </tr>\n",
       "    <tr>\n",
       "      <th>1979</th>\n",
       "      <td>4</td>\n",
       "    </tr>\n",
       "    <tr>\n",
       "      <th>1980</th>\n",
       "      <td>4</td>\n",
       "    </tr>\n",
       "    <tr>\n",
       "      <th>1981</th>\n",
       "      <td>4</td>\n",
       "    </tr>\n",
       "    <tr>\n",
       "      <th>1982</th>\n",
       "      <td>4</td>\n",
       "    </tr>\n",
       "    <tr>\n",
       "      <th>1983</th>\n",
       "      <td>4</td>\n",
       "    </tr>\n",
       "    <tr>\n",
       "      <th>1984</th>\n",
       "      <td>4</td>\n",
       "    </tr>\n",
       "    <tr>\n",
       "      <th>1985</th>\n",
       "      <td>4</td>\n",
       "    </tr>\n",
       "    <tr>\n",
       "      <th>1986</th>\n",
       "      <td>4</td>\n",
       "    </tr>\n",
       "    <tr>\n",
       "      <th>1987</th>\n",
       "      <td>4</td>\n",
       "    </tr>\n",
       "    <tr>\n",
       "      <th>1988</th>\n",
       "      <td>4</td>\n",
       "    </tr>\n",
       "    <tr>\n",
       "      <th>1989</th>\n",
       "      <td>4</td>\n",
       "    </tr>\n",
       "    <tr>\n",
       "      <th>1990</th>\n",
       "      <td>4</td>\n",
       "    </tr>\n",
       "    <tr>\n",
       "      <th>1991</th>\n",
       "      <td>4</td>\n",
       "    </tr>\n",
       "    <tr>\n",
       "      <th>1992</th>\n",
       "      <td>8</td>\n",
       "    </tr>\n",
       "    <tr>\n",
       "      <th>1993</th>\n",
       "      <td>12</td>\n",
       "    </tr>\n",
       "    <tr>\n",
       "      <th>1994</th>\n",
       "      <td>11</td>\n",
       "    </tr>\n",
       "    <tr>\n",
       "      <th>1995</th>\n",
       "      <td>12</td>\n",
       "    </tr>\n",
       "    <tr>\n",
       "      <th>1996</th>\n",
       "      <td>12</td>\n",
       "    </tr>\n",
       "    <tr>\n",
       "      <th>1997</th>\n",
       "      <td>14</td>\n",
       "    </tr>\n",
       "    <tr>\n",
       "      <th>1998</th>\n",
       "      <td>13</td>\n",
       "    </tr>\n",
       "    <tr>\n",
       "      <th>1999</th>\n",
       "      <td>11</td>\n",
       "    </tr>\n",
       "    <tr>\n",
       "      <th>2000</th>\n",
       "      <td>12</td>\n",
       "    </tr>\n",
       "    <tr>\n",
       "      <th>2001</th>\n",
       "      <td>15</td>\n",
       "    </tr>\n",
       "    <tr>\n",
       "      <th>2002</th>\n",
       "      <td>14</td>\n",
       "    </tr>\n",
       "    <tr>\n",
       "      <th>2003</th>\n",
       "      <td>9</td>\n",
       "    </tr>\n",
       "    <tr>\n",
       "      <th>2004</th>\n",
       "      <td>7</td>\n",
       "    </tr>\n",
       "  </tbody>\n",
       "</table>\n",
       "<p>68 rows × 1 columns</p>\n",
       "</div>"
      ],
      "text/plain": [
       "      Date_time\n",
       "year           \n",
       "1910          1\n",
       "1920          1\n",
       "1929          1\n",
       "1931          1\n",
       "1939          2\n",
       "1941          1\n",
       "1942          1\n",
       "1944          3\n",
       "1945          4\n",
       "1946          3\n",
       "1947          4\n",
       "1948          3\n",
       "1949          4\n",
       "1950          4\n",
       "1951          4\n",
       "1952          4\n",
       "1953          4\n",
       "1954          4\n",
       "1955          4\n",
       "1956          4\n",
       "1957          4\n",
       "1958          4\n",
       "1959          4\n",
       "1960          4\n",
       "1961          4\n",
       "1962          4\n",
       "1963          4\n",
       "1964          4\n",
       "1965          4\n",
       "1966          4\n",
       "...         ...\n",
       "1975          4\n",
       "1976          4\n",
       "1977          4\n",
       "1978          4\n",
       "1979          4\n",
       "1980          4\n",
       "1981          4\n",
       "1982          4\n",
       "1983          4\n",
       "1984          4\n",
       "1985          4\n",
       "1986          4\n",
       "1987          4\n",
       "1988          4\n",
       "1989          4\n",
       "1990          4\n",
       "1991          4\n",
       "1992          8\n",
       "1993         12\n",
       "1994         11\n",
       "1995         12\n",
       "1996         12\n",
       "1997         14\n",
       "1998         13\n",
       "1999         11\n",
       "2000         12\n",
       "2001         15\n",
       "2002         14\n",
       "2003          9\n",
       "2004          7\n",
       "\n",
       "[68 rows x 1 columns]"
      ]
     },
     "execution_count": 131,
     "metadata": {},
     "output_type": "execute_result"
    }
   ],
   "source": [
    "import pandas as pd\n",
    "\n",
    "df1=pd.read_csv('/home/manish/Downloads/ufo.csv')\n",
    "df1['Date_time']=pd.to_datetime(df1['Date_time'])\n",
    "df1['year']=df1['Date_time'].dt.year\n",
    "df1.groupby('year').count()[['Date_time']]"
   ]
  },
  {
   "cell_type": "raw",
   "metadata": {},
   "source": [
    "Q134. Write a pandas program to get the difference (in days) between documented date and reporting date of unidentified flying object (UFO)."
   ]
  },
  {
   "cell_type": "code",
   "execution_count": 135,
   "metadata": {},
   "outputs": [
    {
     "name": "stdout",
     "output_type": "stream",
     "text": [
      "0      34652\n",
      "1      32476\n",
      "2      26704\n",
      "3      27286\n",
      "4      27293\n",
      "5      24163\n",
      "6      22772\n",
      "7      23807\n",
      "8      22120\n",
      "9      23720\n",
      "10     22293\n",
      "11     23913\n",
      "12     22001\n",
      "13     21345\n",
      "14     21322\n",
      "15     21801\n",
      "16     22626\n",
      "17     22700\n",
      "18     19689\n",
      "19     24196\n",
      "20     21108\n",
      "21     21108\n",
      "22     20863\n",
      "23     20794\n",
      "24     22011\n",
      "25     19314\n",
      "26     23550\n",
      "27     20142\n",
      "28     20105\n",
      "29     21103\n",
      "       ...  \n",
      "317       17\n",
      "318       14\n",
      "319        8\n",
      "320       43\n",
      "321       21\n",
      "322     1694\n",
      "323        9\n",
      "324        7\n",
      "325        3\n",
      "326        4\n",
      "327        4\n",
      "328      226\n",
      "329       17\n",
      "330        9\n",
      "331       62\n",
      "332        4\n",
      "333        3\n",
      "334       63\n",
      "335        1\n",
      "336        7\n",
      "337       12\n",
      "338       10\n",
      "339       74\n",
      "340       10\n",
      "341       24\n",
      "342        3\n",
      "343       20\n",
      "344        1\n",
      "345      971\n",
      "346        1\n",
      "Length: 347, dtype: int64\n"
     ]
    }
   ],
   "source": [
    "import pandas as pd\n",
    "\n",
    "df1=pd.read_csv('/home/manish/Downloads/ufo.csv')\n",
    "df1['Date_time']=pd.to_datetime(df1['Date_time'])\n",
    "df1['date_documented']=pd.to_datetime(df1['date_documented'])\n",
    "print((df1['date_documented']-df1['Date_time']).dt.days)"
   ]
  },
  {
   "cell_type": "raw",
   "metadata": {},
   "source": [
    "Q135. Write a pandas program to generate sequences of fixed-frequency dates and time spans."
   ]
  },
  {
   "cell_type": "code",
   "execution_count": 6,
   "metadata": {},
   "outputs": [
    {
     "name": "stdout",
     "output_type": "stream",
     "text": [
      "DatetimeIndex(['2020-01-13', '2020-01-14', '2020-01-15', '2020-01-16',\n",
      "               '2020-01-17', '2020-01-20', '2020-01-21', '2020-01-22'],\n",
      "              dtype='datetime64[ns]', freq='B')\n",
      "DatetimeIndex(['2020-01-13 00:00:00', '2020-01-13 01:00:00',\n",
      "               '2020-01-13 02:00:00', '2020-01-13 03:00:00',\n",
      "               '2020-01-13 04:00:00', '2020-01-13 05:00:00',\n",
      "               '2020-01-13 06:00:00', '2020-01-13 07:00:00'],\n",
      "              dtype='datetime64[ns]', freq='H')\n"
     ]
    }
   ],
   "source": [
    "import pandas as pd\n",
    "\n",
    "print(pd.date_range(start='01/13/2020',periods=8,freq='B'))\n",
    "print(pd.date_range(start='01/13/2020',periods=8,freq='H'))"
   ]
  },
  {
   "cell_type": "raw",
   "metadata": {},
   "source": [
    "Q136. Write a pandas program to manipulate and convert date times with timezone information."
   ]
  },
  {
   "cell_type": "code",
   "execution_count": 10,
   "metadata": {
    "scrolled": true
   },
   "outputs": [
    {
     "name": "stdout",
     "output_type": "stream",
     "text": [
      "DatetimeIndex(['2020-01-13 00:00:00+05:30', '2020-01-14 00:00:00+05:30',\n",
      "               '2020-01-15 00:00:00+05:30', '2020-01-16 00:00:00+05:30',\n",
      "               '2020-01-17 00:00:00+05:30', '2020-01-20 00:00:00+05:30',\n",
      "               '2020-01-21 00:00:00+05:30', '2020-01-22 00:00:00+05:30'],\n",
      "              dtype='datetime64[ns, Asia/Kolkata]', freq='B')\n",
      "DatetimeIndex(['2020-01-13 00:00:00+08:00', '2020-01-13 00:01:00+08:00',\n",
      "               '2020-01-13 00:02:00+08:00', '2020-01-13 00:03:00+08:00',\n",
      "               '2020-01-13 00:04:00+08:00', '2020-01-13 00:05:00+08:00',\n",
      "               '2020-01-13 00:06:00+08:00', '2020-01-13 00:07:00+08:00'],\n",
      "              dtype='datetime64[ns, Australia/Perth]', freq='T')\n"
     ]
    }
   ],
   "source": [
    "import pandas as pd\n",
    "\n",
    "print(pd.date_range(start='01/13/2020',periods=8,freq='B',tz='Asia/Kolkata'))\n",
    "print(pd.date_range(start='01/13/2020',periods=8,freq='T',tz='Australia/Perth'))"
   ]
  },
  {
   "cell_type": "raw",
   "metadata": {},
   "source": [
    "Q137. Write a pandas program to create the graphical analysis of UFO(unidentified flying object) Sightings year."
   ]
  },
  {
   "cell_type": "code",
   "execution_count": 188,
   "metadata": {},
   "outputs": [
    {
     "data": {
      "text/plain": [
       "<matplotlib.axes._subplots.AxesSubplot at 0x7f7438446da0>"
      ]
     },
     "execution_count": 188,
     "metadata": {},
     "output_type": "execute_result"
    },
    {
     "data": {
      "image/png": "[encoded data removed]",
      "text/plain": [
       "<Figure size 1440x360 with 1 Axes>"
      ]
     },
     "metadata": {
      "needs_background": "light"
     },
     "output_type": "display_data"
    }
   ],
   "source": [
    "import pandas as pd\n",
    "from matplotlib import pyplot as plt\n",
    "df1=pd.read_csv('/home/manish/Downloads/ufo.csv')\n",
    "df1['Date_time']=pd.to_datetime(df1['Date_time'])\n",
    "#df1.plot(x=df1['Date_time'],kind='hist')\n",
    "df1['Date_time'].dt.year.plot.bar(figsize=(20,5))"
   ]
  },
  {
   "cell_type": "code",
   "execution_count": 6,
   "metadata": {},
   "outputs": [
    {
     "data": {
      "text/plain": [
       "<matplotlib.axes._subplots.AxesSubplot at 0x7fec7ed3fe10>"
      ]
     },
     "execution_count": 6,
     "metadata": {},
     "output_type": "execute_result"
    },
    {
     "data": {
      "image/png": "[encoded data removed]",
      "text/plain": [
       "<Figure size 1440x360 with 1 Axes>"
      ]
     },
     "metadata": {
      "needs_background": "light"
     },
     "output_type": "display_data"
    }
   ],
   "source": [
    "import pandas as pd\n",
    "import seaborn as sns\n",
    "import matplotlib.pyplot as plt\n",
    "%matplotlib inline\n",
    "\n",
    "df1=pd.read_csv('/home/manish/Downloads/ufo.csv')\n",
    "df1['Date_time']=pd.to_datetime(df1['Date_time'])\n",
    "c=df1['Date_time'].value_counts()\n",
    "plt.figure(figsize=(20,5))\n",
    "plt.title('UFO Sightings')\n",
    "plt.xlabel(\"Year\")\n",
    "plt.ylabel(\"Frequency\")\n",
    "sns.barplot(x=df1['Date_time'].dt.year[:100],y=c.get_values()[:100])"
   ]
  },
  {
   "cell_type": "raw",
   "metadata": {},
   "source": [
    "Q138. Write a pandas program to create a comparison of the top 10 years in which the (UFO) was sighted VS each Month."
   ]
  },
  {
   "cell_type": "code",
   "execution_count": 36,
   "metadata": {},
   "outputs": [
    {
     "data": {
      "text/html": [
       "<div>\n",
       "<style scoped>\n",
       "    .dataframe tbody tr th:only-of-type {\n",
       "        vertical-align: middle;\n",
       "    }\n",
       "\n",
       "    .dataframe tbody tr th {\n",
       "        vertical-align: top;\n",
       "    }\n",
       "\n",
       "    .dataframe thead th {\n",
       "        text-align: right;\n",
       "    }\n",
       "</style>\n",
       "<table border=\"1\" class=\"dataframe\">\n",
       "  <thead>\n",
       "    <tr style=\"text-align: right;\">\n",
       "      <th>Date_time</th>\n",
       "      <th>1</th>\n",
       "      <th>2</th>\n",
       "      <th>3</th>\n",
       "      <th>4</th>\n",
       "      <th>5</th>\n",
       "      <th>6</th>\n",
       "      <th>7</th>\n",
       "      <th>8</th>\n",
       "      <th>9</th>\n",
       "      <th>10</th>\n",
       "      <th>11</th>\n",
       "      <th>12</th>\n",
       "    </tr>\n",
       "    <tr>\n",
       "      <th>Date_time</th>\n",
       "      <th></th>\n",
       "      <th></th>\n",
       "      <th></th>\n",
       "      <th></th>\n",
       "      <th></th>\n",
       "      <th></th>\n",
       "      <th></th>\n",
       "      <th></th>\n",
       "      <th></th>\n",
       "      <th></th>\n",
       "      <th></th>\n",
       "      <th></th>\n",
       "    </tr>\n",
       "  </thead>\n",
       "  <tbody>\n",
       "    <tr>\n",
       "      <th>1993.0</th>\n",
       "      <td>NaN</td>\n",
       "      <td>NaN</td>\n",
       "      <td>1.0</td>\n",
       "      <td>1.0</td>\n",
       "      <td>NaN</td>\n",
       "      <td>1.0</td>\n",
       "      <td>3.0</td>\n",
       "      <td>2.0</td>\n",
       "      <td>3.0</td>\n",
       "      <td>NaN</td>\n",
       "      <td>1.0</td>\n",
       "      <td>NaN</td>\n",
       "    </tr>\n",
       "    <tr>\n",
       "      <th>1994.0</th>\n",
       "      <td>2.0</td>\n",
       "      <td>NaN</td>\n",
       "      <td>3.0</td>\n",
       "      <td>2.0</td>\n",
       "      <td>2.0</td>\n",
       "      <td>NaN</td>\n",
       "      <td>NaN</td>\n",
       "      <td>1.0</td>\n",
       "      <td>NaN</td>\n",
       "      <td>NaN</td>\n",
       "      <td>NaN</td>\n",
       "      <td>1.0</td>\n",
       "    </tr>\n",
       "    <tr>\n",
       "      <th>1995.0</th>\n",
       "      <td>2.0</td>\n",
       "      <td>1.0</td>\n",
       "      <td>NaN</td>\n",
       "      <td>1.0</td>\n",
       "      <td>1.0</td>\n",
       "      <td>1.0</td>\n",
       "      <td>3.0</td>\n",
       "      <td>NaN</td>\n",
       "      <td>1.0</td>\n",
       "      <td>NaN</td>\n",
       "      <td>2.0</td>\n",
       "      <td>NaN</td>\n",
       "    </tr>\n",
       "    <tr>\n",
       "      <th>1996.0</th>\n",
       "      <td>NaN</td>\n",
       "      <td>1.0</td>\n",
       "      <td>NaN</td>\n",
       "      <td>1.0</td>\n",
       "      <td>1.0</td>\n",
       "      <td>1.0</td>\n",
       "      <td>3.0</td>\n",
       "      <td>3.0</td>\n",
       "      <td>1.0</td>\n",
       "      <td>NaN</td>\n",
       "      <td>1.0</td>\n",
       "      <td>NaN</td>\n",
       "    </tr>\n",
       "    <tr>\n",
       "      <th>1997.0</th>\n",
       "      <td>NaN</td>\n",
       "      <td>2.0</td>\n",
       "      <td>1.0</td>\n",
       "      <td>NaN</td>\n",
       "      <td>2.0</td>\n",
       "      <td>1.0</td>\n",
       "      <td>3.0</td>\n",
       "      <td>1.0</td>\n",
       "      <td>1.0</td>\n",
       "      <td>1.0</td>\n",
       "      <td>1.0</td>\n",
       "      <td>1.0</td>\n",
       "    </tr>\n",
       "    <tr>\n",
       "      <th>1998.0</th>\n",
       "      <td>1.0</td>\n",
       "      <td>2.0</td>\n",
       "      <td>1.0</td>\n",
       "      <td>3.0</td>\n",
       "      <td>NaN</td>\n",
       "      <td>2.0</td>\n",
       "      <td>1.0</td>\n",
       "      <td>NaN</td>\n",
       "      <td>NaN</td>\n",
       "      <td>1.0</td>\n",
       "      <td>NaN</td>\n",
       "      <td>2.0</td>\n",
       "    </tr>\n",
       "    <tr>\n",
       "      <th>1999.0</th>\n",
       "      <td>NaN</td>\n",
       "      <td>NaN</td>\n",
       "      <td>2.0</td>\n",
       "      <td>NaN</td>\n",
       "      <td>1.0</td>\n",
       "      <td>2.0</td>\n",
       "      <td>4.0</td>\n",
       "      <td>NaN</td>\n",
       "      <td>NaN</td>\n",
       "      <td>1.0</td>\n",
       "      <td>NaN</td>\n",
       "      <td>1.0</td>\n",
       "    </tr>\n",
       "    <tr>\n",
       "      <th>2000.0</th>\n",
       "      <td>NaN</td>\n",
       "      <td>3.0</td>\n",
       "      <td>2.0</td>\n",
       "      <td>NaN</td>\n",
       "      <td>2.0</td>\n",
       "      <td>1.0</td>\n",
       "      <td>1.0</td>\n",
       "      <td>NaN</td>\n",
       "      <td>NaN</td>\n",
       "      <td>NaN</td>\n",
       "      <td>1.0</td>\n",
       "      <td>2.0</td>\n",
       "    </tr>\n",
       "    <tr>\n",
       "      <th>2001.0</th>\n",
       "      <td>2.0</td>\n",
       "      <td>1.0</td>\n",
       "      <td>2.0</td>\n",
       "      <td>2.0</td>\n",
       "      <td>1.0</td>\n",
       "      <td>2.0</td>\n",
       "      <td>NaN</td>\n",
       "      <td>1.0</td>\n",
       "      <td>2.0</td>\n",
       "      <td>NaN</td>\n",
       "      <td>1.0</td>\n",
       "      <td>1.0</td>\n",
       "    </tr>\n",
       "    <tr>\n",
       "      <th>2002.0</th>\n",
       "      <td>3.0</td>\n",
       "      <td>1.0</td>\n",
       "      <td>1.0</td>\n",
       "      <td>NaN</td>\n",
       "      <td>3.0</td>\n",
       "      <td>NaN</td>\n",
       "      <td>2.0</td>\n",
       "      <td>1.0</td>\n",
       "      <td>2.0</td>\n",
       "      <td>1.0</td>\n",
       "      <td>NaN</td>\n",
       "      <td>NaN</td>\n",
       "    </tr>\n",
       "  </tbody>\n",
       "</table>\n",
       "</div>"
      ],
      "text/plain": [
       "Date_time   1    2    3    4    5    6    7    8    9    10   11   12\n",
       "Date_time                                                            \n",
       "1993.0     NaN  NaN  1.0  1.0  NaN  1.0  3.0  2.0  3.0  NaN  1.0  NaN\n",
       "1994.0     2.0  NaN  3.0  2.0  2.0  NaN  NaN  1.0  NaN  NaN  NaN  1.0\n",
       "1995.0     2.0  1.0  NaN  1.0  1.0  1.0  3.0  NaN  1.0  NaN  2.0  NaN\n",
       "1996.0     NaN  1.0  NaN  1.0  1.0  1.0  3.0  3.0  1.0  NaN  1.0  NaN\n",
       "1997.0     NaN  2.0  1.0  NaN  2.0  1.0  3.0  1.0  1.0  1.0  1.0  1.0\n",
       "1998.0     1.0  2.0  1.0  3.0  NaN  2.0  1.0  NaN  NaN  1.0  NaN  2.0\n",
       "1999.0     NaN  NaN  2.0  NaN  1.0  2.0  4.0  NaN  NaN  1.0  NaN  1.0\n",
       "2000.0     NaN  3.0  2.0  NaN  2.0  1.0  1.0  NaN  NaN  NaN  1.0  2.0\n",
       "2001.0     2.0  1.0  2.0  2.0  1.0  2.0  NaN  1.0  2.0  NaN  1.0  1.0\n",
       "2002.0     3.0  1.0  1.0  NaN  3.0  NaN  2.0  1.0  2.0  1.0  NaN  NaN"
      ]
     },
     "execution_count": 36,
     "metadata": {},
     "output_type": "execute_result"
    }
   ],
   "source": [
    "import pandas as pd\n",
    "import seaborn as sns\n",
    "from matplotlib import pyplot as plt\n",
    "\n",
    "df1=pd.read_csv('/home/manish/Downloads/ufo.csv')\n",
    "df1['Date_time']=pd.to_datetime(df1['Date_time'])\n",
    "max_count_year=df1['Date_time'].dt.year.value_counts().head(10)\n",
    "def count_year(year):\n",
    "    if year in max_count_year.index:\n",
    "        return year\n",
    "\n",
    "df1.pivot_table(index=df1['Date_time'].dt.year.apply(count_year),columns=df1['Date_time'].dt.month,aggfunc='count',values='city')"
   ]
  },
  {
   "cell_type": "raw",
   "metadata": {},
   "source": [
    "Q139. Write a pandas program to create a heatmap (rectangular data as a colour-encoded matrix) for comparison of top 10 years in which (UFO ) was sighted VS each Month."
   ]
  },
  {
   "cell_type": "code",
   "execution_count": 53,
   "metadata": {},
   "outputs": [
    {
     "data": {
      "text/plain": [
       "Text(69.0, 0.5, 'Year')"
      ]
     },
     "execution_count": 53,
     "metadata": {},
     "output_type": "execute_result"
    },
    {
     "data": {
      "image/png": "[encoded data removed]",
      "text/plain": [
       "<Figure size 720x360 with 2 Axes>"
      ]
     },
     "metadata": {
      "needs_background": "light"
     },
     "output_type": "display_data"
    }
   ],
   "source": [
    "import pandas as pd\n",
    "import seaborn as sns\n",
    "from matplotlib import pyplot as plt\n",
    "import seaborn as sns\n",
    "\n",
    "df1=pd.read_csv('/home/manish/Downloads/ufo.csv')\n",
    "df1['Date_time']=pd.to_datetime(df1['Date_time'])\n",
    "max_count_year=df1['Date_time'].dt.year.value_counts().head(10)\n",
    "def count_year(year):\n",
    "    if year in max_count_year.index:\n",
    "        return year\n",
    "\n",
    "df2=df1.pivot_table(index=df1['Date_time'].dt.year.apply(count_year),columns=df1['Date_time'].dt.month,aggfunc='count',values='city')\n",
    "plt.figure(figsize=(10,5))\n",
    "ax=sns.heatmap(df2,annot=True,cmap='twilight_shifted_r')\n",
    "ax.set_xlabel('Month')\n",
    "ax.set_ylabel('Year')\n"
   ]
  },
  {
   "cell_type": "raw",
   "metadata": {},
   "source": [
    "Q140. Write a pandas program to create a Timewheel of Hour VS Year comparison of the top 10 years in which the (UFO) was sighted."
   ]
  },
  {
   "cell_type": "code",
   "execution_count": 321,
   "metadata": {},
   "outputs": [
    {
     "data": {
      "image/png": "[encoded data removed]",
      "text/plain": [
       "<Figure size 576x576 with 1 Axes>"
      ]
     },
     "metadata": {},
     "output_type": "display_data"
    }
   ],
   "source": [
    "import pandas as pd\n",
    "import matplotlib.pyplot as plt\n",
    "import matplotlib as mpl\n",
    "import matplotlib.cm as cm\n",
    "\n",
    "df1=pd.read_csv('/home/manish/Downloads/ufo.csv')\n",
    "df1['Date_time']=pd.to_datetime(df1['Date_time'])\n",
    "max_count_year=df1['Date_time'].dt.year.value_counts().head(10)\n",
    "def count_year(year):\n",
    "    if year in max_count_year.index:\n",
    "        return year\n",
    "\n",
    "df2=df1.pivot_table(index=df1['Date_time'].dt.year.apply(count_year),columns=df1['Date_time'].dt.hour,aggfunc='count',values='city')\n",
    "\n",
    "####added below code from link https://stackoverflow.com/questions/40352607/time-wheel-in-python3-pandas\n",
    "def pie_heatmap(table, cmap=cm.hot, vmin=None, vmax=None,inner_r=0.25, pie_args={}):\n",
    "    n, m = table.shape\n",
    "    vmin= table.min().min() if vmin is None else vmin\n",
    "    vmax= table.max().max() if vmax is None else vmax\n",
    "\n",
    "    centre_circle = plt.Circle((0,0),inner_r,edgecolor='black',facecolor='white',fill=True,linewidth=0.25)\n",
    "    plt.gcf().gca().add_artist(centre_circle)\n",
    "    norm = mpl.colors.Normalize(vmin=vmin, vmax=vmax)\n",
    "    cmapper = cm.ScalarMappable(norm=norm, cmap=cmap)\n",
    "    for i, (row_name, row) in enumerate(table.iterrows()):\n",
    "        labels = None if i > 0 else table.columns\n",
    "        wedges = plt.pie([1] * m,radius=inner_r+float(n-i)/n, colors=[cmapper.to_rgba(x) for x in row.values], \n",
    "            labels=labels, startangle=90, counterclock=False, wedgeprops={'linewidth':-1}, **pie_args)\n",
    "        plt.setp(wedges[0], edgecolor='white',linewidth=1.5)\n",
    "        wedges = plt.pie([1], radius=inner_r+float(n-i-1)/n, colors=['w'], labels=[row_name], startangle=-90, wedgeprops={'linewidth':0})\n",
    "        plt.setp(wedges[0], edgecolor='white',linewidth=1.5)\n",
    "\n",
    "\n",
    "\n",
    "plt.figure(figsize=(8,8))\n",
    "pie_heatmap(df2, vmin=-20,vmax=80,inner_r=0.2)"
   ]
  },
  {
   "cell_type": "raw",
   "metadata": {},
   "source": [
    "Q141. Write a python program to draw the line using given axis values with the suitable label in the x-axis, y-axis, and a title."
   ]
  },
  {
   "cell_type": "code",
   "execution_count": 59,
   "metadata": {},
   "outputs": [
    {
     "data": {
      "text/plain": [
       "Text(0.5, 1.0, 'Sample Graph')"
      ]
     },
     "execution_count": 59,
     "metadata": {},
     "output_type": "execute_result"
    },
    {
     "data": {
      "image/png": "[encoded data removed]",
      "text/plain": [
       "<Figure size 432x288 with 1 Axes>"
      ]
     },
     "metadata": {
      "needs_background": "light"
     },
     "output_type": "display_data"
    }
   ],
   "source": [
    "import matplotlib.pyplot as plt\n",
    "import pandas as pd\n",
    "import numpy as np\n",
    "\n",
    "x=pd.DataFrame(np.arange(5)**2)\n",
    "plt.plot(x)\n",
    "plt.xlabel(\"X axis\")\n",
    "plt.ylabel(\"Y axis\")\n",
    "plt.title(\"Sample Graph\")"
   ]
  },
  {
   "cell_type": "raw",
   "metadata": {},
   "source": [
    "Q142. Write a python program to draw the line charts of the financial data of the Alphabet Inc., between October.\n",
    "3, 2016 to October 7 2016.Sample Financial data (fdata.csv)-\n",
    "Date,    Open,       High,       Low,        Close\n",
    "10-03-16,774.25,     776.065002, 769.5,      772.559998\n",
    "10-04-16,776.030029, 778.710022, 772.890015, 776.429993\n",
    "10-05-16,779.309998, 782.070007, 775.650024, 776.469971\n",
    "10-06-16,779 ,       780.47998,  775.539978, 776.859985\n",
    "10-07-16,779.659973, 779.659973, 770.75 ,    775.080017\n",
    "The code snippet gives the output shown in the screenshot:"
   ]
  },
  {
   "cell_type": "code",
   "execution_count": 68,
   "metadata": {},
   "outputs": [
    {
     "data": {
      "text/plain": [
       "<matplotlib.axes._subplots.AxesSubplot at 0x7fec790bf160>"
      ]
     },
     "execution_count": 68,
     "metadata": {},
     "output_type": "execute_result"
    },
    {
     "data": {
      "image/png": "[encoded data removed]",
      "text/plain": [
       "<Figure size 432x288 with 1 Axes>"
      ]
     },
     "metadata": {
      "needs_background": "light"
     },
     "output_type": "display_data"
    }
   ],
   "source": [
    "import matplotlib.pyplot as plt\n",
    "\n",
    "import pandas as pd\n",
    "\n",
    "df1=pd.read_csv('/home/manish/Downloads/Machine Learning ipynb files/fdata.csv',index_col='Date')\n",
    "df1.plot()"
   ]
  },
  {
   "cell_type": "raw",
   "metadata": {},
   "source": [
    "Q143. Write a Python program to plot two or more lines on same plot with the suitable legends of each line.\n",
    "The code snippet gives the output shown in the screenshot:"
   ]
  },
  {
   "cell_type": "code",
   "execution_count": 86,
   "metadata": {},
   "outputs": [
    {
     "data": {
      "text/plain": [
       "<matplotlib.legend.Legend at 0x7fec767b3828>"
      ]
     },
     "execution_count": 86,
     "metadata": {},
     "output_type": "execute_result"
    },
    {
     "data": {
      "image/png": "[encoded data removed]",
      "text/plain": [
       "<Figure size 432x288 with 1 Axes>"
      ]
     },
     "metadata": {
      "needs_background": "light"
     },
     "output_type": "display_data"
    }
   ],
   "source": [
    "import pandas as pd\n",
    "import numpy as np\n",
    "import matplotlib.pyplot as plt\n",
    "\n",
    "df1=pd.DataFrame(np.arange(5)**2)\n",
    "df2=pd.DataFrame(np.sqrt(np.arange(20)))\n",
    "\n",
    "plt.plot(df1,label='line1')\n",
    "plt.plot(df2,label='line2')\n",
    "plt.title(\"Two plots\")\n",
    "plt.xlabel('X-axis')\n",
    "plt.ylabel('Y-axis')\n",
    "plt.legend()"
   ]
  },
  {
   "cell_type": "raw",
   "metadata": {},
   "source": [
    "Q144. Write a python programming to display a bar chart of the popularity of programming languages.\n",
    "Sample data:\n",
    "programming languages- Java, Python, PHP, JavaScript, C#, C++\n",
    "Popularity- 22.2, 17.6, 8.8, 8, 7.7 , 6.7\n",
    "The code snippet gives the output shown in the screenshot:"
   ]
  },
  {
   "cell_type": "code",
   "execution_count": 29,
   "metadata": {
    "scrolled": true
   },
   "outputs": [
    {
     "data": {
      "text/plain": [
       "(-0.5, 5.6899999999999995)"
      ]
     },
     "execution_count": 29,
     "metadata": {},
     "output_type": "execute_result"
    },
    {
     "data": {
      "image/png": "[encoded data removed]",
      "text/plain": [
       "<Figure size 432x288 with 1 Axes>"
      ]
     },
     "metadata": {
      "needs_background": "light"
     },
     "output_type": "display_data"
    }
   ],
   "source": [
    "import numpy as np\n",
    "import matplotlib.pyplot as plt\n",
    "\n",
    "languages=np.array(['Java','Python','PHP','JavaScript','C#','C++'])\n",
    "popularity=np.array([22.2,17.6,8.8,8,7.7,6.7])\n",
    "df1=pd.DataFrame(popularity,index=languages)\n",
    "ps=[i for i in range(len(languages))]\n",
    "#df1.plot(kind='bar',title='Popularity of programming languages',color='blue')\n",
    "plt.bar(languages,popularity)\n",
    "plt.xlabel('Programming languages')\n",
    "plt.ylabel('Popularity')\n",
    "plt.xticks(ps,languages)\n",
    "plt.minorticks_on()\n",
    "plt.grid(which='major',linestyle='-',linewidth='0.5',color='red')\n",
    "plt.grid(which='minor',linestyle=':',linewidth='0.5',color='black')"
   ]
  },
  {
   "cell_type": "raw",
   "metadata": {},
   "source": [
    "Q145. Write a python programming to display a horizontal bar chart of the popularity of programming languages.\n",
    "Sample data:\n",
    "programming languages- Java, Python, PHP, JavaScript, C#, C++\n",
    "Popularity- 22.2, 17.6, 8.8, 8, 7.7 , 6.7\n",
    "The code snippet gives the output shown in the screenshot:"
   ]
  },
  {
   "cell_type": "code",
   "execution_count": 193,
   "metadata": {},
   "outputs": [
    {
     "data": {
      "text/plain": [
       "Text(0, 0.5, 'Languages')"
      ]
     },
     "execution_count": 193,
     "metadata": {},
     "output_type": "execute_result"
    },
    {
     "data": {
      "image/png": "[encoded data removed]",
      "text/plain": [
       "<Figure size 432x288 with 1 Axes>"
      ]
     },
     "metadata": {
      "needs_background": "light"
     },
     "output_type": "display_data"
    }
   ],
   "source": [
    "import pandas as pd\n",
    "import numpy as np\n",
    "import matplotlib.pyplot as plt\n",
    "\n",
    "languages=np.array(['Java','Python','PHP','JavaScript','C#','C++'])\n",
    "popularity=np.array([22.2,17.6,8.8,8,7.7,6.7])\n",
    "ps=[i for i in range(len(languages))]\n",
    "df1=pd.DataFrame(popularity,index=languages)\n",
    "df1.plot(kind='barh',title='Popularity of programming languages',color='green')\n",
    "plt.minorticks_on()\n",
    "plt.grid(which='major',color='r', linestyle='-', linewidth=0.5)\n",
    "plt.grid(which='minor',color='b', linestyle=':', linewidth=0.5)\n",
    "plt.xlabel('Popularity')\n",
    "plt.ylabel('Languages')"
   ]
  },
  {
   "cell_type": "raw",
   "metadata": {},
   "source": [
    "Q146. Write a python programming to display a bar chart of the Popularity of programming languages. Increase bottom margin.\n",
    "Sample data:\n",
    "programming languages: Java, Python, PHP, JavaScript, C#, C++\n",
    "Popularity: 22.2, 17.6, 8.8, 8, 7.7 , 6.7\n",
    "The code snippet gives the output shown in the screenshot:"
   ]
  },
  {
   "cell_type": "code",
   "execution_count": 211,
   "metadata": {},
   "outputs": [
    {
     "data": {
      "image/png": "[encoded data removed]",
      "text/plain": [
       "<Figure size 432x288 with 1 Axes>"
      ]
     },
     "metadata": {
      "needs_background": "light"
     },
     "output_type": "display_data"
    }
   ],
   "source": [
    "import numpy as np\n",
    "import matplotlib.pyplot as plt\n",
    "\n",
    "languages=np.array(['Java','Python','PHP','JavaScript','C#','C++'])\n",
    "popularity=np.array([22.2,17.6,8.8,8,7.7,6.7])\n",
    "df1=pd.DataFrame(popularity,index=languages)\n",
    "df1.plot(kind='bar',title='Popularity of programming languages',color='blue')\n",
    "plt.xlabel('Programming languages')\n",
    "plt.ylabel('Popularity')\n",
    "plt.minorticks_on()\n",
    "plt.grid(which='major',linestyle='-',linewidth='0.5',color='red')\n",
    "plt.grid(which='minor',linestyle=':',linewidth='0.5',color='black')"
   ]
  },
  {
   "cell_type": "code",
   "execution_count": 231,
   "metadata": {},
   "outputs": [
    {
     "data": {
      "image/png": "[encoded data removed]",
      "text/plain": [
       "<Figure size 432x288 with 1 Axes>"
      ]
     },
     "metadata": {
      "needs_background": "light"
     },
     "output_type": "display_data"
    }
   ],
   "source": [
    "import numpy as np\n",
    "import matplotlib.pyplot as plt\n",
    "\n",
    "languages=np.array(['Java','Python','PHP','JavaScript','C#','C++'])\n",
    "popularity=np.array([22.2,17.6,8.8,8,7.7,6.7])\n",
    "df1=pd.DataFrame(popularity,index=languages)\n",
    "plt.bar(languages,popularity)\n",
    "plt.xticks(rotation=90)\n",
    "plt.xlabel('Programming languages')\n",
    "plt.ylabel('Popularity')\n",
    "plt.minorticks_on()\n",
    "plt.subplots_adjust(bottom=0.4,top=0.8)\n",
    "plt.grid(which='major',linestyle='-',linewidth='0.5',color='red')\n",
    "plt.grid(which='minor',linestyle=':',linewidth='0.5',color='black')"
   ]
  },
  {
   "cell_type": "raw",
   "metadata": {},
   "source": [
    "Q147. Write a python program to create the bar plot from a DataFrame.\n",
    "    a b c d e\n",
    "2   4,8,5,7,6\n",
    "4   2,3,4,2,6\n",
    "6   4,7,4,7,8\n",
    "8   2,6,4,8,6\n",
    "10  2,4,3,3,2\n",
    "The code snippet gives the output shown in the following screenshot:"
   ]
  },
  {
   "cell_type": "code",
   "execution_count": 256,
   "metadata": {},
   "outputs": [
    {
     "data": {
      "image/png": "[encoded data removed]",
      "text/plain": [
       "<Figure size 432x288 with 1 Axes>"
      ]
     },
     "metadata": {
      "needs_background": "light"
     },
     "output_type": "display_data"
    }
   ],
   "source": [
    "import pandas as pd\n",
    "import matplotlib.pyplot as plt\n",
    "\n",
    "df1=pd.DataFrame([[4,8,5,7,6],[2,3,4,2,6],[4,7,4,7,8],[2,6,4,8,6],[2,4,3,3,2]],columns=['a','b','c','d','e'])\n",
    "s=pd.Series([1,2,3,4,5])\n",
    "df1.set_index(s*2,inplace=True)\n",
    "df1.plot(kind='bar')\n",
    "plt.minorticks_on()\n",
    "plt.grid(which='major',linestyle='-',linewidth='0.5',color='red')\n",
    "plt.grid(which='minor',linestyle=':',linewidth='0.5',color='black')"
   ]
  },
  {
   "cell_type": "raw",
   "metadata": {},
   "source": [
    "Q148. Write a python program to draw the scatter plot comparing two subject marks of Mathematics and Science. Use marks of 10 students.\n",
    "Sample data:\n",
    "Test Data-\n",
    "math_marks = [88, 92 , 80, 89, 100, 80, 60, 100, 80, 34]\n",
    "science_marks = [35, 79, 79 , 48, 100, 88, 32, 45, 20, 30]\n",
    "marks_range = [10, 20, 30, 40, 50, 60, 70, 80, 90, 100]"
   ]
  },
  {
   "cell_type": "code",
   "execution_count": 288,
   "metadata": {},
   "outputs": [
    {
     "name": "stdout",
     "output_type": "stream",
     "text": [
      "True\n"
     ]
    },
    {
     "data": {
      "image/png": "[encoded data removed]",
      "text/plain": [
       "<Figure size 432x288 with 1 Axes>"
      ]
     },
     "metadata": {
      "needs_background": "light"
     },
     "output_type": "display_data"
    }
   ],
   "source": [
    "import pandas as pd\n",
    "import numpy as np\n",
    "import matplotlib.pyplot as plt\n",
    "\n",
    "math_marks = np.array([88, 92 , 80, 89, 100, 80, 60, 100, 80, 34])\n",
    "science_marks = np.array([35, 79, 79 , 48, 100, 88, 32, 45, 20, 30])\n",
    "marks_range = np.array([10, 20, 30, 40, 50, 60, 70, 80, 90, 100])\n",
    "df1=pd.DataFrame(list(zip(math_marks,science_marks,marks_range)),columns=['Math_Marks','Science_Marks','Marks_Range'])\n",
    "ax1=df1.plot.scatter(x='Marks_Range',y='Math_Marks',color='b',label='Maths marks',title='Scatter Plot',)\n",
    "ax2=df1.plot.scatter(x='Marks_Range',y='Science_Marks',ax=ax1,color='r',label='Science Marks')\n",
    "plt.xlabel('Marks Range')\n",
    "plt.ylabel('Marks Scored')\n",
    "print(ax1==ax2)"
   ]
  },
  {
   "cell_type": "code",
   "execution_count": 289,
   "metadata": {},
   "outputs": [
    {
     "data": {
      "text/plain": [
       "<matplotlib.legend.Legend at 0x7fec73970390>"
      ]
     },
     "execution_count": 289,
     "metadata": {},
     "output_type": "execute_result"
    },
    {
     "data": {
      "image/png": "[encoded data removed]",
      "text/plain": [
       "<Figure size 432x288 with 1 Axes>"
      ]
     },
     "metadata": {
      "needs_background": "light"
     },
     "output_type": "display_data"
    }
   ],
   "source": [
    "import matplotlib.pyplot as plt\n",
    "import pandas as pd\n",
    "math_marks = [88, 92, 80, 89, 100, 80, 60, 100, 80, 34]\n",
    "science_marks = [35, 79, 79, 48, 100, 88, 32, 45, 20, 30]\n",
    "marks_range = [10, 20, 30, 40, 50, 60, 70, 80, 90, 100]\n",
    "plt.scatter(marks_range, math_marks, label='Math marks', color='b')\n",
    "plt.scatter(marks_range, science_marks, label='Science marks', color='r')\n",
    "plt.title('Scatter Plot')\n",
    "plt.xlabel('Marks Range')\n",
    "plt.ylabel('Marks Scored')\n",
    "plt.legend()"
   ]
  },
  {
   "cell_type": "raw",
   "metadata": {},
   "source": [
    "Q149. Write a python program to draw the scatter plot for three different groups comparing weights and heights.\n",
    "The output shown in the screenshot:"
   ]
  },
  {
   "cell_type": "code",
   "execution_count": 300,
   "metadata": {},
   "outputs": [
    {
     "data": {
      "text/plain": [
       "Text(0.5, 1.0, 'Group wise Weight vs Height scatter plot')"
      ]
     },
     "execution_count": 300,
     "metadata": {},
     "output_type": "execute_result"
    },
    {
     "data": {
      "image/png": "[encoded data removed]",
      "text/plain": [
       "<Figure size 432x288 with 1 Axes>"
      ]
     },
     "metadata": {
      "needs_background": "light"
     },
     "output_type": "display_data"
    }
   ],
   "source": [
    "import matplotlib.pyplot as plt\n",
    "import numpy as np \n",
    "weight1=[67,57.2,59.6,59.64,55.8,61.2,60.45,61,56.23,56]\n",
    "height1=[101.7,197.6,98.3,125.1,113.7,157.7,136,148.9,125.3,114.9] \n",
    "weight2=[61.9,64,62.1,64.2,62.3,65.4,62.4,61.4,62.5,63.6]\n",
    "height2=[152.8,155.3,135.1,125.2,151.3,135,182.2,195.9,165.1,125.1] \n",
    "weight3=[68.2,67.2,68.4,68.7,71,71.3,70.8,70,71.1,71.7]\n",
    "height3=[165.8,170.9,192.8,135.4,161.4,136.1,167.1,235.1,181.1,177.3]\n",
    "\n",
    "weight=np.concatenate((weight1,weight2,weight3))\n",
    "height=np.concatenate((height1,height2,height2))\n",
    "\n",
    "plt.scatter(weight1,height1,color='r',marker='*')\n",
    "plt.scatter(weight2,height2,color='g',marker='*')\n",
    "plt.scatter(weight3,height3,color='b',marker='*')\n",
    "plt.xlabel('weight', fontsize=16)\n",
    "plt.ylabel('height', fontsize=16)\n",
    "plt.title('Group wise Weight vs Height scatter plot',fontsize=20)"
   ]
  },
  {
   "cell_type": "raw",
   "metadata": {},
   "source": [
    "Q150. Write a python program to draw a scatter plot to find sea-level rise in past 100 years."
   ]
  },
  {
   "cell_type": "code",
   "execution_count": 318,
   "metadata": {},
   "outputs": [
    {
     "data": {
      "text/plain": [
       "Text(0.5, 1.0, 'Rise in Sealevel')"
      ]
     },
     "execution_count": 318,
     "metadata": {},
     "output_type": "execute_result"
    },
    {
     "data": {
      "image/png": "[encoded data removed]",
      "text/plain": [
       "<Figure size 432x288 with 1 Axes>"
      ]
     },
     "metadata": {
      "needs_background": "light"
     },
     "output_type": "display_data"
    }
   ],
   "source": [
    "import matplotlib.pyplot as plt\n",
    "\n",
    "import pandas as pd\n",
    "\n",
    "df1=pd.read_csv('/home/manish/Downloads/Machine Learning ipynb files/data.csv')\n",
    "plt.scatter(df1['year'],df1['CSIRO_sea_level'])\n",
    "plt.xlabel('Year')\n",
    "plt.ylabel('Sea Level (inches)')\n",
    "plt.title('Rise in Sealevel')"
   ]
  },
  {
   "cell_type": "code",
   "execution_count": 3,
   "metadata": {},
   "outputs": [
    {
     "data": {
      "image/png": "[encoded data removed]",
      "text/plain": [
       "<Figure size 720x360 with 1 Axes>"
      ]
     },
     "metadata": {
      "needs_background": "light"
     },
     "output_type": "display_data"
    }
   ],
   "source": [
    "import matplotlib.pyplot as plt\n",
    "\n",
    "import pandas as pd\n",
    "\n",
    "df1=pd.read_csv('/home/manish/Downloads/Machine Learning ipynb files/data.csv')\n",
    "plt.scatter(df1['year'],df1['CSIRO_sea_level'])\n",
    "fig=plt.gcf()\n",
    "fig.set_size_inches(10,5)\n",
    "plt.show()"
   ]
  },
  {
   "cell_type": "code",
   "execution_count": null,
   "metadata": {},
   "outputs": [],
   "source": []
  }
 ],
 "metadata": {
  "kernelspec": {
   "display_name": "Python 3",
   "language": "python",
   "name": "python3"
  },
  "language_info": {
   "codemirror_mode": {
    "name": "ipython",
    "version": 3
   },
   "file_extension": ".py",
   "mimetype": "text/x-python",
   "name": "python",
   "nbconvert_exporter": "python",
   "pygments_lexer": "ipython3",
   "version": "3.7.3"
  }
 },
 "nbformat": 4,
 "nbformat_minor": 2
}
